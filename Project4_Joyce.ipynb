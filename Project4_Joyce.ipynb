{
  "nbformat": 4,
  "nbformat_minor": 0,
  "metadata": {
    "colab": {
      "name": "Project4_Joyce.ipynb",
      "provenance": [],
      "collapsed_sections": [],
      "mount_file_id": "https://github.com/joyceee916/ATMS-597-SP-2020-Project-4/blob/master/Project4_Joyce.ipynb",
      "authorship_tag": "ABX9TyP7AKMmoD8Z8mQIXsrFHExn",
      "include_colab_link": true
    },
    "kernelspec": {
      "name": "python3",
      "display_name": "Python 3"
    }
  },
  "cells": [
    {
      "cell_type": "markdown",
      "metadata": {
        "id": "view-in-github",
        "colab_type": "text"
      },
      "source": [
        "<a href=\"https://colab.research.google.com/github/joyceee916/ATMS-597-SP-2020-Project-4/blob/master/Project4_Joyce.ipynb\" target=\"_parent\"><img src=\"https://colab.research.google.com/assets/colab-badge.svg\" alt=\"Open In Colab\"/></a>"
      ]
    },
    {
      "cell_type": "code",
      "metadata": {
        "id": "ruezpe8td16k",
        "colab_type": "code",
        "colab": {}
      },
      "source": [
        "%matplotlib inline \n",
        "import matplotlib.pyplot as plt \n",
        "import seaborn as sns; sns.set()\n",
        "import numpy as np\n",
        "import pandas as pd"
      ],
      "execution_count": 0,
      "outputs": []
    },
    {
      "cell_type": "code",
      "metadata": {
        "id": "XpaiuEzreXPX",
        "colab_type": "code",
        "outputId": "90d221e2-5d51-4758-9ef3-6352f6ef2301",
        "colab": {
          "base_uri": "https://localhost:8080/",
          "height": 34
        }
      },
      "source": [
        "cd /content/drive/My Drive/ATMS 597/Project4"
      ],
      "execution_count": 3,
      "outputs": [
        {
          "output_type": "stream",
          "text": [
            "/content/drive/My Drive/ATMS 597/Project4\n"
          ],
          "name": "stdout"
        }
      ]
    },
    {
      "cell_type": "markdown",
      "metadata": {
        "id": "p80xYI7KgaSk",
        "colab_type": "text"
      },
      "source": [
        "Tasks\n",
        "1. Use multiple linear regression to predict weather using past Global Forecast System (GFS) forecast data. \n",
        "\n",
        "2. Use random forest regression to predict weather using past GFS forecast data. \n",
        "\n",
        "Predict these variables for the period 6 UTC to 6 UTC the following day: \n",
        "* Maximum Temperature (C)\n",
        "* Minimum Temperature (C)\n",
        "* Maximum Wind Speed (m/s)\n",
        "* Total precipitation accumulation (mm)\n",
        "\n"
      ]
    },
    {
      "cell_type": "markdown",
      "metadata": {
        "id": "bdAHdn7Rh7o-",
        "colab_type": "text"
      },
      "source": [
        "Day 0 at 12 UTC: you will have a model run (that's given to you)\n",
        "* can incorporate observations up to but not including 00UTC \n",
        "* at the point of 00UTC will predict from 06UTC to 06UTC the next day \n",
        "\n",
        "Have 2 observational files (can be used in training, can also be used for verification)\n",
        "* KCMI_hourly.csv\n",
        "* KCMI_daily_obs.csv\n",
        "* ^^ have to sum hourly observations to get total precipitation, has daily values even though the column heading says \"hourly\"\n",
        "\n",
        "use pr1h or pr6h to correct for seasonal biases? (seems optional?) \n",
        "\n",
        "from the GFS: \n",
        "* daily.tar.gz, prof.tar.gz, sfc.tar.gz (UNIX zip files)\n",
        "* for each run they contain a csv file that has the GFS forecast data \n",
        "* sfc.tar.gz - has a lot of data if you want to play around with it (sounds optional)\n",
        "* prof.tar.gz - some upper air values (includes ~5 pressure levels) (can include if you want to) (sounds optional)\n",
        "* each run has a timestamp that starts at 12UTC\n",
        "\n",
        "main challenge: to get data lined up in Pandas \n",
        "\n",
        "start simple: start with a few variables and do a multiple linear regression, make sure things are working right \n",
        "\n",
        "could generate a persistence variable, try to predict tomorrow's data \n",
        "\n",
        "then could slowly add in more variables as you get more confidence \n",
        "\n",
        "could select different columns and see if your biases get better or worse as you swap out different columns - could write a function for this? \n",
        "\n",
        "2019 as a validation set \n",
        "\n",
        "calculate one metric: the RMS error (performance metric)\n",
        "\n",
        "this week, focus on getting data read in and organized \n",
        "\n",
        "\n",
        "\n",
        "NOW: CAN SUBSTITUTE BICYCLE RIDERS IN WITH TEMPERATURE DATA (MODULE 4 NOTEBOOK 1): PREDICT TEMPERATURE TOMORROW "
      ]
    },
    {
      "cell_type": "markdown",
      "metadata": {
        "id": "PoVEugSrM2oq",
        "colab_type": "text"
      },
      "source": [
        "KCMI Observational Data"
      ]
    },
    {
      "cell_type": "code",
      "metadata": {
        "id": "xQuMQq6LeYt1",
        "colab_type": "code",
        "colab": {}
      },
      "source": [
        "KCMI_df = pd.read_csv(\"KCMI_daily_format.csv\", parse_dates=True, index_col='Date')"
      ],
      "execution_count": 0,
      "outputs": []
    },
    {
      "cell_type": "code",
      "metadata": {
        "id": "4oImRK2LRhxf",
        "colab_type": "code",
        "colab": {}
      },
      "source": [
        "KCMI_df.rename(columns={'TMAX(C)': 'Max_Temp', 'TMIN(C)': 'Min_Temp', 'WMAX(M/s)': 'Max_Wind', 'PREC(mm}': 'Total_Precip'}, inplace = True)\n"
      ],
      "execution_count": 0,
      "outputs": []
    },
    {
      "cell_type": "code",
      "metadata": {
        "id": "lNJb5KMkkNw5",
        "colab_type": "code",
        "outputId": "63710096-0c9c-418c-c8f7-d8f473bfc1b1",
        "colab": {
          "base_uri": "https://localhost:8080/",
          "height": 225
        }
      },
      "source": [
        "KCMI_df.head()"
      ],
      "execution_count": 6,
      "outputs": [
        {
          "output_type": "execute_result",
          "data": {
            "text/html": [
              "<div>\n",
              "<style scoped>\n",
              "    .dataframe tbody tr th:only-of-type {\n",
              "        vertical-align: middle;\n",
              "    }\n",
              "\n",
              "    .dataframe tbody tr th {\n",
              "        vertical-align: top;\n",
              "    }\n",
              "\n",
              "    .dataframe thead th {\n",
              "        text-align: right;\n",
              "    }\n",
              "</style>\n",
              "<table border=\"1\" class=\"dataframe\">\n",
              "  <thead>\n",
              "    <tr style=\"text-align: right;\">\n",
              "      <th></th>\n",
              "      <th>Max_Temp</th>\n",
              "      <th>Min_Temp</th>\n",
              "      <th>Max_Wind</th>\n",
              "      <th>Total_Precip</th>\n",
              "    </tr>\n",
              "    <tr>\n",
              "      <th>Date</th>\n",
              "      <th></th>\n",
              "      <th></th>\n",
              "      <th></th>\n",
              "      <th></th>\n",
              "    </tr>\n",
              "  </thead>\n",
              "  <tbody>\n",
              "    <tr>\n",
              "      <th>2010-01-01</th>\n",
              "      <td>-11.111111</td>\n",
              "      <td>-16.666667</td>\n",
              "      <td>6.70560</td>\n",
              "      <td>0.0</td>\n",
              "    </tr>\n",
              "    <tr>\n",
              "      <th>2010-01-02</th>\n",
              "      <td>-14.444444</td>\n",
              "      <td>-20.555556</td>\n",
              "      <td>6.70560</td>\n",
              "      <td>0.0</td>\n",
              "    </tr>\n",
              "    <tr>\n",
              "      <th>2010-01-03</th>\n",
              "      <td>-12.222222</td>\n",
              "      <td>-21.111111</td>\n",
              "      <td>4.91744</td>\n",
              "      <td>0.0</td>\n",
              "    </tr>\n",
              "    <tr>\n",
              "      <th>2010-01-04</th>\n",
              "      <td>-11.666667</td>\n",
              "      <td>-18.888889</td>\n",
              "      <td>8.94080</td>\n",
              "      <td>0.0</td>\n",
              "    </tr>\n",
              "    <tr>\n",
              "      <th>2010-01-05</th>\n",
              "      <td>-12.222222</td>\n",
              "      <td>-18.333333</td>\n",
              "      <td>7.15264</td>\n",
              "      <td>0.0</td>\n",
              "    </tr>\n",
              "  </tbody>\n",
              "</table>\n",
              "</div>"
            ],
            "text/plain": [
              "             Max_Temp   Min_Temp  Max_Wind  Total_Precip\n",
              "Date                                                    \n",
              "2010-01-01 -11.111111 -16.666667   6.70560           0.0\n",
              "2010-01-02 -14.444444 -20.555556   6.70560           0.0\n",
              "2010-01-03 -12.222222 -21.111111   4.91744           0.0\n",
              "2010-01-04 -11.666667 -18.888889   8.94080           0.0\n",
              "2010-01-05 -12.222222 -18.333333   7.15264           0.0"
            ]
          },
          "metadata": {
            "tags": []
          },
          "execution_count": 6
        }
      ]
    },
    {
      "cell_type": "code",
      "metadata": {
        "id": "tTL3p4aIT1Uu",
        "colab_type": "code",
        "colab": {}
      },
      "source": [
        "Practice_KCMI_df = KCMI_df[:]"
      ],
      "execution_count": 0,
      "outputs": []
    },
    {
      "cell_type": "markdown",
      "metadata": {
        "id": "roU-UWq0M-FX",
        "colab_type": "text"
      },
      "source": [
        "GFS Model Data"
      ]
    },
    {
      "cell_type": "code",
      "metadata": {
        "id": "tDspzlMAM_1X",
        "colab_type": "code",
        "colab": {}
      },
      "source": [
        "GFS_df = pd.read_csv(\"GFS_daily_2010_2019_test.csv\", parse_dates=True, index_col='Time')\n",
        "GFS_df.drop(columns=\"Unnamed: 0\", inplace=True)"
      ],
      "execution_count": 0,
      "outputs": []
    },
    {
      "cell_type": "code",
      "metadata": {
        "id": "vArpJ2siNX_O",
        "colab_type": "code",
        "outputId": "96d9e9fe-d8c6-4c33-b194-f5078ea501a1",
        "colab": {
          "base_uri": "https://localhost:8080/",
          "height": 225
        }
      },
      "source": [
        "GFS_df.head()"
      ],
      "execution_count": 9,
      "outputs": [
        {
          "output_type": "execute_result",
          "data": {
            "text/html": [
              "<div>\n",
              "<style scoped>\n",
              "    .dataframe tbody tr th:only-of-type {\n",
              "        vertical-align: middle;\n",
              "    }\n",
              "\n",
              "    .dataframe tbody tr th {\n",
              "        vertical-align: top;\n",
              "    }\n",
              "\n",
              "    .dataframe thead th {\n",
              "        text-align: right;\n",
              "    }\n",
              "</style>\n",
              "<table border=\"1\" class=\"dataframe\">\n",
              "  <thead>\n",
              "    <tr style=\"text-align: right;\">\n",
              "      <th></th>\n",
              "      <th>TMAX</th>\n",
              "      <th>TMIN</th>\n",
              "      <th>WMAX</th>\n",
              "      <th>RTOT</th>\n",
              "    </tr>\n",
              "    <tr>\n",
              "      <th>Time</th>\n",
              "      <th></th>\n",
              "      <th></th>\n",
              "      <th></th>\n",
              "      <th></th>\n",
              "    </tr>\n",
              "  </thead>\n",
              "  <tbody>\n",
              "    <tr>\n",
              "      <th>2010-01-01 12:00:00</th>\n",
              "      <td>-11.26</td>\n",
              "      <td>-16.46</td>\n",
              "      <td>7.323933</td>\n",
              "      <td>0.05</td>\n",
              "    </tr>\n",
              "    <tr>\n",
              "      <th>2010-01-02 12:00:00</th>\n",
              "      <td>-10.16</td>\n",
              "      <td>-15.96</td>\n",
              "      <td>4.687217</td>\n",
              "      <td>0.00</td>\n",
              "    </tr>\n",
              "    <tr>\n",
              "      <th>2010-01-03 12:00:00</th>\n",
              "      <td>-9.96</td>\n",
              "      <td>-14.36</td>\n",
              "      <td>5.941380</td>\n",
              "      <td>0.06</td>\n",
              "    </tr>\n",
              "    <tr>\n",
              "      <th>2010-01-04 12:00:00</th>\n",
              "      <td>-8.46</td>\n",
              "      <td>-12.86</td>\n",
              "      <td>5.685068</td>\n",
              "      <td>0.17</td>\n",
              "    </tr>\n",
              "    <tr>\n",
              "      <th>2010-01-05 12:00:00</th>\n",
              "      <td>-7.16</td>\n",
              "      <td>-11.06</td>\n",
              "      <td>3.794733</td>\n",
              "      <td>0.77</td>\n",
              "    </tr>\n",
              "  </tbody>\n",
              "</table>\n",
              "</div>"
            ],
            "text/plain": [
              "                      TMAX   TMIN      WMAX  RTOT\n",
              "Time                                             \n",
              "2010-01-01 12:00:00 -11.26 -16.46  7.323933  0.05\n",
              "2010-01-02 12:00:00 -10.16 -15.96  4.687217  0.00\n",
              "2010-01-03 12:00:00  -9.96 -14.36  5.941380  0.06\n",
              "2010-01-04 12:00:00  -8.46 -12.86  5.685068  0.17\n",
              "2010-01-05 12:00:00  -7.16 -11.06  3.794733  0.77"
            ]
          },
          "metadata": {
            "tags": []
          },
          "execution_count": 9
        }
      ]
    },
    {
      "cell_type": "code",
      "metadata": {
        "id": "8BbbIFw-N4Kf",
        "colab_type": "code",
        "colab": {}
      },
      "source": [
        "Practice_GFS_df = GFS_df[:]"
      ],
      "execution_count": 0,
      "outputs": []
    },
    {
      "cell_type": "markdown",
      "metadata": {
        "id": "7ch6LANThck9",
        "colab_type": "text"
      },
      "source": [
        "Linear Regression "
      ]
    },
    {
      "cell_type": "code",
      "metadata": {
        "id": "jc4U640346o3",
        "colab_type": "code",
        "colab": {}
      },
      "source": [
        "from sklearn.linear_model import LinearRegression\n",
        "from sklearn.metrics import mean_squared_error, r2_score\n",
        "from sklearn.model_selection import train_test_split"
      ],
      "execution_count": 0,
      "outputs": []
    },
    {
      "cell_type": "code",
      "metadata": {
        "id": "cX8YOzu57Jrw",
        "colab_type": "code",
        "outputId": "c140d12d-4c44-4aa0-b24a-95d06cc88e92",
        "colab": {
          "base_uri": "https://localhost:8080/",
          "height": 34
        }
      },
      "source": [
        "# TODO change to the actual file (not practice)\n",
        "Practice_GFS_df.dropna(inplace=True)\n",
        "x = Practice_GFS_df.drop(['RTOT'], axis=1)\n",
        "y = Practice_GFS_df['RTOT']\n",
        "\n",
        "# split into training and testing sets (10% vs 90%)\n",
        "x_train, x_test, y_train, y_test = train_test_split(x, y, test_size = 0.1, random_state=123)\n",
        "print(x_train.shape, x_test.shape, y_train.shape, y_test.shape)"
      ],
      "execution_count": 12,
      "outputs": [
        {
          "output_type": "stream",
          "text": [
            "(3280, 3) (365, 3) (3280,) (365,)\n"
          ],
          "name": "stdout"
        }
      ]
    },
    {
      "cell_type": "code",
      "metadata": {
        "id": "2PK-wSCpqqIV",
        "colab_type": "code",
        "outputId": "980b4912-698d-45b6-db98-bc5b56feb6e0",
        "colab": {
          "base_uri": "https://localhost:8080/",
          "height": 225
        }
      },
      "source": [
        "Practice_GFS_df.head()"
      ],
      "execution_count": 13,
      "outputs": [
        {
          "output_type": "execute_result",
          "data": {
            "text/html": [
              "<div>\n",
              "<style scoped>\n",
              "    .dataframe tbody tr th:only-of-type {\n",
              "        vertical-align: middle;\n",
              "    }\n",
              "\n",
              "    .dataframe tbody tr th {\n",
              "        vertical-align: top;\n",
              "    }\n",
              "\n",
              "    .dataframe thead th {\n",
              "        text-align: right;\n",
              "    }\n",
              "</style>\n",
              "<table border=\"1\" class=\"dataframe\">\n",
              "  <thead>\n",
              "    <tr style=\"text-align: right;\">\n",
              "      <th></th>\n",
              "      <th>TMAX</th>\n",
              "      <th>TMIN</th>\n",
              "      <th>WMAX</th>\n",
              "      <th>RTOT</th>\n",
              "    </tr>\n",
              "    <tr>\n",
              "      <th>Time</th>\n",
              "      <th></th>\n",
              "      <th></th>\n",
              "      <th></th>\n",
              "      <th></th>\n",
              "    </tr>\n",
              "  </thead>\n",
              "  <tbody>\n",
              "    <tr>\n",
              "      <th>2010-01-01 12:00:00</th>\n",
              "      <td>-11.26</td>\n",
              "      <td>-16.46</td>\n",
              "      <td>7.323933</td>\n",
              "      <td>0.05</td>\n",
              "    </tr>\n",
              "    <tr>\n",
              "      <th>2010-01-02 12:00:00</th>\n",
              "      <td>-10.16</td>\n",
              "      <td>-15.96</td>\n",
              "      <td>4.687217</td>\n",
              "      <td>0.00</td>\n",
              "    </tr>\n",
              "    <tr>\n",
              "      <th>2010-01-03 12:00:00</th>\n",
              "      <td>-9.96</td>\n",
              "      <td>-14.36</td>\n",
              "      <td>5.941380</td>\n",
              "      <td>0.06</td>\n",
              "    </tr>\n",
              "    <tr>\n",
              "      <th>2010-01-04 12:00:00</th>\n",
              "      <td>-8.46</td>\n",
              "      <td>-12.86</td>\n",
              "      <td>5.685068</td>\n",
              "      <td>0.17</td>\n",
              "    </tr>\n",
              "    <tr>\n",
              "      <th>2010-01-05 12:00:00</th>\n",
              "      <td>-7.16</td>\n",
              "      <td>-11.06</td>\n",
              "      <td>3.794733</td>\n",
              "      <td>0.77</td>\n",
              "    </tr>\n",
              "  </tbody>\n",
              "</table>\n",
              "</div>"
            ],
            "text/plain": [
              "                      TMAX   TMIN      WMAX  RTOT\n",
              "Time                                             \n",
              "2010-01-01 12:00:00 -11.26 -16.46  7.323933  0.05\n",
              "2010-01-02 12:00:00 -10.16 -15.96  4.687217  0.00\n",
              "2010-01-03 12:00:00  -9.96 -14.36  5.941380  0.06\n",
              "2010-01-04 12:00:00  -8.46 -12.86  5.685068  0.17\n",
              "2010-01-05 12:00:00  -7.16 -11.06  3.794733  0.77"
            ]
          },
          "metadata": {
            "tags": []
          },
          "execution_count": 13
        }
      ]
    },
    {
      "cell_type": "code",
      "metadata": {
        "id": "l5FK6-ACp1tn",
        "colab_type": "code",
        "colab": {
          "base_uri": "https://localhost:8080/",
          "height": 106
        },
        "outputId": "69e96d55-2fb6-4904-cc48-df412bab62ac"
      },
      "source": [
        "Practice_KCMI_df[(Practice_KCMI_df.index == '2018-02-10')]"
      ],
      "execution_count": 14,
      "outputs": [
        {
          "output_type": "execute_result",
          "data": {
            "text/html": [
              "<div>\n",
              "<style scoped>\n",
              "    .dataframe tbody tr th:only-of-type {\n",
              "        vertical-align: middle;\n",
              "    }\n",
              "\n",
              "    .dataframe tbody tr th {\n",
              "        vertical-align: top;\n",
              "    }\n",
              "\n",
              "    .dataframe thead th {\n",
              "        text-align: right;\n",
              "    }\n",
              "</style>\n",
              "<table border=\"1\" class=\"dataframe\">\n",
              "  <thead>\n",
              "    <tr style=\"text-align: right;\">\n",
              "      <th></th>\n",
              "      <th>Max_Temp</th>\n",
              "      <th>Min_Temp</th>\n",
              "      <th>Max_Wind</th>\n",
              "      <th>Total_Precip</th>\n",
              "    </tr>\n",
              "    <tr>\n",
              "      <th>Date</th>\n",
              "      <th></th>\n",
              "      <th></th>\n",
              "      <th></th>\n",
              "      <th></th>\n",
              "    </tr>\n",
              "  </thead>\n",
              "  <tbody>\n",
              "    <tr>\n",
              "      <th>2018-02-10</th>\n",
              "      <td>-2.222222</td>\n",
              "      <td>-6.111111</td>\n",
              "      <td>8.04672</td>\n",
              "      <td>0.3</td>\n",
              "    </tr>\n",
              "  </tbody>\n",
              "</table>\n",
              "</div>"
            ],
            "text/plain": [
              "            Max_Temp  Min_Temp  Max_Wind  Total_Precip\n",
              "Date                                                  \n",
              "2018-02-10 -2.222222 -6.111111   8.04672           0.3"
            ]
          },
          "metadata": {
            "tags": []
          },
          "execution_count": 14
        }
      ]
    },
    {
      "cell_type": "code",
      "metadata": {
        "id": "Triq7gfS32s7",
        "colab_type": "code",
        "outputId": "b4939308-f79d-46fe-e05a-20f9c5d9fa9f",
        "colab": {
          "base_uri": "https://localhost:8080/",
          "height": 34
        }
      },
      "source": [
        "# Create Model \n",
        "lin_model = LinearRegression()\n",
        "lin_model.fit(x_train, y_train)"
      ],
      "execution_count": 15,
      "outputs": [
        {
          "output_type": "execute_result",
          "data": {
            "text/plain": [
              "LinearRegression(copy_X=True, fit_intercept=True, n_jobs=None, normalize=False)"
            ]
          },
          "metadata": {
            "tags": []
          },
          "execution_count": 15
        }
      ]
    },
    {
      "cell_type": "code",
      "metadata": {
        "id": "qoqjEUURVs7k",
        "colab_type": "code",
        "colab": {
          "base_uri": "https://localhost:8080/",
          "height": 70
        },
        "outputId": "25dfce7d-7a4c-4a19-976c-bdfb27d7f5f8"
      },
      "source": [
        "Practice_KCMI_df.index.month.unique()\n",
        "Practice_KCMI_df.index.day.unique()\n",
        "#Practice_KCMI_df[Practice_KCMI_df.index.month==2]\n"
      ],
      "execution_count": 20,
      "outputs": [
        {
          "output_type": "execute_result",
          "data": {
            "text/plain": [
              "Int64Index([ 1,  2,  3,  4,  5,  6,  7,  8,  9, 10, 11, 12, 13, 14, 15, 16, 17,\n",
              "            18, 19, 20, 21, 22, 23, 24, 25, 26, 27, 28, 29, 30, 31],\n",
              "           dtype='int64', name='Date')"
            ]
          },
          "metadata": {
            "tags": []
          },
          "execution_count": 20
        }
      ]
    },
    {
      "cell_type": "code",
      "metadata": {
        "id": "lk-l26snW2SR",
        "colab_type": "code",
        "colab": {}
      },
      "source": [
        "df['hr_sin'] = np.sin(df.hr*(2.*np.pi/24))"
      ],
      "execution_count": 0,
      "outputs": []
    },
    {
      "cell_type": "code",
      "metadata": {
        "id": "ju23QFMCk2ob",
        "colab_type": "code",
        "outputId": "4c85f38a-7834-41c8-9809-66955fd07d1c",
        "colab": {
          "base_uri": "https://localhost:8080/",
          "height": 372
        }
      },
      "source": [
        "# Print parameters and plot - GFS Data\n",
        "print('Coefficients: \\n', lin_model.coef_)\n",
        "print('Mean squared error: %.2f' % mean_squared_error(y_test, lin_model.predict(x_test)))\n",
        "print('Coefficient of determination: %.2f' % r2_score(y_test, lin_model.predict(x_test)))\n",
        "\n",
        "plt.scatter(x_test['TMAX'], y_test, color='black')\n",
        "plt.plot(x_test['TMAX'], lin_model.predict(x_test), color='blue', linewidth=3)\n",
        "\n",
        "plt.title('Linear Regression')"
      ],
      "execution_count": 0,
      "outputs": [
        {
          "output_type": "stream",
          "text": [
            "Coefficients: \n",
            " [-0.30333005  0.51926422  0.91569786]\n",
            "Mean squared error: 67.75\n",
            "Coefficient of determination: 0.05\n"
          ],
          "name": "stdout"
        },
        {
          "output_type": "execute_result",
          "data": {
            "text/plain": [
              "Text(0.5, 1.0, 'Linear Regression')"
            ]
          },
          "metadata": {
            "tags": []
          },
          "execution_count": 90
        },
        {
          "output_type": "display_data",
          "data": {
            "image/png": "[encoded data removed]",
            "text/plain": [
              "<Figure size 432x288 with 1 Axes>"
            ]
          },
          "metadata": {
            "tags": []
          }
        }
      ]
    },
    {
      "cell_type": "code",
      "metadata": {
        "id": "1X8zSGzS48OO",
        "colab_type": "code",
        "outputId": "d5ba14ed-777d-4d2b-fab1-197438e1b9a7",
        "colab": {
          "base_uri": "https://localhost:8080/",
          "height": 372
        }
      },
      "source": [
        "# Print parameters and plot - KCMI Observational Data \n",
        "print('Coefficients: \\n', lin_model.coef_)\n",
        "print('Mean squared error: %.2f' % mean_squared_error(y_test, lin_model.predict(x_test)))\n",
        "print('Coefficient of determination: %.2f' % r2_score(y_test, lin_model.predict(x_test)))\n",
        "\n",
        "plt.scatter(x_test['Max_Temp'], y_test, color='black')\n",
        "plt.plot(x_test['Max_Temp'], lin_model.predict(x_test), color='blue', linewidth=3)\n",
        "\n",
        "plt.title('Linear Regression')"
      ],
      "execution_count": 0,
      "outputs": [
        {
          "output_type": "stream",
          "text": [
            "Coefficients: \n",
            " [-0.28871629  0.42220272  0.42909241]\n",
            "Mean squared error: 46.24\n",
            "Coefficient of determination: 0.07\n"
          ],
          "name": "stdout"
        },
        {
          "output_type": "execute_result",
          "data": {
            "text/plain": [
              "Text(0.5, 1.0, 'Linear Regression')"
            ]
          },
          "metadata": {
            "tags": []
          },
          "execution_count": 65
        },
        {
          "output_type": "display_data",
          "data": {
            "image/png": "[encoded data removed]",
            "text/plain": [
              "<Figure size 432x288 with 1 Axes>"
            ]
          },
          "metadata": {
            "tags": []
          }
        }
      ]
    },
    {
      "cell_type": "markdown",
      "metadata": {
        "id": "AFmJqPIghabQ",
        "colab_type": "text"
      },
      "source": [
        "Machine Learning"
      ]
    },
    {
      "cell_type": "markdown",
      "metadata": {
        "id": "_bMlXlOW1WoG",
        "colab_type": "text"
      },
      "source": [
        "Adapted from:\n",
        "https://nbviewer.jupyter.org/github/srnghn/ml_example_notebooks/blob/master/Predicting%20Yacht%20Resistance%20with%20Decision%20Trees%20%26%20Random%20Forests.ipynb?source=post_page---------------------------"
      ]
    },
    {
      "cell_type": "code",
      "metadata": {
        "id": "_Ty70n4VSfzA",
        "colab_type": "code",
        "colab": {}
      },
      "source": [
        "from sklearn.model_selection import train_test_split"
      ],
      "execution_count": 0,
      "outputs": []
    },
    {
      "cell_type": "code",
      "metadata": {
        "id": "quWaes_PSjx8",
        "colab_type": "code",
        "outputId": "c65fe918-664e-4800-f2a4-9b370112dd97",
        "colab": {
          "base_uri": "https://localhost:8080/",
          "height": 34
        }
      },
      "source": [
        "# TODO change back to KCMI_daily \n",
        "Practice_KCMI_df.dropna(inplace=True)\n",
        "x = Practice_KCMI_df.drop(['Total_Precip'], axis=1)\n",
        "y = Practice_KCMI_df['Total_Precip']\n",
        "\n",
        "x_train, x_test, y_train, y_test = train_test_split(x, y, test_size = 0.1, random_state=123)\n",
        "print(x_train.shape, x_test.shape, y_train.shape, y_test.shape)"
      ],
      "execution_count": 0,
      "outputs": [
        {
          "output_type": "stream",
          "text": [
            "(3250, 3) (362, 3) (3250,) (362,)\n"
          ],
          "name": "stdout"
        }
      ]
    },
    {
      "cell_type": "markdown",
      "metadata": {
        "id": "HZuK3chiZb5f",
        "colab_type": "text"
      },
      "source": [
        "Decision Tree Regressor"
      ]
    },
    {
      "cell_type": "code",
      "metadata": {
        "id": "-oVw84rQTNuz",
        "colab_type": "code",
        "outputId": "034a7035-134e-4456-b1f2-9d15c8457152",
        "colab": {
          "base_uri": "https://localhost:8080/",
          "height": 140
        }
      },
      "source": [
        "from sklearn.tree import DecisionTreeRegressor \n",
        "tree_model = DecisionTreeRegressor()\n",
        "tree_model.fit(x_train, y_train) "
      ],
      "execution_count": 0,
      "outputs": [
        {
          "output_type": "execute_result",
          "data": {
            "text/plain": [
              "RandomForestRegressor(bootstrap=True, ccp_alpha=0.0, criterion='mse',\n",
              "                      max_depth=None, max_features='auto', max_leaf_nodes=None,\n",
              "                      max_samples=None, min_impurity_decrease=0.0,\n",
              "                      min_impurity_split=None, min_samples_leaf=1,\n",
              "                      min_samples_split=2, min_weight_fraction_leaf=0.0,\n",
              "                      n_estimators=100, n_jobs=None, oob_score=False,\n",
              "                      random_state=None, verbose=0, warm_start=False)"
            ]
          },
          "metadata": {
            "tags": []
          },
          "execution_count": 71
        }
      ]
    },
    {
      "cell_type": "markdown",
      "metadata": {
        "id": "_x7sQBGiZe3P",
        "colab_type": "text"
      },
      "source": [
        "Random Forest Regressor"
      ]
    },
    {
      "cell_type": "code",
      "metadata": {
        "id": "KEJGvGohZhXt",
        "colab_type": "code",
        "colab": {}
      },
      "source": [
        "from sklearn.ensemble import RandomForestRegressor \n",
        "rf_model = RandomForestRegressor()\n",
        "rf_model.fit(x_train, y_train)"
      ],
      "execution_count": 0,
      "outputs": []
    },
    {
      "cell_type": "markdown",
      "metadata": {
        "id": "42TtZ9zQaIo9",
        "colab_type": "text"
      },
      "source": [
        "Evaluating Models"
      ]
    },
    {
      "cell_type": "code",
      "metadata": {
        "id": "mGGKc6kzZtqD",
        "colab_type": "code",
        "colab": {}
      },
      "source": [
        "from sklearn.metrics import mean_squared_error\n",
        "from sklearn.metrics import mean_absolute_error\n",
        "from math import sqrt"
      ],
      "execution_count": 0,
      "outputs": []
    },
    {
      "cell_type": "code",
      "metadata": {
        "id": "P2R1UkPz1h9s",
        "colab_type": "code",
        "colab": {}
      },
      "source": [
        "# TODO look up difference between mean squared error and mean absolute error \n",
        "tree_mse = mean_squared_error(y_train, tree_model.predict(x_train))\n",
        "tree_mae = mean_absolute_error(y_train, tree_model.predict(x_train))"
      ],
      "execution_count": 0,
      "outputs": []
    },
    {
      "cell_type": "code",
      "metadata": {
        "id": "hPfH6GoRZuU0",
        "colab_type": "code",
        "colab": {}
      },
      "source": [
        "rf_mse = mean_squared_error(y_train, rf_model.predict(x_train))\n",
        "rf_mae = mean_absolute_error(y_train, rf_model.predict(x_train))"
      ],
      "execution_count": 0,
      "outputs": []
    },
    {
      "cell_type": "code",
      "metadata": {
        "id": "00NR0isg2G4R",
        "colab_type": "code",
        "outputId": "752593a2-e8bb-425b-c8f2-bdefd8104c22",
        "colab": {
          "base_uri": "https://localhost:8080/",
          "height": 52
        }
      },
      "source": [
        "print(\"Decision Tree training mse = \",tree_mse,\" & mae = \",tree_mae,\" & rmse = \", sqrt(tree_mse))\n",
        "print(\"Random Forest training mse = \",rf_mse,\" & mae = \",rf_mae,\" & rmse = \", sqrt(rf_mse))"
      ],
      "execution_count": 0,
      "outputs": [
        {
          "output_type": "stream",
          "text": [
            "Decision Tree training mse =  0.7920415384615386  & mae =  0.13707179487179488  & rmse =  0.8899671558330333\n",
            "Random Forest training mse =  5.903048984577272  & mae =  1.1619857821733826  & rmse =  2.429619102776662\n"
          ],
          "name": "stdout"
        }
      ]
    },
    {
      "cell_type": "code",
      "metadata": {
        "id": "mQ669Pqu2Np_",
        "colab_type": "code",
        "colab": {}
      },
      "source": [
        "tree_test_mse = mean_squared_error(y_test, tree_model.predict(x_test))\n",
        "tree_test_mae = mean_absolute_error(y_test, tree_model.predict(x_test))\n",
        "rf_test_mse = mean_squared_error(y_test, rf_model.predict(x_test))\n",
        "rf_test_mae = mean_absolute_error(y_test, rf_model.predict(x_test))"
      ],
      "execution_count": 0,
      "outputs": []
    },
    {
      "cell_type": "code",
      "metadata": {
        "id": "s-6xHK4g3S0L",
        "colab_type": "code",
        "outputId": "21255c58-5692-4e45-be34-a96882b56c3a",
        "colab": {
          "base_uri": "https://localhost:8080/",
          "height": 52
        }
      },
      "source": [
        "print(\"Decision Tree test mse = \",tree_test_mse,\" & mae = \",tree_test_mae,\" & rmse = \", sqrt(tree_test_mse))\n",
        "print(\"Random Forest test mse = \",rf_test_mse,\" & mae = \",rf_test_mae,\" & rmse = \", sqrt(rf_test_mse))"
      ],
      "execution_count": 0,
      "outputs": [
        {
          "output_type": "stream",
          "text": [
            "Decision Tree test mse =  86.2934468999386  & mae =  3.484069981583793  & rmse =  9.28942661846998\n",
            "Random Forest test mse =  53.994336775528815  & mae =  3.223383316890292  & rmse =  7.348083884627939\n"
          ],
          "name": "stdout"
        }
      ]
    },
    {
      "cell_type": "code",
      "metadata": {
        "id": "qZeFFfRPZx1K",
        "colab_type": "code",
        "colab": {}
      },
      "source": [
        ""
      ],
      "execution_count": 0,
      "outputs": []
    }
  ]
}