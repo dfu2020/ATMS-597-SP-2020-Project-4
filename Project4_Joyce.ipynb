{
  "nbformat": 4,
  "nbformat_minor": 0,
  "metadata": {
    "colab": {
      "name": "Project4_Joyce.ipynb",
      "provenance": [],
      "collapsed_sections": [],
      "mount_file_id": "https://github.com/joyceee916/ATMS-597-SP-2020-Project-4/blob/master/Project4_Joyce.ipynb",
      "authorship_tag": "ABX9TyMWlEzSYELeq8T/dzzN+R+W",
      "include_colab_link": true
    },
    "kernelspec": {
      "name": "python3",
      "display_name": "Python 3"
    }
  },
  "cells": [
    {
      "cell_type": "markdown",
      "metadata": {
        "id": "view-in-github",
        "colab_type": "text"
      },
      "source": [
        "<a href=\"https://colab.research.google.com/github/joyceee916/ATMS-597-SP-2020-Project-4/blob/master/Project4_Joyce.ipynb\" target=\"_parent\"><img src=\"https://colab.research.google.com/assets/colab-badge.svg\" alt=\"Open In Colab\"/></a>"
      ]
    },
    {
      "cell_type": "code",
      "metadata": {
        "id": "ruezpe8td16k",
        "colab_type": "code",
        "colab": {}
      },
      "source": [
        "%matplotlib inline \n",
        "import matplotlib.pyplot as plt \n",
        "import seaborn as sns; sns.set()\n",
        "import numpy as np\n",
        "import pandas as pd"
      ],
      "execution_count": 0,
      "outputs": []
    },
    {
      "cell_type": "code",
      "metadata": {
        "id": "XpaiuEzreXPX",
        "colab_type": "code",
        "outputId": "90d221e2-5d51-4758-9ef3-6352f6ef2301",
        "colab": {
          "base_uri": "https://localhost:8080/",
          "height": 34
        }
      },
      "source": [
        "cd /content/drive/My Drive/ATMS 597/Project4"
      ],
      "execution_count": 3,
      "outputs": [
        {
          "output_type": "stream",
          "text": [
            "/content/drive/My Drive/ATMS 597/Project4\n"
          ],
          "name": "stdout"
        }
      ]
    },
    {
      "cell_type": "markdown",
      "metadata": {
        "id": "p80xYI7KgaSk",
        "colab_type": "text"
      },
      "source": [
        "Tasks\n",
        "1. Use multiple linear regression to predict weather using past Global Forecast System (GFS) forecast data. \n",
        "\n",
        "2. Use random forest regression to predict weather using past GFS forecast data. \n",
        "\n",
        "Predict these variables for the period 6 UTC to 6 UTC the following day: \n",
        "* Maximum Temperature (C)\n",
        "* Minimum Temperature (C)\n",
        "* Maximum Wind Speed (m/s)\n",
        "* Total precipitation accumulation (mm)\n",
        "\n"
      ]
    },
    {
      "cell_type": "markdown",
      "metadata": {
        "id": "bdAHdn7Rh7o-",
        "colab_type": "text"
      },
      "source": [
        "Day 0 at 12 UTC: you will have a model run (that's given to you)\n",
        "* can incorporate observations up to but not including 00UTC \n",
        "* at the point of 00UTC will predict from 06UTC to 06UTC the next day \n",
        "\n",
        "Have 2 observational files (can be used in training, can also be used for verification)\n",
        "* KCMI_hourly.csv\n",
        "* KCMI_daily_obs.csv\n",
        "* ^^ have to sum hourly observations to get total precipitation, has daily values even though the column heading says \"hourly\"\n",
        "\n",
        "use pr1h or pr6h to correct for seasonal biases? (seems optional?) \n",
        "\n",
        "from the GFS: \n",
        "* daily.tar.gz, prof.tar.gz, sfc.tar.gz (UNIX zip files)\n",
        "* for each run they contain a csv file that has the GFS forecast data \n",
        "* sfc.tar.gz - has a lot of data if you want to play around with it (sounds optional)\n",
        "* prof.tar.gz - some upper air values (includes ~5 pressure levels) (can include if you want to) (sounds optional)\n",
        "* each run has a timestamp that starts at 12UTC\n",
        "\n",
        "main challenge: to get data lined up in Pandas \n",
        "\n",
        "start simple: start with a few variables and do a multiple linear regression, make sure things are working right \n",
        "\n",
        "could generate a persistence variable, try to predict tomorrow's data \n",
        "\n",
        "then could slowly add in more variables as you get more confidence \n",
        "\n",
        "could select different columns and see if your biases get better or worse as you swap out different columns - could write a function for this? \n",
        "\n",
        "2019 as a validation set \n",
        "\n",
        "calculate one metric: the RMS error (performance metric)\n",
        "\n",
        "this week, focus on getting data read in and organized \n",
        "\n",
        "\n",
        "\n",
        "NOW: CAN SUBSTITUTE BICYCLE RIDERS IN WITH TEMPERATURE DATA (MODULE 4 NOTEBOOK 1): PREDICT TEMPERATURE TOMORROW "
      ]
    },
    {
      "cell_type": "markdown",
      "metadata": {
        "id": "PoVEugSrM2oq",
        "colab_type": "text"
      },
      "source": [
        "KCMI Observational Data"
      ]
    },
    {
      "cell_type": "code",
      "metadata": {
        "id": "xQuMQq6LeYt1",
        "colab_type": "code",
        "colab": {}
      },
      "source": [
        "KCMI_df = pd.read_csv(\"KCMI_daily_format.csv\", parse_dates=True, index_col='Date')"
      ],
      "execution_count": 0,
      "outputs": []
    },
    {
      "cell_type": "code",
      "metadata": {
        "id": "4oImRK2LRhxf",
        "colab_type": "code",
        "colab": {}
      },
      "source": [
        "KCMI_df.rename(columns={'TMAX(C)': 'Max_Temp', 'TMIN(C)': 'Min_Temp', 'WMAX(M/s)': 'Max_Wind', 'PREC(mm}': 'Total_Precip'}, inplace = True)\n"
      ],
      "execution_count": 0,
      "outputs": []
    },
    {
      "cell_type": "code",
      "metadata": {
        "id": "lNJb5KMkkNw5",
        "colab_type": "code",
        "outputId": "63710096-0c9c-418c-c8f7-d8f473bfc1b1",
        "colab": {
          "base_uri": "https://localhost:8080/",
          "height": 225
        }
      },
      "source": [
        "KCMI_df.head()"
      ],
      "execution_count": 6,
      "outputs": [
        {
          "output_type": "execute_result",
          "data": {
            "text/html": [
              "<div>\n",
              "<style scoped>\n",
              "    .dataframe tbody tr th:only-of-type {\n",
              "        vertical-align: middle;\n",
              "    }\n",
              "\n",
              "    .dataframe tbody tr th {\n",
              "        vertical-align: top;\n",
              "    }\n",
              "\n",
              "    .dataframe thead th {\n",
              "        text-align: right;\n",
              "    }\n",
              "</style>\n",
              "<table border=\"1\" class=\"dataframe\">\n",
              "  <thead>\n",
              "    <tr style=\"text-align: right;\">\n",
              "      <th></th>\n",
              "      <th>Max_Temp</th>\n",
              "      <th>Min_Temp</th>\n",
              "      <th>Max_Wind</th>\n",
              "      <th>Total_Precip</th>\n",
              "    </tr>\n",
              "    <tr>\n",
              "      <th>Date</th>\n",
              "      <th></th>\n",
              "      <th></th>\n",
              "      <th></th>\n",
              "      <th></th>\n",
              "    </tr>\n",
              "  </thead>\n",
              "  <tbody>\n",
              "    <tr>\n",
              "      <th>2010-01-01</th>\n",
              "      <td>-11.111111</td>\n",
              "      <td>-16.666667</td>\n",
              "      <td>6.70560</td>\n",
              "      <td>0.0</td>\n",
              "    </tr>\n",
              "    <tr>\n",
              "      <th>2010-01-02</th>\n",
              "      <td>-14.444444</td>\n",
              "      <td>-20.555556</td>\n",
              "      <td>6.70560</td>\n",
              "      <td>0.0</td>\n",
              "    </tr>\n",
              "    <tr>\n",
              "      <th>2010-01-03</th>\n",
              "      <td>-12.222222</td>\n",
              "      <td>-21.111111</td>\n",
              "      <td>4.91744</td>\n",
              "      <td>0.0</td>\n",
              "    </tr>\n",
              "    <tr>\n",
              "      <th>2010-01-04</th>\n",
              "      <td>-11.666667</td>\n",
              "      <td>-18.888889</td>\n",
              "      <td>8.94080</td>\n",
              "      <td>0.0</td>\n",
              "    </tr>\n",
              "    <tr>\n",
              "      <th>2010-01-05</th>\n",
              "      <td>-12.222222</td>\n",
              "      <td>-18.333333</td>\n",
              "      <td>7.15264</td>\n",
              "      <td>0.0</td>\n",
              "    </tr>\n",
              "  </tbody>\n",
              "</table>\n",
              "</div>"
            ],
            "text/plain": [
              "             Max_Temp   Min_Temp  Max_Wind  Total_Precip\n",
              "Date                                                    \n",
              "2010-01-01 -11.111111 -16.666667   6.70560           0.0\n",
              "2010-01-02 -14.444444 -20.555556   6.70560           0.0\n",
              "2010-01-03 -12.222222 -21.111111   4.91744           0.0\n",
              "2010-01-04 -11.666667 -18.888889   8.94080           0.0\n",
              "2010-01-05 -12.222222 -18.333333   7.15264           0.0"
            ]
          },
          "metadata": {
            "tags": []
          },
          "execution_count": 6
        }
      ]
    },
    {
      "cell_type": "code",
      "metadata": {
        "id": "tTL3p4aIT1Uu",
        "colab_type": "code",
        "colab": {}
      },
      "source": [
        "Practice_KCMI_df = KCMI_df[:]"
      ],
      "execution_count": 0,
      "outputs": []
    },
    {
      "cell_type": "code",
      "metadata": {
        "id": "qoqjEUURVs7k",
        "colab_type": "code",
        "colab": {
          "base_uri": "https://localhost:8080/",
          "height": 70
        },
        "outputId": "25dfce7d-7a4c-4a19-976c-bdfb27d7f5f8"
      },
      "source": [
        "Practice_KCMI_df.index.month.unique()\n",
        "Practice_KCMI_df.index.day.unique()\n",
        "#Practice_KCMI_df[Practice_KCMI_df.index.month==2]\n"
      ],
      "execution_count": 20,
      "outputs": [
        {
          "output_type": "execute_result",
          "data": {
            "text/plain": [
              "Int64Index([ 1,  2,  3,  4,  5,  6,  7,  8,  9, 10, 11, 12, 13, 14, 15, 16, 17,\n",
              "            18, 19, 20, 21, 22, 23, 24, 25, 26, 27, 28, 29, 30, 31],\n",
              "           dtype='int64', name='Date')"
            ]
          },
          "metadata": {
            "tags": []
          },
          "execution_count": 20
        }
      ]
    },
    {
      "cell_type": "code",
      "metadata": {
        "id": "lk-l26snW2SR",
        "colab_type": "code",
        "colab": {
          "base_uri": "https://localhost:8080/",
          "height": 228
        },
        "outputId": "f81c10fb-3eb0-4e8b-c48d-ec3ca9d314ab"
      },
      "source": [
        "Practice_KCMI_df['month_sin'] = np.sin(Practice_KCMI_df.index.month*(2.*np.pi/24))\n",
        "Practice_KCMI_df['month_cos'] = np.cos(Practice_KCMI_df.index.month*(2.*np.pi/24))"
      ],
      "execution_count": 23,
      "outputs": [
        {
          "output_type": "stream",
          "text": [
            "/usr/local/lib/python3.6/dist-packages/ipykernel_launcher.py:1: SettingWithCopyWarning: \n",
            "A value is trying to be set on a copy of a slice from a DataFrame.\n",
            "Try using .loc[row_indexer,col_indexer] = value instead\n",
            "\n",
            "See the caveats in the documentation: http://pandas.pydata.org/pandas-docs/stable/user_guide/indexing.html#returning-a-view-versus-a-copy\n",
            "  \"\"\"Entry point for launching an IPython kernel.\n",
            "/usr/local/lib/python3.6/dist-packages/ipykernel_launcher.py:2: SettingWithCopyWarning: \n",
            "A value is trying to be set on a copy of a slice from a DataFrame.\n",
            "Try using .loc[row_indexer,col_indexer] = value instead\n",
            "\n",
            "See the caveats in the documentation: http://pandas.pydata.org/pandas-docs/stable/user_guide/indexing.html#returning-a-view-versus-a-copy\n",
            "  \n"
          ],
          "name": "stderr"
        }
      ]
    },
    {
      "cell_type": "code",
      "metadata": {
        "id": "YbAcTrFeXrWJ",
        "colab_type": "code",
        "colab": {
          "base_uri": "https://localhost:8080/",
          "height": 225
        },
        "outputId": "19f4d32f-3612-4639-8b65-6ac77c69e85b"
      },
      "source": [
        "Practice_KCMI_df.head()"
      ],
      "execution_count": 24,
      "outputs": [
        {
          "output_type": "execute_result",
          "data": {
            "text/html": [
              "<div>\n",
              "<style scoped>\n",
              "    .dataframe tbody tr th:only-of-type {\n",
              "        vertical-align: middle;\n",
              "    }\n",
              "\n",
              "    .dataframe tbody tr th {\n",
              "        vertical-align: top;\n",
              "    }\n",
              "\n",
              "    .dataframe thead th {\n",
              "        text-align: right;\n",
              "    }\n",
              "</style>\n",
              "<table border=\"1\" class=\"dataframe\">\n",
              "  <thead>\n",
              "    <tr style=\"text-align: right;\">\n",
              "      <th></th>\n",
              "      <th>Max_Temp</th>\n",
              "      <th>Min_Temp</th>\n",
              "      <th>Max_Wind</th>\n",
              "      <th>Total_Precip</th>\n",
              "      <th>month_sin</th>\n",
              "      <th>month_cos</th>\n",
              "    </tr>\n",
              "    <tr>\n",
              "      <th>Date</th>\n",
              "      <th></th>\n",
              "      <th></th>\n",
              "      <th></th>\n",
              "      <th></th>\n",
              "      <th></th>\n",
              "      <th></th>\n",
              "    </tr>\n",
              "  </thead>\n",
              "  <tbody>\n",
              "    <tr>\n",
              "      <th>2010-01-01</th>\n",
              "      <td>-11.111111</td>\n",
              "      <td>-16.666667</td>\n",
              "      <td>6.70560</td>\n",
              "      <td>0.0</td>\n",
              "      <td>0.258819</td>\n",
              "      <td>0.965926</td>\n",
              "    </tr>\n",
              "    <tr>\n",
              "      <th>2010-01-02</th>\n",
              "      <td>-14.444444</td>\n",
              "      <td>-20.555556</td>\n",
              "      <td>6.70560</td>\n",
              "      <td>0.0</td>\n",
              "      <td>0.258819</td>\n",
              "      <td>0.965926</td>\n",
              "    </tr>\n",
              "    <tr>\n",
              "      <th>2010-01-03</th>\n",
              "      <td>-12.222222</td>\n",
              "      <td>-21.111111</td>\n",
              "      <td>4.91744</td>\n",
              "      <td>0.0</td>\n",
              "      <td>0.258819</td>\n",
              "      <td>0.965926</td>\n",
              "    </tr>\n",
              "    <tr>\n",
              "      <th>2010-01-04</th>\n",
              "      <td>-11.666667</td>\n",
              "      <td>-18.888889</td>\n",
              "      <td>8.94080</td>\n",
              "      <td>0.0</td>\n",
              "      <td>0.258819</td>\n",
              "      <td>0.965926</td>\n",
              "    </tr>\n",
              "    <tr>\n",
              "      <th>2010-01-05</th>\n",
              "      <td>-12.222222</td>\n",
              "      <td>-18.333333</td>\n",
              "      <td>7.15264</td>\n",
              "      <td>0.0</td>\n",
              "      <td>0.258819</td>\n",
              "      <td>0.965926</td>\n",
              "    </tr>\n",
              "  </tbody>\n",
              "</table>\n",
              "</div>"
            ],
            "text/plain": [
              "             Max_Temp   Min_Temp  Max_Wind  Total_Precip  month_sin  month_cos\n",
              "Date                                                                          \n",
              "2010-01-01 -11.111111 -16.666667   6.70560           0.0   0.258819   0.965926\n",
              "2010-01-02 -14.444444 -20.555556   6.70560           0.0   0.258819   0.965926\n",
              "2010-01-03 -12.222222 -21.111111   4.91744           0.0   0.258819   0.965926\n",
              "2010-01-04 -11.666667 -18.888889   8.94080           0.0   0.258819   0.965926\n",
              "2010-01-05 -12.222222 -18.333333   7.15264           0.0   0.258819   0.965926"
            ]
          },
          "metadata": {
            "tags": []
          },
          "execution_count": 24
        }
      ]
    },
    {
      "cell_type": "markdown",
      "metadata": {
        "id": "roU-UWq0M-FX",
        "colab_type": "text"
      },
      "source": [
        "GFS Model Data"
      ]
    },
    {
      "cell_type": "code",
      "metadata": {
        "id": "tDspzlMAM_1X",
        "colab_type": "code",
        "colab": {}
      },
      "source": [
        "GFS_df = pd.read_csv(\"GFS_daily_2010_2019_test.csv\", parse_dates=True, index_col='Time')\n",
        "GFS_df.drop(columns=\"Unnamed: 0\", inplace=True)"
      ],
      "execution_count": 0,
      "outputs": []
    },
    {
      "cell_type": "code",
      "metadata": {
        "id": "vArpJ2siNX_O",
        "colab_type": "code",
        "outputId": "96d9e9fe-d8c6-4c33-b194-f5078ea501a1",
        "colab": {
          "base_uri": "https://localhost:8080/",
          "height": 225
        }
      },
      "source": [
        "GFS_df.head()"
      ],
      "execution_count": 9,
      "outputs": [
        {
          "output_type": "execute_result",
          "data": {
            "text/html": [
              "<div>\n",
              "<style scoped>\n",
              "    .dataframe tbody tr th:only-of-type {\n",
              "        vertical-align: middle;\n",
              "    }\n",
              "\n",
              "    .dataframe tbody tr th {\n",
              "        vertical-align: top;\n",
              "    }\n",
              "\n",
              "    .dataframe thead th {\n",
              "        text-align: right;\n",
              "    }\n",
              "</style>\n",
              "<table border=\"1\" class=\"dataframe\">\n",
              "  <thead>\n",
              "    <tr style=\"text-align: right;\">\n",
              "      <th></th>\n",
              "      <th>TMAX</th>\n",
              "      <th>TMIN</th>\n",
              "      <th>WMAX</th>\n",
              "      <th>RTOT</th>\n",
              "    </tr>\n",
              "    <tr>\n",
              "      <th>Time</th>\n",
              "      <th></th>\n",
              "      <th></th>\n",
              "      <th></th>\n",
              "      <th></th>\n",
              "    </tr>\n",
              "  </thead>\n",
              "  <tbody>\n",
              "    <tr>\n",
              "      <th>2010-01-01 12:00:00</th>\n",
              "      <td>-11.26</td>\n",
              "      <td>-16.46</td>\n",
              "      <td>7.323933</td>\n",
              "      <td>0.05</td>\n",
              "    </tr>\n",
              "    <tr>\n",
              "      <th>2010-01-02 12:00:00</th>\n",
              "      <td>-10.16</td>\n",
              "      <td>-15.96</td>\n",
              "      <td>4.687217</td>\n",
              "      <td>0.00</td>\n",
              "    </tr>\n",
              "    <tr>\n",
              "      <th>2010-01-03 12:00:00</th>\n",
              "      <td>-9.96</td>\n",
              "      <td>-14.36</td>\n",
              "      <td>5.941380</td>\n",
              "      <td>0.06</td>\n",
              "    </tr>\n",
              "    <tr>\n",
              "      <th>2010-01-04 12:00:00</th>\n",
              "      <td>-8.46</td>\n",
              "      <td>-12.86</td>\n",
              "      <td>5.685068</td>\n",
              "      <td>0.17</td>\n",
              "    </tr>\n",
              "    <tr>\n",
              "      <th>2010-01-05 12:00:00</th>\n",
              "      <td>-7.16</td>\n",
              "      <td>-11.06</td>\n",
              "      <td>3.794733</td>\n",
              "      <td>0.77</td>\n",
              "    </tr>\n",
              "  </tbody>\n",
              "</table>\n",
              "</div>"
            ],
            "text/plain": [
              "                      TMAX   TMIN      WMAX  RTOT\n",
              "Time                                             \n",
              "2010-01-01 12:00:00 -11.26 -16.46  7.323933  0.05\n",
              "2010-01-02 12:00:00 -10.16 -15.96  4.687217  0.00\n",
              "2010-01-03 12:00:00  -9.96 -14.36  5.941380  0.06\n",
              "2010-01-04 12:00:00  -8.46 -12.86  5.685068  0.17\n",
              "2010-01-05 12:00:00  -7.16 -11.06  3.794733  0.77"
            ]
          },
          "metadata": {
            "tags": []
          },
          "execution_count": 9
        }
      ]
    },
    {
      "cell_type": "code",
      "metadata": {
        "id": "8BbbIFw-N4Kf",
        "colab_type": "code",
        "colab": {}
      },
      "source": [
        "Practice_GFS_df = GFS_df[:]"
      ],
      "execution_count": 0,
      "outputs": []
    },
    {
      "cell_type": "code",
      "metadata": {
        "id": "sBqVl8nyclJs",
        "colab_type": "code",
        "colab": {}
      },
      "source": [
        "Practice_GFS_df.dropna(inplace=True)"
      ],
      "execution_count": 0,
      "outputs": []
    },
    {
      "cell_type": "code",
      "metadata": {
        "id": "jevS6eyEYyYj",
        "colab_type": "code",
        "colab": {
          "base_uri": "https://localhost:8080/",
          "height": 225
        },
        "outputId": "a72a0ed5-d7fe-49ee-cb34-0ecf11f5a497"
      },
      "source": [
        "Practice_GFS_df['month_sin'] = np.sin(Practice_GFS_df.index.month*(2.*np.pi/24))\n",
        "Practice_GFS_df['month_cos'] = np.cos(Practice_GFS_df.index.month*(2.*np.pi/24))\n",
        "Practice_GFS_df.head()"
      ],
      "execution_count": 49,
      "outputs": [
        {
          "output_type": "execute_result",
          "data": {
            "text/html": [
              "<div>\n",
              "<style scoped>\n",
              "    .dataframe tbody tr th:only-of-type {\n",
              "        vertical-align: middle;\n",
              "    }\n",
              "\n",
              "    .dataframe tbody tr th {\n",
              "        vertical-align: top;\n",
              "    }\n",
              "\n",
              "    .dataframe thead th {\n",
              "        text-align: right;\n",
              "    }\n",
              "</style>\n",
              "<table border=\"1\" class=\"dataframe\">\n",
              "  <thead>\n",
              "    <tr style=\"text-align: right;\">\n",
              "      <th></th>\n",
              "      <th>TMAX</th>\n",
              "      <th>TMIN</th>\n",
              "      <th>WMAX</th>\n",
              "      <th>RTOT</th>\n",
              "      <th>month_sin</th>\n",
              "      <th>month_cos</th>\n",
              "    </tr>\n",
              "    <tr>\n",
              "      <th>Time</th>\n",
              "      <th></th>\n",
              "      <th></th>\n",
              "      <th></th>\n",
              "      <th></th>\n",
              "      <th></th>\n",
              "      <th></th>\n",
              "    </tr>\n",
              "  </thead>\n",
              "  <tbody>\n",
              "    <tr>\n",
              "      <th>2010-01-01 12:00:00</th>\n",
              "      <td>-11.26</td>\n",
              "      <td>-16.46</td>\n",
              "      <td>7.323933</td>\n",
              "      <td>0.05</td>\n",
              "      <td>0.258819</td>\n",
              "      <td>0.965926</td>\n",
              "    </tr>\n",
              "    <tr>\n",
              "      <th>2010-01-02 12:00:00</th>\n",
              "      <td>-10.16</td>\n",
              "      <td>-15.96</td>\n",
              "      <td>4.687217</td>\n",
              "      <td>0.00</td>\n",
              "      <td>0.258819</td>\n",
              "      <td>0.965926</td>\n",
              "    </tr>\n",
              "    <tr>\n",
              "      <th>2010-01-03 12:00:00</th>\n",
              "      <td>-9.96</td>\n",
              "      <td>-14.36</td>\n",
              "      <td>5.941380</td>\n",
              "      <td>0.06</td>\n",
              "      <td>0.258819</td>\n",
              "      <td>0.965926</td>\n",
              "    </tr>\n",
              "    <tr>\n",
              "      <th>2010-01-04 12:00:00</th>\n",
              "      <td>-8.46</td>\n",
              "      <td>-12.86</td>\n",
              "      <td>5.685068</td>\n",
              "      <td>0.17</td>\n",
              "      <td>0.258819</td>\n",
              "      <td>0.965926</td>\n",
              "    </tr>\n",
              "    <tr>\n",
              "      <th>2010-01-05 12:00:00</th>\n",
              "      <td>-7.16</td>\n",
              "      <td>-11.06</td>\n",
              "      <td>3.794733</td>\n",
              "      <td>0.77</td>\n",
              "      <td>0.258819</td>\n",
              "      <td>0.965926</td>\n",
              "    </tr>\n",
              "  </tbody>\n",
              "</table>\n",
              "</div>"
            ],
            "text/plain": [
              "                      TMAX   TMIN      WMAX  RTOT  month_sin  month_cos\n",
              "Time                                                                   \n",
              "2010-01-01 12:00:00 -11.26 -16.46  7.323933  0.05   0.258819   0.965926\n",
              "2010-01-02 12:00:00 -10.16 -15.96  4.687217  0.00   0.258819   0.965926\n",
              "2010-01-03 12:00:00  -9.96 -14.36  5.941380  0.06   0.258819   0.965926\n",
              "2010-01-04 12:00:00  -8.46 -12.86  5.685068  0.17   0.258819   0.965926\n",
              "2010-01-05 12:00:00  -7.16 -11.06  3.794733  0.77   0.258819   0.965926"
            ]
          },
          "metadata": {
            "tags": []
          },
          "execution_count": 49
        }
      ]
    },
    {
      "cell_type": "code",
      "metadata": {
        "id": "TBBSTqAicg7m",
        "colab_type": "code",
        "colab": {
          "base_uri": "https://localhost:8080/",
          "height": 225
        },
        "outputId": "dea2f65a-fbab-419c-a09f-5e228a31c2a5"
      },
      "source": [
        "Practice_GFS_df['day_sin'] = np.sin(Practice_GFS_df.index.day*(2.*np.pi/24))\n",
        "Practice_GFS_df['day_cos'] = np.cos(Practice_GFS_df.index.day*(2.*np.pi/24))\n",
        "Practice_GFS_df.head()"
      ],
      "execution_count": 51,
      "outputs": [
        {
          "output_type": "execute_result",
          "data": {
            "text/html": [
              "<div>\n",
              "<style scoped>\n",
              "    .dataframe tbody tr th:only-of-type {\n",
              "        vertical-align: middle;\n",
              "    }\n",
              "\n",
              "    .dataframe tbody tr th {\n",
              "        vertical-align: top;\n",
              "    }\n",
              "\n",
              "    .dataframe thead th {\n",
              "        text-align: right;\n",
              "    }\n",
              "</style>\n",
              "<table border=\"1\" class=\"dataframe\">\n",
              "  <thead>\n",
              "    <tr style=\"text-align: right;\">\n",
              "      <th></th>\n",
              "      <th>TMAX</th>\n",
              "      <th>TMIN</th>\n",
              "      <th>WMAX</th>\n",
              "      <th>RTOT</th>\n",
              "      <th>month_sin</th>\n",
              "      <th>month_cos</th>\n",
              "      <th>day_sin</th>\n",
              "      <th>day_cos</th>\n",
              "    </tr>\n",
              "    <tr>\n",
              "      <th>Time</th>\n",
              "      <th></th>\n",
              "      <th></th>\n",
              "      <th></th>\n",
              "      <th></th>\n",
              "      <th></th>\n",
              "      <th></th>\n",
              "      <th></th>\n",
              "      <th></th>\n",
              "    </tr>\n",
              "  </thead>\n",
              "  <tbody>\n",
              "    <tr>\n",
              "      <th>2010-01-01 12:00:00</th>\n",
              "      <td>-11.26</td>\n",
              "      <td>-16.46</td>\n",
              "      <td>7.323933</td>\n",
              "      <td>0.05</td>\n",
              "      <td>0.258819</td>\n",
              "      <td>0.965926</td>\n",
              "      <td>0.258819</td>\n",
              "      <td>0.965926</td>\n",
              "    </tr>\n",
              "    <tr>\n",
              "      <th>2010-01-02 12:00:00</th>\n",
              "      <td>-10.16</td>\n",
              "      <td>-15.96</td>\n",
              "      <td>4.687217</td>\n",
              "      <td>0.00</td>\n",
              "      <td>0.258819</td>\n",
              "      <td>0.965926</td>\n",
              "      <td>0.500000</td>\n",
              "      <td>0.866025</td>\n",
              "    </tr>\n",
              "    <tr>\n",
              "      <th>2010-01-03 12:00:00</th>\n",
              "      <td>-9.96</td>\n",
              "      <td>-14.36</td>\n",
              "      <td>5.941380</td>\n",
              "      <td>0.06</td>\n",
              "      <td>0.258819</td>\n",
              "      <td>0.965926</td>\n",
              "      <td>0.707107</td>\n",
              "      <td>0.707107</td>\n",
              "    </tr>\n",
              "    <tr>\n",
              "      <th>2010-01-04 12:00:00</th>\n",
              "      <td>-8.46</td>\n",
              "      <td>-12.86</td>\n",
              "      <td>5.685068</td>\n",
              "      <td>0.17</td>\n",
              "      <td>0.258819</td>\n",
              "      <td>0.965926</td>\n",
              "      <td>0.866025</td>\n",
              "      <td>0.500000</td>\n",
              "    </tr>\n",
              "    <tr>\n",
              "      <th>2010-01-05 12:00:00</th>\n",
              "      <td>-7.16</td>\n",
              "      <td>-11.06</td>\n",
              "      <td>3.794733</td>\n",
              "      <td>0.77</td>\n",
              "      <td>0.258819</td>\n",
              "      <td>0.965926</td>\n",
              "      <td>0.965926</td>\n",
              "      <td>0.258819</td>\n",
              "    </tr>\n",
              "  </tbody>\n",
              "</table>\n",
              "</div>"
            ],
            "text/plain": [
              "                      TMAX   TMIN      WMAX  ...  month_cos   day_sin   day_cos\n",
              "Time                                         ...                               \n",
              "2010-01-01 12:00:00 -11.26 -16.46  7.323933  ...   0.965926  0.258819  0.965926\n",
              "2010-01-02 12:00:00 -10.16 -15.96  4.687217  ...   0.965926  0.500000  0.866025\n",
              "2010-01-03 12:00:00  -9.96 -14.36  5.941380  ...   0.965926  0.707107  0.707107\n",
              "2010-01-04 12:00:00  -8.46 -12.86  5.685068  ...   0.965926  0.866025  0.500000\n",
              "2010-01-05 12:00:00  -7.16 -11.06  3.794733  ...   0.965926  0.965926  0.258819\n",
              "\n",
              "[5 rows x 8 columns]"
            ]
          },
          "metadata": {
            "tags": []
          },
          "execution_count": 51
        }
      ]
    },
    {
      "cell_type": "markdown",
      "metadata": {
        "id": "7ch6LANThck9",
        "colab_type": "text"
      },
      "source": [
        "Linear Regression "
      ]
    },
    {
      "cell_type": "code",
      "metadata": {
        "id": "jc4U640346o3",
        "colab_type": "code",
        "colab": {}
      },
      "source": [
        "from sklearn.linear_model import LinearRegression\n",
        "from sklearn.metrics import mean_squared_error, r2_score\n",
        "from sklearn.model_selection import train_test_split"
      ],
      "execution_count": 0,
      "outputs": []
    },
    {
      "cell_type": "code",
      "metadata": {
        "id": "b_ak7685XbGn",
        "colab_type": "code",
        "colab": {
          "base_uri": "https://localhost:8080/",
          "height": 303
        },
        "outputId": "e815bb41-76e0-447f-c47d-06735f4263bb"
      },
      "source": [
        "# Trying to Make Months Cyclical for Multiple Linear Regression \n",
        "from sklearn.preprocessing import StandardScaler\n",
        "from sklearn.neural_network import MLPRegressor\n",
        "from sklearn.pipeline import Pipeline\n",
        "\n",
        "estimators = []\n",
        "estimators.append(('standardize', StandardScaler()))\n",
        "estimators.append(('nn', MLPRegressor(hidden_layer_sizes=(5,), max_iter=1000)))\n",
        "model = Pipeline(estimators)\n",
        "\n",
        "features = ['month_sin', 'month_cos', 'day_sin', 'day_cos', 'TMAX']\n",
        "x = Practice_GFS_df[features].values\n",
        "y = Practice_GFS_df['RTOT']\n",
        "\n",
        "# split into training and testing sets (10% vs 90%)\n",
        "x_train, x_test, y_train, y_test = train_test_split(x, y, test_size = 0.1, random_state=123)\n",
        "\n",
        "model.fit(x_train, y_train)\n",
        "\n",
        "print('Mean squared error: %.2f' % mean_squared_error(y_test, model.predict(x_test)))\n",
        "\n",
        "plt.scatter(x_test[:,3], y_test, color='black')\n",
        "plt.plot(x_test[:,3], model.predict(x_test), color='blue', linewidth=3)"
      ],
      "execution_count": 56,
      "outputs": [
        {
          "output_type": "stream",
          "text": [
            "Mean squared error: 69.02\n"
          ],
          "name": "stdout"
        },
        {
          "output_type": "execute_result",
          "data": {
            "text/plain": [
              "[<matplotlib.lines.Line2D at 0x7f95af7b0828>]"
            ]
          },
          "metadata": {
            "tags": []
          },
          "execution_count": 56
        },
        {
          "output_type": "display_data",
          "data": {
            "image/png": "[encoded data removed]",
            "text/plain": [
              "<Figure size 432x288 with 1 Axes>"
            ]
          },
          "metadata": {
            "tags": []
          }
        }
      ]
    },
    {
      "cell_type": "code",
      "metadata": {
        "id": "Triq7gfS32s7",
        "colab_type": "code",
        "outputId": "74635aa9-2e1b-4ceb-d127-422ec6611709",
        "colab": {
          "base_uri": "https://localhost:8080/",
          "height": 52
        }
      },
      "source": [
        "# TODO change to the actual file (not practice)\n",
        "x = Practice_GFS_df.drop(['RTOT'], axis=1)\n",
        "y = Practice_GFS_df['RTOT']\n",
        "\n",
        "# split into training and testing sets (10% vs 90%)\n",
        "x_train, x_test, y_train, y_test = train_test_split(x, y, test_size = 0.1, random_state=123)\n",
        "print(x_train.shape, x_test.shape, y_train.shape, y_test.shape)\n",
        "\n",
        "Practice_GFS_df.head()\n",
        "\n",
        "# Create Model \n",
        "lin_model = LinearRegression()\n",
        "lin_model.fit(x_train, y_train)"
      ],
      "execution_count": 63,
      "outputs": [
        {
          "output_type": "stream",
          "text": [
            "(3280, 7) (365, 7) (3280,) (365,)\n"
          ],
          "name": "stdout"
        },
        {
          "output_type": "execute_result",
          "data": {
            "text/plain": [
              "LinearRegression(copy_X=True, fit_intercept=True, n_jobs=None, normalize=False)"
            ]
          },
          "metadata": {
            "tags": []
          },
          "execution_count": 63
        }
      ]
    },
    {
      "cell_type": "code",
      "metadata": {
        "id": "hSF4eGUwrELV",
        "colab_type": "code",
        "colab": {
          "base_uri": "https://localhost:8080/",
          "height": 34
        },
        "outputId": "4dfafda2-792b-468a-ffb6-47c311d16dea"
      },
      "source": [
        "type(x_test)"
      ],
      "execution_count": 65,
      "outputs": [
        {
          "output_type": "execute_result",
          "data": {
            "text/plain": [
              "pandas.core.frame.DataFrame"
            ]
          },
          "metadata": {
            "tags": []
          },
          "execution_count": 65
        }
      ]
    },
    {
      "cell_type": "code",
      "metadata": {
        "id": "ju23QFMCk2ob",
        "colab_type": "code",
        "outputId": "4c85f38a-7834-41c8-9809-66955fd07d1c",
        "colab": {
          "base_uri": "https://localhost:8080/",
          "height": 372
        }
      },
      "source": [
        "# Print parameters and plot - GFS Data\n",
        "print('Coefficients: \\n', lin_model.coef_)\n",
        "print('Mean squared error: %.2f' % mean_squared_error(y_test, lin_model.predict(x_test)))\n",
        "print('Coefficient of determination: %.2f' % r2_score(y_test, lin_model.predict(x_test)))\n",
        "\n",
        "plt.scatter(x_test['TMAX'], y_test, color='black')\n",
        "plt.plot(x_test['TMAX'], lin_model.predict(x_test), color='blue', linewidth=3)\n",
        "\n",
        "plt.title('Linear Regression')"
      ],
      "execution_count": 0,
      "outputs": [
        {
          "output_type": "stream",
          "text": [
            "Coefficients: \n",
            " [-0.30333005  0.51926422  0.91569786]\n",
            "Mean squared error: 67.75\n",
            "Coefficient of determination: 0.05\n"
          ],
          "name": "stdout"
        },
        {
          "output_type": "execute_result",
          "data": {
            "text/plain": [
              "Text(0.5, 1.0, 'Linear Regression')"
            ]
          },
          "metadata": {
            "tags": []
          },
          "execution_count": 90
        },
        {
          "output_type": "display_data",
          "data": {
            "image/png": "[encoded data removed]",
            "text/plain": [
              "<Figure size 432x288 with 1 Axes>"
            ]
          },
          "metadata": {
            "tags": []
          }
        }
      ]
    },
    {
      "cell_type": "code",
      "metadata": {
        "id": "1X8zSGzS48OO",
        "colab_type": "code",
        "outputId": "d5ba14ed-777d-4d2b-fab1-197438e1b9a7",
        "colab": {
          "base_uri": "https://localhost:8080/",
          "height": 372
        }
      },
      "source": [
        "# Print parameters and plot - KCMI Observational Data \n",
        "print('Coefficients: \\n', lin_model.coef_)\n",
        "print('Mean squared error: %.2f' % mean_squared_error(y_test, lin_model.predict(x_test)))\n",
        "print('Coefficient of determination: %.2f' % r2_score(y_test, lin_model.predict(x_test)))\n",
        "\n",
        "plt.scatter(x_test['Max_Temp'], y_test, color='black')\n",
        "plt.plot(x_test['Max_Temp'], lin_model.predict(x_test), color='blue', linewidth=3)\n",
        "\n",
        "plt.title('Linear Regression')"
      ],
      "execution_count": 0,
      "outputs": [
        {
          "output_type": "stream",
          "text": [
            "Coefficients: \n",
            " [-0.28871629  0.42220272  0.42909241]\n",
            "Mean squared error: 46.24\n",
            "Coefficient of determination: 0.07\n"
          ],
          "name": "stdout"
        },
        {
          "output_type": "execute_result",
          "data": {
            "text/plain": [
              "Text(0.5, 1.0, 'Linear Regression')"
            ]
          },
          "metadata": {
            "tags": []
          },
          "execution_count": 65
        },
        {
          "output_type": "display_data",
          "data": {
            "image/png": "[encoded data removed]",
            "text/plain": [
              "<Figure size 432x288 with 1 Axes>"
            ]
          },
          "metadata": {
            "tags": []
          }
        }
      ]
    },
    {
      "cell_type": "markdown",
      "metadata": {
        "id": "AFmJqPIghabQ",
        "colab_type": "text"
      },
      "source": [
        "Machine Learning"
      ]
    },
    {
      "cell_type": "markdown",
      "metadata": {
        "id": "_bMlXlOW1WoG",
        "colab_type": "text"
      },
      "source": [
        "Adapted from:\n",
        "https://nbviewer.jupyter.org/github/srnghn/ml_example_notebooks/blob/master/Predicting%20Yacht%20Resistance%20with%20Decision%20Trees%20%26%20Random%20Forests.ipynb?source=post_page---------------------------"
      ]
    },
    {
      "cell_type": "code",
      "metadata": {
        "id": "_Ty70n4VSfzA",
        "colab_type": "code",
        "colab": {}
      },
      "source": [
        "from sklearn.model_selection import train_test_split"
      ],
      "execution_count": 0,
      "outputs": []
    },
    {
      "cell_type": "code",
      "metadata": {
        "id": "yuq2HlxgqsoC",
        "colab_type": "code",
        "colab": {
          "base_uri": "https://localhost:8080/",
          "height": 225
        },
        "outputId": "49d429f9-3b8c-4afb-d309-58e8be19c622"
      },
      "source": [
        "Practice_GFS_df.head()"
      ],
      "execution_count": 60,
      "outputs": [
        {
          "output_type": "execute_result",
          "data": {
            "text/html": [
              "<div>\n",
              "<style scoped>\n",
              "    .dataframe tbody tr th:only-of-type {\n",
              "        vertical-align: middle;\n",
              "    }\n",
              "\n",
              "    .dataframe tbody tr th {\n",
              "        vertical-align: top;\n",
              "    }\n",
              "\n",
              "    .dataframe thead th {\n",
              "        text-align: right;\n",
              "    }\n",
              "</style>\n",
              "<table border=\"1\" class=\"dataframe\">\n",
              "  <thead>\n",
              "    <tr style=\"text-align: right;\">\n",
              "      <th></th>\n",
              "      <th>TMAX</th>\n",
              "      <th>TMIN</th>\n",
              "      <th>WMAX</th>\n",
              "      <th>RTOT</th>\n",
              "      <th>month_sin</th>\n",
              "      <th>month_cos</th>\n",
              "      <th>day_sin</th>\n",
              "      <th>day_cos</th>\n",
              "    </tr>\n",
              "    <tr>\n",
              "      <th>Time</th>\n",
              "      <th></th>\n",
              "      <th></th>\n",
              "      <th></th>\n",
              "      <th></th>\n",
              "      <th></th>\n",
              "      <th></th>\n",
              "      <th></th>\n",
              "      <th></th>\n",
              "    </tr>\n",
              "  </thead>\n",
              "  <tbody>\n",
              "    <tr>\n",
              "      <th>2010-01-01 12:00:00</th>\n",
              "      <td>-11.26</td>\n",
              "      <td>-16.46</td>\n",
              "      <td>7.323933</td>\n",
              "      <td>0.05</td>\n",
              "      <td>0.258819</td>\n",
              "      <td>0.965926</td>\n",
              "      <td>0.258819</td>\n",
              "      <td>0.965926</td>\n",
              "    </tr>\n",
              "    <tr>\n",
              "      <th>2010-01-02 12:00:00</th>\n",
              "      <td>-10.16</td>\n",
              "      <td>-15.96</td>\n",
              "      <td>4.687217</td>\n",
              "      <td>0.00</td>\n",
              "      <td>0.258819</td>\n",
              "      <td>0.965926</td>\n",
              "      <td>0.500000</td>\n",
              "      <td>0.866025</td>\n",
              "    </tr>\n",
              "    <tr>\n",
              "      <th>2010-01-03 12:00:00</th>\n",
              "      <td>-9.96</td>\n",
              "      <td>-14.36</td>\n",
              "      <td>5.941380</td>\n",
              "      <td>0.06</td>\n",
              "      <td>0.258819</td>\n",
              "      <td>0.965926</td>\n",
              "      <td>0.707107</td>\n",
              "      <td>0.707107</td>\n",
              "    </tr>\n",
              "    <tr>\n",
              "      <th>2010-01-04 12:00:00</th>\n",
              "      <td>-8.46</td>\n",
              "      <td>-12.86</td>\n",
              "      <td>5.685068</td>\n",
              "      <td>0.17</td>\n",
              "      <td>0.258819</td>\n",
              "      <td>0.965926</td>\n",
              "      <td>0.866025</td>\n",
              "      <td>0.500000</td>\n",
              "    </tr>\n",
              "    <tr>\n",
              "      <th>2010-01-05 12:00:00</th>\n",
              "      <td>-7.16</td>\n",
              "      <td>-11.06</td>\n",
              "      <td>3.794733</td>\n",
              "      <td>0.77</td>\n",
              "      <td>0.258819</td>\n",
              "      <td>0.965926</td>\n",
              "      <td>0.965926</td>\n",
              "      <td>0.258819</td>\n",
              "    </tr>\n",
              "  </tbody>\n",
              "</table>\n",
              "</div>"
            ],
            "text/plain": [
              "                      TMAX   TMIN      WMAX  ...  month_cos   day_sin   day_cos\n",
              "Time                                         ...                               \n",
              "2010-01-01 12:00:00 -11.26 -16.46  7.323933  ...   0.965926  0.258819  0.965926\n",
              "2010-01-02 12:00:00 -10.16 -15.96  4.687217  ...   0.965926  0.500000  0.866025\n",
              "2010-01-03 12:00:00  -9.96 -14.36  5.941380  ...   0.965926  0.707107  0.707107\n",
              "2010-01-04 12:00:00  -8.46 -12.86  5.685068  ...   0.965926  0.866025  0.500000\n",
              "2010-01-05 12:00:00  -7.16 -11.06  3.794733  ...   0.965926  0.965926  0.258819\n",
              "\n",
              "[5 rows x 8 columns]"
            ]
          },
          "metadata": {
            "tags": []
          },
          "execution_count": 60
        }
      ]
    },
    {
      "cell_type": "code",
      "metadata": {
        "id": "quWaes_PSjx8",
        "colab_type": "code",
        "outputId": "e333b6bb-22d9-4348-a5da-c508408cb4f5",
        "colab": {
          "base_uri": "https://localhost:8080/",
          "height": 34
        }
      },
      "source": [
        "# TODO change back to KCMI_daily \n",
        "features = ['month_sin', 'month_cos', 'day_sin', 'day_cos', 'TMAX', 'TMIN']\n",
        "x = Practice_GFS_df[features]\n",
        "y = Practice_GFS_df['RTOT']\n",
        "\n",
        "x_train, x_test, y_train, y_test = train_test_split(x, y, test_size = 0.1, random_state=123)\n",
        "print(x_train.shape, x_test.shape, y_train.shape, y_test.shape)"
      ],
      "execution_count": 66,
      "outputs": [
        {
          "output_type": "stream",
          "text": [
            "(3280, 6) (365, 6) (3280,) (365,)\n"
          ],
          "name": "stdout"
        }
      ]
    },
    {
      "cell_type": "markdown",
      "metadata": {
        "id": "HZuK3chiZb5f",
        "colab_type": "text"
      },
      "source": [
        "Decision Tree Regressor"
      ]
    },
    {
      "cell_type": "code",
      "metadata": {
        "id": "-oVw84rQTNuz",
        "colab_type": "code",
        "outputId": "c4fcda7e-bb28-4e22-eddb-d9061b562bac",
        "colab": {
          "base_uri": "https://localhost:8080/",
          "height": 122
        }
      },
      "source": [
        "from sklearn.tree import DecisionTreeRegressor \n",
        "tree_model = DecisionTreeRegressor()\n",
        "tree_model.fit(x_train, y_train) "
      ],
      "execution_count": 67,
      "outputs": [
        {
          "output_type": "execute_result",
          "data": {
            "text/plain": [
              "DecisionTreeRegressor(ccp_alpha=0.0, criterion='mse', max_depth=None,\n",
              "                      max_features=None, max_leaf_nodes=None,\n",
              "                      min_impurity_decrease=0.0, min_impurity_split=None,\n",
              "                      min_samples_leaf=1, min_samples_split=2,\n",
              "                      min_weight_fraction_leaf=0.0, presort='deprecated',\n",
              "                      random_state=None, splitter='best')"
            ]
          },
          "metadata": {
            "tags": []
          },
          "execution_count": 67
        }
      ]
    },
    {
      "cell_type": "code",
      "metadata": {
        "id": "qFo-yPQWsPEr",
        "colab_type": "code",
        "colab": {
          "base_uri": "https://localhost:8080/",
          "height": 431
        },
        "outputId": "9761059a-e68e-43ee-e210-80d8dfbe786e"
      },
      "source": [
        "x_test"
      ],
      "execution_count": 74,
      "outputs": [
        {
          "output_type": "execute_result",
          "data": {
            "text/html": [
              "<div>\n",
              "<style scoped>\n",
              "    .dataframe tbody tr th:only-of-type {\n",
              "        vertical-align: middle;\n",
              "    }\n",
              "\n",
              "    .dataframe tbody tr th {\n",
              "        vertical-align: top;\n",
              "    }\n",
              "\n",
              "    .dataframe thead th {\n",
              "        text-align: right;\n",
              "    }\n",
              "</style>\n",
              "<table border=\"1\" class=\"dataframe\">\n",
              "  <thead>\n",
              "    <tr style=\"text-align: right;\">\n",
              "      <th></th>\n",
              "      <th>month_sin</th>\n",
              "      <th>month_cos</th>\n",
              "      <th>day_sin</th>\n",
              "      <th>day_cos</th>\n",
              "      <th>TMAX</th>\n",
              "      <th>TMIN</th>\n",
              "    </tr>\n",
              "    <tr>\n",
              "      <th>Time</th>\n",
              "      <th></th>\n",
              "      <th></th>\n",
              "      <th></th>\n",
              "      <th></th>\n",
              "      <th></th>\n",
              "      <th></th>\n",
              "    </tr>\n",
              "  </thead>\n",
              "  <tbody>\n",
              "    <tr>\n",
              "      <th>2014-06-21 12:00:00</th>\n",
              "      <td>1.000000</td>\n",
              "      <td>6.123234e-17</td>\n",
              "      <td>-0.707107</td>\n",
              "      <td>7.071068e-01</td>\n",
              "      <td>28.94</td>\n",
              "      <td>18.14</td>\n",
              "    </tr>\n",
              "    <tr>\n",
              "      <th>2012-10-25 12:00:00</th>\n",
              "      <td>0.500000</td>\n",
              "      <td>-8.660254e-01</td>\n",
              "      <td>0.258819</td>\n",
              "      <td>9.659258e-01</td>\n",
              "      <td>8.84</td>\n",
              "      <td>2.84</td>\n",
              "    </tr>\n",
              "    <tr>\n",
              "      <th>2012-05-30 12:00:00</th>\n",
              "      <td>0.965926</td>\n",
              "      <td>2.588190e-01</td>\n",
              "      <td>1.000000</td>\n",
              "      <td>1.194340e-15</td>\n",
              "      <td>14.84</td>\n",
              "      <td>8.44</td>\n",
              "    </tr>\n",
              "    <tr>\n",
              "      <th>2016-03-07 12:00:00</th>\n",
              "      <td>0.707107</td>\n",
              "      <td>7.071068e-01</td>\n",
              "      <td>0.965926</td>\n",
              "      <td>-2.588190e-01</td>\n",
              "      <td>16.44</td>\n",
              "      <td>12.24</td>\n",
              "    </tr>\n",
              "    <tr>\n",
              "      <th>2017-01-26 12:00:00</th>\n",
              "      <td>0.258819</td>\n",
              "      <td>9.659258e-01</td>\n",
              "      <td>0.500000</td>\n",
              "      <td>8.660254e-01</td>\n",
              "      <td>-0.96</td>\n",
              "      <td>-3.16</td>\n",
              "    </tr>\n",
              "    <tr>\n",
              "      <th>...</th>\n",
              "      <td>...</td>\n",
              "      <td>...</td>\n",
              "      <td>...</td>\n",
              "      <td>...</td>\n",
              "      <td>...</td>\n",
              "      <td>...</td>\n",
              "    </tr>\n",
              "    <tr>\n",
              "      <th>2015-09-03 12:00:00</th>\n",
              "      <td>0.707107</td>\n",
              "      <td>-7.071068e-01</td>\n",
              "      <td>0.707107</td>\n",
              "      <td>7.071068e-01</td>\n",
              "      <td>32.94</td>\n",
              "      <td>20.74</td>\n",
              "    </tr>\n",
              "    <tr>\n",
              "      <th>2014-04-08 12:00:00</th>\n",
              "      <td>0.866025</td>\n",
              "      <td>5.000000e-01</td>\n",
              "      <td>0.866025</td>\n",
              "      <td>-5.000000e-01</td>\n",
              "      <td>14.04</td>\n",
              "      <td>3.74</td>\n",
              "    </tr>\n",
              "    <tr>\n",
              "      <th>2014-07-03 12:00:00</th>\n",
              "      <td>0.965926</td>\n",
              "      <td>-2.588190e-01</td>\n",
              "      <td>0.707107</td>\n",
              "      <td>7.071068e-01</td>\n",
              "      <td>24.34</td>\n",
              "      <td>11.34</td>\n",
              "    </tr>\n",
              "    <tr>\n",
              "      <th>2020-01-23 12:00:00</th>\n",
              "      <td>0.258819</td>\n",
              "      <td>9.659258e-01</td>\n",
              "      <td>-0.258819</td>\n",
              "      <td>9.659258e-01</td>\n",
              "      <td>2.04</td>\n",
              "      <td>1.24</td>\n",
              "    </tr>\n",
              "    <tr>\n",
              "      <th>2018-06-20 12:00:00</th>\n",
              "      <td>1.000000</td>\n",
              "      <td>6.123234e-17</td>\n",
              "      <td>-0.866025</td>\n",
              "      <td>5.000000e-01</td>\n",
              "      <td>27.84</td>\n",
              "      <td>18.54</td>\n",
              "    </tr>\n",
              "  </tbody>\n",
              "</table>\n",
              "<p>365 rows × 6 columns</p>\n",
              "</div>"
            ],
            "text/plain": [
              "                     month_sin     month_cos  ...   TMAX   TMIN\n",
              "Time                                          ...              \n",
              "2014-06-21 12:00:00   1.000000  6.123234e-17  ...  28.94  18.14\n",
              "2012-10-25 12:00:00   0.500000 -8.660254e-01  ...   8.84   2.84\n",
              "2012-05-30 12:00:00   0.965926  2.588190e-01  ...  14.84   8.44\n",
              "2016-03-07 12:00:00   0.707107  7.071068e-01  ...  16.44  12.24\n",
              "2017-01-26 12:00:00   0.258819  9.659258e-01  ...  -0.96  -3.16\n",
              "...                        ...           ...  ...    ...    ...\n",
              "2015-09-03 12:00:00   0.707107 -7.071068e-01  ...  32.94  20.74\n",
              "2014-04-08 12:00:00   0.866025  5.000000e-01  ...  14.04   3.74\n",
              "2014-07-03 12:00:00   0.965926 -2.588190e-01  ...  24.34  11.34\n",
              "2020-01-23 12:00:00   0.258819  9.659258e-01  ...   2.04   1.24\n",
              "2018-06-20 12:00:00   1.000000  6.123234e-17  ...  27.84  18.54\n",
              "\n",
              "[365 rows x 6 columns]"
            ]
          },
          "metadata": {
            "tags": []
          },
          "execution_count": 74
        }
      ]
    },
    {
      "cell_type": "code",
      "metadata": {
        "id": "gNNc4vbesADk",
        "colab_type": "code",
        "colab": {
          "base_uri": "https://localhost:8080/",
          "height": 387
        },
        "outputId": "5be589b3-94af-49cf-c1f7-4e08a87c5846"
      },
      "source": [
        "#tree_model.predict(np.array([1, 6.123234e-17, -0.707107, 7.071068e-01, 28.94, 18.14]))"
      ],
      "execution_count": 79,
      "outputs": [
        {
          "output_type": "error",
          "ename": "ValueError",
          "evalue": "ignored",
          "traceback": [
            "\u001b[0;31m---------------------------------------------------------------------------\u001b[0m",
            "\u001b[0;31mValueError\u001b[0m                                Traceback (most recent call last)",
            "\u001b[0;32m<ipython-input-79-db01b1ea0844>\u001b[0m in \u001b[0;36m<module>\u001b[0;34m()\u001b[0m\n\u001b[0;32m----> 1\u001b[0;31m \u001b[0mtree_model\u001b[0m\u001b[0;34m.\u001b[0m\u001b[0mpredict\u001b[0m\u001b[0;34m(\u001b[0m\u001b[0mnp\u001b[0m\u001b[0;34m.\u001b[0m\u001b[0marray\u001b[0m\u001b[0;34m(\u001b[0m\u001b[0;34m[\u001b[0m\u001b[0;36m1\u001b[0m\u001b[0;34m,\u001b[0m \u001b[0;36m6.123234e-17\u001b[0m\u001b[0;34m,\u001b[0m \u001b[0;34m-\u001b[0m\u001b[0;36m0.707107\u001b[0m\u001b[0;34m,\u001b[0m \u001b[0;36m7.071068e-01\u001b[0m\u001b[0;34m,\u001b[0m \u001b[0;36m28.94\u001b[0m\u001b[0;34m,\u001b[0m \u001b[0;36m18.14\u001b[0m\u001b[0;34m]\u001b[0m\u001b[0;34m)\u001b[0m\u001b[0;34m)\u001b[0m\u001b[0;34m\u001b[0m\u001b[0;34m\u001b[0m\u001b[0m\n\u001b[0m",
            "\u001b[0;32m/usr/local/lib/python3.6/dist-packages/sklearn/tree/_classes.py\u001b[0m in \u001b[0;36mpredict\u001b[0;34m(self, X, check_input)\u001b[0m\n\u001b[1;32m    417\u001b[0m         \"\"\"\n\u001b[1;32m    418\u001b[0m         \u001b[0mcheck_is_fitted\u001b[0m\u001b[0;34m(\u001b[0m\u001b[0mself\u001b[0m\u001b[0;34m)\u001b[0m\u001b[0;34m\u001b[0m\u001b[0;34m\u001b[0m\u001b[0m\n\u001b[0;32m--> 419\u001b[0;31m         \u001b[0mX\u001b[0m \u001b[0;34m=\u001b[0m \u001b[0mself\u001b[0m\u001b[0;34m.\u001b[0m\u001b[0m_validate_X_predict\u001b[0m\u001b[0;34m(\u001b[0m\u001b[0mX\u001b[0m\u001b[0;34m,\u001b[0m \u001b[0mcheck_input\u001b[0m\u001b[0;34m)\u001b[0m\u001b[0;34m\u001b[0m\u001b[0;34m\u001b[0m\u001b[0m\n\u001b[0m\u001b[1;32m    420\u001b[0m         \u001b[0mproba\u001b[0m \u001b[0;34m=\u001b[0m \u001b[0mself\u001b[0m\u001b[0;34m.\u001b[0m\u001b[0mtree_\u001b[0m\u001b[0;34m.\u001b[0m\u001b[0mpredict\u001b[0m\u001b[0;34m(\u001b[0m\u001b[0mX\u001b[0m\u001b[0;34m)\u001b[0m\u001b[0;34m\u001b[0m\u001b[0;34m\u001b[0m\u001b[0m\n\u001b[1;32m    421\u001b[0m         \u001b[0mn_samples\u001b[0m \u001b[0;34m=\u001b[0m \u001b[0mX\u001b[0m\u001b[0;34m.\u001b[0m\u001b[0mshape\u001b[0m\u001b[0;34m[\u001b[0m\u001b[0;36m0\u001b[0m\u001b[0;34m]\u001b[0m\u001b[0;34m\u001b[0m\u001b[0;34m\u001b[0m\u001b[0m\n",
            "\u001b[0;32m/usr/local/lib/python3.6/dist-packages/sklearn/tree/_classes.py\u001b[0m in \u001b[0;36m_validate_X_predict\u001b[0;34m(self, X, check_input)\u001b[0m\n\u001b[1;32m    378\u001b[0m         \u001b[0;34m\"\"\"Validate X whenever one tries to predict, apply, predict_proba\"\"\"\u001b[0m\u001b[0;34m\u001b[0m\u001b[0;34m\u001b[0m\u001b[0m\n\u001b[1;32m    379\u001b[0m         \u001b[0;32mif\u001b[0m \u001b[0mcheck_input\u001b[0m\u001b[0;34m:\u001b[0m\u001b[0;34m\u001b[0m\u001b[0;34m\u001b[0m\u001b[0m\n\u001b[0;32m--> 380\u001b[0;31m             \u001b[0mX\u001b[0m \u001b[0;34m=\u001b[0m \u001b[0mcheck_array\u001b[0m\u001b[0;34m(\u001b[0m\u001b[0mX\u001b[0m\u001b[0;34m,\u001b[0m \u001b[0mdtype\u001b[0m\u001b[0;34m=\u001b[0m\u001b[0mDTYPE\u001b[0m\u001b[0;34m,\u001b[0m \u001b[0maccept_sparse\u001b[0m\u001b[0;34m=\u001b[0m\u001b[0;34m\"csr\"\u001b[0m\u001b[0;34m)\u001b[0m\u001b[0;34m\u001b[0m\u001b[0;34m\u001b[0m\u001b[0m\n\u001b[0m\u001b[1;32m    381\u001b[0m             if issparse(X) and (X.indices.dtype != np.intc or\n\u001b[1;32m    382\u001b[0m                                 X.indptr.dtype != np.intc):\n",
            "\u001b[0;32m/usr/local/lib/python3.6/dist-packages/sklearn/utils/validation.py\u001b[0m in \u001b[0;36mcheck_array\u001b[0;34m(array, accept_sparse, accept_large_sparse, dtype, order, copy, force_all_finite, ensure_2d, allow_nd, ensure_min_samples, ensure_min_features, warn_on_dtype, estimator)\u001b[0m\n\u001b[1;32m    554\u001b[0m                     \u001b[0;34m\"Reshape your data either using array.reshape(-1, 1) if \"\u001b[0m\u001b[0;34m\u001b[0m\u001b[0;34m\u001b[0m\u001b[0m\n\u001b[1;32m    555\u001b[0m                     \u001b[0;34m\"your data has a single feature or array.reshape(1, -1) \"\u001b[0m\u001b[0;34m\u001b[0m\u001b[0;34m\u001b[0m\u001b[0m\n\u001b[0;32m--> 556\u001b[0;31m                     \"if it contains a single sample.\".format(array))\n\u001b[0m\u001b[1;32m    557\u001b[0m \u001b[0;34m\u001b[0m\u001b[0m\n\u001b[1;32m    558\u001b[0m         \u001b[0;31m# in the future np.flexible dtypes will be handled like object dtypes\u001b[0m\u001b[0;34m\u001b[0m\u001b[0;34m\u001b[0m\u001b[0;34m\u001b[0m\u001b[0m\n",
            "\u001b[0;31mValueError\u001b[0m: Expected 2D array, got 1D array instead:\narray=[ 1.000000e+00  6.123234e-17 -7.071070e-01  7.071068e-01  2.894000e+01\n  1.814000e+01].\nReshape your data either using array.reshape(-1, 1) if your data has a single feature or array.reshape(1, -1) if it contains a single sample."
          ]
        }
      ]
    },
    {
      "cell_type": "code",
      "metadata": {
        "id": "4ntM4d1vq6Gn",
        "colab_type": "code",
        "colab": {
          "base_uri": "https://localhost:8080/",
          "height": 286
        },
        "outputId": "ad97bc1e-f9d0-4fa2-df66-7ce0b89bfa2e"
      },
      "source": [
        "plt.scatter(x_test['TMIN'], y_test, color='black')\n",
        "plt.plot(x_test['TMIN'], tree_model.predict(x_test), color='blue', linewidth=3)"
      ],
      "execution_count": 71,
      "outputs": [
        {
          "output_type": "execute_result",
          "data": {
            "text/plain": [
              "[<matplotlib.lines.Line2D at 0x7f95adcd52b0>]"
            ]
          },
          "metadata": {
            "tags": []
          },
          "execution_count": 71
        },
        {
          "output_type": "display_data",
          "data": {
            "image/png": "[encoded data removed]",
            "text/plain": [
              "<Figure size 432x288 with 1 Axes>"
            ]
          },
          "metadata": {
            "tags": []
          }
        }
      ]
    },
    {
      "cell_type": "code",
      "metadata": {
        "id": "FkiFfneCq1dB",
        "colab_type": "code",
        "colab": {}
      },
      "source": [
        "plt.scatter(x_test['Max_Temp'], y_test, color='black')\n",
        "plt.plot(x_test['Max_Temp'], lin_model.predict(x_test), color='blue', linewidth=3)"
      ],
      "execution_count": 0,
      "outputs": []
    },
    {
      "cell_type": "markdown",
      "metadata": {
        "id": "_x7sQBGiZe3P",
        "colab_type": "text"
      },
      "source": [
        "Random Forest Regressor"
      ]
    },
    {
      "cell_type": "code",
      "metadata": {
        "id": "KEJGvGohZhXt",
        "colab_type": "code",
        "colab": {}
      },
      "source": [
        "from sklearn.ensemble import RandomForestRegressor \n",
        "rf_model = RandomForestRegressor()\n",
        "rf_model.fit(x_train, y_train)"
      ],
      "execution_count": 0,
      "outputs": []
    },
    {
      "cell_type": "markdown",
      "metadata": {
        "id": "42TtZ9zQaIo9",
        "colab_type": "text"
      },
      "source": [
        "Evaluating Models"
      ]
    },
    {
      "cell_type": "code",
      "metadata": {
        "id": "mGGKc6kzZtqD",
        "colab_type": "code",
        "colab": {}
      },
      "source": [
        "from sklearn.metrics import mean_squared_error\n",
        "from sklearn.metrics import mean_absolute_error\n",
        "from math import sqrt"
      ],
      "execution_count": 0,
      "outputs": []
    },
    {
      "cell_type": "code",
      "metadata": {
        "id": "P2R1UkPz1h9s",
        "colab_type": "code",
        "colab": {}
      },
      "source": [
        "# TODO look up difference between mean squared error and mean absolute error \n",
        "tree_mse = mean_squared_error(y_train, tree_model.predict(x_train))\n",
        "tree_mae = mean_absolute_error(y_train, tree_model.predict(x_train))"
      ],
      "execution_count": 0,
      "outputs": []
    },
    {
      "cell_type": "code",
      "metadata": {
        "id": "hPfH6GoRZuU0",
        "colab_type": "code",
        "colab": {}
      },
      "source": [
        "rf_mse = mean_squared_error(y_train, rf_model.predict(x_train))\n",
        "rf_mae = mean_absolute_error(y_train, rf_model.predict(x_train))"
      ],
      "execution_count": 0,
      "outputs": []
    },
    {
      "cell_type": "code",
      "metadata": {
        "id": "00NR0isg2G4R",
        "colab_type": "code",
        "outputId": "752593a2-e8bb-425b-c8f2-bdefd8104c22",
        "colab": {
          "base_uri": "https://localhost:8080/",
          "height": 52
        }
      },
      "source": [
        "print(\"Decision Tree training mse = \",tree_mse,\" & mae = \",tree_mae,\" & rmse = \", sqrt(tree_mse))\n",
        "print(\"Random Forest training mse = \",rf_mse,\" & mae = \",rf_mae,\" & rmse = \", sqrt(rf_mse))"
      ],
      "execution_count": 0,
      "outputs": [
        {
          "output_type": "stream",
          "text": [
            "Decision Tree training mse =  0.7920415384615386  & mae =  0.13707179487179488  & rmse =  0.8899671558330333\n",
            "Random Forest training mse =  5.903048984577272  & mae =  1.1619857821733826  & rmse =  2.429619102776662\n"
          ],
          "name": "stdout"
        }
      ]
    },
    {
      "cell_type": "code",
      "metadata": {
        "id": "mQ669Pqu2Np_",
        "colab_type": "code",
        "colab": {}
      },
      "source": [
        "tree_test_mse = mean_squared_error(y_test, tree_model.predict(x_test))\n",
        "tree_test_mae = mean_absolute_error(y_test, tree_model.predict(x_test))\n",
        "rf_test_mse = mean_squared_error(y_test, rf_model.predict(x_test))\n",
        "rf_test_mae = mean_absolute_error(y_test, rf_model.predict(x_test))"
      ],
      "execution_count": 0,
      "outputs": []
    },
    {
      "cell_type": "code",
      "metadata": {
        "id": "s-6xHK4g3S0L",
        "colab_type": "code",
        "outputId": "21255c58-5692-4e45-be34-a96882b56c3a",
        "colab": {
          "base_uri": "https://localhost:8080/",
          "height": 52
        }
      },
      "source": [
        "print(\"Decision Tree test mse = \",tree_test_mse,\" & mae = \",tree_test_mae,\" & rmse = \", sqrt(tree_test_mse))\n",
        "print(\"Random Forest test mse = \",rf_test_mse,\" & mae = \",rf_test_mae,\" & rmse = \", sqrt(rf_test_mse))"
      ],
      "execution_count": 0,
      "outputs": [
        {
          "output_type": "stream",
          "text": [
            "Decision Tree test mse =  86.2934468999386  & mae =  3.484069981583793  & rmse =  9.28942661846998\n",
            "Random Forest test mse =  53.994336775528815  & mae =  3.223383316890292  & rmse =  7.348083884627939\n"
          ],
          "name": "stdout"
        }
      ]
    },
    {
      "cell_type": "code",
      "metadata": {
        "id": "uhUbPIYedtqD",
        "colab_type": "code",
        "colab": {}
      },
      "source": [
        ""
      ],
      "execution_count": 0,
      "outputs": []
    },
    {
      "cell_type": "markdown",
      "metadata": {
        "id": "q4bb7HxZdr0J",
        "colab_type": "text"
      },
      "source": [
        "Old Code Snippets"
      ]
    },
    {
      "cell_type": "code",
      "metadata": {
        "id": "l5FK6-ACp1tn",
        "colab_type": "code",
        "colab": {
          "base_uri": "https://localhost:8080/",
          "height": 106
        },
        "outputId": "69e96d55-2fb6-4904-cc48-df412bab62ac"
      },
      "source": [
        "Practice_KCMI_df[(Practice_KCMI_df.index == '2018-02-10')]"
      ],
      "execution_count": 14,
      "outputs": [
        {
          "output_type": "execute_result",
          "data": {
            "text/html": [
              "<div>\n",
              "<style scoped>\n",
              "    .dataframe tbody tr th:only-of-type {\n",
              "        vertical-align: middle;\n",
              "    }\n",
              "\n",
              "    .dataframe tbody tr th {\n",
              "        vertical-align: top;\n",
              "    }\n",
              "\n",
              "    .dataframe thead th {\n",
              "        text-align: right;\n",
              "    }\n",
              "</style>\n",
              "<table border=\"1\" class=\"dataframe\">\n",
              "  <thead>\n",
              "    <tr style=\"text-align: right;\">\n",
              "      <th></th>\n",
              "      <th>Max_Temp</th>\n",
              "      <th>Min_Temp</th>\n",
              "      <th>Max_Wind</th>\n",
              "      <th>Total_Precip</th>\n",
              "    </tr>\n",
              "    <tr>\n",
              "      <th>Date</th>\n",
              "      <th></th>\n",
              "      <th></th>\n",
              "      <th></th>\n",
              "      <th></th>\n",
              "    </tr>\n",
              "  </thead>\n",
              "  <tbody>\n",
              "    <tr>\n",
              "      <th>2018-02-10</th>\n",
              "      <td>-2.222222</td>\n",
              "      <td>-6.111111</td>\n",
              "      <td>8.04672</td>\n",
              "      <td>0.3</td>\n",
              "    </tr>\n",
              "  </tbody>\n",
              "</table>\n",
              "</div>"
            ],
            "text/plain": [
              "            Max_Temp  Min_Temp  Max_Wind  Total_Precip\n",
              "Date                                                  \n",
              "2018-02-10 -2.222222 -6.111111   8.04672           0.3"
            ]
          },
          "metadata": {
            "tags": []
          },
          "execution_count": 14
        }
      ]
    },
    {
      "cell_type": "code",
      "metadata": {
        "id": "qZeFFfRPZx1K",
        "colab_type": "code",
        "colab": {}
      },
      "source": [
        ""
      ],
      "execution_count": 0,
      "outputs": []
    }
  ]
}