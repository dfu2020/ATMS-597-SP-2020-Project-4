{
  "nbformat": 4,
  "nbformat_minor": 0,
  "metadata": {
    "colab": {
      "name": "Project4_Joyce_v2.1.ipynb",
      "provenance": [],
      "collapsed_sections": [],
      "include_colab_link": true
    },
    "kernelspec": {
      "name": "python3",
      "display_name": "Python 3"
    }
  },
  "cells": [
    {
      "cell_type": "markdown",
      "metadata": {
        "id": "view-in-github",
        "colab_type": "text"
      },
      "source": [
        "<a href=\"https://colab.research.google.com/github/joyceee916/ATMS-597-SP-2020-Project-4/blob/master/Project4_Joyce_v2_1.ipynb\" target=\"_parent\"><img src=\"https://colab.research.google.com/assets/colab-badge.svg\" alt=\"Open In Colab\"/></a>"
      ]
    },
    {
      "cell_type": "code",
      "metadata": {
        "id": "3iMKWBqoeNSW",
        "colab_type": "code",
        "colab": {}
      },
      "source": [
        "%matplotlib inline \n",
        "import matplotlib.pyplot as plt \n",
        "import numpy as np \n",
        "import pandas as pd\n",
        "import seaborn as sns; sns.set()"
      ],
      "execution_count": 0,
      "outputs": []
    },
    {
      "cell_type": "code",
      "metadata": {
        "id": "_E__je3EeiqH",
        "colab_type": "code",
        "outputId": "056ffb58-24ee-4f22-9809-1e6155f0abc6",
        "colab": {
          "base_uri": "https://localhost:8080/",
          "height": 34
        }
      },
      "source": [
        "cd /content/drive/My Drive/ATMS 597/Project4"
      ],
      "execution_count": 29,
      "outputs": [
        {
          "output_type": "stream",
          "text": [
            "/content/drive/My Drive/ATMS 597/Project4\n"
          ],
          "name": "stdout"
        }
      ]
    },
    {
      "cell_type": "markdown",
      "metadata": {
        "id": "ZgwTJfU4exg2",
        "colab_type": "text"
      },
      "source": [
        "Importing KCMI Observational Data"
      ]
    },
    {
      "cell_type": "code",
      "metadata": {
        "id": "CcTPFozaej1b",
        "colab_type": "code",
        "outputId": "ebf42cc2-e763-430c-94d5-d17dd61bd1a3",
        "colab": {
          "base_uri": "https://localhost:8080/",
          "height": 227
        }
      },
      "source": [
        "KCMI_daily = pd.read_csv(\"KCMI_daily_format.csv\", parse_dates=True, index_col='Date')\n",
        "KCMI_daily.rename(columns={'TMAX(C)': 'TMAX_Obs', 'TMIN(C)': 'TMIN_Obs', 'WMAX(M/s)': 'WMAX_Obs', 'PREC(mm}': 'RTOT_Obs'}, inplace = True)\n",
        "KCMI_daily.dropna(inplace=True)\n",
        "KCMI_daily.index = KCMI_daily.index + pd.DateOffset(hours=12)  \n",
        "KCMI_daily = KCMI_daily.rename_axis('Time')\n",
        "KCMI_daily.head()"
      ],
      "execution_count": 30,
      "outputs": [
        {
          "output_type": "execute_result",
          "data": {
            "text/html": [
              "<div>\n",
              "<style scoped>\n",
              "    .dataframe tbody tr th:only-of-type {\n",
              "        vertical-align: middle;\n",
              "    }\n",
              "\n",
              "    .dataframe tbody tr th {\n",
              "        vertical-align: top;\n",
              "    }\n",
              "\n",
              "    .dataframe thead th {\n",
              "        text-align: right;\n",
              "    }\n",
              "</style>\n",
              "<table border=\"1\" class=\"dataframe\">\n",
              "  <thead>\n",
              "    <tr style=\"text-align: right;\">\n",
              "      <th></th>\n",
              "      <th>TMAX_Obs</th>\n",
              "      <th>TMIN_Obs</th>\n",
              "      <th>WMAX_Obs</th>\n",
              "      <th>RTOT_Obs</th>\n",
              "    </tr>\n",
              "    <tr>\n",
              "      <th>Time</th>\n",
              "      <th></th>\n",
              "      <th></th>\n",
              "      <th></th>\n",
              "      <th></th>\n",
              "    </tr>\n",
              "  </thead>\n",
              "  <tbody>\n",
              "    <tr>\n",
              "      <th>2010-01-01 12:00:00</th>\n",
              "      <td>-11.111111</td>\n",
              "      <td>-16.666667</td>\n",
              "      <td>6.70560</td>\n",
              "      <td>0.0</td>\n",
              "    </tr>\n",
              "    <tr>\n",
              "      <th>2010-01-02 12:00:00</th>\n",
              "      <td>-14.444444</td>\n",
              "      <td>-20.555556</td>\n",
              "      <td>6.70560</td>\n",
              "      <td>0.0</td>\n",
              "    </tr>\n",
              "    <tr>\n",
              "      <th>2010-01-03 12:00:00</th>\n",
              "      <td>-12.222222</td>\n",
              "      <td>-21.111111</td>\n",
              "      <td>4.91744</td>\n",
              "      <td>0.0</td>\n",
              "    </tr>\n",
              "    <tr>\n",
              "      <th>2010-01-04 12:00:00</th>\n",
              "      <td>-11.666667</td>\n",
              "      <td>-18.888889</td>\n",
              "      <td>8.94080</td>\n",
              "      <td>0.0</td>\n",
              "    </tr>\n",
              "    <tr>\n",
              "      <th>2010-01-05 12:00:00</th>\n",
              "      <td>-12.222222</td>\n",
              "      <td>-18.333333</td>\n",
              "      <td>7.15264</td>\n",
              "      <td>0.0</td>\n",
              "    </tr>\n",
              "  </tbody>\n",
              "</table>\n",
              "</div>"
            ],
            "text/plain": [
              "                      TMAX_Obs   TMIN_Obs  WMAX_Obs  RTOT_Obs\n",
              "Time                                                         \n",
              "2010-01-01 12:00:00 -11.111111 -16.666667   6.70560       0.0\n",
              "2010-01-02 12:00:00 -14.444444 -20.555556   6.70560       0.0\n",
              "2010-01-03 12:00:00 -12.222222 -21.111111   4.91744       0.0\n",
              "2010-01-04 12:00:00 -11.666667 -18.888889   8.94080       0.0\n",
              "2010-01-05 12:00:00 -12.222222 -18.333333   7.15264       0.0"
            ]
          },
          "metadata": {
            "tags": []
          },
          "execution_count": 30
        }
      ]
    },
    {
      "cell_type": "markdown",
      "metadata": {
        "id": "_sAvydztfJiU",
        "colab_type": "text"
      },
      "source": [
        "GFS Daily Model "
      ]
    },
    {
      "cell_type": "code",
      "metadata": {
        "id": "T-X7NldofDi4",
        "colab_type": "code",
        "outputId": "63ce4952-b25f-4f2d-ab7c-06d6fc06ff2d",
        "colab": {
          "base_uri": "https://localhost:8080/",
          "height": 227
        }
      },
      "source": [
        "GFS_daily = pd.read_csv(\"GFS_daily_2010_2019_test.csv\", parse_dates=True, index_col='Time')\n",
        "GFS_daily.drop(columns=\"Unnamed: 0\", inplace=True)\n",
        "GFS_daily.rename(columns={'TMAX': 'TMAX_GFS', 'TMIN': 'TMIN_GFS', 'WMAX': 'WMAX_GFS', 'RTOT': 'RTOT_GFS'}, inplace = True)\n",
        "GFS_daily.dropna(inplace=True)\n",
        "GFS_daily['month_sin'] = np.sin(GFS_daily.index.month*(2.*np.pi/24))\n",
        "GFS_daily['month_cos'] = np.cos(GFS_daily.index.month*(2.*np.pi/24))\n",
        "GFS_daily.head()"
      ],
      "execution_count": 31,
      "outputs": [
        {
          "output_type": "execute_result",
          "data": {
            "text/html": [
              "<div>\n",
              "<style scoped>\n",
              "    .dataframe tbody tr th:only-of-type {\n",
              "        vertical-align: middle;\n",
              "    }\n",
              "\n",
              "    .dataframe tbody tr th {\n",
              "        vertical-align: top;\n",
              "    }\n",
              "\n",
              "    .dataframe thead th {\n",
              "        text-align: right;\n",
              "    }\n",
              "</style>\n",
              "<table border=\"1\" class=\"dataframe\">\n",
              "  <thead>\n",
              "    <tr style=\"text-align: right;\">\n",
              "      <th></th>\n",
              "      <th>TMAX_GFS</th>\n",
              "      <th>TMIN_GFS</th>\n",
              "      <th>WMAX_GFS</th>\n",
              "      <th>RTOT_GFS</th>\n",
              "      <th>month_sin</th>\n",
              "      <th>month_cos</th>\n",
              "    </tr>\n",
              "    <tr>\n",
              "      <th>Time</th>\n",
              "      <th></th>\n",
              "      <th></th>\n",
              "      <th></th>\n",
              "      <th></th>\n",
              "      <th></th>\n",
              "      <th></th>\n",
              "    </tr>\n",
              "  </thead>\n",
              "  <tbody>\n",
              "    <tr>\n",
              "      <th>2010-01-01 12:00:00</th>\n",
              "      <td>-11.26</td>\n",
              "      <td>-16.46</td>\n",
              "      <td>7.323933</td>\n",
              "      <td>0.05</td>\n",
              "      <td>0.258819</td>\n",
              "      <td>0.965926</td>\n",
              "    </tr>\n",
              "    <tr>\n",
              "      <th>2010-01-02 12:00:00</th>\n",
              "      <td>-10.16</td>\n",
              "      <td>-15.96</td>\n",
              "      <td>4.687217</td>\n",
              "      <td>0.00</td>\n",
              "      <td>0.258819</td>\n",
              "      <td>0.965926</td>\n",
              "    </tr>\n",
              "    <tr>\n",
              "      <th>2010-01-03 12:00:00</th>\n",
              "      <td>-9.96</td>\n",
              "      <td>-14.36</td>\n",
              "      <td>5.941380</td>\n",
              "      <td>0.06</td>\n",
              "      <td>0.258819</td>\n",
              "      <td>0.965926</td>\n",
              "    </tr>\n",
              "    <tr>\n",
              "      <th>2010-01-04 12:00:00</th>\n",
              "      <td>-8.46</td>\n",
              "      <td>-12.86</td>\n",
              "      <td>5.685068</td>\n",
              "      <td>0.17</td>\n",
              "      <td>0.258819</td>\n",
              "      <td>0.965926</td>\n",
              "    </tr>\n",
              "    <tr>\n",
              "      <th>2010-01-05 12:00:00</th>\n",
              "      <td>-7.16</td>\n",
              "      <td>-11.06</td>\n",
              "      <td>3.794733</td>\n",
              "      <td>0.77</td>\n",
              "      <td>0.258819</td>\n",
              "      <td>0.965926</td>\n",
              "    </tr>\n",
              "  </tbody>\n",
              "</table>\n",
              "</div>"
            ],
            "text/plain": [
              "                     TMAX_GFS  TMIN_GFS  ...  month_sin  month_cos\n",
              "Time                                     ...                      \n",
              "2010-01-01 12:00:00    -11.26    -16.46  ...   0.258819   0.965926\n",
              "2010-01-02 12:00:00    -10.16    -15.96  ...   0.258819   0.965926\n",
              "2010-01-03 12:00:00     -9.96    -14.36  ...   0.258819   0.965926\n",
              "2010-01-04 12:00:00     -8.46    -12.86  ...   0.258819   0.965926\n",
              "2010-01-05 12:00:00     -7.16    -11.06  ...   0.258819   0.965926\n",
              "\n",
              "[5 rows x 6 columns]"
            ]
          },
          "metadata": {
            "tags": []
          },
          "execution_count": 31
        }
      ]
    },
    {
      "cell_type": "markdown",
      "metadata": {
        "id": "yYy7u_a4EWbm",
        "colab_type": "text"
      },
      "source": [
        "GFS Surface Data"
      ]
    },
    {
      "cell_type": "code",
      "metadata": {
        "id": "YTUOe09YEY7R",
        "colab_type": "code",
        "colab": {}
      },
      "source": [
        "GFS_surface = pd.read_csv(\"GFS_Sfc_new.csv\", parse_dates=True, index_col='Time')\n",
        "GFS_surface.rename(columns={'DWPC': 'DWPC_Surf', 'HCLD': 'HCLD_Surf', 'LCLD': 'LCLD_Surf', 'MCLD': 'MCLD_Surf',\n",
        "                            'PRCP': 'PRCP_Surf', 'PRES': 'PRES_Surf', 'TMPC': 'TMPC_Surf', 'UWND': 'UWND_Surf',\n",
        "                            'VWND': 'VWND_Surf', 'WSPD': 'WSPD_Surf'}, inplace = True)\n",
        "GFS_surface.dropna(inplace=True)\n",
        "GFS_surface.head(10)\n",
        "GFS_surface.replace({9999.0: np.nan}, inplace=True)\n",
        "GFS_surface.replace({-9999.0: np.nan}, inplace=True)"
      ],
      "execution_count": 0,
      "outputs": []
    },
    {
      "cell_type": "code",
      "metadata": {
        "id": "OJI37Pq6nQGe",
        "colab_type": "code",
        "outputId": "2ac0c775-bad9-4491-fec2-7a818ffc8545",
        "colab": {
          "base_uri": "https://localhost:8080/",
          "height": 737
        }
      },
      "source": [
        "# shift data back 6 hours and resample by day \n",
        "GFS_surface.index = GFS_surface.index + pd.DateOffset(hours = -6)\n",
        "GFS_surface = GFS_surface.resample('24H').max()\n",
        "\n",
        "# shift the data forward 12 hours for ease of merging with other datasets \n",
        "GFS_surface.index = GFS_surface.index + pd.DateOffset(hours = 12)\n",
        "GFS_surface.head(10)"
      ],
      "execution_count": 9,
      "outputs": [
        {
          "output_type": "execute_result",
          "data": {
            "text/html": [
              "<div>\n",
              "<style scoped>\n",
              "    .dataframe tbody tr th:only-of-type {\n",
              "        vertical-align: middle;\n",
              "    }\n",
              "\n",
              "    .dataframe tbody tr th {\n",
              "        vertical-align: top;\n",
              "    }\n",
              "\n",
              "    .dataframe thead th {\n",
              "        text-align: right;\n",
              "    }\n",
              "</style>\n",
              "<table border=\"1\" class=\"dataframe\">\n",
              "  <thead>\n",
              "    <tr style=\"text-align: right;\">\n",
              "      <th></th>\n",
              "      <th>DWPC_Surf</th>\n",
              "      <th>HCLD_Surf</th>\n",
              "      <th>LCLD_Surf</th>\n",
              "      <th>MCLD_Surf</th>\n",
              "      <th>PRCP_Surf</th>\n",
              "      <th>PRES_Surf</th>\n",
              "      <th>TMPC_Surf</th>\n",
              "      <th>UWND_Surf</th>\n",
              "      <th>VWND_Surf</th>\n",
              "      <th>WSPD_Surf</th>\n",
              "    </tr>\n",
              "    <tr>\n",
              "      <th>Time</th>\n",
              "      <th></th>\n",
              "      <th></th>\n",
              "      <th></th>\n",
              "      <th></th>\n",
              "      <th></th>\n",
              "      <th></th>\n",
              "      <th></th>\n",
              "      <th></th>\n",
              "      <th></th>\n",
              "      <th></th>\n",
              "    </tr>\n",
              "  </thead>\n",
              "  <tbody>\n",
              "    <tr>\n",
              "      <th>2010-01-02 12:00:00</th>\n",
              "      <td>-13.74</td>\n",
              "      <td>0.0</td>\n",
              "      <td>100.0</td>\n",
              "      <td>1.0</td>\n",
              "      <td>0.04</td>\n",
              "      <td>1002.0</td>\n",
              "      <td>-11.26</td>\n",
              "      <td>4.9</td>\n",
              "      <td>-4.0</td>\n",
              "      <td>7.323933</td>\n",
              "    </tr>\n",
              "    <tr>\n",
              "      <th>2010-01-03 12:00:00</th>\n",
              "      <td>-14.21</td>\n",
              "      <td>42.0</td>\n",
              "      <td>7.0</td>\n",
              "      <td>1.0</td>\n",
              "      <td>0.00</td>\n",
              "      <td>1001.8</td>\n",
              "      <td>-10.16</td>\n",
              "      <td>3.6</td>\n",
              "      <td>-2.5</td>\n",
              "      <td>4.687217</td>\n",
              "    </tr>\n",
              "    <tr>\n",
              "      <th>2010-01-04 12:00:00</th>\n",
              "      <td>-12.63</td>\n",
              "      <td>95.0</td>\n",
              "      <td>99.0</td>\n",
              "      <td>91.0</td>\n",
              "      <td>0.03</td>\n",
              "      <td>999.8</td>\n",
              "      <td>-9.96</td>\n",
              "      <td>4.4</td>\n",
              "      <td>-3.5</td>\n",
              "      <td>5.941380</td>\n",
              "    </tr>\n",
              "    <tr>\n",
              "      <th>2010-01-05 12:00:00</th>\n",
              "      <td>-10.75</td>\n",
              "      <td>94.0</td>\n",
              "      <td>100.0</td>\n",
              "      <td>67.0</td>\n",
              "      <td>0.03</td>\n",
              "      <td>997.3</td>\n",
              "      <td>-8.46</td>\n",
              "      <td>4.6</td>\n",
              "      <td>-2.7</td>\n",
              "      <td>5.685068</td>\n",
              "    </tr>\n",
              "    <tr>\n",
              "      <th>2010-01-06 12:00:00</th>\n",
              "      <td>-9.45</td>\n",
              "      <td>90.0</td>\n",
              "      <td>100.0</td>\n",
              "      <td>100.0</td>\n",
              "      <td>0.05</td>\n",
              "      <td>996.0</td>\n",
              "      <td>-7.16</td>\n",
              "      <td>3.6</td>\n",
              "      <td>0.1</td>\n",
              "      <td>3.794733</td>\n",
              "    </tr>\n",
              "    <tr>\n",
              "      <th>2010-01-07 12:00:00</th>\n",
              "      <td>-6.13</td>\n",
              "      <td>100.0</td>\n",
              "      <td>100.0</td>\n",
              "      <td>100.0</td>\n",
              "      <td>2.06</td>\n",
              "      <td>992.5</td>\n",
              "      <td>-5.46</td>\n",
              "      <td>5.3</td>\n",
              "      <td>2.4</td>\n",
              "      <td>6.888396</td>\n",
              "    </tr>\n",
              "    <tr>\n",
              "      <th>2010-01-08 12:00:00</th>\n",
              "      <td>-4.15</td>\n",
              "      <td>34.0</td>\n",
              "      <td>100.0</td>\n",
              "      <td>6.0</td>\n",
              "      <td>0.63</td>\n",
              "      <td>1000.0</td>\n",
              "      <td>-3.46</td>\n",
              "      <td>5.3</td>\n",
              "      <td>-2.0</td>\n",
              "      <td>8.645230</td>\n",
              "    </tr>\n",
              "    <tr>\n",
              "      <th>2010-01-09 12:00:00</th>\n",
              "      <td>-10.81</td>\n",
              "      <td>0.0</td>\n",
              "      <td>100.0</td>\n",
              "      <td>0.0</td>\n",
              "      <td>0.02</td>\n",
              "      <td>1004.9</td>\n",
              "      <td>-8.56</td>\n",
              "      <td>2.9</td>\n",
              "      <td>-2.4</td>\n",
              "      <td>4.441846</td>\n",
              "    </tr>\n",
              "    <tr>\n",
              "      <th>2010-01-10 12:00:00</th>\n",
              "      <td>-9.09</td>\n",
              "      <td>80.0</td>\n",
              "      <td>3.0</td>\n",
              "      <td>62.0</td>\n",
              "      <td>0.00</td>\n",
              "      <td>1005.7</td>\n",
              "      <td>-7.26</td>\n",
              "      <td>4.3</td>\n",
              "      <td>5.7</td>\n",
              "      <td>6.824954</td>\n",
              "    </tr>\n",
              "    <tr>\n",
              "      <th>2010-01-11 12:00:00</th>\n",
              "      <td>-4.06</td>\n",
              "      <td>100.0</td>\n",
              "      <td>100.0</td>\n",
              "      <td>100.0</td>\n",
              "      <td>0.32</td>\n",
              "      <td>999.4</td>\n",
              "      <td>-2.86</td>\n",
              "      <td>5.8</td>\n",
              "      <td>5.0</td>\n",
              "      <td>6.931089</td>\n",
              "    </tr>\n",
              "  </tbody>\n",
              "</table>\n",
              "</div>"
            ],
            "text/plain": [
              "                     DWPC_Surf  HCLD_Surf  ...  VWND_Surf  WSPD_Surf\n",
              "Time                                       ...                      \n",
              "2010-01-02 12:00:00     -13.74        0.0  ...       -4.0   7.323933\n",
              "2010-01-03 12:00:00     -14.21       42.0  ...       -2.5   4.687217\n",
              "2010-01-04 12:00:00     -12.63       95.0  ...       -3.5   5.941380\n",
              "2010-01-05 12:00:00     -10.75       94.0  ...       -2.7   5.685068\n",
              "2010-01-06 12:00:00      -9.45       90.0  ...        0.1   3.794733\n",
              "2010-01-07 12:00:00      -6.13      100.0  ...        2.4   6.888396\n",
              "2010-01-08 12:00:00      -4.15       34.0  ...       -2.0   8.645230\n",
              "2010-01-09 12:00:00     -10.81        0.0  ...       -2.4   4.441846\n",
              "2010-01-10 12:00:00      -9.09       80.0  ...        5.7   6.824954\n",
              "2010-01-11 12:00:00      -4.06      100.0  ...        5.0   6.931089\n",
              "\n",
              "[10 rows x 10 columns]"
            ]
          },
          "metadata": {
            "tags": []
          },
          "execution_count": 9
        }
      ]
    },
    {
      "cell_type": "markdown",
      "metadata": {
        "id": "CgCUakQREd6w",
        "colab_type": "text"
      },
      "source": [
        "GFS Profile Data"
      ]
    },
    {
      "cell_type": "code",
      "metadata": {
        "colab_type": "code",
        "id": "nIov24U6OwRL",
        "outputId": "cda6a805-1c20-4745-c115-7a0a1204774d",
        "colab": {
          "base_uri": "https://localhost:8080/",
          "height": 417
        }
      },
      "source": [
        "GFS_profile = pd.read_csv('GFS_profile_new.csv', index_col='Time', parse_dates=True)\n",
        "h=GFS_profile.DWPC.str.strip('[|]|,').values\n",
        "\n",
        "def extract_var_GFS_profile(var, level):\n",
        "    list = []\n",
        "    levels = [925.0, 850.0, 700.0, 500.0, 250.0, 100.0]\n",
        "    x = levels.index(level)\n",
        "    for i in range(0,len(GFS_profile)):\n",
        "        e = h[i].split(',')[x]\n",
        "        list.append(e)\n",
        "    new_col_name = var + '_' + str(level)\n",
        "    GFS_profile[new_col_name]=list\n",
        "GFS_profile_names = ['DWPC', 'HGHT', 'TMPC', 'UWND', 'VWND']\n",
        "levels = [925.0, 850.0, 700.0, 500.0, 250.0]\n",
        "for i in GFS_profile_names:\n",
        "    for j in levels:        \n",
        "        extract_var_GFS_profile(i,j)\n",
        "GFS_profile = GFS_profile.drop(GFS_profile_names, axis=1)\n",
        "GFS_profile = GFS_profile.drop('PRES', axis=1)\n",
        "GFS_profile.dropna(inplace=True)\n",
        "GFS_profile = GFS_profile.astype(float)\n",
        "\n",
        "GFS_profile.index = GFS_profile.index + pd.DateOffset(hours = -6)\n",
        "GFS_profile = GFS_profile.resample('24H').mean()\n",
        "GFS_profile.index = GFS_profile.index + pd.DateOffset(hours = 12)\n",
        "GFS_profile.head()"
      ],
      "execution_count": 11,
      "outputs": [
        {
          "output_type": "execute_result",
          "data": {
            "text/html": [
              "<div>\n",
              "<style scoped>\n",
              "    .dataframe tbody tr th:only-of-type {\n",
              "        vertical-align: middle;\n",
              "    }\n",
              "\n",
              "    .dataframe tbody tr th {\n",
              "        vertical-align: top;\n",
              "    }\n",
              "\n",
              "    .dataframe thead th {\n",
              "        text-align: right;\n",
              "    }\n",
              "</style>\n",
              "<table border=\"1\" class=\"dataframe\">\n",
              "  <thead>\n",
              "    <tr style=\"text-align: right;\">\n",
              "      <th></th>\n",
              "      <th>DWPC_925.0</th>\n",
              "      <th>DWPC_850.0</th>\n",
              "      <th>DWPC_700.0</th>\n",
              "      <th>DWPC_500.0</th>\n",
              "      <th>DWPC_250.0</th>\n",
              "      <th>HGHT_925.0</th>\n",
              "      <th>HGHT_850.0</th>\n",
              "      <th>HGHT_700.0</th>\n",
              "      <th>HGHT_500.0</th>\n",
              "      <th>HGHT_250.0</th>\n",
              "      <th>TMPC_925.0</th>\n",
              "      <th>TMPC_850.0</th>\n",
              "      <th>TMPC_700.0</th>\n",
              "      <th>TMPC_500.0</th>\n",
              "      <th>TMPC_250.0</th>\n",
              "      <th>UWND_925.0</th>\n",
              "      <th>UWND_850.0</th>\n",
              "      <th>UWND_700.0</th>\n",
              "      <th>UWND_500.0</th>\n",
              "      <th>UWND_250.0</th>\n",
              "      <th>VWND_925.0</th>\n",
              "      <th>VWND_850.0</th>\n",
              "      <th>VWND_700.0</th>\n",
              "      <th>VWND_500.0</th>\n",
              "      <th>VWND_250.0</th>\n",
              "    </tr>\n",
              "    <tr>\n",
              "      <th>Time</th>\n",
              "      <th></th>\n",
              "      <th></th>\n",
              "      <th></th>\n",
              "      <th></th>\n",
              "      <th></th>\n",
              "      <th></th>\n",
              "      <th></th>\n",
              "      <th></th>\n",
              "      <th></th>\n",
              "      <th></th>\n",
              "      <th></th>\n",
              "      <th></th>\n",
              "      <th></th>\n",
              "      <th></th>\n",
              "      <th></th>\n",
              "      <th></th>\n",
              "      <th></th>\n",
              "      <th></th>\n",
              "      <th></th>\n",
              "      <th></th>\n",
              "      <th></th>\n",
              "      <th></th>\n",
              "      <th></th>\n",
              "      <th></th>\n",
              "      <th></th>\n",
              "    </tr>\n",
              "  </thead>\n",
              "  <tbody>\n",
              "    <tr>\n",
              "      <th>2010-01-02 12:00:00</th>\n",
              "      <td>-25.221669</td>\n",
              "      <td>-31.631814</td>\n",
              "      <td>-42.343174</td>\n",
              "      <td>-49.713078</td>\n",
              "      <td>-68.190643</td>\n",
              "      <td>-25.221669</td>\n",
              "      <td>-31.631814</td>\n",
              "      <td>-42.343174</td>\n",
              "      <td>-49.713078</td>\n",
              "      <td>-68.190643</td>\n",
              "      <td>-25.221669</td>\n",
              "      <td>-31.631814</td>\n",
              "      <td>-42.343174</td>\n",
              "      <td>-49.713078</td>\n",
              "      <td>-68.190643</td>\n",
              "      <td>-25.221669</td>\n",
              "      <td>-31.631814</td>\n",
              "      <td>-42.343174</td>\n",
              "      <td>-49.713078</td>\n",
              "      <td>-68.190643</td>\n",
              "      <td>-25.221669</td>\n",
              "      <td>-31.631814</td>\n",
              "      <td>-42.343174</td>\n",
              "      <td>-49.713078</td>\n",
              "      <td>-68.190643</td>\n",
              "    </tr>\n",
              "    <tr>\n",
              "      <th>2010-01-03 12:00:00</th>\n",
              "      <td>-24.612461</td>\n",
              "      <td>-33.524255</td>\n",
              "      <td>-45.006084</td>\n",
              "      <td>-38.011418</td>\n",
              "      <td>-68.911919</td>\n",
              "      <td>-24.612461</td>\n",
              "      <td>-33.524255</td>\n",
              "      <td>-45.006084</td>\n",
              "      <td>-38.011418</td>\n",
              "      <td>-68.911919</td>\n",
              "      <td>-24.612461</td>\n",
              "      <td>-33.524255</td>\n",
              "      <td>-45.006084</td>\n",
              "      <td>-38.011418</td>\n",
              "      <td>-68.911919</td>\n",
              "      <td>-24.612461</td>\n",
              "      <td>-33.524255</td>\n",
              "      <td>-45.006084</td>\n",
              "      <td>-38.011418</td>\n",
              "      <td>-68.911919</td>\n",
              "      <td>-24.612461</td>\n",
              "      <td>-33.524255</td>\n",
              "      <td>-45.006084</td>\n",
              "      <td>-38.011418</td>\n",
              "      <td>-68.911919</td>\n",
              "    </tr>\n",
              "    <tr>\n",
              "      <th>2010-01-04 12:00:00</th>\n",
              "      <td>-19.773137</td>\n",
              "      <td>-24.218344</td>\n",
              "      <td>-25.096941</td>\n",
              "      <td>-42.369095</td>\n",
              "      <td>-68.447021</td>\n",
              "      <td>-19.773137</td>\n",
              "      <td>-24.218344</td>\n",
              "      <td>-25.096941</td>\n",
              "      <td>-42.369095</td>\n",
              "      <td>-68.447021</td>\n",
              "      <td>-19.773137</td>\n",
              "      <td>-24.218344</td>\n",
              "      <td>-25.096941</td>\n",
              "      <td>-42.369095</td>\n",
              "      <td>-68.447021</td>\n",
              "      <td>-19.773137</td>\n",
              "      <td>-24.218344</td>\n",
              "      <td>-25.096941</td>\n",
              "      <td>-42.369095</td>\n",
              "      <td>-68.447021</td>\n",
              "      <td>-19.773137</td>\n",
              "      <td>-24.218344</td>\n",
              "      <td>-25.096941</td>\n",
              "      <td>-42.369095</td>\n",
              "      <td>-68.447021</td>\n",
              "    </tr>\n",
              "    <tr>\n",
              "      <th>2010-01-05 12:00:00</th>\n",
              "      <td>-15.254223</td>\n",
              "      <td>-17.749616</td>\n",
              "      <td>-24.500529</td>\n",
              "      <td>-39.556158</td>\n",
              "      <td>-65.837217</td>\n",
              "      <td>-15.254223</td>\n",
              "      <td>-17.749616</td>\n",
              "      <td>-24.500529</td>\n",
              "      <td>-39.556158</td>\n",
              "      <td>-65.837217</td>\n",
              "      <td>-15.254223</td>\n",
              "      <td>-17.749616</td>\n",
              "      <td>-24.500529</td>\n",
              "      <td>-39.556158</td>\n",
              "      <td>-65.837217</td>\n",
              "      <td>-15.254223</td>\n",
              "      <td>-17.749616</td>\n",
              "      <td>-24.500529</td>\n",
              "      <td>-39.556158</td>\n",
              "      <td>-65.837217</td>\n",
              "      <td>-15.254223</td>\n",
              "      <td>-17.749616</td>\n",
              "      <td>-24.500529</td>\n",
              "      <td>-39.556158</td>\n",
              "      <td>-65.837217</td>\n",
              "    </tr>\n",
              "    <tr>\n",
              "      <th>2010-01-06 12:00:00</th>\n",
              "      <td>-16.456283</td>\n",
              "      <td>-26.308794</td>\n",
              "      <td>-26.778580</td>\n",
              "      <td>-37.508100</td>\n",
              "      <td>-66.427228</td>\n",
              "      <td>-16.456283</td>\n",
              "      <td>-26.308794</td>\n",
              "      <td>-26.778580</td>\n",
              "      <td>-37.508100</td>\n",
              "      <td>-66.427228</td>\n",
              "      <td>-16.456283</td>\n",
              "      <td>-26.308794</td>\n",
              "      <td>-26.778580</td>\n",
              "      <td>-37.508100</td>\n",
              "      <td>-66.427228</td>\n",
              "      <td>-16.456283</td>\n",
              "      <td>-26.308794</td>\n",
              "      <td>-26.778580</td>\n",
              "      <td>-37.508100</td>\n",
              "      <td>-66.427228</td>\n",
              "      <td>-16.456283</td>\n",
              "      <td>-26.308794</td>\n",
              "      <td>-26.778580</td>\n",
              "      <td>-37.508100</td>\n",
              "      <td>-66.427228</td>\n",
              "    </tr>\n",
              "  </tbody>\n",
              "</table>\n",
              "</div>"
            ],
            "text/plain": [
              "                     DWPC_925.0  DWPC_850.0  ...  VWND_500.0  VWND_250.0\n",
              "Time                                         ...                        \n",
              "2010-01-02 12:00:00  -25.221669  -31.631814  ...  -49.713078  -68.190643\n",
              "2010-01-03 12:00:00  -24.612461  -33.524255  ...  -38.011418  -68.911919\n",
              "2010-01-04 12:00:00  -19.773137  -24.218344  ...  -42.369095  -68.447021\n",
              "2010-01-05 12:00:00  -15.254223  -17.749616  ...  -39.556158  -65.837217\n",
              "2010-01-06 12:00:00  -16.456283  -26.308794  ...  -37.508100  -66.427228\n",
              "\n",
              "[5 rows x 25 columns]"
            ]
          },
          "metadata": {
            "tags": []
          },
          "execution_count": 11
        }
      ]
    },
    {
      "cell_type": "markdown",
      "metadata": {
        "id": "U4plHoZCEqrz",
        "colab_type": "text"
      },
      "source": [
        "Combine Datasets"
      ]
    },
    {
      "cell_type": "code",
      "metadata": {
        "id": "mpce8I7ugQ9W",
        "colab_type": "code",
        "outputId": "33cb6b11-2c5b-48d2-8604-1773d290ab79",
        "colab": {
          "base_uri": "https://localhost:8080/",
          "height": 766
        }
      },
      "source": [
        "# Combine GFS daily and KCMI daily\n",
        "df1 = pd.merge(GFS_daily.reset_index(), KCMI_daily.reset_index(), on='Time', how='inner')\n",
        "df1.Time = pd.to_datetime(df1.Time)\n",
        "df1['Year'] = df1.Time.dt.year\n",
        "df1['D_TMAX'] = df1['TMAX_GFS']-df1['TMAX_Obs']\n",
        "df1['D_TMIN'] = df1['TMIN_GFS']-df1['TMIN_Obs']\n",
        "df1['D_WMAX'] = df1['WMAX_GFS']-df1['WMAX_Obs']\n",
        "df1['D_RTOT'] = df1['RTOT_GFS']-df1['RTOT_Obs']\n",
        "df1"
      ],
      "execution_count": 12,
      "outputs": [
        {
          "output_type": "execute_result",
          "data": {
            "text/html": [
              "<div>\n",
              "<style scoped>\n",
              "    .dataframe tbody tr th:only-of-type {\n",
              "        vertical-align: middle;\n",
              "    }\n",
              "\n",
              "    .dataframe tbody tr th {\n",
              "        vertical-align: top;\n",
              "    }\n",
              "\n",
              "    .dataframe thead th {\n",
              "        text-align: right;\n",
              "    }\n",
              "</style>\n",
              "<table border=\"1\" class=\"dataframe\">\n",
              "  <thead>\n",
              "    <tr style=\"text-align: right;\">\n",
              "      <th></th>\n",
              "      <th>Time</th>\n",
              "      <th>TMAX_GFS</th>\n",
              "      <th>TMIN_GFS</th>\n",
              "      <th>WMAX_GFS</th>\n",
              "      <th>RTOT_GFS</th>\n",
              "      <th>month_sin</th>\n",
              "      <th>month_cos</th>\n",
              "      <th>TMAX_Obs</th>\n",
              "      <th>TMIN_Obs</th>\n",
              "      <th>WMAX_Obs</th>\n",
              "      <th>RTOT_Obs</th>\n",
              "      <th>Year</th>\n",
              "      <th>D_TMAX</th>\n",
              "      <th>D_TMIN</th>\n",
              "      <th>D_WMAX</th>\n",
              "      <th>D_RTOT</th>\n",
              "    </tr>\n",
              "  </thead>\n",
              "  <tbody>\n",
              "    <tr>\n",
              "      <th>0</th>\n",
              "      <td>2010-01-01 12:00:00</td>\n",
              "      <td>-11.26</td>\n",
              "      <td>-16.46</td>\n",
              "      <td>7.323933</td>\n",
              "      <td>0.05</td>\n",
              "      <td>2.588190e-01</td>\n",
              "      <td>0.965926</td>\n",
              "      <td>-11.111111</td>\n",
              "      <td>-16.666667</td>\n",
              "      <td>6.70560</td>\n",
              "      <td>0.0</td>\n",
              "      <td>2010</td>\n",
              "      <td>-0.148889</td>\n",
              "      <td>0.206667</td>\n",
              "      <td>0.618333</td>\n",
              "      <td>0.05</td>\n",
              "    </tr>\n",
              "    <tr>\n",
              "      <th>1</th>\n",
              "      <td>2010-01-02 12:00:00</td>\n",
              "      <td>-10.16</td>\n",
              "      <td>-15.96</td>\n",
              "      <td>4.687217</td>\n",
              "      <td>0.00</td>\n",
              "      <td>2.588190e-01</td>\n",
              "      <td>0.965926</td>\n",
              "      <td>-14.444444</td>\n",
              "      <td>-20.555556</td>\n",
              "      <td>6.70560</td>\n",
              "      <td>0.0</td>\n",
              "      <td>2010</td>\n",
              "      <td>4.284444</td>\n",
              "      <td>4.595556</td>\n",
              "      <td>-2.018383</td>\n",
              "      <td>0.00</td>\n",
              "    </tr>\n",
              "    <tr>\n",
              "      <th>2</th>\n",
              "      <td>2010-01-03 12:00:00</td>\n",
              "      <td>-9.96</td>\n",
              "      <td>-14.36</td>\n",
              "      <td>5.941380</td>\n",
              "      <td>0.06</td>\n",
              "      <td>2.588190e-01</td>\n",
              "      <td>0.965926</td>\n",
              "      <td>-12.222222</td>\n",
              "      <td>-21.111111</td>\n",
              "      <td>4.91744</td>\n",
              "      <td>0.0</td>\n",
              "      <td>2010</td>\n",
              "      <td>2.262222</td>\n",
              "      <td>6.751111</td>\n",
              "      <td>1.023940</td>\n",
              "      <td>0.06</td>\n",
              "    </tr>\n",
              "    <tr>\n",
              "      <th>3</th>\n",
              "      <td>2010-01-04 12:00:00</td>\n",
              "      <td>-8.46</td>\n",
              "      <td>-12.86</td>\n",
              "      <td>5.685068</td>\n",
              "      <td>0.17</td>\n",
              "      <td>2.588190e-01</td>\n",
              "      <td>0.965926</td>\n",
              "      <td>-11.666667</td>\n",
              "      <td>-18.888889</td>\n",
              "      <td>8.94080</td>\n",
              "      <td>0.0</td>\n",
              "      <td>2010</td>\n",
              "      <td>3.206667</td>\n",
              "      <td>6.028889</td>\n",
              "      <td>-3.255732</td>\n",
              "      <td>0.17</td>\n",
              "    </tr>\n",
              "    <tr>\n",
              "      <th>4</th>\n",
              "      <td>2010-01-05 12:00:00</td>\n",
              "      <td>-7.16</td>\n",
              "      <td>-11.06</td>\n",
              "      <td>3.794733</td>\n",
              "      <td>0.77</td>\n",
              "      <td>2.588190e-01</td>\n",
              "      <td>0.965926</td>\n",
              "      <td>-12.222222</td>\n",
              "      <td>-18.333333</td>\n",
              "      <td>7.15264</td>\n",
              "      <td>0.0</td>\n",
              "      <td>2010</td>\n",
              "      <td>5.062222</td>\n",
              "      <td>7.273333</td>\n",
              "      <td>-3.357907</td>\n",
              "      <td>0.77</td>\n",
              "    </tr>\n",
              "    <tr>\n",
              "      <th>...</th>\n",
              "      <td>...</td>\n",
              "      <td>...</td>\n",
              "      <td>...</td>\n",
              "      <td>...</td>\n",
              "      <td>...</td>\n",
              "      <td>...</td>\n",
              "      <td>...</td>\n",
              "      <td>...</td>\n",
              "      <td>...</td>\n",
              "      <td>...</td>\n",
              "      <td>...</td>\n",
              "      <td>...</td>\n",
              "      <td>...</td>\n",
              "      <td>...</td>\n",
              "      <td>...</td>\n",
              "      <td>...</td>\n",
              "    </tr>\n",
              "    <tr>\n",
              "      <th>3571</th>\n",
              "      <td>2019-12-27 12:00:00</td>\n",
              "      <td>13.94</td>\n",
              "      <td>3.54</td>\n",
              "      <td>8.819297</td>\n",
              "      <td>2.73</td>\n",
              "      <td>1.224647e-16</td>\n",
              "      <td>-1.000000</td>\n",
              "      <td>6.111111</td>\n",
              "      <td>0.000000</td>\n",
              "      <td>6.70560</td>\n",
              "      <td>0.0</td>\n",
              "      <td>2019</td>\n",
              "      <td>7.828889</td>\n",
              "      <td>3.540000</td>\n",
              "      <td>2.113697</td>\n",
              "      <td>2.73</td>\n",
              "    </tr>\n",
              "    <tr>\n",
              "      <th>3572</th>\n",
              "      <td>2019-12-28 12:00:00</td>\n",
              "      <td>15.94</td>\n",
              "      <td>9.34</td>\n",
              "      <td>9.701546</td>\n",
              "      <td>11.58</td>\n",
              "      <td>1.224647e-16</td>\n",
              "      <td>-1.000000</td>\n",
              "      <td>13.333333</td>\n",
              "      <td>0.000000</td>\n",
              "      <td>10.28192</td>\n",
              "      <td>2.8</td>\n",
              "      <td>2019</td>\n",
              "      <td>2.606667</td>\n",
              "      <td>9.340000</td>\n",
              "      <td>-0.580374</td>\n",
              "      <td>8.78</td>\n",
              "    </tr>\n",
              "    <tr>\n",
              "      <th>3573</th>\n",
              "      <td>2019-12-29 12:00:00</td>\n",
              "      <td>7.24</td>\n",
              "      <td>-1.66</td>\n",
              "      <td>11.111256</td>\n",
              "      <td>2.57</td>\n",
              "      <td>1.224647e-16</td>\n",
              "      <td>-1.000000</td>\n",
              "      <td>15.000000</td>\n",
              "      <td>5.000000</td>\n",
              "      <td>10.28192</td>\n",
              "      <td>4.3</td>\n",
              "      <td>2019</td>\n",
              "      <td>-7.760000</td>\n",
              "      <td>-6.660000</td>\n",
              "      <td>0.829336</td>\n",
              "      <td>-1.73</td>\n",
              "    </tr>\n",
              "    <tr>\n",
              "      <th>3574</th>\n",
              "      <td>2019-12-30 12:00:00</td>\n",
              "      <td>-0.36</td>\n",
              "      <td>-2.26</td>\n",
              "      <td>8.769265</td>\n",
              "      <td>0.04</td>\n",
              "      <td>1.224647e-16</td>\n",
              "      <td>-1.000000</td>\n",
              "      <td>3.333333</td>\n",
              "      <td>-0.555556</td>\n",
              "      <td>11.62304</td>\n",
              "      <td>0.6</td>\n",
              "      <td>2019</td>\n",
              "      <td>-3.693333</td>\n",
              "      <td>-1.704444</td>\n",
              "      <td>-2.853775</td>\n",
              "      <td>-0.56</td>\n",
              "    </tr>\n",
              "    <tr>\n",
              "      <th>3575</th>\n",
              "      <td>2019-12-31 12:00:00</td>\n",
              "      <td>6.44</td>\n",
              "      <td>-2.36</td>\n",
              "      <td>8.287340</td>\n",
              "      <td>0.00</td>\n",
              "      <td>1.224647e-16</td>\n",
              "      <td>-1.000000</td>\n",
              "      <td>0.555556</td>\n",
              "      <td>-1.111111</td>\n",
              "      <td>12.96416</td>\n",
              "      <td>0.0</td>\n",
              "      <td>2019</td>\n",
              "      <td>5.884444</td>\n",
              "      <td>-1.248889</td>\n",
              "      <td>-4.676820</td>\n",
              "      <td>0.00</td>\n",
              "    </tr>\n",
              "  </tbody>\n",
              "</table>\n",
              "<p>3576 rows × 16 columns</p>\n",
              "</div>"
            ],
            "text/plain": [
              "                    Time  TMAX_GFS  TMIN_GFS  ...    D_TMIN    D_WMAX  D_RTOT\n",
              "0    2010-01-01 12:00:00    -11.26    -16.46  ...  0.206667  0.618333    0.05\n",
              "1    2010-01-02 12:00:00    -10.16    -15.96  ...  4.595556 -2.018383    0.00\n",
              "2    2010-01-03 12:00:00     -9.96    -14.36  ...  6.751111  1.023940    0.06\n",
              "3    2010-01-04 12:00:00     -8.46    -12.86  ...  6.028889 -3.255732    0.17\n",
              "4    2010-01-05 12:00:00     -7.16    -11.06  ...  7.273333 -3.357907    0.77\n",
              "...                  ...       ...       ...  ...       ...       ...     ...\n",
              "3571 2019-12-27 12:00:00     13.94      3.54  ...  3.540000  2.113697    2.73\n",
              "3572 2019-12-28 12:00:00     15.94      9.34  ...  9.340000 -0.580374    8.78\n",
              "3573 2019-12-29 12:00:00      7.24     -1.66  ... -6.660000  0.829336   -1.73\n",
              "3574 2019-12-30 12:00:00     -0.36     -2.26  ... -1.704444 -2.853775   -0.56\n",
              "3575 2019-12-31 12:00:00      6.44     -2.36  ... -1.248889 -4.676820    0.00\n",
              "\n",
              "[3576 rows x 16 columns]"
            ]
          },
          "metadata": {
            "tags": []
          },
          "execution_count": 12
        }
      ]
    },
    {
      "cell_type": "code",
      "metadata": {
        "colab_type": "code",
        "id": "l8HpeFgvJadX",
        "outputId": "82743cd1-aece-47d0-c20f-7138da45e392",
        "colab": {
          "base_uri": "https://localhost:8080/",
          "height": 388
        }
      },
      "source": [
        "# Combine GFS Profile and GFS Surface \n",
        "df2 = pd.merge(GFS_surface.reset_index(), GFS_profile.reset_index(), on='Time', how='inner')\n",
        "df2.Time = pd.to_datetime(df2.Time)\n",
        "df2.head()"
      ],
      "execution_count": 32,
      "outputs": [
        {
          "output_type": "execute_result",
          "data": {
            "text/html": [
              "<div>\n",
              "<style scoped>\n",
              "    .dataframe tbody tr th:only-of-type {\n",
              "        vertical-align: middle;\n",
              "    }\n",
              "\n",
              "    .dataframe tbody tr th {\n",
              "        vertical-align: top;\n",
              "    }\n",
              "\n",
              "    .dataframe thead th {\n",
              "        text-align: right;\n",
              "    }\n",
              "</style>\n",
              "<table border=\"1\" class=\"dataframe\">\n",
              "  <thead>\n",
              "    <tr style=\"text-align: right;\">\n",
              "      <th></th>\n",
              "      <th>Time</th>\n",
              "      <th>DWPC_Surf</th>\n",
              "      <th>HCLD_Surf</th>\n",
              "      <th>LCLD_Surf</th>\n",
              "      <th>MCLD_Surf</th>\n",
              "      <th>PRCP_Surf</th>\n",
              "      <th>PRES_Surf</th>\n",
              "      <th>TMPC_Surf</th>\n",
              "      <th>UWND_Surf</th>\n",
              "      <th>VWND_Surf</th>\n",
              "      <th>WSPD_Surf</th>\n",
              "      <th>DWPC_925.0</th>\n",
              "      <th>DWPC_850.0</th>\n",
              "      <th>DWPC_700.0</th>\n",
              "      <th>DWPC_500.0</th>\n",
              "      <th>DWPC_250.0</th>\n",
              "      <th>HGHT_925.0</th>\n",
              "      <th>HGHT_850.0</th>\n",
              "      <th>HGHT_700.0</th>\n",
              "      <th>HGHT_500.0</th>\n",
              "      <th>HGHT_250.0</th>\n",
              "      <th>TMPC_925.0</th>\n",
              "      <th>TMPC_850.0</th>\n",
              "      <th>TMPC_700.0</th>\n",
              "      <th>TMPC_500.0</th>\n",
              "      <th>TMPC_250.0</th>\n",
              "      <th>UWND_925.0</th>\n",
              "      <th>UWND_850.0</th>\n",
              "      <th>UWND_700.0</th>\n",
              "      <th>UWND_500.0</th>\n",
              "      <th>UWND_250.0</th>\n",
              "      <th>VWND_925.0</th>\n",
              "      <th>VWND_850.0</th>\n",
              "      <th>VWND_700.0</th>\n",
              "      <th>VWND_500.0</th>\n",
              "      <th>VWND_250.0</th>\n",
              "    </tr>\n",
              "  </thead>\n",
              "  <tbody>\n",
              "    <tr>\n",
              "      <th>0</th>\n",
              "      <td>2010-01-02 12:00:00</td>\n",
              "      <td>-13.74</td>\n",
              "      <td>0.0</td>\n",
              "      <td>100.0</td>\n",
              "      <td>1.0</td>\n",
              "      <td>0.04</td>\n",
              "      <td>1002.0</td>\n",
              "      <td>-11.26</td>\n",
              "      <td>4.9</td>\n",
              "      <td>-4.0</td>\n",
              "      <td>7.323933</td>\n",
              "      <td>-25.221669</td>\n",
              "      <td>-31.631814</td>\n",
              "      <td>-42.343174</td>\n",
              "      <td>-49.713078</td>\n",
              "      <td>-68.190643</td>\n",
              "      <td>-25.221669</td>\n",
              "      <td>-31.631814</td>\n",
              "      <td>-42.343174</td>\n",
              "      <td>-49.713078</td>\n",
              "      <td>-68.190643</td>\n",
              "      <td>-25.221669</td>\n",
              "      <td>-31.631814</td>\n",
              "      <td>-42.343174</td>\n",
              "      <td>-49.713078</td>\n",
              "      <td>-68.190643</td>\n",
              "      <td>-25.221669</td>\n",
              "      <td>-31.631814</td>\n",
              "      <td>-42.343174</td>\n",
              "      <td>-49.713078</td>\n",
              "      <td>-68.190643</td>\n",
              "      <td>-25.221669</td>\n",
              "      <td>-31.631814</td>\n",
              "      <td>-42.343174</td>\n",
              "      <td>-49.713078</td>\n",
              "      <td>-68.190643</td>\n",
              "    </tr>\n",
              "    <tr>\n",
              "      <th>1</th>\n",
              "      <td>2010-01-03 12:00:00</td>\n",
              "      <td>-14.21</td>\n",
              "      <td>42.0</td>\n",
              "      <td>7.0</td>\n",
              "      <td>1.0</td>\n",
              "      <td>0.00</td>\n",
              "      <td>1001.8</td>\n",
              "      <td>-10.16</td>\n",
              "      <td>3.6</td>\n",
              "      <td>-2.5</td>\n",
              "      <td>4.687217</td>\n",
              "      <td>-24.612461</td>\n",
              "      <td>-33.524255</td>\n",
              "      <td>-45.006084</td>\n",
              "      <td>-38.011418</td>\n",
              "      <td>-68.911919</td>\n",
              "      <td>-24.612461</td>\n",
              "      <td>-33.524255</td>\n",
              "      <td>-45.006084</td>\n",
              "      <td>-38.011418</td>\n",
              "      <td>-68.911919</td>\n",
              "      <td>-24.612461</td>\n",
              "      <td>-33.524255</td>\n",
              "      <td>-45.006084</td>\n",
              "      <td>-38.011418</td>\n",
              "      <td>-68.911919</td>\n",
              "      <td>-24.612461</td>\n",
              "      <td>-33.524255</td>\n",
              "      <td>-45.006084</td>\n",
              "      <td>-38.011418</td>\n",
              "      <td>-68.911919</td>\n",
              "      <td>-24.612461</td>\n",
              "      <td>-33.524255</td>\n",
              "      <td>-45.006084</td>\n",
              "      <td>-38.011418</td>\n",
              "      <td>-68.911919</td>\n",
              "    </tr>\n",
              "    <tr>\n",
              "      <th>2</th>\n",
              "      <td>2010-01-04 12:00:00</td>\n",
              "      <td>-12.63</td>\n",
              "      <td>95.0</td>\n",
              "      <td>99.0</td>\n",
              "      <td>91.0</td>\n",
              "      <td>0.03</td>\n",
              "      <td>999.8</td>\n",
              "      <td>-9.96</td>\n",
              "      <td>4.4</td>\n",
              "      <td>-3.5</td>\n",
              "      <td>5.941380</td>\n",
              "      <td>-19.773137</td>\n",
              "      <td>-24.218344</td>\n",
              "      <td>-25.096941</td>\n",
              "      <td>-42.369095</td>\n",
              "      <td>-68.447021</td>\n",
              "      <td>-19.773137</td>\n",
              "      <td>-24.218344</td>\n",
              "      <td>-25.096941</td>\n",
              "      <td>-42.369095</td>\n",
              "      <td>-68.447021</td>\n",
              "      <td>-19.773137</td>\n",
              "      <td>-24.218344</td>\n",
              "      <td>-25.096941</td>\n",
              "      <td>-42.369095</td>\n",
              "      <td>-68.447021</td>\n",
              "      <td>-19.773137</td>\n",
              "      <td>-24.218344</td>\n",
              "      <td>-25.096941</td>\n",
              "      <td>-42.369095</td>\n",
              "      <td>-68.447021</td>\n",
              "      <td>-19.773137</td>\n",
              "      <td>-24.218344</td>\n",
              "      <td>-25.096941</td>\n",
              "      <td>-42.369095</td>\n",
              "      <td>-68.447021</td>\n",
              "    </tr>\n",
              "    <tr>\n",
              "      <th>3</th>\n",
              "      <td>2010-01-05 12:00:00</td>\n",
              "      <td>-10.75</td>\n",
              "      <td>94.0</td>\n",
              "      <td>100.0</td>\n",
              "      <td>67.0</td>\n",
              "      <td>0.03</td>\n",
              "      <td>997.3</td>\n",
              "      <td>-8.46</td>\n",
              "      <td>4.6</td>\n",
              "      <td>-2.7</td>\n",
              "      <td>5.685068</td>\n",
              "      <td>-15.254223</td>\n",
              "      <td>-17.749616</td>\n",
              "      <td>-24.500529</td>\n",
              "      <td>-39.556158</td>\n",
              "      <td>-65.837217</td>\n",
              "      <td>-15.254223</td>\n",
              "      <td>-17.749616</td>\n",
              "      <td>-24.500529</td>\n",
              "      <td>-39.556158</td>\n",
              "      <td>-65.837217</td>\n",
              "      <td>-15.254223</td>\n",
              "      <td>-17.749616</td>\n",
              "      <td>-24.500529</td>\n",
              "      <td>-39.556158</td>\n",
              "      <td>-65.837217</td>\n",
              "      <td>-15.254223</td>\n",
              "      <td>-17.749616</td>\n",
              "      <td>-24.500529</td>\n",
              "      <td>-39.556158</td>\n",
              "      <td>-65.837217</td>\n",
              "      <td>-15.254223</td>\n",
              "      <td>-17.749616</td>\n",
              "      <td>-24.500529</td>\n",
              "      <td>-39.556158</td>\n",
              "      <td>-65.837217</td>\n",
              "    </tr>\n",
              "    <tr>\n",
              "      <th>4</th>\n",
              "      <td>2010-01-06 12:00:00</td>\n",
              "      <td>-9.45</td>\n",
              "      <td>90.0</td>\n",
              "      <td>100.0</td>\n",
              "      <td>100.0</td>\n",
              "      <td>0.05</td>\n",
              "      <td>996.0</td>\n",
              "      <td>-7.16</td>\n",
              "      <td>3.6</td>\n",
              "      <td>0.1</td>\n",
              "      <td>3.794733</td>\n",
              "      <td>-16.456283</td>\n",
              "      <td>-26.308794</td>\n",
              "      <td>-26.778580</td>\n",
              "      <td>-37.508100</td>\n",
              "      <td>-66.427228</td>\n",
              "      <td>-16.456283</td>\n",
              "      <td>-26.308794</td>\n",
              "      <td>-26.778580</td>\n",
              "      <td>-37.508100</td>\n",
              "      <td>-66.427228</td>\n",
              "      <td>-16.456283</td>\n",
              "      <td>-26.308794</td>\n",
              "      <td>-26.778580</td>\n",
              "      <td>-37.508100</td>\n",
              "      <td>-66.427228</td>\n",
              "      <td>-16.456283</td>\n",
              "      <td>-26.308794</td>\n",
              "      <td>-26.778580</td>\n",
              "      <td>-37.508100</td>\n",
              "      <td>-66.427228</td>\n",
              "      <td>-16.456283</td>\n",
              "      <td>-26.308794</td>\n",
              "      <td>-26.778580</td>\n",
              "      <td>-37.508100</td>\n",
              "      <td>-66.427228</td>\n",
              "    </tr>\n",
              "  </tbody>\n",
              "</table>\n",
              "</div>"
            ],
            "text/plain": [
              "                 Time  DWPC_Surf  HCLD_Surf  ...  VWND_700.0  VWND_500.0  VWND_250.0\n",
              "0 2010-01-02 12:00:00     -13.74        0.0  ...  -42.343174  -49.713078  -68.190643\n",
              "1 2010-01-03 12:00:00     -14.21       42.0  ...  -45.006084  -38.011418  -68.911919\n",
              "2 2010-01-04 12:00:00     -12.63       95.0  ...  -25.096941  -42.369095  -68.447021\n",
              "3 2010-01-05 12:00:00     -10.75       94.0  ...  -24.500529  -39.556158  -65.837217\n",
              "4 2010-01-06 12:00:00      -9.45       90.0  ...  -26.778580  -37.508100  -66.427228\n",
              "\n",
              "[5 rows x 36 columns]"
            ]
          },
          "metadata": {
            "tags": []
          },
          "execution_count": 32
        }
      ]
    },
    {
      "cell_type": "code",
      "metadata": {
        "id": "9k_6nuWtLMno",
        "colab_type": "code",
        "outputId": "eb148bdd-0356-4fdd-9f13-d37854eb2b1a",
        "colab": {
          "base_uri": "https://localhost:8080/",
          "height": 388
        }
      },
      "source": [
        "# Combine two intermediate datasets into one feature matrix\n",
        "features_df = pd.merge(df1.reset_index(), df2.reset_index(), on='Time', how='inner')\n",
        "features_df.Time = pd.to_datetime(features_df.Time)\n",
        "features_df.dropna(inplace=True)\n",
        "features_df.head()"
      ],
      "execution_count": 33,
      "outputs": [
        {
          "output_type": "execute_result",
          "data": {
            "text/html": [
              "<div>\n",
              "<style scoped>\n",
              "    .dataframe tbody tr th:only-of-type {\n",
              "        vertical-align: middle;\n",
              "    }\n",
              "\n",
              "    .dataframe tbody tr th {\n",
              "        vertical-align: top;\n",
              "    }\n",
              "\n",
              "    .dataframe thead th {\n",
              "        text-align: right;\n",
              "    }\n",
              "</style>\n",
              "<table border=\"1\" class=\"dataframe\">\n",
              "  <thead>\n",
              "    <tr style=\"text-align: right;\">\n",
              "      <th></th>\n",
              "      <th>index_x</th>\n",
              "      <th>Time</th>\n",
              "      <th>TMAX_GFS</th>\n",
              "      <th>TMIN_GFS</th>\n",
              "      <th>WMAX_GFS</th>\n",
              "      <th>RTOT_GFS</th>\n",
              "      <th>month_sin</th>\n",
              "      <th>month_cos</th>\n",
              "      <th>TMAX_Obs</th>\n",
              "      <th>TMIN_Obs</th>\n",
              "      <th>WMAX_Obs</th>\n",
              "      <th>RTOT_Obs</th>\n",
              "      <th>Year</th>\n",
              "      <th>D_TMAX</th>\n",
              "      <th>D_TMIN</th>\n",
              "      <th>D_WMAX</th>\n",
              "      <th>D_RTOT</th>\n",
              "      <th>index_y</th>\n",
              "      <th>DWPC_Surf</th>\n",
              "      <th>HCLD_Surf</th>\n",
              "      <th>LCLD_Surf</th>\n",
              "      <th>MCLD_Surf</th>\n",
              "      <th>PRCP_Surf</th>\n",
              "      <th>PRES_Surf</th>\n",
              "      <th>TMPC_Surf</th>\n",
              "      <th>UWND_Surf</th>\n",
              "      <th>VWND_Surf</th>\n",
              "      <th>WSPD_Surf</th>\n",
              "      <th>DWPC_925.0</th>\n",
              "      <th>DWPC_850.0</th>\n",
              "      <th>DWPC_700.0</th>\n",
              "      <th>DWPC_500.0</th>\n",
              "      <th>DWPC_250.0</th>\n",
              "      <th>HGHT_925.0</th>\n",
              "      <th>HGHT_850.0</th>\n",
              "      <th>HGHT_700.0</th>\n",
              "      <th>HGHT_500.0</th>\n",
              "      <th>HGHT_250.0</th>\n",
              "      <th>TMPC_925.0</th>\n",
              "      <th>TMPC_850.0</th>\n",
              "      <th>TMPC_700.0</th>\n",
              "      <th>TMPC_500.0</th>\n",
              "      <th>TMPC_250.0</th>\n",
              "      <th>UWND_925.0</th>\n",
              "      <th>UWND_850.0</th>\n",
              "      <th>UWND_700.0</th>\n",
              "      <th>UWND_500.0</th>\n",
              "      <th>UWND_250.0</th>\n",
              "      <th>VWND_925.0</th>\n",
              "      <th>VWND_850.0</th>\n",
              "      <th>VWND_700.0</th>\n",
              "      <th>VWND_500.0</th>\n",
              "      <th>VWND_250.0</th>\n",
              "    </tr>\n",
              "  </thead>\n",
              "  <tbody>\n",
              "    <tr>\n",
              "      <th>0</th>\n",
              "      <td>1</td>\n",
              "      <td>2010-01-02 12:00:00</td>\n",
              "      <td>-10.16</td>\n",
              "      <td>-15.96</td>\n",
              "      <td>4.687217</td>\n",
              "      <td>0.00</td>\n",
              "      <td>0.258819</td>\n",
              "      <td>0.965926</td>\n",
              "      <td>-14.444444</td>\n",
              "      <td>-20.555556</td>\n",
              "      <td>6.70560</td>\n",
              "      <td>0.0</td>\n",
              "      <td>2010</td>\n",
              "      <td>4.284444</td>\n",
              "      <td>4.595556</td>\n",
              "      <td>-2.018383</td>\n",
              "      <td>0.00</td>\n",
              "      <td>0</td>\n",
              "      <td>-13.74</td>\n",
              "      <td>0.0</td>\n",
              "      <td>100.0</td>\n",
              "      <td>1.0</td>\n",
              "      <td>0.04</td>\n",
              "      <td>1002.0</td>\n",
              "      <td>-11.26</td>\n",
              "      <td>4.9</td>\n",
              "      <td>-4.0</td>\n",
              "      <td>7.323933</td>\n",
              "      <td>-25.221669</td>\n",
              "      <td>-31.631814</td>\n",
              "      <td>-42.343174</td>\n",
              "      <td>-49.713078</td>\n",
              "      <td>-68.190643</td>\n",
              "      <td>-25.221669</td>\n",
              "      <td>-31.631814</td>\n",
              "      <td>-42.343174</td>\n",
              "      <td>-49.713078</td>\n",
              "      <td>-68.190643</td>\n",
              "      <td>-25.221669</td>\n",
              "      <td>-31.631814</td>\n",
              "      <td>-42.343174</td>\n",
              "      <td>-49.713078</td>\n",
              "      <td>-68.190643</td>\n",
              "      <td>-25.221669</td>\n",
              "      <td>-31.631814</td>\n",
              "      <td>-42.343174</td>\n",
              "      <td>-49.713078</td>\n",
              "      <td>-68.190643</td>\n",
              "      <td>-25.221669</td>\n",
              "      <td>-31.631814</td>\n",
              "      <td>-42.343174</td>\n",
              "      <td>-49.713078</td>\n",
              "      <td>-68.190643</td>\n",
              "    </tr>\n",
              "    <tr>\n",
              "      <th>1</th>\n",
              "      <td>2</td>\n",
              "      <td>2010-01-03 12:00:00</td>\n",
              "      <td>-9.96</td>\n",
              "      <td>-14.36</td>\n",
              "      <td>5.941380</td>\n",
              "      <td>0.06</td>\n",
              "      <td>0.258819</td>\n",
              "      <td>0.965926</td>\n",
              "      <td>-12.222222</td>\n",
              "      <td>-21.111111</td>\n",
              "      <td>4.91744</td>\n",
              "      <td>0.0</td>\n",
              "      <td>2010</td>\n",
              "      <td>2.262222</td>\n",
              "      <td>6.751111</td>\n",
              "      <td>1.023940</td>\n",
              "      <td>0.06</td>\n",
              "      <td>1</td>\n",
              "      <td>-14.21</td>\n",
              "      <td>42.0</td>\n",
              "      <td>7.0</td>\n",
              "      <td>1.0</td>\n",
              "      <td>0.00</td>\n",
              "      <td>1001.8</td>\n",
              "      <td>-10.16</td>\n",
              "      <td>3.6</td>\n",
              "      <td>-2.5</td>\n",
              "      <td>4.687217</td>\n",
              "      <td>-24.612461</td>\n",
              "      <td>-33.524255</td>\n",
              "      <td>-45.006084</td>\n",
              "      <td>-38.011418</td>\n",
              "      <td>-68.911919</td>\n",
              "      <td>-24.612461</td>\n",
              "      <td>-33.524255</td>\n",
              "      <td>-45.006084</td>\n",
              "      <td>-38.011418</td>\n",
              "      <td>-68.911919</td>\n",
              "      <td>-24.612461</td>\n",
              "      <td>-33.524255</td>\n",
              "      <td>-45.006084</td>\n",
              "      <td>-38.011418</td>\n",
              "      <td>-68.911919</td>\n",
              "      <td>-24.612461</td>\n",
              "      <td>-33.524255</td>\n",
              "      <td>-45.006084</td>\n",
              "      <td>-38.011418</td>\n",
              "      <td>-68.911919</td>\n",
              "      <td>-24.612461</td>\n",
              "      <td>-33.524255</td>\n",
              "      <td>-45.006084</td>\n",
              "      <td>-38.011418</td>\n",
              "      <td>-68.911919</td>\n",
              "    </tr>\n",
              "    <tr>\n",
              "      <th>2</th>\n",
              "      <td>3</td>\n",
              "      <td>2010-01-04 12:00:00</td>\n",
              "      <td>-8.46</td>\n",
              "      <td>-12.86</td>\n",
              "      <td>5.685068</td>\n",
              "      <td>0.17</td>\n",
              "      <td>0.258819</td>\n",
              "      <td>0.965926</td>\n",
              "      <td>-11.666667</td>\n",
              "      <td>-18.888889</td>\n",
              "      <td>8.94080</td>\n",
              "      <td>0.0</td>\n",
              "      <td>2010</td>\n",
              "      <td>3.206667</td>\n",
              "      <td>6.028889</td>\n",
              "      <td>-3.255732</td>\n",
              "      <td>0.17</td>\n",
              "      <td>2</td>\n",
              "      <td>-12.63</td>\n",
              "      <td>95.0</td>\n",
              "      <td>99.0</td>\n",
              "      <td>91.0</td>\n",
              "      <td>0.03</td>\n",
              "      <td>999.8</td>\n",
              "      <td>-9.96</td>\n",
              "      <td>4.4</td>\n",
              "      <td>-3.5</td>\n",
              "      <td>5.941380</td>\n",
              "      <td>-19.773137</td>\n",
              "      <td>-24.218344</td>\n",
              "      <td>-25.096941</td>\n",
              "      <td>-42.369095</td>\n",
              "      <td>-68.447021</td>\n",
              "      <td>-19.773137</td>\n",
              "      <td>-24.218344</td>\n",
              "      <td>-25.096941</td>\n",
              "      <td>-42.369095</td>\n",
              "      <td>-68.447021</td>\n",
              "      <td>-19.773137</td>\n",
              "      <td>-24.218344</td>\n",
              "      <td>-25.096941</td>\n",
              "      <td>-42.369095</td>\n",
              "      <td>-68.447021</td>\n",
              "      <td>-19.773137</td>\n",
              "      <td>-24.218344</td>\n",
              "      <td>-25.096941</td>\n",
              "      <td>-42.369095</td>\n",
              "      <td>-68.447021</td>\n",
              "      <td>-19.773137</td>\n",
              "      <td>-24.218344</td>\n",
              "      <td>-25.096941</td>\n",
              "      <td>-42.369095</td>\n",
              "      <td>-68.447021</td>\n",
              "    </tr>\n",
              "    <tr>\n",
              "      <th>3</th>\n",
              "      <td>4</td>\n",
              "      <td>2010-01-05 12:00:00</td>\n",
              "      <td>-7.16</td>\n",
              "      <td>-11.06</td>\n",
              "      <td>3.794733</td>\n",
              "      <td>0.77</td>\n",
              "      <td>0.258819</td>\n",
              "      <td>0.965926</td>\n",
              "      <td>-12.222222</td>\n",
              "      <td>-18.333333</td>\n",
              "      <td>7.15264</td>\n",
              "      <td>0.0</td>\n",
              "      <td>2010</td>\n",
              "      <td>5.062222</td>\n",
              "      <td>7.273333</td>\n",
              "      <td>-3.357907</td>\n",
              "      <td>0.77</td>\n",
              "      <td>3</td>\n",
              "      <td>-10.75</td>\n",
              "      <td>94.0</td>\n",
              "      <td>100.0</td>\n",
              "      <td>67.0</td>\n",
              "      <td>0.03</td>\n",
              "      <td>997.3</td>\n",
              "      <td>-8.46</td>\n",
              "      <td>4.6</td>\n",
              "      <td>-2.7</td>\n",
              "      <td>5.685068</td>\n",
              "      <td>-15.254223</td>\n",
              "      <td>-17.749616</td>\n",
              "      <td>-24.500529</td>\n",
              "      <td>-39.556158</td>\n",
              "      <td>-65.837217</td>\n",
              "      <td>-15.254223</td>\n",
              "      <td>-17.749616</td>\n",
              "      <td>-24.500529</td>\n",
              "      <td>-39.556158</td>\n",
              "      <td>-65.837217</td>\n",
              "      <td>-15.254223</td>\n",
              "      <td>-17.749616</td>\n",
              "      <td>-24.500529</td>\n",
              "      <td>-39.556158</td>\n",
              "      <td>-65.837217</td>\n",
              "      <td>-15.254223</td>\n",
              "      <td>-17.749616</td>\n",
              "      <td>-24.500529</td>\n",
              "      <td>-39.556158</td>\n",
              "      <td>-65.837217</td>\n",
              "      <td>-15.254223</td>\n",
              "      <td>-17.749616</td>\n",
              "      <td>-24.500529</td>\n",
              "      <td>-39.556158</td>\n",
              "      <td>-65.837217</td>\n",
              "    </tr>\n",
              "    <tr>\n",
              "      <th>4</th>\n",
              "      <td>5</td>\n",
              "      <td>2010-01-06 12:00:00</td>\n",
              "      <td>-5.46</td>\n",
              "      <td>-7.46</td>\n",
              "      <td>9.548298</td>\n",
              "      <td>7.10</td>\n",
              "      <td>0.258819</td>\n",
              "      <td>0.965926</td>\n",
              "      <td>-7.777778</td>\n",
              "      <td>-19.444444</td>\n",
              "      <td>3.57632</td>\n",
              "      <td>1.5</td>\n",
              "      <td>2010</td>\n",
              "      <td>2.317778</td>\n",
              "      <td>11.984444</td>\n",
              "      <td>5.971978</td>\n",
              "      <td>5.60</td>\n",
              "      <td>4</td>\n",
              "      <td>-9.45</td>\n",
              "      <td>90.0</td>\n",
              "      <td>100.0</td>\n",
              "      <td>100.0</td>\n",
              "      <td>0.05</td>\n",
              "      <td>996.0</td>\n",
              "      <td>-7.16</td>\n",
              "      <td>3.6</td>\n",
              "      <td>0.1</td>\n",
              "      <td>3.794733</td>\n",
              "      <td>-16.456283</td>\n",
              "      <td>-26.308794</td>\n",
              "      <td>-26.778580</td>\n",
              "      <td>-37.508100</td>\n",
              "      <td>-66.427228</td>\n",
              "      <td>-16.456283</td>\n",
              "      <td>-26.308794</td>\n",
              "      <td>-26.778580</td>\n",
              "      <td>-37.508100</td>\n",
              "      <td>-66.427228</td>\n",
              "      <td>-16.456283</td>\n",
              "      <td>-26.308794</td>\n",
              "      <td>-26.778580</td>\n",
              "      <td>-37.508100</td>\n",
              "      <td>-66.427228</td>\n",
              "      <td>-16.456283</td>\n",
              "      <td>-26.308794</td>\n",
              "      <td>-26.778580</td>\n",
              "      <td>-37.508100</td>\n",
              "      <td>-66.427228</td>\n",
              "      <td>-16.456283</td>\n",
              "      <td>-26.308794</td>\n",
              "      <td>-26.778580</td>\n",
              "      <td>-37.508100</td>\n",
              "      <td>-66.427228</td>\n",
              "    </tr>\n",
              "  </tbody>\n",
              "</table>\n",
              "</div>"
            ],
            "text/plain": [
              "   index_x                Time  TMAX_GFS  ...  VWND_700.0  VWND_500.0  VWND_250.0\n",
              "0        1 2010-01-02 12:00:00    -10.16  ...  -42.343174  -49.713078  -68.190643\n",
              "1        2 2010-01-03 12:00:00     -9.96  ...  -45.006084  -38.011418  -68.911919\n",
              "2        3 2010-01-04 12:00:00     -8.46  ...  -25.096941  -42.369095  -68.447021\n",
              "3        4 2010-01-05 12:00:00     -7.16  ...  -24.500529  -39.556158  -65.837217\n",
              "4        5 2010-01-06 12:00:00     -5.46  ...  -26.778580  -37.508100  -66.427228\n",
              "\n",
              "[5 rows x 53 columns]"
            ]
          },
          "metadata": {
            "tags": []
          },
          "execution_count": 33
        }
      ]
    },
    {
      "cell_type": "code",
      "metadata": {
        "id": "omIS2GH0iy_9",
        "colab_type": "code",
        "colab": {}
      },
      "source": [
        "# Split into training and test sets \n",
        "# Can change features \n",
        "x_train_all = features_df[features_df.Time.dt.year<2019]\n",
        "x_test_all = features_df[features_df.Time.dt.year==2019]\n",
        "\n",
        "y_train_all = features_df[features_df.Time.dt.year<2019]\n",
        "y_test_all = features_df[features_df.Time.dt.year==2019]"
      ],
      "execution_count": 0,
      "outputs": []
    },
    {
      "cell_type": "markdown",
      "metadata": {
        "id": "d_7hc-19f6Nc",
        "colab_type": "text"
      },
      "source": [
        "Linear Regression"
      ]
    },
    {
      "cell_type": "code",
      "metadata": {
        "id": "S1nLDyiZqhem",
        "colab_type": "code",
        "colab": {}
      },
      "source": [
        "from sklearn.linear_model import LinearRegression\n",
        "from sklearn.metrics import mean_squared_error, r2_score, mean_absolute_error, median_absolute_error\n",
        "from sklearn.model_selection import train_test_split\n",
        "from math import sqrt"
      ],
      "execution_count": 0,
      "outputs": []
    },
    {
      "cell_type": "markdown",
      "metadata": {
        "id": "iyrwto8yJSUl",
        "colab_type": "text"
      },
      "source": [
        "**Linear Regression**"
      ]
    },
    {
      "cell_type": "markdown",
      "metadata": {
        "id": "HtVgO5mMJXjt",
        "colab_type": "text"
      },
      "source": [
        "Max Temperature"
      ]
    },
    {
      "cell_type": "code",
      "metadata": {
        "id": "iPKaED7SkCID",
        "colab_type": "code",
        "outputId": "80289380-04ec-4951-ad59-c6b1b2e571ff",
        "colab": {
          "base_uri": "https://localhost:8080/",
          "height": 661
        }
      },
      "source": [
        "plt.figure(figsize=(12,10))\n",
        "cor = features_df.corr()\n",
        "sns.heatmap(cor, cmap=plt.cm.Reds)\n",
        "plt.show()"
      ],
      "execution_count": 18,
      "outputs": [
        {
          "output_type": "display_data",
          "data": {
            "image/png": "[encoded data removed]",
            "text/plain": [
              "<Figure size 864x720 with 2 Axes>"
            ]
          },
          "metadata": {
            "tags": []
          }
        }
      ]
    },
    {
      "cell_type": "code",
      "metadata": {
        "id": "Jfd1BxiWke-O",
        "colab_type": "code",
        "colab": {}
      },
      "source": [
        "def lin_model_func(features, target):\n",
        "    lin_model = LinearRegression()\n",
        "    x_train = x_train_all[features]\n",
        "    y_train = y_train_all[target]\n",
        "\n",
        "    x_test = x_test_all[features]\n",
        "    y_test = y_test_all[target]\n",
        "\n",
        "    lin_model.fit(x_train, y_train)\n",
        "\n",
        "    # Print parameters and plot - GFS Data\n",
        "    print('Coefficients: \\n', lin_model.coef_)\n",
        "    print(\"The Mean Absolute Error: %.2f degrees celsius\" % mean_absolute_error(y_test, lin_model.predict(x_test)))\n",
        "    print(\"The Median Absolute Error: %.2f degrees celsius\" % median_absolute_error(y_test, lin_model.predict(x_test)))\n",
        "    print(\"The Root Mean Square Error: %.2f degrees celsius \" %  sqrt(mean_squared_error(y_test, lin_model.predict(x_test))))\n",
        "\n",
        "    print('Coefficient of determination: %.2f' % r2_score(y_test, lin_model.predict(x_test)))\n",
        "\n",
        "    return x_test, y_test, lin_model\n"
      ],
      "execution_count": 0,
      "outputs": []
    },
    {
      "cell_type": "markdown",
      "metadata": {
        "id": "S7oKGQv2kh_i",
        "colab_type": "text"
      },
      "source": [
        "Max Temperature"
      ]
    },
    {
      "cell_type": "code",
      "metadata": {
        "id": "ZLN8WGZJSpTX",
        "colab_type": "code",
        "outputId": "c5a78e8d-c418-44f7-96c2-c35dbc315575",
        "colab": {
          "base_uri": "https://localhost:8080/",
          "height": 307
        }
      },
      "source": [
        "# Correlation with output variable \n",
        "cor_target = abs(cor['TMAX_Obs'])\n",
        "\n",
        "relevant_features = cor_target[cor_target>0.80]\n",
        "relevant_features"
      ],
      "execution_count": 19,
      "outputs": [
        {
          "output_type": "execute_result",
          "data": {
            "text/plain": [
              "TMAX_GFS      0.932789\n",
              "TMIN_GFS      0.929750\n",
              "TMAX_Obs      1.000000\n",
              "TMIN_Obs      0.941975\n",
              "DWPC_Surf     0.933012\n",
              "TMPC_Surf     0.983215\n",
              "DWPC_925.0    0.910837\n",
              "DWPC_850.0    0.815406\n",
              "HGHT_925.0    0.910837\n",
              "HGHT_850.0    0.815406\n",
              "TMPC_925.0    0.910837\n",
              "TMPC_850.0    0.815406\n",
              "UWND_925.0    0.910837\n",
              "UWND_850.0    0.815406\n",
              "VWND_925.0    0.910837\n",
              "VWND_850.0    0.815406\n",
              "Name: TMAX_Obs, dtype: float64"
            ]
          },
          "metadata": {
            "tags": []
          },
          "execution_count": 19
        }
      ]
    },
    {
      "cell_type": "code",
      "metadata": {
        "id": "oCB9p_sqfvFO",
        "colab_type": "code",
        "outputId": "575f5923-f1a6-4f11-e65d-2b05cf5d10ac",
        "colab": {
          "base_uri": "https://localhost:8080/",
          "height": 170
        }
      },
      "source": [
        "features = ['TMAX_GFS', 'TMIN_Obs', 'TMIN_GFS', 'DWPC_Surf', 'TMPC_Surf', 'DWPC_925.0', 'DWPC_850.0', 'HGHT_925.0', 'HGHT_850.0', 'TMPC_925.0', 'TMPC_850.0', 'UWND_925.0', 'UWND_850.0', 'VWND_925.0', 'VWND_850.0']\n",
        "target = ['TMAX_Obs']\n",
        "\n",
        "x_test, y_test, lin_model = lin_model_func(features, target)"
      ],
      "execution_count": 38,
      "outputs": [
        {
          "output_type": "stream",
          "text": [
            "Coefficients: \n",
            " [[ 5.50372615e-02  5.02972023e-02  2.29919672e-02  4.98329596e-04\n",
            "   9.49736404e-01  2.21406011e-03 -8.30811341e-03  2.21406011e-03\n",
            "  -8.30811341e-03  2.21406011e-03 -8.30811341e-03  2.21406011e-03\n",
            "  -8.30811341e-03  2.21406011e-03 -8.30811341e-03]]\n",
            "The Mean Absolute Error: 1.53 degrees celsius\n",
            "The Median Absolute Error: 1.30 degrees celsius\n",
            "The Root Mean Square Error: 1.97 degrees celsius \n",
            "Coefficient of determination: 0.97\n"
          ],
          "name": "stdout"
        }
      ]
    },
    {
      "cell_type": "code",
      "metadata": {
        "id": "m4uGsKNeXmJn",
        "colab_type": "code",
        "outputId": "2ca57f34-9e20-4153-bc5f-9e6cc32edda9",
        "colab": {
          "base_uri": "https://localhost:8080/",
          "height": 485
        }
      },
      "source": [
        "# Plot predicted values against observed values \n",
        "time = features_df[features_df['Year']==2019]['Time'].values\n",
        "plt.figure(figsize=(12,8))\n",
        "plt.plot(time, y_test, c='r', label='observation')\n",
        "plt.plot(time, lin_model.predict(x_test), c='g', label='prediction')\n",
        "plt.legend()\n",
        "plt.savefig('linearregression.jpg')"
      ],
      "execution_count": 40,
      "outputs": [
        {
          "output_type": "display_data",
          "data": {
            "image/png": "[encoded data removed]",
            "text/plain": [
              "<Figure size 864x576 with 1 Axes>"
            ]
          },
          "metadata": {
            "tags": []
          }
        }
      ]
    },
    {
      "cell_type": "markdown",
      "metadata": {
        "id": "xC3q2ZnNXKRz",
        "colab_type": "text"
      },
      "source": [
        "Minimum Temperature"
      ]
    },
    {
      "cell_type": "code",
      "metadata": {
        "id": "spNZ84hNaD5u",
        "colab_type": "code",
        "outputId": "ec2ddfa5-7234-40f0-c67b-fe76a3260508",
        "colab": {
          "base_uri": "https://localhost:8080/",
          "height": 307
        }
      },
      "source": [
        "# Correlation with output variable \n",
        "cor_target = abs(cor['TMIN_Obs'])\n",
        "\n",
        "relevant_features = cor_target[cor_target>0.80]\n",
        "relevant_features"
      ],
      "execution_count": 42,
      "outputs": [
        {
          "output_type": "execute_result",
          "data": {
            "text/plain": [
              "TMAX_GFS      0.911077\n",
              "TMIN_GFS      0.927127\n",
              "TMAX_Obs      0.941975\n",
              "TMIN_Obs      1.000000\n",
              "DWPC_Surf     0.950509\n",
              "TMPC_Surf     0.954639\n",
              "DWPC_925.0    0.951224\n",
              "DWPC_850.0    0.876021\n",
              "HGHT_925.0    0.951224\n",
              "HGHT_850.0    0.876021\n",
              "TMPC_925.0    0.951224\n",
              "TMPC_850.0    0.876021\n",
              "UWND_925.0    0.951224\n",
              "UWND_850.0    0.876021\n",
              "VWND_925.0    0.951224\n",
              "VWND_850.0    0.876021\n",
              "Name: TMIN_Obs, dtype: float64"
            ]
          },
          "metadata": {
            "tags": []
          },
          "execution_count": 42
        }
      ]
    },
    {
      "cell_type": "code",
      "metadata": {
        "id": "ehe3WvJ2Vyrw",
        "colab_type": "code",
        "outputId": "83566823-a476-4df5-c1f2-95bd5d4e8bd6",
        "colab": {
          "base_uri": "https://localhost:8080/",
          "height": 153
        }
      },
      "source": [
        "features = ['TMAX_GFS', 'TMIN_GFS', 'TMAX_Obs', 'DWPC_Surf', 'TMPC_Surf', 'DWPC_925.0', 'DWPC_850.0', 'HGHT_925.0', 'HGHT_850.0', 'TMPC_925.0', 'TMPC_850.0', 'UWND_925.0', 'UWND_850.0', 'VWND_925.0', 'VWND_850.0']\n",
        "target = ['TMIN_Obs']\n",
        "x_test, y_test, lin_model = lin_model_func(features, target)"
      ],
      "execution_count": 43,
      "outputs": [
        {
          "output_type": "stream",
          "text": [
            "Coefficients: \n",
            " [[-0.00474308  0.23982924  0.06281258  0.03481845  0.23698709  0.07441879\n",
            "   0.00592653  0.07441879  0.00592653  0.07441879  0.00592653  0.07441879\n",
            "   0.00592653  0.07441879  0.00592653]]\n",
            "The Mean Absolute Error: 2.00 degrees celsius\n",
            "The Median Absolute Error: 1.63 degrees celsius\n",
            "The Root Mean Square Error: 2.61 degrees celsius \n",
            "Coefficient of determination: 0.94\n"
          ],
          "name": "stdout"
        }
      ]
    },
    {
      "cell_type": "markdown",
      "metadata": {
        "id": "r98ufh68W_HL",
        "colab_type": "text"
      },
      "source": [
        "Maximum Wind Speed"
      ]
    },
    {
      "cell_type": "code",
      "metadata": {
        "id": "xaUhD43VXWKF",
        "colab_type": "code",
        "outputId": "70ca0ea8-0dd6-4e91-9c83-19938c441573",
        "colab": {
          "base_uri": "https://localhost:8080/",
          "height": 187
        }
      },
      "source": [
        "# Correlation with output variable \n",
        "cor_target = abs(cor['WMAX_Obs'])\n",
        "\n",
        "relevant_features = cor_target[cor_target>0.3]\n",
        "relevant_features"
      ],
      "execution_count": 44,
      "outputs": [
        {
          "output_type": "execute_result",
          "data": {
            "text/plain": [
              "TMAX_GFS     0.343447\n",
              "TMIN_GFS     0.328572\n",
              "WMAX_GFS     0.435622\n",
              "WMAX_Obs     1.000000\n",
              "D_WMAX       0.666938\n",
              "LCLD_Surf    0.355628\n",
              "UWND_Surf    0.469244\n",
              "VWND_Surf    0.337364\n",
              "WSPD_Surf    0.825063\n",
              "Name: WMAX_Obs, dtype: float64"
            ]
          },
          "metadata": {
            "tags": []
          },
          "execution_count": 44
        }
      ]
    },
    {
      "cell_type": "code",
      "metadata": {
        "id": "4J7Qq66bW9ns",
        "colab_type": "code",
        "outputId": "77454f40-86e3-4ae4-ca98-549b31a36c30",
        "colab": {
          "base_uri": "https://localhost:8080/",
          "height": 136
        }
      },
      "source": [
        "features = ['TMAX_GFS', 'TMIN_GFS', 'WMAX_GFS', 'PRES_Surf', 'WSPD_Surf', 'UWND_Surf', 'LCLD_Surf']\n",
        "target = ['WMAX_Obs']\n",
        "x_test, y_test, lin_model = lin_model_func(features, target)"
      ],
      "execution_count": 45,
      "outputs": [
        {
          "output_type": "stream",
          "text": [
            "Coefficients: \n",
            " [[ 0.00644651 -0.02363717  0.01970253 -0.03089589  0.9516659   0.02734911\n",
            "   0.00109629]]\n",
            "The Mean Absolute Error: 1.24 degrees celsius\n",
            "The Median Absolute Error: 1.02 degrees celsius\n",
            "The Root Mean Square Error: 1.59 degrees celsius \n",
            "Coefficient of determination: 0.71\n"
          ],
          "name": "stdout"
        }
      ]
    },
    {
      "cell_type": "markdown",
      "metadata": {
        "id": "lgMHDeksXOMO",
        "colab_type": "text"
      },
      "source": [
        "Precipitation Accumulation"
      ]
    },
    {
      "cell_type": "code",
      "metadata": {
        "id": "E8AGvGzUbMTn",
        "colab_type": "code",
        "outputId": "a8d35b74-15ef-4da7-ad33-d2eee8375693",
        "colab": {
          "base_uri": "https://localhost:8080/",
          "height": 256
        }
      },
      "source": [
        "# Correlation with output variable \n",
        "cor_target = abs(cor['RTOT_Obs'])\n",
        "\n",
        "relevant_features = cor_target[cor_target>0.26]\n",
        "relevant_features"
      ],
      "execution_count": 26,
      "outputs": [
        {
          "output_type": "execute_result",
          "data": {
            "text/plain": [
              "RTOT_Obs      1.000000\n",
              "D_RTOT        0.610566\n",
              "PRCP_Surf     0.502113\n",
              "DWPC_700.0    0.315228\n",
              "DWPC_500.0    0.305786\n",
              "HGHT_700.0    0.315228\n",
              "HGHT_500.0    0.305786\n",
              "TMPC_700.0    0.315228\n",
              "TMPC_500.0    0.305786\n",
              "UWND_700.0    0.315228\n",
              "UWND_500.0    0.305786\n",
              "VWND_700.0    0.315228\n",
              "VWND_500.0    0.305786\n",
              "Name: RTOT_Obs, dtype: float64"
            ]
          },
          "metadata": {
            "tags": []
          },
          "execution_count": 26
        }
      ]
    },
    {
      "cell_type": "code",
      "metadata": {
        "id": "Po1xCZLQbZzY",
        "colab_type": "code",
        "outputId": "3473aaea-58b2-45fd-a5e8-2713e6aa961b",
        "colab": {
          "base_uri": "https://localhost:8080/",
          "height": 136
        }
      },
      "source": [
        "features = ['PRCP_Surf', 'DWPC_700.0', 'DWPC_500.0', 'HGHT_700.0', 'HGHT_500.0', 'TMPC_700.0', 'TMPC_500.0', 'UWND_700.0', 'UWND_500.0', 'VWND_700.0', 'VWND_500.0']\n",
        "target = ['RTOT_Obs']\n",
        "x_test, y_test, lin_model = lin_model_func(features, target)"
      ],
      "execution_count": 47,
      "outputs": [
        {
          "output_type": "stream",
          "text": [
            "Coefficients: \n",
            " [[0.91589373 0.01010541 0.01055947 0.01010541 0.01055947 0.01010541\n",
            "  0.01055947 0.01010541 0.01055947 0.01010541 0.01055947]]\n",
            "The Mean Absolute Error: 2.32 degrees celsius\n",
            "The Median Absolute Error: 1.18 degrees celsius\n",
            "The Root Mean Square Error: 4.03 degrees celsius \n",
            "Coefficient of determination: 0.36\n"
          ],
          "name": "stdout"
        }
      ]
    },
    {
      "cell_type": "markdown",
      "metadata": {
        "id": "qegtRkJ6ml8P",
        "colab_type": "text"
      },
      "source": [
        "**Random Forest**"
      ]
    },
    {
      "cell_type": "markdown",
      "metadata": {
        "id": "5-3Mf60dd--_",
        "colab_type": "text"
      },
      "source": [
        "Maximum Temperature"
      ]
    },
    {
      "cell_type": "code",
      "metadata": {
        "id": "JRD2X-tUeOCV",
        "colab_type": "code",
        "outputId": "e581a3df-9060-42d2-c6b7-7ee879fd5b0d",
        "colab": {
          "base_uri": "https://localhost:8080/",
          "height": 233
        }
      },
      "source": [
        "# Create random forest regression model \n",
        "# some code adapted from (https://blog.datadive.net/selecting-good-features-part-iii-random-forests/)\n",
        "from sklearn.ensemble import RandomForestRegressor \n",
        "\n",
        "features = ['TMAX_GFS', 'TMIN_GFS', 'WMAX_GFS', 'month_sin', 'month_cos', 'DWPC_Surf', 'TMPC_Surf', 'DWPC_925.0',\n",
        "            'DWPC_850.0', 'HGHT_925.0', 'HGHT_850.0', 'TMPC_925.0', 'TMPC_850.0', 'UWND_925.0', 'UWND_850.0']\n",
        "target = ['TMAX_Obs']\n",
        "\n",
        "x_train = x_train_all[features]\n",
        "y_train = y_train_all[target]\n",
        "\n",
        "x_test = x_test_all[features]\n",
        "y_test = y_test_all[target]\n",
        "\n",
        "# TODO could create empty numpy arrays and then plot the effect of changing estimators and max features on the errors (4 metrics)\n",
        "n_estimators = [1000]\n",
        "max_features = [5]\n",
        "for n in n_estimators: \n",
        "    for m in max_features: \n",
        "        # Train the model \n",
        "        rf_model = RandomForestRegressor(n_estimators=n, max_features=m)\n",
        "        rf_model.fit(x_train, y_train)\n",
        "\n",
        "        # Print parameters and plot\n",
        "        print(\"# of trees =\", n)\n",
        "        print(\"Max features = \", m)\n",
        "        print(\"The Mean Absolute Error: %.2f degrees celsius\" % mean_absolute_error(y_test, rf_model.predict(x_test)))\n",
        "        print(\"The Median Absolute Error: %.2f degrees celsius\" % median_absolute_error(y_test, rf_model.predict(x_test)))\n",
        "        print(\"The Root Mean Square Error: %.2f degrees celsius \" %  sqrt(mean_squared_error(y_test, rf_model.predict(x_test))))\n",
        "        print('Coefficient of determination: %.2f' % r2_score(y_test, rf_model.predict(x_test)))\n",
        "\n",
        "print(sorted(zip(map(lambda x: round(x, 4), rf_model.feature_importances_), features), reverse=True))\n"
      ],
      "execution_count": 1,
      "outputs": [
        {
          "output_type": "error",
          "ename": "NameError",
          "evalue": "ignored",
          "traceback": [
            "\u001b[0;31m---------------------------------------------------------------------------\u001b[0m",
            "\u001b[0;31mNameError\u001b[0m                                 Traceback (most recent call last)",
            "\u001b[0;32m<ipython-input-1-d0cc16db3b13>\u001b[0m in \u001b[0;36m<module>\u001b[0;34m()\u001b[0m\n\u001b[1;32m      5\u001b[0m \u001b[0mtarget\u001b[0m \u001b[0;34m=\u001b[0m \u001b[0;34m[\u001b[0m\u001b[0;34m'TMAX_Obs'\u001b[0m\u001b[0;34m]\u001b[0m\u001b[0;34m\u001b[0m\u001b[0;34m\u001b[0m\u001b[0m\n\u001b[1;32m      6\u001b[0m \u001b[0;34m\u001b[0m\u001b[0m\n\u001b[0;32m----> 7\u001b[0;31m \u001b[0mx_train\u001b[0m \u001b[0;34m=\u001b[0m \u001b[0mx_train_all\u001b[0m\u001b[0;34m[\u001b[0m\u001b[0mfeatures\u001b[0m\u001b[0;34m]\u001b[0m\u001b[0;34m\u001b[0m\u001b[0;34m\u001b[0m\u001b[0m\n\u001b[0m\u001b[1;32m      8\u001b[0m \u001b[0my_train\u001b[0m \u001b[0;34m=\u001b[0m \u001b[0my_train_all\u001b[0m\u001b[0;34m[\u001b[0m\u001b[0mtarget\u001b[0m\u001b[0;34m]\u001b[0m\u001b[0;34m\u001b[0m\u001b[0;34m\u001b[0m\u001b[0m\n\u001b[1;32m      9\u001b[0m \u001b[0;34m\u001b[0m\u001b[0m\n",
            "\u001b[0;31mNameError\u001b[0m: name 'x_train_all' is not defined"
          ]
        }
      ]
    },
    {
      "cell_type": "code",
      "metadata": {
        "id": "lWXOiIPgebOB",
        "colab_type": "code",
        "outputId": "de537ed8-91c0-46ce-8193-ef58576b6a00",
        "colab": {
          "base_uri": "https://localhost:8080/",
          "height": 485
        }
      },
      "source": [
        "# Plot predicted values against observed values \n",
        "time = features_df[features_df['Year']==2019]['Time'].values\n",
        "plt.figure(figsize=(12,8))\n",
        "plt.plot(time, y_test, c='r', label='observation')\n",
        "plt.plot(time, rf_model.predict(x_test), c='g', label='prediction')\n",
        "plt.legend()\n",
        "plt.savefig('randomforest.jpg')\n",
        "plt.show()"
      ],
      "execution_count": 0,
      "outputs": [
        {
          "output_type": "display_data",
          "data": {
            "image/png": "[encoded data removed]",
            "text/plain": [
              "<Figure size 864x576 with 1 Axes>"
            ]
          },
          "metadata": {
            "tags": []
          }
        }
      ]
    },
    {
      "cell_type": "markdown",
      "metadata": {
        "id": "9CfNhTmu6H5m",
        "colab_type": "text"
      },
      "source": [
        "Minimum Temperature"
      ]
    },
    {
      "cell_type": "code",
      "metadata": {
        "id": "Yn8fJOjAempi",
        "colab_type": "code",
        "outputId": "167ec062-1143-4560-96e8-72ee9c54b7de",
        "colab": {
          "base_uri": "https://localhost:8080/",
          "height": 1000
        }
      },
      "source": [
        "# Create random forest regression model \n",
        "# some code adapted from (https://blog.datadive.net/selecting-good-features-part-iii-random-forests/)\n",
        "from sklearn.ensemble import RandomForestRegressor \n",
        "\n",
        "features = ['TMAX_GFS', 'TMIN_GFS', 'DWPC_Surf', 'TMPC_Surf', 'DWPC_925.0', 'DWPC_850.0', 'HGHT_925.0', 'HGHT_850.0', 'TMPC_925.0', 'TMPC_850.0', 'UWND_925.0', 'UWND_850.0', 'VWND_925.0', 'VWND_850.0']\n",
        "target = ['TMIN_Obs']\n",
        "\n",
        "x_train = x_train_all[features]\n",
        "y_train = y_train_all[target]\n",
        "\n",
        "x_test = x_test_all[features]\n",
        "y_test = y_test_all[target]\n",
        "\n",
        "# TODO could create empty numpy arrays and then plot the effect of changing estimators and max features on the errors (4 metrics)\n",
        "n_estimators = [100, 200, 300]\n",
        "max_features = [3, 4, 4]\n",
        "for n in n_estimators: \n",
        "    for m in max_features: \n",
        "        # Train the model \n",
        "        rf_model = RandomForestRegressor(n_estimators=n, max_features=m)\n",
        "        rf_model.fit(x_train, y_train)\n",
        "\n",
        "        # Print parameters and plot\n",
        "        print(\"# of trees =\", n)\n",
        "        print(\"Max features = \", m)\n",
        "        print(\"The Mean Absolute Error: %.2f degrees celsius\" % mean_absolute_error(y_test, rf_model.predict(x_test)))\n",
        "        print(\"The Median Absolute Error: %.2f degrees celsius\" % median_absolute_error(y_test, rf_model.predict(x_test)))\n",
        "        print(\"The Root Mean Square Error: %.2f degrees celsius \" %  sqrt(mean_squared_error(y_test, rf_model.predict(x_test))))\n",
        "        print('Coefficient of determination: %.2f' % r2_score(y_test, rf_model.predict(x_test)))\n",
        "\n",
        "print(sorted(zip(map(lambda x: round(x, 4), rf_model.feature_importances_), features), reverse=True))\n"
      ],
      "execution_count": 0,
      "outputs": [
        {
          "output_type": "stream",
          "text": [
            "/usr/local/lib/python3.6/dist-packages/ipykernel_launcher.py:19: DataConversionWarning: A column-vector y was passed when a 1d array was expected. Please change the shape of y to (n_samples,), for example using ravel().\n"
          ],
          "name": "stderr"
        },
        {
          "output_type": "stream",
          "text": [
            "# of trees = 100\n",
            "Max features =  3\n",
            "The Mean Absolute Error: 1.47 degrees celsius\n",
            "The Median Absolute Error: 1.15 degrees celsius\n",
            "The Root Mean Square Error: 1.95 degrees celsius \n",
            "Coefficient of determination: 0.97\n"
          ],
          "name": "stdout"
        },
        {
          "output_type": "stream",
          "text": [
            "/usr/local/lib/python3.6/dist-packages/ipykernel_launcher.py:19: DataConversionWarning: A column-vector y was passed when a 1d array was expected. Please change the shape of y to (n_samples,), for example using ravel().\n"
          ],
          "name": "stderr"
        },
        {
          "output_type": "stream",
          "text": [
            "# of trees = 100\n",
            "Max features =  4\n",
            "The Mean Absolute Error: 1.40 degrees celsius\n",
            "The Median Absolute Error: 1.09 degrees celsius\n",
            "The Root Mean Square Error: 1.88 degrees celsius \n",
            "Coefficient of determination: 0.97\n"
          ],
          "name": "stdout"
        },
        {
          "output_type": "stream",
          "text": [
            "/usr/local/lib/python3.6/dist-packages/ipykernel_launcher.py:19: DataConversionWarning: A column-vector y was passed when a 1d array was expected. Please change the shape of y to (n_samples,), for example using ravel().\n"
          ],
          "name": "stderr"
        },
        {
          "output_type": "stream",
          "text": [
            "# of trees = 100\n",
            "Max features =  4\n",
            "The Mean Absolute Error: 1.40 degrees celsius\n",
            "The Median Absolute Error: 1.10 degrees celsius\n",
            "The Root Mean Square Error: 1.87 degrees celsius \n",
            "Coefficient of determination: 0.97\n"
          ],
          "name": "stdout"
        },
        {
          "output_type": "stream",
          "text": [
            "/usr/local/lib/python3.6/dist-packages/ipykernel_launcher.py:19: DataConversionWarning: A column-vector y was passed when a 1d array was expected. Please change the shape of y to (n_samples,), for example using ravel().\n"
          ],
          "name": "stderr"
        },
        {
          "output_type": "stream",
          "text": [
            "# of trees = 200\n",
            "Max features =  3\n",
            "The Mean Absolute Error: 1.44 degrees celsius\n",
            "The Median Absolute Error: 1.17 degrees celsius\n",
            "The Root Mean Square Error: 1.92 degrees celsius \n",
            "Coefficient of determination: 0.97\n"
          ],
          "name": "stdout"
        },
        {
          "output_type": "stream",
          "text": [
            "/usr/local/lib/python3.6/dist-packages/ipykernel_launcher.py:19: DataConversionWarning: A column-vector y was passed when a 1d array was expected. Please change the shape of y to (n_samples,), for example using ravel().\n"
          ],
          "name": "stderr"
        },
        {
          "output_type": "stream",
          "text": [
            "# of trees = 200\n",
            "Max features =  4\n",
            "The Mean Absolute Error: 1.42 degrees celsius\n",
            "The Median Absolute Error: 1.12 degrees celsius\n",
            "The Root Mean Square Error: 1.88 degrees celsius \n",
            "Coefficient of determination: 0.97\n"
          ],
          "name": "stdout"
        },
        {
          "output_type": "stream",
          "text": [
            "/usr/local/lib/python3.6/dist-packages/ipykernel_launcher.py:19: DataConversionWarning: A column-vector y was passed when a 1d array was expected. Please change the shape of y to (n_samples,), for example using ravel().\n"
          ],
          "name": "stderr"
        },
        {
          "output_type": "stream",
          "text": [
            "# of trees = 200\n",
            "Max features =  4\n",
            "The Mean Absolute Error: 1.41 degrees celsius\n",
            "The Median Absolute Error: 1.06 degrees celsius\n",
            "The Root Mean Square Error: 1.89 degrees celsius \n",
            "Coefficient of determination: 0.97\n"
          ],
          "name": "stdout"
        },
        {
          "output_type": "stream",
          "text": [
            "/usr/local/lib/python3.6/dist-packages/ipykernel_launcher.py:19: DataConversionWarning: A column-vector y was passed when a 1d array was expected. Please change the shape of y to (n_samples,), for example using ravel().\n"
          ],
          "name": "stderr"
        },
        {
          "output_type": "stream",
          "text": [
            "# of trees = 300\n",
            "Max features =  3\n",
            "The Mean Absolute Error: 1.44 degrees celsius\n",
            "The Median Absolute Error: 1.11 degrees celsius\n",
            "The Root Mean Square Error: 1.92 degrees celsius \n",
            "Coefficient of determination: 0.97\n"
          ],
          "name": "stdout"
        },
        {
          "output_type": "stream",
          "text": [
            "/usr/local/lib/python3.6/dist-packages/ipykernel_launcher.py:19: DataConversionWarning: A column-vector y was passed when a 1d array was expected. Please change the shape of y to (n_samples,), for example using ravel().\n"
          ],
          "name": "stderr"
        },
        {
          "output_type": "stream",
          "text": [
            "# of trees = 300\n",
            "Max features =  4\n",
            "The Mean Absolute Error: 1.40 degrees celsius\n",
            "The Median Absolute Error: 1.12 degrees celsius\n",
            "The Root Mean Square Error: 1.88 degrees celsius \n",
            "Coefficient of determination: 0.97\n"
          ],
          "name": "stdout"
        },
        {
          "output_type": "stream",
          "text": [
            "/usr/local/lib/python3.6/dist-packages/ipykernel_launcher.py:19: DataConversionWarning: A column-vector y was passed when a 1d array was expected. Please change the shape of y to (n_samples,), for example using ravel().\n"
          ],
          "name": "stderr"
        },
        {
          "output_type": "stream",
          "text": [
            "# of trees = 300\n",
            "Max features =  4\n",
            "The Mean Absolute Error: 1.41 degrees celsius\n",
            "The Median Absolute Error: 1.11 degrees celsius\n",
            "The Root Mean Square Error: 1.88 degrees celsius \n",
            "Coefficient of determination: 0.97\n",
            "[(0.3109, 'TMPC_Surf'), (0.2175, 'DWPC_Surf'), (0.0975, 'UWND_925.0'), (0.0848, 'HGHT_925.0'), (0.0795, 'TMPC_925.0'), (0.0788, 'DWPC_925.0'), (0.0696, 'VWND_925.0'), (0.0321, 'TMIN_GFS'), (0.0163, 'TMAX_GFS'), (0.0029, 'DWPC_850.0'), (0.0027, 'VWND_850.0'), (0.0027, 'HGHT_850.0'), (0.0026, 'UWND_850.0'), (0.002, 'TMPC_850.0')]\n"
          ],
          "name": "stdout"
        }
      ]
    },
    {
      "cell_type": "markdown",
      "metadata": {
        "id": "a4VtwN-t6YZg",
        "colab_type": "text"
      },
      "source": [
        "Wind Speed"
      ]
    },
    {
      "cell_type": "code",
      "metadata": {
        "id": "nBrHVB9y6KOo",
        "colab_type": "code",
        "outputId": "3fcbd3e6-a136-43e4-806c-fb4a5ee0a26b",
        "colab": {
          "base_uri": "https://localhost:8080/",
          "height": 1000
        }
      },
      "source": [
        "# Create random forest regression model \n",
        "from sklearn.ensemble import RandomForestRegressor \n",
        "\n",
        "features = ['TMAX_GFS', 'TMIN_GFS', 'WMAX_GFS', 'PRES_Surf', 'WSPD_Surf', 'UWND_Surf']\n",
        "target = ['WMAX_Obs']\n",
        "\n",
        "x_train = x_train_all[features]\n",
        "y_train = y_train_all[target]\n",
        "\n",
        "x_test = x_test_all[features]\n",
        "y_test = y_test_all[target]\n",
        "\n",
        "# TODO could create empty numpy arrays and then plot the effect of changing estimators and max features on the errors (4 metrics)\n",
        "n_estimators = [100, 200, 300]\n",
        "max_features = [3, 4, 4]\n",
        "for n in n_estimators: \n",
        "    for m in max_features: \n",
        "        # Train the model \n",
        "        rf_model = RandomForestRegressor(n_estimators=n, max_features=m)\n",
        "        rf_model.fit(x_train, y_train)\n",
        "\n",
        "        # Print parameters and plot\n",
        "        print(\"# of trees =\", n)\n",
        "        print(\"Max features = \", m)\n",
        "        print(\"The Mean Absolute Error: %.2f degrees celsius\" % mean_absolute_error(y_test, rf_model.predict(x_test)))\n",
        "        print(\"The Median Absolute Error: %.2f degrees celsius\" % median_absolute_error(y_test, rf_model.predict(x_test)))\n",
        "        print(\"The Root Mean Square Error: %.2f degrees celsius \" %  sqrt(mean_squared_error(y_test, rf_model.predict(x_test))))\n",
        "        print('Coefficient of determination: %.2f' % r2_score(y_test, rf_model.predict(x_test)))\n",
        "\n",
        "print(sorted(zip(map(lambda x: round(x, 4), rf_model.feature_importances_), features), reverse=True))\n"
      ],
      "execution_count": 0,
      "outputs": [
        {
          "output_type": "stream",
          "text": [
            "/usr/local/lib/python3.6/dist-packages/ipykernel_launcher.py:19: DataConversionWarning: A column-vector y was passed when a 1d array was expected. Please change the shape of y to (n_samples,), for example using ravel().\n"
          ],
          "name": "stderr"
        },
        {
          "output_type": "stream",
          "text": [
            "# of trees = 100\n",
            "Max features =  3\n",
            "The Mean Absolute Error: 1.67 degrees celsius\n",
            "The Median Absolute Error: 1.40 degrees celsius\n",
            "The Root Mean Square Error: 2.14 degrees celsius \n",
            "Coefficient of determination: 0.49\n"
          ],
          "name": "stdout"
        },
        {
          "output_type": "stream",
          "text": [
            "/usr/local/lib/python3.6/dist-packages/ipykernel_launcher.py:19: DataConversionWarning: A column-vector y was passed when a 1d array was expected. Please change the shape of y to (n_samples,), for example using ravel().\n"
          ],
          "name": "stderr"
        },
        {
          "output_type": "stream",
          "text": [
            "# of trees = 100\n",
            "Max features =  4\n",
            "The Mean Absolute Error: 1.66 degrees celsius\n",
            "The Median Absolute Error: 1.40 degrees celsius\n",
            "The Root Mean Square Error: 2.13 degrees celsius \n",
            "Coefficient of determination: 0.49\n"
          ],
          "name": "stdout"
        },
        {
          "output_type": "stream",
          "text": [
            "/usr/local/lib/python3.6/dist-packages/ipykernel_launcher.py:19: DataConversionWarning: A column-vector y was passed when a 1d array was expected. Please change the shape of y to (n_samples,), for example using ravel().\n"
          ],
          "name": "stderr"
        },
        {
          "output_type": "stream",
          "text": [
            "# of trees = 100\n",
            "Max features =  4\n",
            "The Mean Absolute Error: 1.67 degrees celsius\n",
            "The Median Absolute Error: 1.39 degrees celsius\n",
            "The Root Mean Square Error: 2.13 degrees celsius \n",
            "Coefficient of determination: 0.49\n"
          ],
          "name": "stdout"
        },
        {
          "output_type": "stream",
          "text": [
            "/usr/local/lib/python3.6/dist-packages/ipykernel_launcher.py:19: DataConversionWarning: A column-vector y was passed when a 1d array was expected. Please change the shape of y to (n_samples,), for example using ravel().\n"
          ],
          "name": "stderr"
        },
        {
          "output_type": "stream",
          "text": [
            "# of trees = 200\n",
            "Max features =  3\n",
            "The Mean Absolute Error: 1.67 degrees celsius\n",
            "The Median Absolute Error: 1.38 degrees celsius\n",
            "The Root Mean Square Error: 2.14 degrees celsius \n",
            "Coefficient of determination: 0.48\n"
          ],
          "name": "stdout"
        },
        {
          "output_type": "stream",
          "text": [
            "/usr/local/lib/python3.6/dist-packages/ipykernel_launcher.py:19: DataConversionWarning: A column-vector y was passed when a 1d array was expected. Please change the shape of y to (n_samples,), for example using ravel().\n"
          ],
          "name": "stderr"
        },
        {
          "output_type": "stream",
          "text": [
            "# of trees = 200\n",
            "Max features =  4\n",
            "The Mean Absolute Error: 1.65 degrees celsius\n",
            "The Median Absolute Error: 1.35 degrees celsius\n",
            "The Root Mean Square Error: 2.12 degrees celsius \n",
            "Coefficient of determination: 0.49\n"
          ],
          "name": "stdout"
        },
        {
          "output_type": "stream",
          "text": [
            "/usr/local/lib/python3.6/dist-packages/ipykernel_launcher.py:19: DataConversionWarning: A column-vector y was passed when a 1d array was expected. Please change the shape of y to (n_samples,), for example using ravel().\n"
          ],
          "name": "stderr"
        },
        {
          "output_type": "stream",
          "text": [
            "# of trees = 200\n",
            "Max features =  4\n",
            "The Mean Absolute Error: 1.66 degrees celsius\n",
            "The Median Absolute Error: 1.40 degrees celsius\n",
            "The Root Mean Square Error: 2.12 degrees celsius \n",
            "Coefficient of determination: 0.49\n"
          ],
          "name": "stdout"
        },
        {
          "output_type": "stream",
          "text": [
            "/usr/local/lib/python3.6/dist-packages/ipykernel_launcher.py:19: DataConversionWarning: A column-vector y was passed when a 1d array was expected. Please change the shape of y to (n_samples,), for example using ravel().\n"
          ],
          "name": "stderr"
        },
        {
          "output_type": "stream",
          "text": [
            "# of trees = 300\n",
            "Max features =  3\n",
            "The Mean Absolute Error: 1.67 degrees celsius\n",
            "The Median Absolute Error: 1.35 degrees celsius\n",
            "The Root Mean Square Error: 2.13 degrees celsius \n",
            "Coefficient of determination: 0.49\n"
          ],
          "name": "stdout"
        },
        {
          "output_type": "stream",
          "text": [
            "/usr/local/lib/python3.6/dist-packages/ipykernel_launcher.py:19: DataConversionWarning: A column-vector y was passed when a 1d array was expected. Please change the shape of y to (n_samples,), for example using ravel().\n"
          ],
          "name": "stderr"
        },
        {
          "output_type": "stream",
          "text": [
            "# of trees = 300\n",
            "Max features =  4\n",
            "The Mean Absolute Error: 1.66 degrees celsius\n",
            "The Median Absolute Error: 1.40 degrees celsius\n",
            "The Root Mean Square Error: 2.13 degrees celsius \n",
            "Coefficient of determination: 0.49\n"
          ],
          "name": "stdout"
        },
        {
          "output_type": "stream",
          "text": [
            "/usr/local/lib/python3.6/dist-packages/ipykernel_launcher.py:19: DataConversionWarning: A column-vector y was passed when a 1d array was expected. Please change the shape of y to (n_samples,), for example using ravel().\n"
          ],
          "name": "stderr"
        },
        {
          "output_type": "stream",
          "text": [
            "# of trees = 300\n",
            "Max features =  4\n",
            "The Mean Absolute Error: 1.66 degrees celsius\n",
            "The Median Absolute Error: 1.40 degrees celsius\n",
            "The Root Mean Square Error: 2.13 degrees celsius \n",
            "Coefficient of determination: 0.49\n",
            "[(0.4, 'WSPD_Surf'), (0.2066, 'PRES_Surf'), (0.1226, 'WMAX_GFS'), (0.1134, 'TMAX_GFS'), (0.0808, 'UWND_Surf'), (0.0766, 'TMIN_GFS')]\n"
          ],
          "name": "stdout"
        }
      ]
    },
    {
      "cell_type": "markdown",
      "metadata": {
        "id": "IvsCkxMh6nDR",
        "colab_type": "text"
      },
      "source": [
        "Precipitation"
      ]
    },
    {
      "cell_type": "code",
      "metadata": {
        "id": "YkGTr_Wq6fz8",
        "colab_type": "code",
        "outputId": "ffc8c6db-6a33-40f4-9ebc-bbec0f3049fc",
        "colab": {
          "base_uri": "https://localhost:8080/",
          "height": 1000
        }
      },
      "source": [
        "# Create random forest regression model \n",
        "from sklearn.ensemble import RandomForestRegressor \n",
        "\n",
        "features = ['D_RTOT', 'PRCP_Surf', 'DWPC_700.0', 'DWPC_500.0', 'HGHT_700.0', 'HGHT_500.0', 'TMPC_700.0', 'TMPC_500.0', 'UWND_700.0', 'UWND_500.0', 'VWND_700.0', 'VWND_500.0']\n",
        "target = ['RTOT_Obs']\n",
        "\n",
        "x_train = x_train_all[features]\n",
        "y_train = y_train_all[target]\n",
        "\n",
        "x_test = x_test_all[features]\n",
        "y_test = y_test_all[target]\n",
        "\n",
        "# TODO could create empty numpy arrays and then plot the effect of changing estimators and max features on the errors (4 metrics)\n",
        "n_estimators = [100, 200, 300]\n",
        "max_features = [3, 4, 4]\n",
        "for n in n_estimators: \n",
        "    for m in max_features: \n",
        "        # Train the model \n",
        "        rf_model = RandomForestRegressor(n_estimators=n, max_features=m)\n",
        "        rf_model.fit(x_train, y_train)\n",
        "\n",
        "        # Print parameters and plot\n",
        "        print(\"# of trees =\", n)\n",
        "        print(\"Max features = \", m)\n",
        "        print(\"The Mean Absolute Error: %.2f degrees celsius\" % mean_absolute_error(y_test, rf_model.predict(x_test)))\n",
        "        print(\"The Median Absolute Error: %.2f degrees celsius\" % median_absolute_error(y_test, rf_model.predict(x_test)))\n",
        "        print(\"The Root Mean Square Error: %.2f degrees celsius \" %  sqrt(mean_squared_error(y_test, rf_model.predict(x_test))))\n",
        "        print('Coefficient of determination: %.2f' % r2_score(y_test, rf_model.predict(x_test)))\n",
        "\n",
        "print(sorted(zip(map(lambda x: round(x, 4), rf_model.feature_importances_), features), reverse=True))\n"
      ],
      "execution_count": 0,
      "outputs": [
        {
          "output_type": "stream",
          "text": [
            "/usr/local/lib/python3.6/dist-packages/ipykernel_launcher.py:19: DataConversionWarning: A column-vector y was passed when a 1d array was expected. Please change the shape of y to (n_samples,), for example using ravel().\n"
          ],
          "name": "stderr"
        },
        {
          "output_type": "stream",
          "text": [
            "# of trees = 100\n",
            "Max features =  3\n",
            "The Mean Absolute Error: 1.16 degrees celsius\n",
            "The Median Absolute Error: 0.40 degrees celsius\n",
            "The Root Mean Square Error: 2.33 degrees celsius \n",
            "Coefficient of determination: 0.79\n"
          ],
          "name": "stdout"
        },
        {
          "output_type": "stream",
          "text": [
            "/usr/local/lib/python3.6/dist-packages/ipykernel_launcher.py:19: DataConversionWarning: A column-vector y was passed when a 1d array was expected. Please change the shape of y to (n_samples,), for example using ravel().\n"
          ],
          "name": "stderr"
        },
        {
          "output_type": "stream",
          "text": [
            "# of trees = 100\n",
            "Max features =  4\n",
            "The Mean Absolute Error: 1.05 degrees celsius\n",
            "The Median Absolute Error: 0.38 degrees celsius\n",
            "The Root Mean Square Error: 2.10 degrees celsius \n",
            "Coefficient of determination: 0.83\n"
          ],
          "name": "stdout"
        },
        {
          "output_type": "stream",
          "text": [
            "/usr/local/lib/python3.6/dist-packages/ipykernel_launcher.py:19: DataConversionWarning: A column-vector y was passed when a 1d array was expected. Please change the shape of y to (n_samples,), for example using ravel().\n"
          ],
          "name": "stderr"
        },
        {
          "output_type": "stream",
          "text": [
            "# of trees = 100\n",
            "Max features =  4\n",
            "The Mean Absolute Error: 1.02 degrees celsius\n",
            "The Median Absolute Error: 0.32 degrees celsius\n",
            "The Root Mean Square Error: 2.06 degrees celsius \n",
            "Coefficient of determination: 0.83\n"
          ],
          "name": "stdout"
        },
        {
          "output_type": "stream",
          "text": [
            "/usr/local/lib/python3.6/dist-packages/ipykernel_launcher.py:19: DataConversionWarning: A column-vector y was passed when a 1d array was expected. Please change the shape of y to (n_samples,), for example using ravel().\n"
          ],
          "name": "stderr"
        },
        {
          "output_type": "stream",
          "text": [
            "# of trees = 200\n",
            "Max features =  3\n",
            "The Mean Absolute Error: 1.12 degrees celsius\n",
            "The Median Absolute Error: 0.39 degrees celsius\n",
            "The Root Mean Square Error: 2.22 degrees celsius \n",
            "Coefficient of determination: 0.81\n"
          ],
          "name": "stdout"
        },
        {
          "output_type": "stream",
          "text": [
            "/usr/local/lib/python3.6/dist-packages/ipykernel_launcher.py:19: DataConversionWarning: A column-vector y was passed when a 1d array was expected. Please change the shape of y to (n_samples,), for example using ravel().\n"
          ],
          "name": "stderr"
        },
        {
          "output_type": "stream",
          "text": [
            "# of trees = 200\n",
            "Max features =  4\n",
            "The Mean Absolute Error: 1.02 degrees celsius\n",
            "The Median Absolute Error: 0.34 degrees celsius\n",
            "The Root Mean Square Error: 2.07 degrees celsius \n",
            "Coefficient of determination: 0.83\n"
          ],
          "name": "stdout"
        },
        {
          "output_type": "stream",
          "text": [
            "/usr/local/lib/python3.6/dist-packages/ipykernel_launcher.py:19: DataConversionWarning: A column-vector y was passed when a 1d array was expected. Please change the shape of y to (n_samples,), for example using ravel().\n"
          ],
          "name": "stderr"
        },
        {
          "output_type": "stream",
          "text": [
            "# of trees = 200\n",
            "Max features =  4\n",
            "The Mean Absolute Error: 1.03 degrees celsius\n",
            "The Median Absolute Error: 0.36 degrees celsius\n",
            "The Root Mean Square Error: 2.08 degrees celsius \n",
            "Coefficient of determination: 0.83\n"
          ],
          "name": "stdout"
        },
        {
          "output_type": "stream",
          "text": [
            "/usr/local/lib/python3.6/dist-packages/ipykernel_launcher.py:19: DataConversionWarning: A column-vector y was passed when a 1d array was expected. Please change the shape of y to (n_samples,), for example using ravel().\n"
          ],
          "name": "stderr"
        },
        {
          "output_type": "stream",
          "text": [
            "# of trees = 300\n",
            "Max features =  3\n",
            "The Mean Absolute Error: 1.12 degrees celsius\n",
            "The Median Absolute Error: 0.43 degrees celsius\n",
            "The Root Mean Square Error: 2.22 degrees celsius \n",
            "Coefficient of determination: 0.81\n"
          ],
          "name": "stdout"
        },
        {
          "output_type": "stream",
          "text": [
            "/usr/local/lib/python3.6/dist-packages/ipykernel_launcher.py:19: DataConversionWarning: A column-vector y was passed when a 1d array was expected. Please change the shape of y to (n_samples,), for example using ravel().\n"
          ],
          "name": "stderr"
        },
        {
          "output_type": "stream",
          "text": [
            "# of trees = 300\n",
            "Max features =  4\n",
            "The Mean Absolute Error: 1.02 degrees celsius\n",
            "The Median Absolute Error: 0.34 degrees celsius\n",
            "The Root Mean Square Error: 2.08 degrees celsius \n",
            "Coefficient of determination: 0.83\n"
          ],
          "name": "stdout"
        },
        {
          "output_type": "stream",
          "text": [
            "/usr/local/lib/python3.6/dist-packages/ipykernel_launcher.py:19: DataConversionWarning: A column-vector y was passed when a 1d array was expected. Please change the shape of y to (n_samples,), for example using ravel().\n"
          ],
          "name": "stderr"
        },
        {
          "output_type": "stream",
          "text": [
            "# of trees = 300\n",
            "Max features =  4\n",
            "The Mean Absolute Error: 1.03 degrees celsius\n",
            "The Median Absolute Error: 0.33 degrees celsius\n",
            "The Root Mean Square Error: 2.09 degrees celsius \n",
            "Coefficient of determination: 0.83\n",
            "[(0.6784, 'D_RTOT'), (0.04, 'DWPC_700.0'), (0.0361, 'TMPC_700.0'), (0.0348, 'VWND_700.0'), (0.0347, 'HGHT_700.0'), (0.034, 'UWND_700.0'), (0.03, 'VWND_500.0'), (0.0292, 'TMPC_500.0'), (0.0287, 'DWPC_500.0'), (0.0279, 'UWND_500.0'), (0.0262, 'HGHT_500.0'), (0.0, 'PRCP_Surf')]\n"
          ],
          "name": "stdout"
        }
      ]
    },
    {
      "cell_type": "code",
      "metadata": {
        "id": "uaBo74gc6zU5",
        "colab_type": "code",
        "colab": {}
      },
      "source": [
        ""
      ],
      "execution_count": 0,
      "outputs": []
    }
  ]
}