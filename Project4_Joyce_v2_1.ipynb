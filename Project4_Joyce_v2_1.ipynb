{
  "nbformat": 4,
  "nbformat_minor": 0,
  "metadata": {
    "colab": {
      "name": "Project4_Joyce_v2.1.ipynb",
      "provenance": [],
      "collapsed_sections": [],
      "include_colab_link": true
    },
    "kernelspec": {
      "name": "python3",
      "display_name": "Python 3"
    }
  },
  "cells": [
    {
      "cell_type": "markdown",
      "metadata": {
        "id": "view-in-github",
        "colab_type": "text"
      },
      "source": [
        "<a href=\"https://colab.research.google.com/github/joyceee916/ATMS-597-SP-2020-Project-4/blob/master/Project4_Joyce_v2_1.ipynb\" target=\"_parent\"><img src=\"https://colab.research.google.com/assets/colab-badge.svg\" alt=\"Open In Colab\"/></a>"
      ]
    },
    {
      "cell_type": "code",
      "metadata": {
        "id": "3iMKWBqoeNSW",
        "colab_type": "code",
        "colab": {
          "base_uri": "https://localhost:8080/",
          "height": 51
        },
        "outputId": "4e1a3f96-dbb2-4561-8f56-766254655802"
      },
      "source": [
        "%matplotlib inline \n",
        "import matplotlib.pyplot as plt \n",
        "import numpy as np \n",
        "import pandas as pd\n",
        "import seaborn as sns; sns.set()"
      ],
      "execution_count": 1,
      "outputs": [
        {
          "output_type": "stream",
          "text": [
            "/usr/local/lib/python3.6/dist-packages/statsmodels/tools/_testing.py:19: FutureWarning: pandas.util.testing is deprecated. Use the functions in the public API at pandas.testing instead.\n",
            "  import pandas.util.testing as tm\n"
          ],
          "name": "stderr"
        }
      ]
    },
    {
      "cell_type": "code",
      "metadata": {
        "id": "_E__je3EeiqH",
        "colab_type": "code",
        "outputId": "9ebc65cb-9d38-4f6e-b0a1-040e22ea455b",
        "colab": {
          "base_uri": "https://localhost:8080/",
          "height": 34
        }
      },
      "source": [
        "cd /content/drive/My Drive/ATMS 597/Project4"
      ],
      "execution_count": 4,
      "outputs": [
        {
          "output_type": "stream",
          "text": [
            "/content/drive/My Drive/ATMS 597/Project4\n"
          ],
          "name": "stdout"
        }
      ]
    },
    {
      "cell_type": "markdown",
      "metadata": {
        "id": "ZgwTJfU4exg2",
        "colab_type": "text"
      },
      "source": [
        "Importing KCMI Observational Data"
      ]
    },
    {
      "cell_type": "code",
      "metadata": {
        "id": "ArV8TZNqq7jH",
        "colab_type": "code",
        "colab": {
          "base_uri": "https://localhost:8080/",
          "height": 34
        },
        "outputId": "00a460a2-b0bd-4c96-e6bf-d2bcb8d2fc0b"
      },
      "source": [
        "from google.colab import drive\n",
        "drive.mount('/content/drive')"
      ],
      "execution_count": 33,
      "outputs": [
        {
          "output_type": "stream",
          "text": [
            "Drive already mounted at /content/drive; to attempt to forcibly remount, call drive.mount(\"/content/drive\", force_remount=True).\n"
          ],
          "name": "stdout"
        }
      ]
    },
    {
      "cell_type": "code",
      "metadata": {
        "id": "CcTPFozaej1b",
        "colab_type": "code",
        "outputId": "45b53faa-9f27-4cc1-b73d-da4eff4e00c0",
        "colab": {
          "base_uri": "https://localhost:8080/",
          "height": 227
        }
      },
      "source": [
        "KCMI_daily = pd.read_csv(\"KCMI_daily_format.csv\", parse_dates=True, index_col='Date')\n",
        "KCMI_daily.rename(columns={'TMAX(C)': 'TMAX_Obs', 'TMIN(C)': 'TMIN_Obs', 'WMAX(M/s)': 'WMAX_Obs', 'PREC(mm}': 'RTOT_Obs'}, inplace = True)\n",
        "KCMI_daily.dropna(inplace=True)\n",
        "KCMI_daily.index = KCMI_daily.index + pd.DateOffset(hours=12)  \n",
        "KCMI_daily = KCMI_daily.rename_axis('Time')\n",
        "KCMI_daily.head()"
      ],
      "execution_count": 5,
      "outputs": [
        {
          "output_type": "execute_result",
          "data": {
            "text/html": [
              "<div>\n",
              "<style scoped>\n",
              "    .dataframe tbody tr th:only-of-type {\n",
              "        vertical-align: middle;\n",
              "    }\n",
              "\n",
              "    .dataframe tbody tr th {\n",
              "        vertical-align: top;\n",
              "    }\n",
              "\n",
              "    .dataframe thead th {\n",
              "        text-align: right;\n",
              "    }\n",
              "</style>\n",
              "<table border=\"1\" class=\"dataframe\">\n",
              "  <thead>\n",
              "    <tr style=\"text-align: right;\">\n",
              "      <th></th>\n",
              "      <th>TMAX_Obs</th>\n",
              "      <th>TMIN_Obs</th>\n",
              "      <th>WMAX_Obs</th>\n",
              "      <th>RTOT_Obs</th>\n",
              "    </tr>\n",
              "    <tr>\n",
              "      <th>Time</th>\n",
              "      <th></th>\n",
              "      <th></th>\n",
              "      <th></th>\n",
              "      <th></th>\n",
              "    </tr>\n",
              "  </thead>\n",
              "  <tbody>\n",
              "    <tr>\n",
              "      <th>2010-01-01 12:00:00</th>\n",
              "      <td>-11.111111</td>\n",
              "      <td>-16.666667</td>\n",
              "      <td>6.70560</td>\n",
              "      <td>0.0</td>\n",
              "    </tr>\n",
              "    <tr>\n",
              "      <th>2010-01-02 12:00:00</th>\n",
              "      <td>-14.444444</td>\n",
              "      <td>-20.555556</td>\n",
              "      <td>6.70560</td>\n",
              "      <td>0.0</td>\n",
              "    </tr>\n",
              "    <tr>\n",
              "      <th>2010-01-03 12:00:00</th>\n",
              "      <td>-12.222222</td>\n",
              "      <td>-21.111111</td>\n",
              "      <td>4.91744</td>\n",
              "      <td>0.0</td>\n",
              "    </tr>\n",
              "    <tr>\n",
              "      <th>2010-01-04 12:00:00</th>\n",
              "      <td>-11.666667</td>\n",
              "      <td>-18.888889</td>\n",
              "      <td>8.94080</td>\n",
              "      <td>0.0</td>\n",
              "    </tr>\n",
              "    <tr>\n",
              "      <th>2010-01-05 12:00:00</th>\n",
              "      <td>-12.222222</td>\n",
              "      <td>-18.333333</td>\n",
              "      <td>7.15264</td>\n",
              "      <td>0.0</td>\n",
              "    </tr>\n",
              "  </tbody>\n",
              "</table>\n",
              "</div>"
            ],
            "text/plain": [
              "                      TMAX_Obs   TMIN_Obs  WMAX_Obs  RTOT_Obs\n",
              "Time                                                         \n",
              "2010-01-01 12:00:00 -11.111111 -16.666667   6.70560       0.0\n",
              "2010-01-02 12:00:00 -14.444444 -20.555556   6.70560       0.0\n",
              "2010-01-03 12:00:00 -12.222222 -21.111111   4.91744       0.0\n",
              "2010-01-04 12:00:00 -11.666667 -18.888889   8.94080       0.0\n",
              "2010-01-05 12:00:00 -12.222222 -18.333333   7.15264       0.0"
            ]
          },
          "metadata": {
            "tags": []
          },
          "execution_count": 5
        }
      ]
    },
    {
      "cell_type": "markdown",
      "metadata": {
        "id": "_sAvydztfJiU",
        "colab_type": "text"
      },
      "source": [
        "GFS Daily Model "
      ]
    },
    {
      "cell_type": "code",
      "metadata": {
        "id": "T-X7NldofDi4",
        "colab_type": "code",
        "outputId": "18f56c24-7dd6-4e32-e454-38423b7fee4d",
        "colab": {
          "base_uri": "https://localhost:8080/",
          "height": 227
        }
      },
      "source": [
        "GFS_daily = pd.read_csv(\"GFS_daily_2010_2019_test.csv\", parse_dates=True, index_col='Time')\n",
        "GFS_daily.drop(columns=\"Unnamed: 0\", inplace=True)\n",
        "GFS_daily.rename(columns={'TMAX': 'TMAX_GFS', 'TMIN': 'TMIN_GFS', 'WMAX': 'WMAX_GFS', 'RTOT': 'RTOT_GFS'}, inplace = True)\n",
        "GFS_daily.dropna(inplace=True)\n",
        "GFS_daily.head()"
      ],
      "execution_count": 7,
      "outputs": [
        {
          "output_type": "execute_result",
          "data": {
            "text/html": [
              "<div>\n",
              "<style scoped>\n",
              "    .dataframe tbody tr th:only-of-type {\n",
              "        vertical-align: middle;\n",
              "    }\n",
              "\n",
              "    .dataframe tbody tr th {\n",
              "        vertical-align: top;\n",
              "    }\n",
              "\n",
              "    .dataframe thead th {\n",
              "        text-align: right;\n",
              "    }\n",
              "</style>\n",
              "<table border=\"1\" class=\"dataframe\">\n",
              "  <thead>\n",
              "    <tr style=\"text-align: right;\">\n",
              "      <th></th>\n",
              "      <th>TMAX_GFS</th>\n",
              "      <th>TMIN_GFS</th>\n",
              "      <th>WMAX_GFS</th>\n",
              "      <th>RTOT_GFS</th>\n",
              "    </tr>\n",
              "    <tr>\n",
              "      <th>Time</th>\n",
              "      <th></th>\n",
              "      <th></th>\n",
              "      <th></th>\n",
              "      <th></th>\n",
              "    </tr>\n",
              "  </thead>\n",
              "  <tbody>\n",
              "    <tr>\n",
              "      <th>2010-01-01 12:00:00</th>\n",
              "      <td>-11.26</td>\n",
              "      <td>-16.46</td>\n",
              "      <td>7.323933</td>\n",
              "      <td>0.05</td>\n",
              "    </tr>\n",
              "    <tr>\n",
              "      <th>2010-01-02 12:00:00</th>\n",
              "      <td>-10.16</td>\n",
              "      <td>-15.96</td>\n",
              "      <td>4.687217</td>\n",
              "      <td>0.00</td>\n",
              "    </tr>\n",
              "    <tr>\n",
              "      <th>2010-01-03 12:00:00</th>\n",
              "      <td>-9.96</td>\n",
              "      <td>-14.36</td>\n",
              "      <td>5.941380</td>\n",
              "      <td>0.06</td>\n",
              "    </tr>\n",
              "    <tr>\n",
              "      <th>2010-01-04 12:00:00</th>\n",
              "      <td>-8.46</td>\n",
              "      <td>-12.86</td>\n",
              "      <td>5.685068</td>\n",
              "      <td>0.17</td>\n",
              "    </tr>\n",
              "    <tr>\n",
              "      <th>2010-01-05 12:00:00</th>\n",
              "      <td>-7.16</td>\n",
              "      <td>-11.06</td>\n",
              "      <td>3.794733</td>\n",
              "      <td>0.77</td>\n",
              "    </tr>\n",
              "  </tbody>\n",
              "</table>\n",
              "</div>"
            ],
            "text/plain": [
              "                     TMAX_GFS  TMIN_GFS  WMAX_GFS  RTOT_GFS\n",
              "Time                                                       \n",
              "2010-01-01 12:00:00    -11.26    -16.46  7.323933      0.05\n",
              "2010-01-02 12:00:00    -10.16    -15.96  4.687217      0.00\n",
              "2010-01-03 12:00:00     -9.96    -14.36  5.941380      0.06\n",
              "2010-01-04 12:00:00     -8.46    -12.86  5.685068      0.17\n",
              "2010-01-05 12:00:00     -7.16    -11.06  3.794733      0.77"
            ]
          },
          "metadata": {
            "tags": []
          },
          "execution_count": 7
        }
      ]
    },
    {
      "cell_type": "markdown",
      "metadata": {
        "id": "yYy7u_a4EWbm",
        "colab_type": "text"
      },
      "source": [
        "GFS Surface Data"
      ]
    },
    {
      "cell_type": "code",
      "metadata": {
        "id": "YTUOe09YEY7R",
        "colab_type": "code",
        "colab": {}
      },
      "source": [
        "GFS_surface = pd.read_csv(\"GFS_Sfc_new.csv\", parse_dates=True, index_col='Time')\n",
        "GFS_surface.rename(columns={'DWPC': 'DWPC_Surf', 'HCLD': 'HCLD_Surf', 'LCLD': 'LCLD_Surf', 'MCLD': 'MCLD_Surf',\n",
        "                            'PRCP': 'PRCP_Surf', 'PRES': 'PRES_Surf', 'TMPC': 'TMPC_Surf', 'UWND': 'UWND_Surf',\n",
        "                            'VWND': 'VWND_Surf', 'WSPD': 'WSPD_Surf'}, inplace = True)\n",
        "GFS_surface.dropna(inplace=True)\n",
        "GFS_surface.head(10)\n",
        "GFS_surface.replace({9999.0: np.nan}, inplace=True)\n",
        "GFS_surface.replace({-9999.0: np.nan}, inplace=True)"
      ],
      "execution_count": 0,
      "outputs": []
    },
    {
      "cell_type": "code",
      "metadata": {
        "id": "OJI37Pq6nQGe",
        "colab_type": "code",
        "outputId": "fd41df29-bf85-495b-96e0-66059efdfe5b",
        "colab": {
          "base_uri": "https://localhost:8080/",
          "height": 376
        }
      },
      "source": [
        "# shift data back 6 hours and resample by day \n",
        "GFS_surface.index = GFS_surface.index + pd.DateOffset(hours = -6)\n",
        "GFS_surface = GFS_surface.resample('24H').max()\n",
        "\n",
        "# shift the data forward 12 hours for ease of merging with other datasets \n",
        "GFS_surface.index = GFS_surface.index + pd.DateOffset(hours = 12)\n",
        "GFS_surface.head(10)"
      ],
      "execution_count": 9,
      "outputs": [
        {
          "output_type": "execute_result",
          "data": {
            "text/html": [
              "<div>\n",
              "<style scoped>\n",
              "    .dataframe tbody tr th:only-of-type {\n",
              "        vertical-align: middle;\n",
              "    }\n",
              "\n",
              "    .dataframe tbody tr th {\n",
              "        vertical-align: top;\n",
              "    }\n",
              "\n",
              "    .dataframe thead th {\n",
              "        text-align: right;\n",
              "    }\n",
              "</style>\n",
              "<table border=\"1\" class=\"dataframe\">\n",
              "  <thead>\n",
              "    <tr style=\"text-align: right;\">\n",
              "      <th></th>\n",
              "      <th>DWPC_Surf</th>\n",
              "      <th>HCLD_Surf</th>\n",
              "      <th>LCLD_Surf</th>\n",
              "      <th>MCLD_Surf</th>\n",
              "      <th>PRCP_Surf</th>\n",
              "      <th>PRES_Surf</th>\n",
              "      <th>TMPC_Surf</th>\n",
              "      <th>UWND_Surf</th>\n",
              "      <th>VWND_Surf</th>\n",
              "      <th>WSPD_Surf</th>\n",
              "    </tr>\n",
              "    <tr>\n",
              "      <th>Time</th>\n",
              "      <th></th>\n",
              "      <th></th>\n",
              "      <th></th>\n",
              "      <th></th>\n",
              "      <th></th>\n",
              "      <th></th>\n",
              "      <th></th>\n",
              "      <th></th>\n",
              "      <th></th>\n",
              "      <th></th>\n",
              "    </tr>\n",
              "  </thead>\n",
              "  <tbody>\n",
              "    <tr>\n",
              "      <th>2010-01-02 12:00:00</th>\n",
              "      <td>-13.74</td>\n",
              "      <td>0.0</td>\n",
              "      <td>100.0</td>\n",
              "      <td>1.0</td>\n",
              "      <td>0.04</td>\n",
              "      <td>1002.0</td>\n",
              "      <td>-11.26</td>\n",
              "      <td>4.9</td>\n",
              "      <td>-4.0</td>\n",
              "      <td>7.323933</td>\n",
              "    </tr>\n",
              "    <tr>\n",
              "      <th>2010-01-03 12:00:00</th>\n",
              "      <td>-14.21</td>\n",
              "      <td>42.0</td>\n",
              "      <td>7.0</td>\n",
              "      <td>1.0</td>\n",
              "      <td>0.00</td>\n",
              "      <td>1001.8</td>\n",
              "      <td>-10.16</td>\n",
              "      <td>3.6</td>\n",
              "      <td>-2.5</td>\n",
              "      <td>4.687217</td>\n",
              "    </tr>\n",
              "    <tr>\n",
              "      <th>2010-01-04 12:00:00</th>\n",
              "      <td>-12.63</td>\n",
              "      <td>95.0</td>\n",
              "      <td>99.0</td>\n",
              "      <td>91.0</td>\n",
              "      <td>0.03</td>\n",
              "      <td>999.8</td>\n",
              "      <td>-9.96</td>\n",
              "      <td>4.4</td>\n",
              "      <td>-3.5</td>\n",
              "      <td>5.941380</td>\n",
              "    </tr>\n",
              "    <tr>\n",
              "      <th>2010-01-05 12:00:00</th>\n",
              "      <td>-10.75</td>\n",
              "      <td>94.0</td>\n",
              "      <td>100.0</td>\n",
              "      <td>67.0</td>\n",
              "      <td>0.03</td>\n",
              "      <td>997.3</td>\n",
              "      <td>-8.46</td>\n",
              "      <td>4.6</td>\n",
              "      <td>-2.7</td>\n",
              "      <td>5.685068</td>\n",
              "    </tr>\n",
              "    <tr>\n",
              "      <th>2010-01-06 12:00:00</th>\n",
              "      <td>-9.45</td>\n",
              "      <td>90.0</td>\n",
              "      <td>100.0</td>\n",
              "      <td>100.0</td>\n",
              "      <td>0.05</td>\n",
              "      <td>996.0</td>\n",
              "      <td>-7.16</td>\n",
              "      <td>3.6</td>\n",
              "      <td>0.1</td>\n",
              "      <td>3.794733</td>\n",
              "    </tr>\n",
              "    <tr>\n",
              "      <th>2010-01-07 12:00:00</th>\n",
              "      <td>-6.13</td>\n",
              "      <td>100.0</td>\n",
              "      <td>100.0</td>\n",
              "      <td>100.0</td>\n",
              "      <td>2.06</td>\n",
              "      <td>992.5</td>\n",
              "      <td>-5.46</td>\n",
              "      <td>5.3</td>\n",
              "      <td>2.4</td>\n",
              "      <td>6.888396</td>\n",
              "    </tr>\n",
              "    <tr>\n",
              "      <th>2010-01-08 12:00:00</th>\n",
              "      <td>-4.15</td>\n",
              "      <td>34.0</td>\n",
              "      <td>100.0</td>\n",
              "      <td>6.0</td>\n",
              "      <td>0.63</td>\n",
              "      <td>1000.0</td>\n",
              "      <td>-3.46</td>\n",
              "      <td>5.3</td>\n",
              "      <td>-2.0</td>\n",
              "      <td>8.645230</td>\n",
              "    </tr>\n",
              "    <tr>\n",
              "      <th>2010-01-09 12:00:00</th>\n",
              "      <td>-10.81</td>\n",
              "      <td>0.0</td>\n",
              "      <td>100.0</td>\n",
              "      <td>0.0</td>\n",
              "      <td>0.02</td>\n",
              "      <td>1004.9</td>\n",
              "      <td>-8.56</td>\n",
              "      <td>2.9</td>\n",
              "      <td>-2.4</td>\n",
              "      <td>4.441846</td>\n",
              "    </tr>\n",
              "    <tr>\n",
              "      <th>2010-01-10 12:00:00</th>\n",
              "      <td>-9.09</td>\n",
              "      <td>80.0</td>\n",
              "      <td>3.0</td>\n",
              "      <td>62.0</td>\n",
              "      <td>0.00</td>\n",
              "      <td>1005.7</td>\n",
              "      <td>-7.26</td>\n",
              "      <td>4.3</td>\n",
              "      <td>5.7</td>\n",
              "      <td>6.824954</td>\n",
              "    </tr>\n",
              "    <tr>\n",
              "      <th>2010-01-11 12:00:00</th>\n",
              "      <td>-4.06</td>\n",
              "      <td>100.0</td>\n",
              "      <td>100.0</td>\n",
              "      <td>100.0</td>\n",
              "      <td>0.32</td>\n",
              "      <td>999.4</td>\n",
              "      <td>-2.86</td>\n",
              "      <td>5.8</td>\n",
              "      <td>5.0</td>\n",
              "      <td>6.931089</td>\n",
              "    </tr>\n",
              "  </tbody>\n",
              "</table>\n",
              "</div>"
            ],
            "text/plain": [
              "                     DWPC_Surf  HCLD_Surf  ...  VWND_Surf  WSPD_Surf\n",
              "Time                                       ...                      \n",
              "2010-01-02 12:00:00     -13.74        0.0  ...       -4.0   7.323933\n",
              "2010-01-03 12:00:00     -14.21       42.0  ...       -2.5   4.687217\n",
              "2010-01-04 12:00:00     -12.63       95.0  ...       -3.5   5.941380\n",
              "2010-01-05 12:00:00     -10.75       94.0  ...       -2.7   5.685068\n",
              "2010-01-06 12:00:00      -9.45       90.0  ...        0.1   3.794733\n",
              "2010-01-07 12:00:00      -6.13      100.0  ...        2.4   6.888396\n",
              "2010-01-08 12:00:00      -4.15       34.0  ...       -2.0   8.645230\n",
              "2010-01-09 12:00:00     -10.81        0.0  ...       -2.4   4.441846\n",
              "2010-01-10 12:00:00      -9.09       80.0  ...        5.7   6.824954\n",
              "2010-01-11 12:00:00      -4.06      100.0  ...        5.0   6.931089\n",
              "\n",
              "[10 rows x 10 columns]"
            ]
          },
          "metadata": {
            "tags": []
          },
          "execution_count": 9
        }
      ]
    },
    {
      "cell_type": "markdown",
      "metadata": {
        "id": "CgCUakQREd6w",
        "colab_type": "text"
      },
      "source": [
        "GFS Profile Data"
      ]
    },
    {
      "cell_type": "code",
      "metadata": {
        "colab_type": "code",
        "id": "nIov24U6OwRL",
        "outputId": "55cc5dfa-2d5b-409d-9388-8225a5d1c294",
        "colab": {
          "base_uri": "https://localhost:8080/",
          "height": 417
        }
      },
      "source": [
        "GFS_profile = pd.read_csv('GFS_profile_new.csv', index_col='Time', parse_dates=True)\n",
        "\n",
        "def extract_var_GFS_profile(var, level):\n",
        "    list = []\n",
        "    levels = [925.0, 850.0, 700.0, 500.0, 250.0, 100.0]\n",
        "    x = levels.index(level)\n",
        "    h = GFS_profile[var].str.strip('[|]|,').values\n",
        "    for i in range(0,len(GFS_profile)):\n",
        "        e = h[i].split(',')[x]\n",
        "        list.append(e)\n",
        "    new_col_name = var + '_' + str(level) + '_mean'\n",
        "    GFS_profile[new_col_name]=list\n",
        "\n",
        "GFS_profile_names = ['DWPC', 'HGHT', 'TMPC', 'UWND', 'VWND']\n",
        "levels = [925.0, 850.0, 700.0, 500.0]\n",
        "for i in GFS_profile_names:\n",
        "    for j in levels:        \n",
        "        extract_var_GFS_profile(i,j)\n",
        "GFS_profile = GFS_profile.drop(GFS_profile_names, axis=1)\n",
        "GFS_profile = GFS_profile.drop('PRES', axis=1)\n",
        "GFS_profile.dropna(inplace=True)\n",
        "GFS_profile = GFS_profile.astype(float)\n",
        "\n",
        "GFS_profile.index = GFS_profile.index + pd.DateOffset(hours = -6)\n",
        "GFS_profile = GFS_profile.resample('24H').mean()\n",
        "GFS_profile.index = GFS_profile.index + pd.DateOffset(hours = 12)\n",
        "GFS_profile.head()"
      ],
      "execution_count": 47,
      "outputs": [
        {
          "output_type": "execute_result",
          "data": {
            "text/html": [
              "<div>\n",
              "<style scoped>\n",
              "    .dataframe tbody tr th:only-of-type {\n",
              "        vertical-align: middle;\n",
              "    }\n",
              "\n",
              "    .dataframe tbody tr th {\n",
              "        vertical-align: top;\n",
              "    }\n",
              "\n",
              "    .dataframe thead th {\n",
              "        text-align: right;\n",
              "    }\n",
              "</style>\n",
              "<table border=\"1\" class=\"dataframe\">\n",
              "  <thead>\n",
              "    <tr style=\"text-align: right;\">\n",
              "      <th></th>\n",
              "      <th>DWPC_925.0_mean</th>\n",
              "      <th>DWPC_850.0_mean</th>\n",
              "      <th>DWPC_700.0_mean</th>\n",
              "      <th>DWPC_500.0_mean</th>\n",
              "      <th>HGHT_925.0_mean</th>\n",
              "      <th>HGHT_850.0_mean</th>\n",
              "      <th>HGHT_700.0_mean</th>\n",
              "      <th>HGHT_500.0_mean</th>\n",
              "      <th>TMPC_925.0_mean</th>\n",
              "      <th>TMPC_850.0_mean</th>\n",
              "      <th>TMPC_700.0_mean</th>\n",
              "      <th>TMPC_500.0_mean</th>\n",
              "      <th>UWND_925.0_mean</th>\n",
              "      <th>UWND_850.0_mean</th>\n",
              "      <th>UWND_700.0_mean</th>\n",
              "      <th>UWND_500.0_mean</th>\n",
              "      <th>VWND_925.0_mean</th>\n",
              "      <th>VWND_850.0_mean</th>\n",
              "      <th>VWND_700.0_mean</th>\n",
              "      <th>VWND_500.0_mean</th>\n",
              "    </tr>\n",
              "    <tr>\n",
              "      <th>Time</th>\n",
              "      <th></th>\n",
              "      <th></th>\n",
              "      <th></th>\n",
              "      <th></th>\n",
              "      <th></th>\n",
              "      <th></th>\n",
              "      <th></th>\n",
              "      <th></th>\n",
              "      <th></th>\n",
              "      <th></th>\n",
              "      <th></th>\n",
              "      <th></th>\n",
              "      <th></th>\n",
              "      <th></th>\n",
              "      <th></th>\n",
              "      <th></th>\n",
              "      <th></th>\n",
              "      <th></th>\n",
              "      <th></th>\n",
              "      <th></th>\n",
              "    </tr>\n",
              "  </thead>\n",
              "  <tbody>\n",
              "    <tr>\n",
              "      <th>2010-01-02 12:00:00</th>\n",
              "      <td>-25.221669</td>\n",
              "      <td>-31.631814</td>\n",
              "      <td>-42.343174</td>\n",
              "      <td>-49.713078</td>\n",
              "      <td>820.874537</td>\n",
              "      <td>1458.322588</td>\n",
              "      <td>2924.016943</td>\n",
              "      <td>5404.973406</td>\n",
              "      <td>-17.736537</td>\n",
              "      <td>-15.005516</td>\n",
              "      <td>-16.276659</td>\n",
              "      <td>-26.871957</td>\n",
              "      <td>8.917408</td>\n",
              "      <td>11.668451</td>\n",
              "      <td>24.957946</td>\n",
              "      <td>49.957403</td>\n",
              "      <td>-18.631944</td>\n",
              "      <td>-22.035223</td>\n",
              "      <td>-36.006022</td>\n",
              "      <td>-53.129106</td>\n",
              "    </tr>\n",
              "    <tr>\n",
              "      <th>2010-01-03 12:00:00</th>\n",
              "      <td>-24.612461</td>\n",
              "      <td>-33.524255</td>\n",
              "      <td>-45.006084</td>\n",
              "      <td>-38.011418</td>\n",
              "      <td>825.026208</td>\n",
              "      <td>1466.561942</td>\n",
              "      <td>2943.248216</td>\n",
              "      <td>5429.166073</td>\n",
              "      <td>-14.528163</td>\n",
              "      <td>-13.728910</td>\n",
              "      <td>-14.633226</td>\n",
              "      <td>-28.177380</td>\n",
              "      <td>0.966968</td>\n",
              "      <td>2.928479</td>\n",
              "      <td>13.929298</td>\n",
              "      <td>34.531889</td>\n",
              "      <td>-8.503009</td>\n",
              "      <td>-12.642454</td>\n",
              "      <td>-22.324673</td>\n",
              "      <td>-29.460048</td>\n",
              "    </tr>\n",
              "    <tr>\n",
              "      <th>2010-01-04 12:00:00</th>\n",
              "      <td>-19.773137</td>\n",
              "      <td>-24.218344</td>\n",
              "      <td>-25.096941</td>\n",
              "      <td>-42.369095</td>\n",
              "      <td>808.518112</td>\n",
              "      <td>1455.589841</td>\n",
              "      <td>2932.208504</td>\n",
              "      <td>5390.650047</td>\n",
              "      <td>-13.448896</td>\n",
              "      <td>-11.433527</td>\n",
              "      <td>-16.459748</td>\n",
              "      <td>-31.019731</td>\n",
              "      <td>7.613226</td>\n",
              "      <td>6.086299</td>\n",
              "      <td>6.925063</td>\n",
              "      <td>7.042113</td>\n",
              "      <td>-18.257766</td>\n",
              "      <td>-18.436342</td>\n",
              "      <td>-22.440240</td>\n",
              "      <td>-22.675592</td>\n",
              "    </tr>\n",
              "    <tr>\n",
              "      <th>2010-01-05 12:00:00</th>\n",
              "      <td>-15.254223</td>\n",
              "      <td>-17.749616</td>\n",
              "      <td>-24.500529</td>\n",
              "      <td>-39.556158</td>\n",
              "      <td>796.682736</td>\n",
              "      <td>1446.840629</td>\n",
              "      <td>2934.372470</td>\n",
              "      <td>5413.979393</td>\n",
              "      <td>-12.478941</td>\n",
              "      <td>-9.982257</td>\n",
              "      <td>-14.372026</td>\n",
              "      <td>-29.423196</td>\n",
              "      <td>7.118404</td>\n",
              "      <td>5.853575</td>\n",
              "      <td>9.920349</td>\n",
              "      <td>12.764679</td>\n",
              "      <td>-15.989024</td>\n",
              "      <td>-18.744676</td>\n",
              "      <td>-22.421572</td>\n",
              "      <td>-19.083133</td>\n",
              "    </tr>\n",
              "    <tr>\n",
              "      <th>2010-01-06 12:00:00</th>\n",
              "      <td>-16.456283</td>\n",
              "      <td>-26.308794</td>\n",
              "      <td>-26.778580</td>\n",
              "      <td>-37.508100</td>\n",
              "      <td>787.429840</td>\n",
              "      <td>1442.774700</td>\n",
              "      <td>2938.356597</td>\n",
              "      <td>5443.111685</td>\n",
              "      <td>-9.918127</td>\n",
              "      <td>-8.066827</td>\n",
              "      <td>-13.002703</td>\n",
              "      <td>-26.093287</td>\n",
              "      <td>7.004508</td>\n",
              "      <td>9.396605</td>\n",
              "      <td>16.897229</td>\n",
              "      <td>30.434990</td>\n",
              "      <td>-6.298893</td>\n",
              "      <td>-7.324372</td>\n",
              "      <td>-8.470288</td>\n",
              "      <td>-15.845163</td>\n",
              "    </tr>\n",
              "  </tbody>\n",
              "</table>\n",
              "</div>"
            ],
            "text/plain": [
              "                     DWPC_925.0_mean  ...  VWND_500.0_mean\n",
              "Time                                  ...                 \n",
              "2010-01-02 12:00:00       -25.221669  ...       -53.129106\n",
              "2010-01-03 12:00:00       -24.612461  ...       -29.460048\n",
              "2010-01-04 12:00:00       -19.773137  ...       -22.675592\n",
              "2010-01-05 12:00:00       -15.254223  ...       -19.083133\n",
              "2010-01-06 12:00:00       -16.456283  ...       -15.845163\n",
              "\n",
              "[5 rows x 20 columns]"
            ]
          },
          "metadata": {
            "tags": []
          },
          "execution_count": 47
        }
      ]
    },
    {
      "cell_type": "code",
      "metadata": {
        "id": "0S4fjg2XtiMD",
        "colab_type": "code",
        "colab": {
          "base_uri": "https://localhost:8080/",
          "height": 417
        },
        "outputId": "6bb368c6-6e9e-4609-d8b4-0f09556ffcf6"
      },
      "source": [
        "GFS_profile = pd.read_csv('GFS_profile_new.csv', index_col='Time', parse_dates=True)\n",
        "h=GFS_profile.DWPC.str.strip('[|]|,').values\n",
        "\n",
        "def extract_var_GFS_profile(var, level):\n",
        "    list = []\n",
        "    levels = [925.0, 850.0, 700.0, 500.0, 250.0, 100.0]\n",
        "    x = levels.index(level)\n",
        "    for i in range(0,len(GFS_profile)):\n",
        "        e = h[i].split(',')[x]\n",
        "        list.append(e)\n",
        "    new_col_name = var + '_' + str(level) + '_min'\n",
        "    GFS_profile[new_col_name]=list\n",
        "GFS_profile_names = ['DWPC', 'HGHT', 'TMPC', 'UWND', 'VWND']\n",
        "levels = [925.0, 850.0, 700.0, 500.0]\n",
        "for i in GFS_profile_names:\n",
        "    for j in levels:        \n",
        "        extract_var_GFS_profile(i,j)\n",
        "GFS_profile = GFS_profile.drop(GFS_profile_names, axis=1)\n",
        "GFS_profile = GFS_profile.drop('PRES', axis=1)\n",
        "GFS_profile.dropna(inplace=True)\n",
        "GFS_profile = GFS_profile.astype(float)\n",
        "\n",
        "GFS_profile.index = GFS_profile.index + pd.DateOffset(hours = -6)\n",
        "GFS_profile = GFS_profile.resample('24H').min()\n",
        "GFS_profile.index = GFS_profile.index + pd.DateOffset(hours = 12)\n",
        "GFS_profile.head()"
      ],
      "execution_count": 37,
      "outputs": [
        {
          "output_type": "execute_result",
          "data": {
            "text/html": [
              "<div>\n",
              "<style scoped>\n",
              "    .dataframe tbody tr th:only-of-type {\n",
              "        vertical-align: middle;\n",
              "    }\n",
              "\n",
              "    .dataframe tbody tr th {\n",
              "        vertical-align: top;\n",
              "    }\n",
              "\n",
              "    .dataframe thead th {\n",
              "        text-align: right;\n",
              "    }\n",
              "</style>\n",
              "<table border=\"1\" class=\"dataframe\">\n",
              "  <thead>\n",
              "    <tr style=\"text-align: right;\">\n",
              "      <th></th>\n",
              "      <th>DWPC_925.0_min</th>\n",
              "      <th>DWPC_850.0_min</th>\n",
              "      <th>DWPC_700.0_min</th>\n",
              "      <th>DWPC_500.0_min</th>\n",
              "      <th>HGHT_925.0_min</th>\n",
              "      <th>HGHT_850.0_min</th>\n",
              "      <th>HGHT_700.0_min</th>\n",
              "      <th>HGHT_500.0_min</th>\n",
              "      <th>TMPC_925.0_min</th>\n",
              "      <th>TMPC_850.0_min</th>\n",
              "      <th>TMPC_700.0_min</th>\n",
              "      <th>TMPC_500.0_min</th>\n",
              "      <th>UWND_925.0_min</th>\n",
              "      <th>UWND_850.0_min</th>\n",
              "      <th>UWND_700.0_min</th>\n",
              "      <th>UWND_500.0_min</th>\n",
              "      <th>VWND_925.0_min</th>\n",
              "      <th>VWND_850.0_min</th>\n",
              "      <th>VWND_700.0_min</th>\n",
              "      <th>VWND_500.0_min</th>\n",
              "    </tr>\n",
              "    <tr>\n",
              "      <th>Time</th>\n",
              "      <th></th>\n",
              "      <th></th>\n",
              "      <th></th>\n",
              "      <th></th>\n",
              "      <th></th>\n",
              "      <th></th>\n",
              "      <th></th>\n",
              "      <th></th>\n",
              "      <th></th>\n",
              "      <th></th>\n",
              "      <th></th>\n",
              "      <th></th>\n",
              "      <th></th>\n",
              "      <th></th>\n",
              "      <th></th>\n",
              "      <th></th>\n",
              "      <th></th>\n",
              "      <th></th>\n",
              "      <th></th>\n",
              "      <th></th>\n",
              "    </tr>\n",
              "  </thead>\n",
              "  <tbody>\n",
              "    <tr>\n",
              "      <th>2010-01-02 12:00:00</th>\n",
              "      <td>-29.030483</td>\n",
              "      <td>-37.651972</td>\n",
              "      <td>-43.782516</td>\n",
              "      <td>-61.130393</td>\n",
              "      <td>-29.030483</td>\n",
              "      <td>-37.651972</td>\n",
              "      <td>-43.782516</td>\n",
              "      <td>-61.130393</td>\n",
              "      <td>-29.030483</td>\n",
              "      <td>-37.651972</td>\n",
              "      <td>-43.782516</td>\n",
              "      <td>-61.130393</td>\n",
              "      <td>-29.030483</td>\n",
              "      <td>-37.651972</td>\n",
              "      <td>-43.782516</td>\n",
              "      <td>-61.130393</td>\n",
              "      <td>-29.030483</td>\n",
              "      <td>-37.651972</td>\n",
              "      <td>-43.782516</td>\n",
              "      <td>-61.130393</td>\n",
              "    </tr>\n",
              "    <tr>\n",
              "      <th>2010-01-03 12:00:00</th>\n",
              "      <td>-28.167222</td>\n",
              "      <td>-37.752113</td>\n",
              "      <td>-54.588994</td>\n",
              "      <td>-44.951972</td>\n",
              "      <td>-28.167222</td>\n",
              "      <td>-37.752113</td>\n",
              "      <td>-54.588994</td>\n",
              "      <td>-44.951972</td>\n",
              "      <td>-28.167222</td>\n",
              "      <td>-37.752113</td>\n",
              "      <td>-54.588994</td>\n",
              "      <td>-44.951972</td>\n",
              "      <td>-28.167222</td>\n",
              "      <td>-37.752113</td>\n",
              "      <td>-54.588994</td>\n",
              "      <td>-44.951972</td>\n",
              "      <td>-28.167222</td>\n",
              "      <td>-37.752113</td>\n",
              "      <td>-54.588994</td>\n",
              "      <td>-44.951972</td>\n",
              "    </tr>\n",
              "    <tr>\n",
              "      <th>2010-01-04 12:00:00</th>\n",
              "      <td>-25.736667</td>\n",
              "      <td>-28.880000</td>\n",
              "      <td>-33.074543</td>\n",
              "      <td>-55.621521</td>\n",
              "      <td>-25.736667</td>\n",
              "      <td>-28.880000</td>\n",
              "      <td>-33.074543</td>\n",
              "      <td>-55.621521</td>\n",
              "      <td>-25.736667</td>\n",
              "      <td>-28.880000</td>\n",
              "      <td>-33.074543</td>\n",
              "      <td>-55.621521</td>\n",
              "      <td>-25.736667</td>\n",
              "      <td>-28.880000</td>\n",
              "      <td>-33.074543</td>\n",
              "      <td>-55.621521</td>\n",
              "      <td>-25.736667</td>\n",
              "      <td>-28.880000</td>\n",
              "      <td>-33.074543</td>\n",
              "      <td>-55.621521</td>\n",
              "    </tr>\n",
              "    <tr>\n",
              "      <th>2010-01-05 12:00:00</th>\n",
              "      <td>-16.711462</td>\n",
              "      <td>-27.261374</td>\n",
              "      <td>-32.457111</td>\n",
              "      <td>-49.697932</td>\n",
              "      <td>-16.711462</td>\n",
              "      <td>-27.261374</td>\n",
              "      <td>-32.457111</td>\n",
              "      <td>-49.697932</td>\n",
              "      <td>-16.711462</td>\n",
              "      <td>-27.261374</td>\n",
              "      <td>-32.457111</td>\n",
              "      <td>-49.697932</td>\n",
              "      <td>-16.711462</td>\n",
              "      <td>-27.261374</td>\n",
              "      <td>-32.457111</td>\n",
              "      <td>-49.697932</td>\n",
              "      <td>-16.711462</td>\n",
              "      <td>-27.261374</td>\n",
              "      <td>-32.457111</td>\n",
              "      <td>-49.697932</td>\n",
              "    </tr>\n",
              "    <tr>\n",
              "      <th>2010-01-06 12:00:00</th>\n",
              "      <td>-18.422791</td>\n",
              "      <td>-33.553223</td>\n",
              "      <td>-35.033016</td>\n",
              "      <td>-48.678754</td>\n",
              "      <td>-18.422791</td>\n",
              "      <td>-33.553223</td>\n",
              "      <td>-35.033016</td>\n",
              "      <td>-48.678754</td>\n",
              "      <td>-18.422791</td>\n",
              "      <td>-33.553223</td>\n",
              "      <td>-35.033016</td>\n",
              "      <td>-48.678754</td>\n",
              "      <td>-18.422791</td>\n",
              "      <td>-33.553223</td>\n",
              "      <td>-35.033016</td>\n",
              "      <td>-48.678754</td>\n",
              "      <td>-18.422791</td>\n",
              "      <td>-33.553223</td>\n",
              "      <td>-35.033016</td>\n",
              "      <td>-48.678754</td>\n",
              "    </tr>\n",
              "  </tbody>\n",
              "</table>\n",
              "</div>"
            ],
            "text/plain": [
              "                     DWPC_925.0_min  ...  VWND_500.0_min\n",
              "Time                                 ...                \n",
              "2010-01-02 12:00:00      -29.030483  ...      -61.130393\n",
              "2010-01-03 12:00:00      -28.167222  ...      -44.951972\n",
              "2010-01-04 12:00:00      -25.736667  ...      -55.621521\n",
              "2010-01-05 12:00:00      -16.711462  ...      -49.697932\n",
              "2010-01-06 12:00:00      -18.422791  ...      -48.678754\n",
              "\n",
              "[5 rows x 20 columns]"
            ]
          },
          "metadata": {
            "tags": []
          },
          "execution_count": 37
        }
      ]
    },
    {
      "cell_type": "markdown",
      "metadata": {
        "id": "U4plHoZCEqrz",
        "colab_type": "text"
      },
      "source": [
        "Combine Datasets"
      ]
    },
    {
      "cell_type": "code",
      "metadata": {
        "id": "mpce8I7ugQ9W",
        "colab_type": "code",
        "outputId": "d8fa21f3-b241-4660-e9ee-f91ae2e87012",
        "colab": {
          "base_uri": "https://localhost:8080/",
          "height": 405
        }
      },
      "source": [
        "# Combine GFS daily and KCMI daily\n",
        "df1 = pd.merge(GFS_daily.reset_index(), KCMI_daily.reset_index(), on='Time', how='inner')\n",
        "df1.Time = pd.to_datetime(df1.Time)\n",
        "df1['Year'] = df1.Time.dt.year\n",
        "df1['D_TMAX'] = df1['TMAX_GFS']-df1['TMAX_Obs']\n",
        "df1['D_TMIN'] = df1['TMIN_GFS']-df1['TMIN_Obs']\n",
        "df1['D_WMAX'] = df1['WMAX_GFS']-df1['WMAX_Obs']\n",
        "df1['D_RTOT'] = df1['RTOT_GFS']-df1['RTOT_Obs']\n",
        "df1"
      ],
      "execution_count": 48,
      "outputs": [
        {
          "output_type": "execute_result",
          "data": {
            "text/html": [
              "<div>\n",
              "<style scoped>\n",
              "    .dataframe tbody tr th:only-of-type {\n",
              "        vertical-align: middle;\n",
              "    }\n",
              "\n",
              "    .dataframe tbody tr th {\n",
              "        vertical-align: top;\n",
              "    }\n",
              "\n",
              "    .dataframe thead th {\n",
              "        text-align: right;\n",
              "    }\n",
              "</style>\n",
              "<table border=\"1\" class=\"dataframe\">\n",
              "  <thead>\n",
              "    <tr style=\"text-align: right;\">\n",
              "      <th></th>\n",
              "      <th>Time</th>\n",
              "      <th>TMAX_GFS</th>\n",
              "      <th>TMIN_GFS</th>\n",
              "      <th>WMAX_GFS</th>\n",
              "      <th>RTOT_GFS</th>\n",
              "      <th>TMAX_Obs</th>\n",
              "      <th>TMIN_Obs</th>\n",
              "      <th>WMAX_Obs</th>\n",
              "      <th>RTOT_Obs</th>\n",
              "      <th>Year</th>\n",
              "      <th>D_TMAX</th>\n",
              "      <th>D_TMIN</th>\n",
              "      <th>D_WMAX</th>\n",
              "      <th>D_RTOT</th>\n",
              "    </tr>\n",
              "  </thead>\n",
              "  <tbody>\n",
              "    <tr>\n",
              "      <th>0</th>\n",
              "      <td>2010-01-01 12:00:00</td>\n",
              "      <td>-11.26</td>\n",
              "      <td>-16.46</td>\n",
              "      <td>7.323933</td>\n",
              "      <td>0.05</td>\n",
              "      <td>-11.111111</td>\n",
              "      <td>-16.666667</td>\n",
              "      <td>6.70560</td>\n",
              "      <td>0.0</td>\n",
              "      <td>2010</td>\n",
              "      <td>-0.148889</td>\n",
              "      <td>0.206667</td>\n",
              "      <td>0.618333</td>\n",
              "      <td>0.05</td>\n",
              "    </tr>\n",
              "    <tr>\n",
              "      <th>1</th>\n",
              "      <td>2010-01-02 12:00:00</td>\n",
              "      <td>-10.16</td>\n",
              "      <td>-15.96</td>\n",
              "      <td>4.687217</td>\n",
              "      <td>0.00</td>\n",
              "      <td>-14.444444</td>\n",
              "      <td>-20.555556</td>\n",
              "      <td>6.70560</td>\n",
              "      <td>0.0</td>\n",
              "      <td>2010</td>\n",
              "      <td>4.284444</td>\n",
              "      <td>4.595556</td>\n",
              "      <td>-2.018383</td>\n",
              "      <td>0.00</td>\n",
              "    </tr>\n",
              "    <tr>\n",
              "      <th>2</th>\n",
              "      <td>2010-01-03 12:00:00</td>\n",
              "      <td>-9.96</td>\n",
              "      <td>-14.36</td>\n",
              "      <td>5.941380</td>\n",
              "      <td>0.06</td>\n",
              "      <td>-12.222222</td>\n",
              "      <td>-21.111111</td>\n",
              "      <td>4.91744</td>\n",
              "      <td>0.0</td>\n",
              "      <td>2010</td>\n",
              "      <td>2.262222</td>\n",
              "      <td>6.751111</td>\n",
              "      <td>1.023940</td>\n",
              "      <td>0.06</td>\n",
              "    </tr>\n",
              "    <tr>\n",
              "      <th>3</th>\n",
              "      <td>2010-01-04 12:00:00</td>\n",
              "      <td>-8.46</td>\n",
              "      <td>-12.86</td>\n",
              "      <td>5.685068</td>\n",
              "      <td>0.17</td>\n",
              "      <td>-11.666667</td>\n",
              "      <td>-18.888889</td>\n",
              "      <td>8.94080</td>\n",
              "      <td>0.0</td>\n",
              "      <td>2010</td>\n",
              "      <td>3.206667</td>\n",
              "      <td>6.028889</td>\n",
              "      <td>-3.255732</td>\n",
              "      <td>0.17</td>\n",
              "    </tr>\n",
              "    <tr>\n",
              "      <th>4</th>\n",
              "      <td>2010-01-05 12:00:00</td>\n",
              "      <td>-7.16</td>\n",
              "      <td>-11.06</td>\n",
              "      <td>3.794733</td>\n",
              "      <td>0.77</td>\n",
              "      <td>-12.222222</td>\n",
              "      <td>-18.333333</td>\n",
              "      <td>7.15264</td>\n",
              "      <td>0.0</td>\n",
              "      <td>2010</td>\n",
              "      <td>5.062222</td>\n",
              "      <td>7.273333</td>\n",
              "      <td>-3.357907</td>\n",
              "      <td>0.77</td>\n",
              "    </tr>\n",
              "    <tr>\n",
              "      <th>...</th>\n",
              "      <td>...</td>\n",
              "      <td>...</td>\n",
              "      <td>...</td>\n",
              "      <td>...</td>\n",
              "      <td>...</td>\n",
              "      <td>...</td>\n",
              "      <td>...</td>\n",
              "      <td>...</td>\n",
              "      <td>...</td>\n",
              "      <td>...</td>\n",
              "      <td>...</td>\n",
              "      <td>...</td>\n",
              "      <td>...</td>\n",
              "      <td>...</td>\n",
              "    </tr>\n",
              "    <tr>\n",
              "      <th>3571</th>\n",
              "      <td>2019-12-27 12:00:00</td>\n",
              "      <td>13.94</td>\n",
              "      <td>3.54</td>\n",
              "      <td>8.819297</td>\n",
              "      <td>2.73</td>\n",
              "      <td>6.111111</td>\n",
              "      <td>0.000000</td>\n",
              "      <td>6.70560</td>\n",
              "      <td>0.0</td>\n",
              "      <td>2019</td>\n",
              "      <td>7.828889</td>\n",
              "      <td>3.540000</td>\n",
              "      <td>2.113697</td>\n",
              "      <td>2.73</td>\n",
              "    </tr>\n",
              "    <tr>\n",
              "      <th>3572</th>\n",
              "      <td>2019-12-28 12:00:00</td>\n",
              "      <td>15.94</td>\n",
              "      <td>9.34</td>\n",
              "      <td>9.701546</td>\n",
              "      <td>11.58</td>\n",
              "      <td>13.333333</td>\n",
              "      <td>0.000000</td>\n",
              "      <td>10.28192</td>\n",
              "      <td>2.8</td>\n",
              "      <td>2019</td>\n",
              "      <td>2.606667</td>\n",
              "      <td>9.340000</td>\n",
              "      <td>-0.580374</td>\n",
              "      <td>8.78</td>\n",
              "    </tr>\n",
              "    <tr>\n",
              "      <th>3573</th>\n",
              "      <td>2019-12-29 12:00:00</td>\n",
              "      <td>7.24</td>\n",
              "      <td>-1.66</td>\n",
              "      <td>11.111256</td>\n",
              "      <td>2.57</td>\n",
              "      <td>15.000000</td>\n",
              "      <td>5.000000</td>\n",
              "      <td>10.28192</td>\n",
              "      <td>4.3</td>\n",
              "      <td>2019</td>\n",
              "      <td>-7.760000</td>\n",
              "      <td>-6.660000</td>\n",
              "      <td>0.829336</td>\n",
              "      <td>-1.73</td>\n",
              "    </tr>\n",
              "    <tr>\n",
              "      <th>3574</th>\n",
              "      <td>2019-12-30 12:00:00</td>\n",
              "      <td>-0.36</td>\n",
              "      <td>-2.26</td>\n",
              "      <td>8.769265</td>\n",
              "      <td>0.04</td>\n",
              "      <td>3.333333</td>\n",
              "      <td>-0.555556</td>\n",
              "      <td>11.62304</td>\n",
              "      <td>0.6</td>\n",
              "      <td>2019</td>\n",
              "      <td>-3.693333</td>\n",
              "      <td>-1.704444</td>\n",
              "      <td>-2.853775</td>\n",
              "      <td>-0.56</td>\n",
              "    </tr>\n",
              "    <tr>\n",
              "      <th>3575</th>\n",
              "      <td>2019-12-31 12:00:00</td>\n",
              "      <td>6.44</td>\n",
              "      <td>-2.36</td>\n",
              "      <td>8.287340</td>\n",
              "      <td>0.00</td>\n",
              "      <td>0.555556</td>\n",
              "      <td>-1.111111</td>\n",
              "      <td>12.96416</td>\n",
              "      <td>0.0</td>\n",
              "      <td>2019</td>\n",
              "      <td>5.884444</td>\n",
              "      <td>-1.248889</td>\n",
              "      <td>-4.676820</td>\n",
              "      <td>0.00</td>\n",
              "    </tr>\n",
              "  </tbody>\n",
              "</table>\n",
              "<p>3576 rows × 14 columns</p>\n",
              "</div>"
            ],
            "text/plain": [
              "                    Time  TMAX_GFS  TMIN_GFS  ...    D_TMIN    D_WMAX  D_RTOT\n",
              "0    2010-01-01 12:00:00    -11.26    -16.46  ...  0.206667  0.618333    0.05\n",
              "1    2010-01-02 12:00:00    -10.16    -15.96  ...  4.595556 -2.018383    0.00\n",
              "2    2010-01-03 12:00:00     -9.96    -14.36  ...  6.751111  1.023940    0.06\n",
              "3    2010-01-04 12:00:00     -8.46    -12.86  ...  6.028889 -3.255732    0.17\n",
              "4    2010-01-05 12:00:00     -7.16    -11.06  ...  7.273333 -3.357907    0.77\n",
              "...                  ...       ...       ...  ...       ...       ...     ...\n",
              "3571 2019-12-27 12:00:00     13.94      3.54  ...  3.540000  2.113697    2.73\n",
              "3572 2019-12-28 12:00:00     15.94      9.34  ...  9.340000 -0.580374    8.78\n",
              "3573 2019-12-29 12:00:00      7.24     -1.66  ... -6.660000  0.829336   -1.73\n",
              "3574 2019-12-30 12:00:00     -0.36     -2.26  ... -1.704444 -2.853775   -0.56\n",
              "3575 2019-12-31 12:00:00      6.44     -2.36  ... -1.248889 -4.676820    0.00\n",
              "\n",
              "[3576 rows x 14 columns]"
            ]
          },
          "metadata": {
            "tags": []
          },
          "execution_count": 48
        }
      ]
    },
    {
      "cell_type": "code",
      "metadata": {
        "colab_type": "code",
        "id": "l8HpeFgvJadX",
        "outputId": "16371975-fdc5-465a-e0d6-bb4c39e3ff0e",
        "colab": {
          "base_uri": "https://localhost:8080/",
          "height": 388
        }
      },
      "source": [
        "# Combine GFS Profile and GFS Surface \n",
        "df2 = pd.merge(GFS_surface.reset_index(), GFS_profile.reset_index(), on='Time', how='inner')\n",
        "df2.Time = pd.to_datetime(df2.Time)\n",
        "df2.head()"
      ],
      "execution_count": 49,
      "outputs": [
        {
          "output_type": "execute_result",
          "data": {
            "text/html": [
              "<div>\n",
              "<style scoped>\n",
              "    .dataframe tbody tr th:only-of-type {\n",
              "        vertical-align: middle;\n",
              "    }\n",
              "\n",
              "    .dataframe tbody tr th {\n",
              "        vertical-align: top;\n",
              "    }\n",
              "\n",
              "    .dataframe thead th {\n",
              "        text-align: right;\n",
              "    }\n",
              "</style>\n",
              "<table border=\"1\" class=\"dataframe\">\n",
              "  <thead>\n",
              "    <tr style=\"text-align: right;\">\n",
              "      <th></th>\n",
              "      <th>Time</th>\n",
              "      <th>DWPC_Surf</th>\n",
              "      <th>HCLD_Surf</th>\n",
              "      <th>LCLD_Surf</th>\n",
              "      <th>MCLD_Surf</th>\n",
              "      <th>PRCP_Surf</th>\n",
              "      <th>PRES_Surf</th>\n",
              "      <th>TMPC_Surf</th>\n",
              "      <th>UWND_Surf</th>\n",
              "      <th>VWND_Surf</th>\n",
              "      <th>WSPD_Surf</th>\n",
              "      <th>DWPC_925.0_mean</th>\n",
              "      <th>DWPC_850.0_mean</th>\n",
              "      <th>DWPC_700.0_mean</th>\n",
              "      <th>DWPC_500.0_mean</th>\n",
              "      <th>HGHT_925.0_mean</th>\n",
              "      <th>HGHT_850.0_mean</th>\n",
              "      <th>HGHT_700.0_mean</th>\n",
              "      <th>HGHT_500.0_mean</th>\n",
              "      <th>TMPC_925.0_mean</th>\n",
              "      <th>TMPC_850.0_mean</th>\n",
              "      <th>TMPC_700.0_mean</th>\n",
              "      <th>TMPC_500.0_mean</th>\n",
              "      <th>UWND_925.0_mean</th>\n",
              "      <th>UWND_850.0_mean</th>\n",
              "      <th>UWND_700.0_mean</th>\n",
              "      <th>UWND_500.0_mean</th>\n",
              "      <th>VWND_925.0_mean</th>\n",
              "      <th>VWND_850.0_mean</th>\n",
              "      <th>VWND_700.0_mean</th>\n",
              "      <th>VWND_500.0_mean</th>\n",
              "    </tr>\n",
              "  </thead>\n",
              "  <tbody>\n",
              "    <tr>\n",
              "      <th>0</th>\n",
              "      <td>2010-01-02 12:00:00</td>\n",
              "      <td>-13.74</td>\n",
              "      <td>0.0</td>\n",
              "      <td>100.0</td>\n",
              "      <td>1.0</td>\n",
              "      <td>0.04</td>\n",
              "      <td>1002.0</td>\n",
              "      <td>-11.26</td>\n",
              "      <td>4.9</td>\n",
              "      <td>-4.0</td>\n",
              "      <td>7.323933</td>\n",
              "      <td>-25.221669</td>\n",
              "      <td>-31.631814</td>\n",
              "      <td>-42.343174</td>\n",
              "      <td>-49.713078</td>\n",
              "      <td>820.874537</td>\n",
              "      <td>1458.322588</td>\n",
              "      <td>2924.016943</td>\n",
              "      <td>5404.973406</td>\n",
              "      <td>-17.736537</td>\n",
              "      <td>-15.005516</td>\n",
              "      <td>-16.276659</td>\n",
              "      <td>-26.871957</td>\n",
              "      <td>8.917408</td>\n",
              "      <td>11.668451</td>\n",
              "      <td>24.957946</td>\n",
              "      <td>49.957403</td>\n",
              "      <td>-18.631944</td>\n",
              "      <td>-22.035223</td>\n",
              "      <td>-36.006022</td>\n",
              "      <td>-53.129106</td>\n",
              "    </tr>\n",
              "    <tr>\n",
              "      <th>1</th>\n",
              "      <td>2010-01-03 12:00:00</td>\n",
              "      <td>-14.21</td>\n",
              "      <td>42.0</td>\n",
              "      <td>7.0</td>\n",
              "      <td>1.0</td>\n",
              "      <td>0.00</td>\n",
              "      <td>1001.8</td>\n",
              "      <td>-10.16</td>\n",
              "      <td>3.6</td>\n",
              "      <td>-2.5</td>\n",
              "      <td>4.687217</td>\n",
              "      <td>-24.612461</td>\n",
              "      <td>-33.524255</td>\n",
              "      <td>-45.006084</td>\n",
              "      <td>-38.011418</td>\n",
              "      <td>825.026208</td>\n",
              "      <td>1466.561942</td>\n",
              "      <td>2943.248216</td>\n",
              "      <td>5429.166073</td>\n",
              "      <td>-14.528163</td>\n",
              "      <td>-13.728910</td>\n",
              "      <td>-14.633226</td>\n",
              "      <td>-28.177380</td>\n",
              "      <td>0.966968</td>\n",
              "      <td>2.928479</td>\n",
              "      <td>13.929298</td>\n",
              "      <td>34.531889</td>\n",
              "      <td>-8.503009</td>\n",
              "      <td>-12.642454</td>\n",
              "      <td>-22.324673</td>\n",
              "      <td>-29.460048</td>\n",
              "    </tr>\n",
              "    <tr>\n",
              "      <th>2</th>\n",
              "      <td>2010-01-04 12:00:00</td>\n",
              "      <td>-12.63</td>\n",
              "      <td>95.0</td>\n",
              "      <td>99.0</td>\n",
              "      <td>91.0</td>\n",
              "      <td>0.03</td>\n",
              "      <td>999.8</td>\n",
              "      <td>-9.96</td>\n",
              "      <td>4.4</td>\n",
              "      <td>-3.5</td>\n",
              "      <td>5.941380</td>\n",
              "      <td>-19.773137</td>\n",
              "      <td>-24.218344</td>\n",
              "      <td>-25.096941</td>\n",
              "      <td>-42.369095</td>\n",
              "      <td>808.518112</td>\n",
              "      <td>1455.589841</td>\n",
              "      <td>2932.208504</td>\n",
              "      <td>5390.650047</td>\n",
              "      <td>-13.448896</td>\n",
              "      <td>-11.433527</td>\n",
              "      <td>-16.459748</td>\n",
              "      <td>-31.019731</td>\n",
              "      <td>7.613226</td>\n",
              "      <td>6.086299</td>\n",
              "      <td>6.925063</td>\n",
              "      <td>7.042113</td>\n",
              "      <td>-18.257766</td>\n",
              "      <td>-18.436342</td>\n",
              "      <td>-22.440240</td>\n",
              "      <td>-22.675592</td>\n",
              "    </tr>\n",
              "    <tr>\n",
              "      <th>3</th>\n",
              "      <td>2010-01-05 12:00:00</td>\n",
              "      <td>-10.75</td>\n",
              "      <td>94.0</td>\n",
              "      <td>100.0</td>\n",
              "      <td>67.0</td>\n",
              "      <td>0.03</td>\n",
              "      <td>997.3</td>\n",
              "      <td>-8.46</td>\n",
              "      <td>4.6</td>\n",
              "      <td>-2.7</td>\n",
              "      <td>5.685068</td>\n",
              "      <td>-15.254223</td>\n",
              "      <td>-17.749616</td>\n",
              "      <td>-24.500529</td>\n",
              "      <td>-39.556158</td>\n",
              "      <td>796.682736</td>\n",
              "      <td>1446.840629</td>\n",
              "      <td>2934.372470</td>\n",
              "      <td>5413.979393</td>\n",
              "      <td>-12.478941</td>\n",
              "      <td>-9.982257</td>\n",
              "      <td>-14.372026</td>\n",
              "      <td>-29.423196</td>\n",
              "      <td>7.118404</td>\n",
              "      <td>5.853575</td>\n",
              "      <td>9.920349</td>\n",
              "      <td>12.764679</td>\n",
              "      <td>-15.989024</td>\n",
              "      <td>-18.744676</td>\n",
              "      <td>-22.421572</td>\n",
              "      <td>-19.083133</td>\n",
              "    </tr>\n",
              "    <tr>\n",
              "      <th>4</th>\n",
              "      <td>2010-01-06 12:00:00</td>\n",
              "      <td>-9.45</td>\n",
              "      <td>90.0</td>\n",
              "      <td>100.0</td>\n",
              "      <td>100.0</td>\n",
              "      <td>0.05</td>\n",
              "      <td>996.0</td>\n",
              "      <td>-7.16</td>\n",
              "      <td>3.6</td>\n",
              "      <td>0.1</td>\n",
              "      <td>3.794733</td>\n",
              "      <td>-16.456283</td>\n",
              "      <td>-26.308794</td>\n",
              "      <td>-26.778580</td>\n",
              "      <td>-37.508100</td>\n",
              "      <td>787.429840</td>\n",
              "      <td>1442.774700</td>\n",
              "      <td>2938.356597</td>\n",
              "      <td>5443.111685</td>\n",
              "      <td>-9.918127</td>\n",
              "      <td>-8.066827</td>\n",
              "      <td>-13.002703</td>\n",
              "      <td>-26.093287</td>\n",
              "      <td>7.004508</td>\n",
              "      <td>9.396605</td>\n",
              "      <td>16.897229</td>\n",
              "      <td>30.434990</td>\n",
              "      <td>-6.298893</td>\n",
              "      <td>-7.324372</td>\n",
              "      <td>-8.470288</td>\n",
              "      <td>-15.845163</td>\n",
              "    </tr>\n",
              "  </tbody>\n",
              "</table>\n",
              "</div>"
            ],
            "text/plain": [
              "                 Time  DWPC_Surf  ...  VWND_700.0_mean  VWND_500.0_mean\n",
              "0 2010-01-02 12:00:00     -13.74  ...       -36.006022       -53.129106\n",
              "1 2010-01-03 12:00:00     -14.21  ...       -22.324673       -29.460048\n",
              "2 2010-01-04 12:00:00     -12.63  ...       -22.440240       -22.675592\n",
              "3 2010-01-05 12:00:00     -10.75  ...       -22.421572       -19.083133\n",
              "4 2010-01-06 12:00:00      -9.45  ...        -8.470288       -15.845163\n",
              "\n",
              "[5 rows x 31 columns]"
            ]
          },
          "metadata": {
            "tags": []
          },
          "execution_count": 49
        }
      ]
    },
    {
      "cell_type": "code",
      "metadata": {
        "id": "9k_6nuWtLMno",
        "colab_type": "code",
        "outputId": "ae28cb43-e879-471c-bbbd-8c4b3aac51e2",
        "colab": {
          "base_uri": "https://localhost:8080/",
          "height": 388
        }
      },
      "source": [
        "# Combine two intermediate datasets into one feature matrix\n",
        "features_df = pd.merge(df1.reset_index(), df2.reset_index(), on='Time', how='inner')\n",
        "features_df.Time = pd.to_datetime(features_df.Time)\n",
        "features_df.dropna(inplace=True)\n",
        "features_df.head()"
      ],
      "execution_count": 50,
      "outputs": [
        {
          "output_type": "execute_result",
          "data": {
            "text/html": [
              "<div>\n",
              "<style scoped>\n",
              "    .dataframe tbody tr th:only-of-type {\n",
              "        vertical-align: middle;\n",
              "    }\n",
              "\n",
              "    .dataframe tbody tr th {\n",
              "        vertical-align: top;\n",
              "    }\n",
              "\n",
              "    .dataframe thead th {\n",
              "        text-align: right;\n",
              "    }\n",
              "</style>\n",
              "<table border=\"1\" class=\"dataframe\">\n",
              "  <thead>\n",
              "    <tr style=\"text-align: right;\">\n",
              "      <th></th>\n",
              "      <th>index_x</th>\n",
              "      <th>Time</th>\n",
              "      <th>TMAX_GFS</th>\n",
              "      <th>TMIN_GFS</th>\n",
              "      <th>WMAX_GFS</th>\n",
              "      <th>RTOT_GFS</th>\n",
              "      <th>TMAX_Obs</th>\n",
              "      <th>TMIN_Obs</th>\n",
              "      <th>WMAX_Obs</th>\n",
              "      <th>RTOT_Obs</th>\n",
              "      <th>Year</th>\n",
              "      <th>D_TMAX</th>\n",
              "      <th>D_TMIN</th>\n",
              "      <th>D_WMAX</th>\n",
              "      <th>D_RTOT</th>\n",
              "      <th>index_y</th>\n",
              "      <th>DWPC_Surf</th>\n",
              "      <th>HCLD_Surf</th>\n",
              "      <th>LCLD_Surf</th>\n",
              "      <th>MCLD_Surf</th>\n",
              "      <th>PRCP_Surf</th>\n",
              "      <th>PRES_Surf</th>\n",
              "      <th>TMPC_Surf</th>\n",
              "      <th>UWND_Surf</th>\n",
              "      <th>VWND_Surf</th>\n",
              "      <th>WSPD_Surf</th>\n",
              "      <th>DWPC_925.0_mean</th>\n",
              "      <th>DWPC_850.0_mean</th>\n",
              "      <th>DWPC_700.0_mean</th>\n",
              "      <th>DWPC_500.0_mean</th>\n",
              "      <th>HGHT_925.0_mean</th>\n",
              "      <th>HGHT_850.0_mean</th>\n",
              "      <th>HGHT_700.0_mean</th>\n",
              "      <th>HGHT_500.0_mean</th>\n",
              "      <th>TMPC_925.0_mean</th>\n",
              "      <th>TMPC_850.0_mean</th>\n",
              "      <th>TMPC_700.0_mean</th>\n",
              "      <th>TMPC_500.0_mean</th>\n",
              "      <th>UWND_925.0_mean</th>\n",
              "      <th>UWND_850.0_mean</th>\n",
              "      <th>UWND_700.0_mean</th>\n",
              "      <th>UWND_500.0_mean</th>\n",
              "      <th>VWND_925.0_mean</th>\n",
              "      <th>VWND_850.0_mean</th>\n",
              "      <th>VWND_700.0_mean</th>\n",
              "      <th>VWND_500.0_mean</th>\n",
              "    </tr>\n",
              "  </thead>\n",
              "  <tbody>\n",
              "    <tr>\n",
              "      <th>0</th>\n",
              "      <td>1</td>\n",
              "      <td>2010-01-02 12:00:00</td>\n",
              "      <td>-10.16</td>\n",
              "      <td>-15.96</td>\n",
              "      <td>4.687217</td>\n",
              "      <td>0.00</td>\n",
              "      <td>-14.444444</td>\n",
              "      <td>-20.555556</td>\n",
              "      <td>6.70560</td>\n",
              "      <td>0.0</td>\n",
              "      <td>2010</td>\n",
              "      <td>4.284444</td>\n",
              "      <td>4.595556</td>\n",
              "      <td>-2.018383</td>\n",
              "      <td>0.00</td>\n",
              "      <td>0</td>\n",
              "      <td>-13.74</td>\n",
              "      <td>0.0</td>\n",
              "      <td>100.0</td>\n",
              "      <td>1.0</td>\n",
              "      <td>0.04</td>\n",
              "      <td>1002.0</td>\n",
              "      <td>-11.26</td>\n",
              "      <td>4.9</td>\n",
              "      <td>-4.0</td>\n",
              "      <td>7.323933</td>\n",
              "      <td>-25.221669</td>\n",
              "      <td>-31.631814</td>\n",
              "      <td>-42.343174</td>\n",
              "      <td>-49.713078</td>\n",
              "      <td>820.874537</td>\n",
              "      <td>1458.322588</td>\n",
              "      <td>2924.016943</td>\n",
              "      <td>5404.973406</td>\n",
              "      <td>-17.736537</td>\n",
              "      <td>-15.005516</td>\n",
              "      <td>-16.276659</td>\n",
              "      <td>-26.871957</td>\n",
              "      <td>8.917408</td>\n",
              "      <td>11.668451</td>\n",
              "      <td>24.957946</td>\n",
              "      <td>49.957403</td>\n",
              "      <td>-18.631944</td>\n",
              "      <td>-22.035223</td>\n",
              "      <td>-36.006022</td>\n",
              "      <td>-53.129106</td>\n",
              "    </tr>\n",
              "    <tr>\n",
              "      <th>1</th>\n",
              "      <td>2</td>\n",
              "      <td>2010-01-03 12:00:00</td>\n",
              "      <td>-9.96</td>\n",
              "      <td>-14.36</td>\n",
              "      <td>5.941380</td>\n",
              "      <td>0.06</td>\n",
              "      <td>-12.222222</td>\n",
              "      <td>-21.111111</td>\n",
              "      <td>4.91744</td>\n",
              "      <td>0.0</td>\n",
              "      <td>2010</td>\n",
              "      <td>2.262222</td>\n",
              "      <td>6.751111</td>\n",
              "      <td>1.023940</td>\n",
              "      <td>0.06</td>\n",
              "      <td>1</td>\n",
              "      <td>-14.21</td>\n",
              "      <td>42.0</td>\n",
              "      <td>7.0</td>\n",
              "      <td>1.0</td>\n",
              "      <td>0.00</td>\n",
              "      <td>1001.8</td>\n",
              "      <td>-10.16</td>\n",
              "      <td>3.6</td>\n",
              "      <td>-2.5</td>\n",
              "      <td>4.687217</td>\n",
              "      <td>-24.612461</td>\n",
              "      <td>-33.524255</td>\n",
              "      <td>-45.006084</td>\n",
              "      <td>-38.011418</td>\n",
              "      <td>825.026208</td>\n",
              "      <td>1466.561942</td>\n",
              "      <td>2943.248216</td>\n",
              "      <td>5429.166073</td>\n",
              "      <td>-14.528163</td>\n",
              "      <td>-13.728910</td>\n",
              "      <td>-14.633226</td>\n",
              "      <td>-28.177380</td>\n",
              "      <td>0.966968</td>\n",
              "      <td>2.928479</td>\n",
              "      <td>13.929298</td>\n",
              "      <td>34.531889</td>\n",
              "      <td>-8.503009</td>\n",
              "      <td>-12.642454</td>\n",
              "      <td>-22.324673</td>\n",
              "      <td>-29.460048</td>\n",
              "    </tr>\n",
              "    <tr>\n",
              "      <th>2</th>\n",
              "      <td>3</td>\n",
              "      <td>2010-01-04 12:00:00</td>\n",
              "      <td>-8.46</td>\n",
              "      <td>-12.86</td>\n",
              "      <td>5.685068</td>\n",
              "      <td>0.17</td>\n",
              "      <td>-11.666667</td>\n",
              "      <td>-18.888889</td>\n",
              "      <td>8.94080</td>\n",
              "      <td>0.0</td>\n",
              "      <td>2010</td>\n",
              "      <td>3.206667</td>\n",
              "      <td>6.028889</td>\n",
              "      <td>-3.255732</td>\n",
              "      <td>0.17</td>\n",
              "      <td>2</td>\n",
              "      <td>-12.63</td>\n",
              "      <td>95.0</td>\n",
              "      <td>99.0</td>\n",
              "      <td>91.0</td>\n",
              "      <td>0.03</td>\n",
              "      <td>999.8</td>\n",
              "      <td>-9.96</td>\n",
              "      <td>4.4</td>\n",
              "      <td>-3.5</td>\n",
              "      <td>5.941380</td>\n",
              "      <td>-19.773137</td>\n",
              "      <td>-24.218344</td>\n",
              "      <td>-25.096941</td>\n",
              "      <td>-42.369095</td>\n",
              "      <td>808.518112</td>\n",
              "      <td>1455.589841</td>\n",
              "      <td>2932.208504</td>\n",
              "      <td>5390.650047</td>\n",
              "      <td>-13.448896</td>\n",
              "      <td>-11.433527</td>\n",
              "      <td>-16.459748</td>\n",
              "      <td>-31.019731</td>\n",
              "      <td>7.613226</td>\n",
              "      <td>6.086299</td>\n",
              "      <td>6.925063</td>\n",
              "      <td>7.042113</td>\n",
              "      <td>-18.257766</td>\n",
              "      <td>-18.436342</td>\n",
              "      <td>-22.440240</td>\n",
              "      <td>-22.675592</td>\n",
              "    </tr>\n",
              "    <tr>\n",
              "      <th>3</th>\n",
              "      <td>4</td>\n",
              "      <td>2010-01-05 12:00:00</td>\n",
              "      <td>-7.16</td>\n",
              "      <td>-11.06</td>\n",
              "      <td>3.794733</td>\n",
              "      <td>0.77</td>\n",
              "      <td>-12.222222</td>\n",
              "      <td>-18.333333</td>\n",
              "      <td>7.15264</td>\n",
              "      <td>0.0</td>\n",
              "      <td>2010</td>\n",
              "      <td>5.062222</td>\n",
              "      <td>7.273333</td>\n",
              "      <td>-3.357907</td>\n",
              "      <td>0.77</td>\n",
              "      <td>3</td>\n",
              "      <td>-10.75</td>\n",
              "      <td>94.0</td>\n",
              "      <td>100.0</td>\n",
              "      <td>67.0</td>\n",
              "      <td>0.03</td>\n",
              "      <td>997.3</td>\n",
              "      <td>-8.46</td>\n",
              "      <td>4.6</td>\n",
              "      <td>-2.7</td>\n",
              "      <td>5.685068</td>\n",
              "      <td>-15.254223</td>\n",
              "      <td>-17.749616</td>\n",
              "      <td>-24.500529</td>\n",
              "      <td>-39.556158</td>\n",
              "      <td>796.682736</td>\n",
              "      <td>1446.840629</td>\n",
              "      <td>2934.372470</td>\n",
              "      <td>5413.979393</td>\n",
              "      <td>-12.478941</td>\n",
              "      <td>-9.982257</td>\n",
              "      <td>-14.372026</td>\n",
              "      <td>-29.423196</td>\n",
              "      <td>7.118404</td>\n",
              "      <td>5.853575</td>\n",
              "      <td>9.920349</td>\n",
              "      <td>12.764679</td>\n",
              "      <td>-15.989024</td>\n",
              "      <td>-18.744676</td>\n",
              "      <td>-22.421572</td>\n",
              "      <td>-19.083133</td>\n",
              "    </tr>\n",
              "    <tr>\n",
              "      <th>4</th>\n",
              "      <td>5</td>\n",
              "      <td>2010-01-06 12:00:00</td>\n",
              "      <td>-5.46</td>\n",
              "      <td>-7.46</td>\n",
              "      <td>9.548298</td>\n",
              "      <td>7.10</td>\n",
              "      <td>-7.777778</td>\n",
              "      <td>-19.444444</td>\n",
              "      <td>3.57632</td>\n",
              "      <td>1.5</td>\n",
              "      <td>2010</td>\n",
              "      <td>2.317778</td>\n",
              "      <td>11.984444</td>\n",
              "      <td>5.971978</td>\n",
              "      <td>5.60</td>\n",
              "      <td>4</td>\n",
              "      <td>-9.45</td>\n",
              "      <td>90.0</td>\n",
              "      <td>100.0</td>\n",
              "      <td>100.0</td>\n",
              "      <td>0.05</td>\n",
              "      <td>996.0</td>\n",
              "      <td>-7.16</td>\n",
              "      <td>3.6</td>\n",
              "      <td>0.1</td>\n",
              "      <td>3.794733</td>\n",
              "      <td>-16.456283</td>\n",
              "      <td>-26.308794</td>\n",
              "      <td>-26.778580</td>\n",
              "      <td>-37.508100</td>\n",
              "      <td>787.429840</td>\n",
              "      <td>1442.774700</td>\n",
              "      <td>2938.356597</td>\n",
              "      <td>5443.111685</td>\n",
              "      <td>-9.918127</td>\n",
              "      <td>-8.066827</td>\n",
              "      <td>-13.002703</td>\n",
              "      <td>-26.093287</td>\n",
              "      <td>7.004508</td>\n",
              "      <td>9.396605</td>\n",
              "      <td>16.897229</td>\n",
              "      <td>30.434990</td>\n",
              "      <td>-6.298893</td>\n",
              "      <td>-7.324372</td>\n",
              "      <td>-8.470288</td>\n",
              "      <td>-15.845163</td>\n",
              "    </tr>\n",
              "  </tbody>\n",
              "</table>\n",
              "</div>"
            ],
            "text/plain": [
              "   index_x                Time  ...  VWND_700.0_mean  VWND_500.0_mean\n",
              "0        1 2010-01-02 12:00:00  ...       -36.006022       -53.129106\n",
              "1        2 2010-01-03 12:00:00  ...       -22.324673       -29.460048\n",
              "2        3 2010-01-04 12:00:00  ...       -22.440240       -22.675592\n",
              "3        4 2010-01-05 12:00:00  ...       -22.421572       -19.083133\n",
              "4        5 2010-01-06 12:00:00  ...        -8.470288       -15.845163\n",
              "\n",
              "[5 rows x 46 columns]"
            ]
          },
          "metadata": {
            "tags": []
          },
          "execution_count": 50
        }
      ]
    },
    {
      "cell_type": "code",
      "metadata": {
        "id": "omIS2GH0iy_9",
        "colab_type": "code",
        "colab": {}
      },
      "source": [
        "# Split into training and test sets \n",
        "# Can change features \n",
        "x_train_all = features_df[features_df.Time.dt.year<2019]\n",
        "x_test_all = features_df[features_df.Time.dt.year==2019]\n",
        "\n",
        "y_train_all = features_df[features_df.Time.dt.year<2019]\n",
        "y_test_all = features_df[features_df.Time.dt.year==2019]"
      ],
      "execution_count": 0,
      "outputs": []
    },
    {
      "cell_type": "markdown",
      "metadata": {
        "id": "d_7hc-19f6Nc",
        "colab_type": "text"
      },
      "source": [
        "Linear Regression"
      ]
    },
    {
      "cell_type": "code",
      "metadata": {
        "id": "S1nLDyiZqhem",
        "colab_type": "code",
        "colab": {}
      },
      "source": [
        "from sklearn.linear_model import LinearRegression\n",
        "from sklearn.metrics import mean_squared_error, r2_score, mean_absolute_error, median_absolute_error\n",
        "from sklearn.model_selection import train_test_split\n",
        "from math import sqrt"
      ],
      "execution_count": 0,
      "outputs": []
    },
    {
      "cell_type": "markdown",
      "metadata": {
        "id": "iyrwto8yJSUl",
        "colab_type": "text"
      },
      "source": [
        "**Linear Regression**"
      ]
    },
    {
      "cell_type": "markdown",
      "metadata": {
        "id": "HtVgO5mMJXjt",
        "colab_type": "text"
      },
      "source": [
        "Max Temperature"
      ]
    },
    {
      "cell_type": "code",
      "metadata": {
        "id": "iPKaED7SkCID",
        "colab_type": "code",
        "outputId": "69f30a4f-e666-4d9e-9622-52b90cf35d8c",
        "colab": {
          "base_uri": "https://localhost:8080/",
          "height": 697
        }
      },
      "source": [
        "plt.figure(figsize=(12,10))\n",
        "cor = features_df.corr()\n",
        "sns.heatmap(cor, cmap=plt.cm.Reds)\n",
        "plt.show()"
      ],
      "execution_count": 83,
      "outputs": [
        {
          "output_type": "display_data",
          "data": {
            "image/png": "[encoded data removed]",
            "text/plain": [
              "<Figure size 864x720 with 2 Axes>"
            ]
          },
          "metadata": {
            "tags": []
          }
        }
      ]
    },
    {
      "cell_type": "code",
      "metadata": {
        "id": "Jfd1BxiWke-O",
        "colab_type": "code",
        "colab": {}
      },
      "source": [
        "def lin_model_func(features, target):\n",
        "    lin_model = LinearRegression()\n",
        "    x_train = x_train_all[features]\n",
        "    y_train = y_train_all[target]\n",
        "\n",
        "    x_test = x_test_all[features]\n",
        "    y_test = y_test_all[target]\n",
        "\n",
        "    lin_model.fit(x_train, y_train)\n",
        "\n",
        "    # Print parameters and plot - GFS Data\n",
        "    print('Coefficients: \\n', lin_model.coef_)\n",
        "    print(\"The Mean Absolute Error: %.2f degrees celsius\" % mean_absolute_error(y_test, lin_model.predict(x_test)))\n",
        "    print(\"The Median Absolute Error: %.2f degrees celsius\" % median_absolute_error(y_test, lin_model.predict(x_test)))\n",
        "    print(\"The Root Mean Square Error: %.2f degrees celsius \" %  sqrt(mean_squared_error(y_test, lin_model.predict(x_test))))\n",
        "\n",
        "    print('Coefficient of determination: %.2f' % r2_score(y_test, lin_model.predict(x_test)))\n",
        "\n",
        "    return x_test, y_test, lin_model\n"
      ],
      "execution_count": 0,
      "outputs": []
    },
    {
      "cell_type": "markdown",
      "metadata": {
        "id": "S7oKGQv2kh_i",
        "colab_type": "text"
      },
      "source": [
        "Max Temperature"
      ]
    },
    {
      "cell_type": "code",
      "metadata": {
        "id": "ZLN8WGZJSpTX",
        "colab_type": "code",
        "outputId": "481cf06a-b7f8-4c58-bcc7-03c8666e6167",
        "colab": {
          "base_uri": "https://localhost:8080/",
          "height": 273
        }
      },
      "source": [
        "# Correlation with output variable \n",
        "cor_target = abs(cor['TMAX_Obs'])\n",
        "\n",
        "relevant_features = cor_target[cor_target>0.80]\n",
        "relevant_features"
      ],
      "execution_count": 55,
      "outputs": [
        {
          "output_type": "execute_result",
          "data": {
            "text/plain": [
              "TMAX_GFS           0.933003\n",
              "TMIN_GFS           0.930005\n",
              "TMAX_Obs           1.000000\n",
              "TMIN_Obs           0.942382\n",
              "DWPC_Surf          0.933487\n",
              "TMPC_Surf          0.983283\n",
              "DWPC_925.0_mean    0.911464\n",
              "DWPC_850.0_mean    0.816535\n",
              "HGHT_700.0_mean    0.818610\n",
              "HGHT_500.0_mean    0.879259\n",
              "TMPC_925.0_mean    0.971571\n",
              "TMPC_850.0_mean    0.938839\n",
              "TMPC_700.0_mean    0.905802\n",
              "TMPC_500.0_mean    0.871040\n",
              "Name: TMAX_Obs, dtype: float64"
            ]
          },
          "metadata": {
            "tags": []
          },
          "execution_count": 55
        }
      ]
    },
    {
      "cell_type": "code",
      "metadata": {
        "id": "oCB9p_sqfvFO",
        "colab_type": "code",
        "outputId": "6d577763-6f92-4c4e-fa89-1c99dc2957cf",
        "colab": {
          "base_uri": "https://localhost:8080/",
          "height": 136
        }
      },
      "source": [
        "features = ['TMAX_GFS', 'TMIN_GFS', 'DWPC_Surf', 'TMPC_Surf', 'DWPC_925.0_mean', 'DWPC_850.0_mean', 'HGHT_700.0_mean', 'HGHT_500.0_mean', 'TMPC_925.0_mean', 'TMPC_850.0_mean', 'TMPC_700.0_mean', 'TMPC_500.0_mean']\n",
        "target = ['TMAX_Obs']\n",
        "\n",
        "x_test, y_test, lin_model = lin_model_func(features, target)"
      ],
      "execution_count": 56,
      "outputs": [
        {
          "output_type": "stream",
          "text": [
            "Coefficients: \n",
            " [[ 0.06356208 -0.00719723 -0.03300068  0.75188453  0.01353573 -0.06466799\n",
            "   0.00923377 -0.0097145   0.42869968 -0.16414523  0.17844378 -0.03249324]]\n",
            "The Mean Absolute Error: 1.46 degrees celsius\n",
            "The Median Absolute Error: 1.11 degrees celsius\n",
            "The Root Mean Square Error: 1.94 degrees celsius \n",
            "Coefficient of determination: 0.97\n"
          ],
          "name": "stdout"
        }
      ]
    },
    {
      "cell_type": "code",
      "metadata": {
        "id": "m4uGsKNeXmJn",
        "colab_type": "code",
        "outputId": "4dde971d-2104-4024-8942-99da651b75ab",
        "colab": {
          "base_uri": "https://localhost:8080/",
          "height": 485
        }
      },
      "source": [
        "# Plot predicted values against observed values \n",
        "time = features_df[features_df['Year']==2019]['Time'].values\n",
        "plt.figure(figsize=(12,8))\n",
        "plt.plot(time, y_test, c='r', label='observation')\n",
        "plt.plot(time, lin_model.predict(x_test), c='g', label='prediction')\n",
        "plt.legend()\n",
        "plt.savefig('linearregression.jpg')"
      ],
      "execution_count": 57,
      "outputs": [
        {
          "output_type": "display_data",
          "data": {
            "image/png": "[encoded data removed]",
            "text/plain": [
              "<Figure size 864x576 with 1 Axes>"
            ]
          },
          "metadata": {
            "tags": []
          }
        }
      ]
    },
    {
      "cell_type": "markdown",
      "metadata": {
        "id": "xC3q2ZnNXKRz",
        "colab_type": "text"
      },
      "source": [
        "Minimum Temperature"
      ]
    },
    {
      "cell_type": "code",
      "metadata": {
        "id": "spNZ84hNaD5u",
        "colab_type": "code",
        "outputId": "030673d0-c98d-4d40-c522-bf777c78a1f9",
        "colab": {
          "base_uri": "https://localhost:8080/",
          "height": 256
        }
      },
      "source": [
        "# Correlation with output variable \n",
        "cor_target = abs(cor['TMIN_Obs'])\n",
        "\n",
        "relevant_features = cor_target[cor_target>0.80]\n",
        "relevant_features"
      ],
      "execution_count": 58,
      "outputs": [
        {
          "output_type": "execute_result",
          "data": {
            "text/plain": [
              "TMAX_GFS           0.911431\n",
              "TMIN_GFS           0.927505\n",
              "TMAX_Obs           0.942382\n",
              "TMIN_Obs           1.000000\n",
              "DWPC_Surf          0.950869\n",
              "TMPC_Surf          0.954984\n",
              "DWPC_925.0_mean    0.951571\n",
              "DWPC_850.0_mean    0.876799\n",
              "HGHT_500.0_mean    0.861173\n",
              "TMPC_925.0_mean    0.961180\n",
              "TMPC_850.0_mean    0.933953\n",
              "TMPC_700.0_mean    0.902378\n",
              "TMPC_500.0_mean    0.875814\n",
              "Name: TMIN_Obs, dtype: float64"
            ]
          },
          "metadata": {
            "tags": []
          },
          "execution_count": 58
        }
      ]
    },
    {
      "cell_type": "code",
      "metadata": {
        "id": "ehe3WvJ2Vyrw",
        "colab_type": "code",
        "outputId": "f4550bc5-7791-4811-a263-6144c1fbf114",
        "colab": {
          "base_uri": "https://localhost:8080/",
          "height": 136
        }
      },
      "source": [
        "features = ['TMAX_GFS', 'TMIN_GFS', 'DWPC_Surf', 'TMPC_Surf', 'DWPC_925.0_mean', 'DWPC_850.0_mean', 'HGHT_500.0_mean', 'TMPC_925.0_mean', 'TMPC_850.0_mean', 'TMPC_850.0_mean', 'TMPC_850.0_mean']\n",
        "target = ['TMIN_Obs']\n",
        "x_test, y_test, lin_model = lin_model_func(features, target)"
      ],
      "execution_count": 60,
      "outputs": [
        {
          "output_type": "stream",
          "text": [
            "Coefficients: \n",
            " [[-0.01235651  0.20687958  0.02221229  0.02509557  0.10888267  0.38872289\n",
            "   0.00564638  0.00450103  0.3544268  -0.0713678  -0.0713678  -0.0713678 ]]\n",
            "The Mean Absolute Error: 2.02 degrees celsius\n",
            "The Median Absolute Error: 1.67 degrees celsius\n",
            "The Root Mean Square Error: 2.65 degrees celsius \n",
            "Coefficient of determination: 0.94\n"
          ],
          "name": "stdout"
        }
      ]
    },
    {
      "cell_type": "markdown",
      "metadata": {
        "id": "r98ufh68W_HL",
        "colab_type": "text"
      },
      "source": [
        "Maximum Wind Speed"
      ]
    },
    {
      "cell_type": "code",
      "metadata": {
        "id": "xaUhD43VXWKF",
        "colab_type": "code",
        "outputId": "d164bdc1-e9b3-4dc2-dbb4-7605203f7f0e",
        "colab": {
          "base_uri": "https://localhost:8080/",
          "height": 221
        }
      },
      "source": [
        "# Correlation with output variable \n",
        "cor_target = abs(cor['WMAX_Obs'])\n",
        "\n",
        "relevant_features = cor_target[cor_target>0.4]\n",
        "relevant_features"
      ],
      "execution_count": 63,
      "outputs": [
        {
          "output_type": "execute_result",
          "data": {
            "text/plain": [
              "WMAX_GFS           0.436089\n",
              "WMAX_Obs           1.000000\n",
              "D_WMAX             0.667297\n",
              "UWND_Surf          0.471663\n",
              "WSPD_Surf          0.825205\n",
              "HGHT_925.0_mean    0.463427\n",
              "HGHT_850.0_mean    0.515283\n",
              "HGHT_700.0_mean    0.457033\n",
              "HGHT_500.0_mean    0.407652\n",
              "UWND_850.0_mean    0.457213\n",
              "UWND_700.0_mean    0.442003\n",
              "Name: WMAX_Obs, dtype: float64"
            ]
          },
          "metadata": {
            "tags": []
          },
          "execution_count": 63
        }
      ]
    },
    {
      "cell_type": "code",
      "metadata": {
        "id": "4J7Qq66bW9ns",
        "colab_type": "code",
        "outputId": "52199895-d26e-492c-edb9-c06baf9aa71c",
        "colab": {
          "base_uri": "https://localhost:8080/",
          "height": 136
        }
      },
      "source": [
        "features = ['WMAX_GFS', 'WSPD_Surf', 'UWND_Surf', 'HGHT_925.0_mean', 'HGHT_850.0_mean', 'HGHT_700.0_mean', 'HGHT_500.0_mean', 'UWND_850.0_mean', 'UWND_700.0_mean']\n",
        "target = ['WMAX_Obs']\n",
        "x_test, y_test, lin_model = lin_model_func(features, target)"
      ],
      "execution_count": 64,
      "outputs": [
        {
          "output_type": "stream",
          "text": [
            "Coefficients: \n",
            " [[-0.0211839   0.94581271 -0.10180283 -0.01481979  0.00760428  0.00869\n",
            "  -0.00621949  0.02589229  0.01521879]]\n",
            "The Mean Absolute Error: 1.23 degrees celsius\n",
            "The Median Absolute Error: 1.04 degrees celsius\n",
            "The Root Mean Square Error: 1.59 degrees celsius \n",
            "Coefficient of determination: 0.72\n"
          ],
          "name": "stdout"
        }
      ]
    },
    {
      "cell_type": "markdown",
      "metadata": {
        "id": "lgMHDeksXOMO",
        "colab_type": "text"
      },
      "source": [
        "Precipitation Accumulation"
      ]
    },
    {
      "cell_type": "code",
      "metadata": {
        "id": "E8AGvGzUbMTn",
        "colab_type": "code",
        "outputId": "584d64e2-ee11-498d-a35d-aa37bacf4925",
        "colab": {
          "base_uri": "https://localhost:8080/",
          "height": 153
        }
      },
      "source": [
        "# Correlation with output variable \n",
        "cor_target = abs(cor['RTOT_Obs'])\n",
        "\n",
        "relevant_features = cor_target[cor_target>0.26]\n",
        "relevant_features"
      ],
      "execution_count": 65,
      "outputs": [
        {
          "output_type": "execute_result",
          "data": {
            "text/plain": [
              "RTOT_Obs           1.000000\n",
              "D_RTOT             0.610521\n",
              "PRCP_Surf          0.502238\n",
              "DWPC_700.0_mean    0.315449\n",
              "DWPC_500.0_mean    0.305722\n",
              "VWND_700.0_mean    0.293164\n",
              "VWND_500.0_mean    0.280328\n",
              "Name: RTOT_Obs, dtype: float64"
            ]
          },
          "metadata": {
            "tags": []
          },
          "execution_count": 65
        }
      ]
    },
    {
      "cell_type": "code",
      "metadata": {
        "id": "Po1xCZLQbZzY",
        "colab_type": "code",
        "outputId": "c89f5a44-b3e6-4d2e-d802-bc0f7ae14420",
        "colab": {
          "base_uri": "https://localhost:8080/",
          "height": 119
        }
      },
      "source": [
        "features = ['PRCP_Surf', 'DWPC_700.0_mean', 'DWPC_500.0_mean', 'VWND_700.0_mean', 'VWND_500.0_mean']\n",
        "target = ['RTOT_Obs']\n",
        "x_test, y_test, lin_model = lin_model_func(features, target)"
      ],
      "execution_count": 66,
      "outputs": [
        {
          "output_type": "stream",
          "text": [
            "Coefficients: \n",
            " [[0.86962095 0.03777633 0.0492565  0.00913719 0.02546009]]\n",
            "The Mean Absolute Error: 2.31 degrees celsius\n",
            "The Median Absolute Error: 1.29 degrees celsius\n",
            "The Root Mean Square Error: 3.97 degrees celsius \n",
            "Coefficient of determination: 0.38\n"
          ],
          "name": "stdout"
        }
      ]
    },
    {
      "cell_type": "markdown",
      "metadata": {
        "id": "qegtRkJ6ml8P",
        "colab_type": "text"
      },
      "source": [
        "**Random Forest**"
      ]
    },
    {
      "cell_type": "code",
      "metadata": {
        "id": "obz4IxiB0tTB",
        "colab_type": "code",
        "colab": {}
      },
      "source": [
        "# Create random forest regression model \n",
        "# some code adapted from (https://blog.datadive.net/selecting-good-features-part-iii-random-forests/)\n",
        "from sklearn.ensemble import RandomForestRegressor "
      ],
      "execution_count": 0,
      "outputs": []
    },
    {
      "cell_type": "code",
      "metadata": {
        "id": "SNmCzSWE04iX",
        "colab_type": "code",
        "colab": {}
      },
      "source": [
        "# n_estimators and max_features can be lists \n",
        "def rf_model_func(features, target, n_estimators = 1000, max_features = 5):\n",
        "    x_train = x_train_all[features]\n",
        "    y_train = y_train_all[target]\n",
        "\n",
        "    x_test = x_test_all[features]\n",
        "    y_test = y_test_all[target]\n",
        "\n",
        "    for n in n_estimators: \n",
        "        for m in max_features: \n",
        "            # Train the model \n",
        "            rf_model = RandomForestRegressor(n_estimators=n, max_features=m)\n",
        "            rf_model.fit(x_train, y_train)\n",
        "\n",
        "            # Print parameters and plot\n",
        "            print(\"# of trees =\", n)\n",
        "            print(\"Max features = \", m)\n",
        "            print(\"The Mean Absolute Error: %.2f degrees celsius\" % mean_absolute_error(y_test, rf_model.predict(x_test)))\n",
        "            print(\"The Median Absolute Error: %.2f degrees celsius\" % median_absolute_error(y_test, rf_model.predict(x_test)))\n",
        "            print(\"The Root Mean Square Error: %.2f degrees celsius \" %  sqrt(mean_squared_error(y_test, rf_model.predict(x_test))))\n",
        "            print('Coefficient of determination: %.2f' % r2_score(y_test, rf_model.predict(x_test)))\n",
        "\n",
        "    print(sorted(zip(map(lambda x: round(x, 4), rf_model.feature_importances_), features), reverse=True))\n",
        "    return x_test, y_test, rf_model"
      ],
      "execution_count": 0,
      "outputs": []
    },
    {
      "cell_type": "markdown",
      "metadata": {
        "id": "5-3Mf60dd--_",
        "colab_type": "text"
      },
      "source": [
        "Maximum Temperature"
      ]
    },
    {
      "cell_type": "code",
      "metadata": {
        "id": "JRD2X-tUeOCV",
        "colab_type": "code",
        "outputId": "a491a1b9-de99-4803-e88e-8abd36974964",
        "colab": {
          "base_uri": "https://localhost:8080/",
          "height": 190
        }
      },
      "source": [
        "features = ['TMAX_GFS', 'TMIN_GFS', 'DWPC_Surf', 'TMPC_Surf', 'DWPC_925.0_mean', 'DWPC_850.0_mean', 'HGHT_700.0_mean', 'HGHT_500.0_mean', 'TMPC_925.0_mean', 'TMPC_850.0_mean', 'TMPC_700.0_mean', 'TMPC_500.0_mean']\n",
        "target = ['TMAX_Obs']\n",
        "\n",
        "x_test, y_test, rf_model = rf_model_func(features, target, n_estimators = [1000], max_features = [5]) "
      ],
      "execution_count": 78,
      "outputs": [
        {
          "output_type": "stream",
          "text": [
            "/usr/local/lib/python3.6/dist-packages/ipykernel_launcher.py:12: DataConversionWarning: A column-vector y was passed when a 1d array was expected. Please change the shape of y to (n_samples,), for example using ravel().\n",
            "  if sys.path[0] == '':\n"
          ],
          "name": "stderr"
        },
        {
          "output_type": "stream",
          "text": [
            "# of trees = 1000\n",
            "Max features =  5\n",
            "The Mean Absolute Error: 1.51 degrees celsius\n",
            "The Median Absolute Error: 1.19 degrees celsius\n",
            "The Root Mean Square Error: 1.98 degrees celsius \n",
            "Coefficient of determination: 0.97\n",
            "[(0.4401, 'TMPC_Surf'), (0.2549, 'TMPC_925.0_mean'), (0.1029, 'TMIN_GFS'), (0.0982, 'TMPC_850.0_mean'), (0.0458, 'TMAX_GFS'), (0.0319, 'DWPC_Surf'), (0.008, 'TMPC_700.0_mean'), (0.0059, 'DWPC_925.0_mean'), (0.0039, 'HGHT_500.0_mean'), (0.0034, 'DWPC_850.0_mean'), (0.0026, 'HGHT_700.0_mean'), (0.0024, 'TMPC_500.0_mean')]\n"
          ],
          "name": "stdout"
        }
      ]
    },
    {
      "cell_type": "code",
      "metadata": {
        "id": "lWXOiIPgebOB",
        "colab_type": "code",
        "outputId": "5329efc5-fd12-4165-9249-146fab3da5a6",
        "colab": {
          "base_uri": "https://localhost:8080/",
          "height": 485
        }
      },
      "source": [
        "# Plot predicted values against observed values \n",
        "time = features_df[features_df['Year']==2019]['Time'].values\n",
        "plt.figure(figsize=(12,8))\n",
        "plt.plot(time, y_test, c='r', label='observation')\n",
        "plt.plot(time, rf_model.predict(x_test), c='g', label='prediction')\n",
        "plt.legend()\n",
        "plt.savefig('randomforest.jpg')\n",
        "plt.show()"
      ],
      "execution_count": 68,
      "outputs": [
        {
          "output_type": "display_data",
          "data": {
            "image/png": "[encoded data removed]",
            "text/plain": [
              "<Figure size 864x576 with 1 Axes>"
            ]
          },
          "metadata": {
            "tags": []
          }
        }
      ]
    },
    {
      "cell_type": "markdown",
      "metadata": {
        "id": "9CfNhTmu6H5m",
        "colab_type": "text"
      },
      "source": [
        "Minimum Temperature"
      ]
    },
    {
      "cell_type": "code",
      "metadata": {
        "id": "Yn8fJOjAempi",
        "colab_type": "code",
        "outputId": "d390e06d-f851-4230-f820-eee55aecb052",
        "colab": {
          "base_uri": "https://localhost:8080/",
          "height": 190
        }
      },
      "source": [
        "features = ['TMAX_GFS', 'TMIN_GFS', 'DWPC_Surf', 'TMPC_Surf', 'DWPC_925.0_mean', 'DWPC_850.0_mean', 'HGHT_500.0_mean', 'TMPC_925.0_mean', 'TMPC_850.0_mean', 'TMPC_850.0_mean', 'TMPC_850.0_mean']\n",
        "target = ['TMIN_Obs']\n",
        "\n",
        "x_test, y_test, rf_model = rf_model_func(features, target, n_estimators = [1000], max_features = [5])\n"
      ],
      "execution_count": 82,
      "outputs": [
        {
          "output_type": "stream",
          "text": [
            "/usr/local/lib/python3.6/dist-packages/ipykernel_launcher.py:12: DataConversionWarning: A column-vector y was passed when a 1d array was expected. Please change the shape of y to (n_samples,), for example using ravel().\n",
            "  if sys.path[0] == '':\n"
          ],
          "name": "stderr"
        },
        {
          "output_type": "stream",
          "text": [
            "# of trees = 1000\n",
            "Max features =  5\n",
            "The Mean Absolute Error: 1.80 degrees celsius\n",
            "The Median Absolute Error: 1.42 degrees celsius\n",
            "The Root Mean Square Error: 2.38 degrees celsius \n",
            "Coefficient of determination: 0.95\n",
            "[(0.4114, 'TMPC_925.0_mean'), (0.2133, 'DWPC_925.0_mean'), (0.1995, 'TMPC_Surf'), (0.0761, 'DWPC_Surf'), (0.0228, 'TMPC_850.0_mean'), (0.0221, 'TMPC_850.0_mean'), (0.0195, 'TMPC_850.0_mean'), (0.0172, 'TMIN_GFS'), (0.0071, 'TMAX_GFS'), (0.0068, 'DWPC_850.0_mean'), (0.0043, 'HGHT_500.0_mean')]\n"
          ],
          "name": "stdout"
        }
      ]
    },
    {
      "cell_type": "markdown",
      "metadata": {
        "id": "a4VtwN-t6YZg",
        "colab_type": "text"
      },
      "source": [
        "Wind Speed"
      ]
    },
    {
      "cell_type": "code",
      "metadata": {
        "id": "nBrHVB9y6KOo",
        "colab_type": "code",
        "outputId": "f9215e5a-9bf6-42df-a0db-4f14641551e4",
        "colab": {
          "base_uri": "https://localhost:8080/",
          "height": 170
        }
      },
      "source": [
        "features = ['WMAX_GFS', 'WSPD_Surf', 'UWND_Surf', 'HGHT_925.0_mean', 'HGHT_850.0_mean', 'HGHT_700.0_mean', 'HGHT_500.0_mean', 'UWND_850.0_mean', 'UWND_700.0_mean']\n",
        "target = ['WMAX_Obs']\n",
        "\n",
        "x_test, y_test, rf_model = rf_model_func(features, target, n_estimators = [1000], max_features = [5])"
      ],
      "execution_count": 80,
      "outputs": [
        {
          "output_type": "stream",
          "text": [
            "/usr/local/lib/python3.6/dist-packages/ipykernel_launcher.py:12: DataConversionWarning: A column-vector y was passed when a 1d array was expected. Please change the shape of y to (n_samples,), for example using ravel().\n",
            "  if sys.path[0] == '':\n"
          ],
          "name": "stderr"
        },
        {
          "output_type": "stream",
          "text": [
            "# of trees = 1000\n",
            "Max features =  5\n",
            "The Mean Absolute Error: 1.25 degrees celsius\n",
            "The Median Absolute Error: 1.10 degrees celsius\n",
            "The Root Mean Square Error: 1.59 degrees celsius \n",
            "Coefficient of determination: 0.72\n",
            "[(0.554, 'WSPD_Surf'), (0.1354, 'UWND_850.0_mean'), (0.0728, 'UWND_Surf'), (0.0441, 'HGHT_850.0_mean'), (0.0424, 'WMAX_GFS'), (0.0398, 'HGHT_925.0_mean'), (0.0398, 'HGHT_500.0_mean'), (0.0392, 'UWND_700.0_mean'), (0.0325, 'HGHT_700.0_mean')]\n"
          ],
          "name": "stdout"
        }
      ]
    },
    {
      "cell_type": "markdown",
      "metadata": {
        "id": "IvsCkxMh6nDR",
        "colab_type": "text"
      },
      "source": [
        "Precipitation"
      ]
    },
    {
      "cell_type": "code",
      "metadata": {
        "id": "YkGTr_Wq6fz8",
        "colab_type": "code",
        "outputId": "9f836357-7ce3-40d6-f10a-60935baa7f45",
        "colab": {
          "base_uri": "https://localhost:8080/",
          "height": 170
        }
      },
      "source": [
        "features = ['PRCP_Surf', 'DWPC_700.0_mean', 'DWPC_500.0_mean', 'VWND_700.0_mean', 'VWND_500.0_mean']\n",
        "target = ['RTOT_Obs']\n",
        "\n",
        "x_test, y_test, rf_model = rf_model_func(features, target, n_estimators = [1000], max_features = [5])\n"
      ],
      "execution_count": 81,
      "outputs": [
        {
          "output_type": "stream",
          "text": [
            "/usr/local/lib/python3.6/dist-packages/ipykernel_launcher.py:12: DataConversionWarning: A column-vector y was passed when a 1d array was expected. Please change the shape of y to (n_samples,), for example using ravel().\n",
            "  if sys.path[0] == '':\n"
          ],
          "name": "stderr"
        },
        {
          "output_type": "stream",
          "text": [
            "# of trees = 1000\n",
            "Max features =  5\n",
            "The Mean Absolute Error: 2.10 degrees celsius\n",
            "The Median Absolute Error: 0.41 degrees celsius\n",
            "The Root Mean Square Error: 4.27 degrees celsius \n",
            "Coefficient of determination: 0.28\n",
            "[(0.4309, 'PRCP_Surf'), (0.1565, 'DWPC_500.0_mean'), (0.144, 'DWPC_700.0_mean'), (0.1423, 'VWND_500.0_mean'), (0.1263, 'VWND_700.0_mean')]\n"
          ],
          "name": "stdout"
        }
      ]
    },
    {
      "cell_type": "code",
      "metadata": {
        "id": "UMpBMflE0bC_",
        "colab_type": "code",
        "colab": {}
      },
      "source": [
        ""
      ],
      "execution_count": 0,
      "outputs": []
    }
  ]
}