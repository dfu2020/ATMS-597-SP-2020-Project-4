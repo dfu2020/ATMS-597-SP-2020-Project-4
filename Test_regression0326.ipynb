{
  "nbformat": 4,
  "nbformat_minor": 0,
  "metadata": {
    "colab": {
      "name": "Test-regression0326.ipynb",
      "provenance": [],
      "collapsed_sections": [
        "O9wG67VxjJJg"
      ],
      "authorship_tag": "ABX9TyN2/OyCl3FFBPjR1uHH00Eo",
      "include_colab_link": true
    },
    "kernelspec": {
      "name": "python3",
      "display_name": "Python 3"
    }
  },
  "cells": [
    {
      "cell_type": "markdown",
      "metadata": {
        "id": "view-in-github",
        "colab_type": "text"
      },
      "source": [
        "<a href=\"https://colab.research.google.com/github/dfu2020/ATMS-597-SP-2020-Project-4/blob/master/Test_regression0326.ipynb\" target=\"_parent\"><img src=\"https://colab.research.google.com/assets/colab-badge.svg\" alt=\"Open In Colab\"/></a>"
      ]
    },
    {
      "cell_type": "markdown",
      "metadata": {
        "id": "FfVS649V9YuO",
        "colab_type": "text"
      },
      "source": [
        "## Imports"
      ]
    },
    {
      "cell_type": "code",
      "metadata": {
        "id": "yS7NS2FMvN8q",
        "colab_type": "code",
        "colab": {}
      },
      "source": [
        "#imports\n",
        "%matplotlib inline\n",
        "import numpy as np\n",
        "import matplotlib.pyplot as plt\n",
        "import seaborn as sns; sns.set()\n",
        "import pandas as pd\n",
        "import datetime\n",
        "import os\n",
        "import glob\n",
        "\n",
        "from sklearn.linear_model import LinearRegression\n",
        "from sklearn.ensemble import RandomForestRegressor\n",
        "\n",
        "from sklearn.metrics import mean_squared_error\n",
        "from math import sqrt\n"
      ],
      "execution_count": 0,
      "outputs": []
    },
    {
      "cell_type": "code",
      "metadata": {
        "id": "4-ZJDGbFvjUm",
        "colab_type": "code",
        "outputId": "1bd0236f-942f-4c4f-c30b-10282f797106",
        "colab": {
          "base_uri": "https://localhost:8080/",
          "height": 34
        }
      },
      "source": [
        "#mount your google drive\n",
        "from google.colab import drive\n",
        "drive.mount('/content/drive')"
      ],
      "execution_count": 0,
      "outputs": [
        {
          "output_type": "stream",
          "text": [
            "Drive already mounted at /content/drive; to attempt to forcibly remount, call drive.mount(\"/content/drive\", force_remount=True).\n"
          ],
          "name": "stdout"
        }
      ]
    },
    {
      "cell_type": "code",
      "metadata": {
        "id": "HS9qrHw0wVsO",
        "colab_type": "code",
        "outputId": "87c67fb1-856e-42f5-a46e-6f9e831ae956",
        "colab": {
          "base_uri": "https://localhost:8080/",
          "height": 34
        }
      },
      "source": [
        "#change to your directory where you stored the files\n",
        "%cd /content/drive/My Drive/Project_4/"
      ],
      "execution_count": 0,
      "outputs": [
        {
          "output_type": "stream",
          "text": [
            "/content/drive/My Drive/Project_4\n"
          ],
          "name": "stdout"
        }
      ]
    },
    {
      "cell_type": "code",
      "metadata": {
        "id": "N0IW1tS8MvMx",
        "colab_type": "code",
        "colab": {}
      },
      "source": [
        "##!gunzip sfc.tar.gz"
      ],
      "execution_count": 0,
      "outputs": []
    },
    {
      "cell_type": "code",
      "metadata": {
        "id": "1dcaySgZM1b0",
        "colab_type": "code",
        "colab": {}
      },
      "source": [
        "##!tar -xf sfc.tar"
      ],
      "execution_count": 0,
      "outputs": []
    },
    {
      "cell_type": "markdown",
      "metadata": {
        "id": "OJdNXZiWrki_",
        "colab_type": "text"
      },
      "source": [
        "## Read GFS daily tar file"
      ]
    },
    {
      "cell_type": "code",
      "metadata": {
        "id": "B2donlKbjwEw",
        "colab_type": "code",
        "colab": {}
      },
      "source": [
        "#to merge the daily tar files\n",
        "path = \"daily/\"\n",
        "all_files = glob.glob(path + \"*.csv\")\n",
        "all_files.sort()\n",
        "\n",
        "list = []\n",
        "\n",
        "for filename in all_files:\n",
        "    df = pd.read_csv(filename, index_col=None, header=0)\n",
        "    list.append(df)\n",
        "\n",
        "frame = pd.concat(list, axis=0, ignore_index=True)\n",
        "frame"
      ],
      "execution_count": 0,
      "outputs": []
    },
    {
      "cell_type": "code",
      "metadata": {
        "id": "qNiTCR8sMux5",
        "colab_type": "code",
        "colab": {}
      },
      "source": [
        "#rename columns.\n",
        "frame.columns=['Time', 'TMAX', 'TMIN', 'WMAX', 'RTOT'] "
      ],
      "execution_count": 0,
      "outputs": []
    },
    {
      "cell_type": "code",
      "metadata": {
        "id": "snMe3mEiO0Qr",
        "colab_type": "code",
        "colab": {}
      },
      "source": [
        "#save to csv.\n",
        "frame.to_csv('GFS_daily_2010_2019_test.csv')"
      ],
      "execution_count": 0,
      "outputs": []
    },
    {
      "cell_type": "code",
      "metadata": {
        "id": "xNouYkGkxDEa",
        "colab_type": "code",
        "colab": {}
      },
      "source": [
        "#!wget https://raw.githubusercontent.com/swnesbitt/ATMS-597-SP-2020/master/ATMS-597-SP-2020-Project-4/KCMI_daily.csv"
      ],
      "execution_count": 0,
      "outputs": []
    },
    {
      "cell_type": "code",
      "metadata": {
        "id": "uvwHxI-FxGEZ",
        "colab_type": "code",
        "colab": {}
      },
      "source": [
        "#!wget https://raw.githubusercontent.com/swnesbitt/ATMS-597-SP-2020/master/ATMS-597-SP-2020-Project-4/KCMI_hourly.csv"
      ],
      "execution_count": 0,
      "outputs": []
    },
    {
      "cell_type": "code",
      "metadata": {
        "id": "WzaOQOmtxLlQ",
        "colab_type": "code",
        "colab": {}
      },
      "source": [
        "#!wget https://raw.githubusercontent.com/swnesbitt/ATMS-597-SP-2020/master/ATMS-597-SP-2020-Project-4/daily.tar.gz"
      ],
      "execution_count": 0,
      "outputs": []
    },
    {
      "cell_type": "code",
      "metadata": {
        "id": "KAczyrplxZUe",
        "colab_type": "code",
        "colab": {}
      },
      "source": [
        "#!wget https://raw.githubusercontent.com/swnesbitt/ATMS-597-SP-2020/master/ATMS-597-SP-2020-Project-4/prof.tar.gz"
      ],
      "execution_count": 0,
      "outputs": []
    },
    {
      "cell_type": "code",
      "metadata": {
        "id": "vi4ofWIUxgvc",
        "colab_type": "code",
        "colab": {}
      },
      "source": [
        "#!wget https://raw.githubusercontent.com/swnesbitt/ATMS-597-SP-2020/master/ATMS-597-SP-2020-Project-4/sfc.tar.gz"
      ],
      "execution_count": 0,
      "outputs": []
    },
    {
      "cell_type": "code",
      "metadata": {
        "id": "TqIyBb9rVCJw",
        "colab_type": "code",
        "colab": {}
      },
      "source": [
        ""
      ],
      "execution_count": 0,
      "outputs": []
    },
    {
      "cell_type": "code",
      "metadata": {
        "id": "_my_BX_2ONDb",
        "colab_type": "code",
        "colab": {}
      },
      "source": [
        "#now read in the KCMI hourly data.\n",
        "KCMI_hourly = pd.read_csv('KCMI_hourly.csv')  \n",
        "\n",
        "KCMI_hourly_prec = KCMI_hourly[['pr1h']] #read in the hourly precip\n",
        "KCMI_hourly_prec = KCMI_hourly_prec.set_index(KCMI_hourly['Timestamp'])  # copy the hourly timestamp\n",
        "KCMI_hourly_prec.index = pd.to_datetime(KCMI_hourly_prec.index)  #change the index to datetime format"
      ],
      "execution_count": 0,
      "outputs": []
    },
    {
      "cell_type": "code",
      "metadata": {
        "id": "LBYSRuhEfHhq",
        "colab_type": "code",
        "colab": {}
      },
      "source": [
        "KCMI_hourly_prec = KCMI_hourly_prec.replace(-0.1, np.nan)   #replace the -0.1 with np.nan\n",
        "KCMI_daily_prec = KCMI_hourly_prec.resample(rule='24H',closed='left',label='left',base=0).sum() #sum each day total precip"
      ],
      "execution_count": 0,
      "outputs": []
    },
    {
      "cell_type": "code",
      "metadata": {
        "id": "MWnNuSgngHi-",
        "colab_type": "code",
        "colab": {}
      },
      "source": [
        "KCMI_daily_prec.columns=['precip_(mm)']  #rename column\n",
        "KCMI_daily_prec_final = KCMI_daily_prec[(KCMI_daily_prec.index>'2009-12-31') & (KCMI_daily_prec.index<'2020')] #choose 2010-2019\n"
      ],
      "execution_count": 0,
      "outputs": []
    },
    {
      "cell_type": "code",
      "metadata": {
        "id": "F1bzurJjhQYY",
        "colab_type": "code",
        "outputId": "9bbfa4b5-6844-4a05-ef4c-d40837af1223",
        "colab": {
          "base_uri": "https://localhost:8080/",
          "height": 450
        }
      },
      "source": [
        "KCMI_daily_prec_final"
      ],
      "execution_count": 0,
      "outputs": [
        {
          "output_type": "execute_result",
          "data": {
            "text/html": [
              "<div>\n",
              "<style scoped>\n",
              "    .dataframe tbody tr th:only-of-type {\n",
              "        vertical-align: middle;\n",
              "    }\n",
              "\n",
              "    .dataframe tbody tr th {\n",
              "        vertical-align: top;\n",
              "    }\n",
              "\n",
              "    .dataframe thead th {\n",
              "        text-align: right;\n",
              "    }\n",
              "</style>\n",
              "<table border=\"1\" class=\"dataframe\">\n",
              "  <thead>\n",
              "    <tr style=\"text-align: right;\">\n",
              "      <th></th>\n",
              "      <th>precip_(mm)</th>\n",
              "    </tr>\n",
              "    <tr>\n",
              "      <th>Timestamp</th>\n",
              "      <th></th>\n",
              "    </tr>\n",
              "  </thead>\n",
              "  <tbody>\n",
              "    <tr>\n",
              "      <th>2010-01-01</th>\n",
              "      <td>0.0</td>\n",
              "    </tr>\n",
              "    <tr>\n",
              "      <th>2010-01-02</th>\n",
              "      <td>0.0</td>\n",
              "    </tr>\n",
              "    <tr>\n",
              "      <th>2010-01-03</th>\n",
              "      <td>0.0</td>\n",
              "    </tr>\n",
              "    <tr>\n",
              "      <th>2010-01-04</th>\n",
              "      <td>0.0</td>\n",
              "    </tr>\n",
              "    <tr>\n",
              "      <th>2010-01-05</th>\n",
              "      <td>0.0</td>\n",
              "    </tr>\n",
              "    <tr>\n",
              "      <th>...</th>\n",
              "      <td>...</td>\n",
              "    </tr>\n",
              "    <tr>\n",
              "      <th>2019-12-27</th>\n",
              "      <td>0.0</td>\n",
              "    </tr>\n",
              "    <tr>\n",
              "      <th>2019-12-28</th>\n",
              "      <td>2.8</td>\n",
              "    </tr>\n",
              "    <tr>\n",
              "      <th>2019-12-29</th>\n",
              "      <td>4.3</td>\n",
              "    </tr>\n",
              "    <tr>\n",
              "      <th>2019-12-30</th>\n",
              "      <td>0.6</td>\n",
              "    </tr>\n",
              "    <tr>\n",
              "      <th>2019-12-31</th>\n",
              "      <td>0.0</td>\n",
              "    </tr>\n",
              "  </tbody>\n",
              "</table>\n",
              "<p>3652 rows × 1 columns</p>\n",
              "</div>"
            ],
            "text/plain": [
              "            precip_(mm)\n",
              "Timestamp              \n",
              "2010-01-01          0.0\n",
              "2010-01-02          0.0\n",
              "2010-01-03          0.0\n",
              "2010-01-04          0.0\n",
              "2010-01-05          0.0\n",
              "...                 ...\n",
              "2019-12-27          0.0\n",
              "2019-12-28          2.8\n",
              "2019-12-29          4.3\n",
              "2019-12-30          0.6\n",
              "2019-12-31          0.0\n",
              "\n",
              "[3652 rows x 1 columns]"
            ]
          },
          "metadata": {
            "tags": []
          },
          "execution_count": 27
        }
      ]
    },
    {
      "cell_type": "markdown",
      "metadata": {
        "id": "l3ivTf2NrcRb",
        "colab_type": "text"
      },
      "source": [
        "## Read KCMI Daily Observation"
      ]
    },
    {
      "cell_type": "code",
      "metadata": {
        "id": "d1wJhpRE0dBu",
        "colab_type": "code",
        "colab": {}
      },
      "source": [
        "#read KCMI daily observations\n",
        "KCMI_daily = pd.read_csv('KCMI_daily.csv', skiprows=8, parse_dates=True, index_col = 'Date')"
      ],
      "execution_count": 0,
      "outputs": []
    },
    {
      "cell_type": "code",
      "metadata": {
        "id": "Jibdpq7-VD4n",
        "colab_type": "code",
        "outputId": "03fc25c6-d32a-45db-e0cd-8669b67d6567",
        "colab": {
          "base_uri": "https://localhost:8080/",
          "height": 450
        }
      },
      "source": [
        "KCMI_daily_new=KCMI_daily.iloc[:-7,:]   #ignore the footer\n",
        "KCMI_daily_new"
      ],
      "execution_count": 0,
      "outputs": [
        {
          "output_type": "execute_result",
          "data": {
            "text/html": [
              "<div>\n",
              "<style scoped>\n",
              "    .dataframe tbody tr th:only-of-type {\n",
              "        vertical-align: middle;\n",
              "    }\n",
              "\n",
              "    .dataframe tbody tr th {\n",
              "        vertical-align: top;\n",
              "    }\n",
              "\n",
              "    .dataframe thead th {\n",
              "        text-align: right;\n",
              "    }\n",
              "</style>\n",
              "<table border=\"1\" class=\"dataframe\">\n",
              "  <thead>\n",
              "    <tr style=\"text-align: right;\">\n",
              "      <th></th>\n",
              "      <th>Max Hourly Temp (F)</th>\n",
              "      <th>Min Hourly Temp (F)</th>\n",
              "      <th>Max Wind Speed (mph)</th>\n",
              "      <th>Total Precip (in)</th>\n",
              "      <th>Unnamed: 5</th>\n",
              "    </tr>\n",
              "    <tr>\n",
              "      <th>Date</th>\n",
              "      <th></th>\n",
              "      <th></th>\n",
              "      <th></th>\n",
              "      <th></th>\n",
              "      <th></th>\n",
              "    </tr>\n",
              "  </thead>\n",
              "  <tbody>\n",
              "    <tr>\n",
              "      <th>2010-01-01</th>\n",
              "      <td>12</td>\n",
              "      <td>2</td>\n",
              "      <td>15</td>\n",
              "      <td>M</td>\n",
              "      <td>NaN</td>\n",
              "    </tr>\n",
              "    <tr>\n",
              "      <th>2010-01-02</th>\n",
              "      <td>6</td>\n",
              "      <td>-5</td>\n",
              "      <td>15</td>\n",
              "      <td>0.00</td>\n",
              "      <td>NaN</td>\n",
              "    </tr>\n",
              "    <tr>\n",
              "      <th>2010-01-03</th>\n",
              "      <td>10</td>\n",
              "      <td>-6</td>\n",
              "      <td>11</td>\n",
              "      <td>0.00</td>\n",
              "      <td>NaN</td>\n",
              "    </tr>\n",
              "    <tr>\n",
              "      <th>2010-01-04</th>\n",
              "      <td>11</td>\n",
              "      <td>-2</td>\n",
              "      <td>20</td>\n",
              "      <td>0.00</td>\n",
              "      <td>NaN</td>\n",
              "    </tr>\n",
              "    <tr>\n",
              "      <th>2010-01-05</th>\n",
              "      <td>10</td>\n",
              "      <td>-1</td>\n",
              "      <td>16</td>\n",
              "      <td>M</td>\n",
              "      <td>NaN</td>\n",
              "    </tr>\n",
              "    <tr>\n",
              "      <th>...</th>\n",
              "      <td>...</td>\n",
              "      <td>...</td>\n",
              "      <td>...</td>\n",
              "      <td>...</td>\n",
              "      <td>...</td>\n",
              "    </tr>\n",
              "    <tr>\n",
              "      <th>2019-12-27</th>\n",
              "      <td>43</td>\n",
              "      <td>32</td>\n",
              "      <td>15</td>\n",
              "      <td>0.00</td>\n",
              "      <td>NaN</td>\n",
              "    </tr>\n",
              "    <tr>\n",
              "      <th>2019-12-28</th>\n",
              "      <td>56</td>\n",
              "      <td>32</td>\n",
              "      <td>23</td>\n",
              "      <td>0.23</td>\n",
              "      <td>NaN</td>\n",
              "    </tr>\n",
              "    <tr>\n",
              "      <th>2019-12-29</th>\n",
              "      <td>59</td>\n",
              "      <td>41</td>\n",
              "      <td>23</td>\n",
              "      <td>0.22</td>\n",
              "      <td>NaN</td>\n",
              "    </tr>\n",
              "    <tr>\n",
              "      <th>2019-12-30</th>\n",
              "      <td>38</td>\n",
              "      <td>31</td>\n",
              "      <td>26</td>\n",
              "      <td>0.01</td>\n",
              "      <td>NaN</td>\n",
              "    </tr>\n",
              "    <tr>\n",
              "      <th>2019-12-31</th>\n",
              "      <td>33</td>\n",
              "      <td>30</td>\n",
              "      <td>29</td>\n",
              "      <td>0.00</td>\n",
              "      <td>NaN</td>\n",
              "    </tr>\n",
              "  </tbody>\n",
              "</table>\n",
              "<p>3652 rows × 5 columns</p>\n",
              "</div>"
            ],
            "text/plain": [
              "           Max Hourly Temp (F)  ... Unnamed: 5\n",
              "Date                            ...           \n",
              "2010-01-01                  12  ...        NaN\n",
              "2010-01-02                   6  ...        NaN\n",
              "2010-01-03                  10  ...        NaN\n",
              "2010-01-04                  11  ...        NaN\n",
              "2010-01-05                  10  ...        NaN\n",
              "...                        ...  ...        ...\n",
              "2019-12-27                  43  ...        NaN\n",
              "2019-12-28                  56  ...        NaN\n",
              "2019-12-29                  59  ...        NaN\n",
              "2019-12-30                  38  ...        NaN\n",
              "2019-12-31                  33  ...        NaN\n",
              "\n",
              "[3652 rows x 5 columns]"
            ]
          },
          "metadata": {
            "tags": []
          },
          "execution_count": 35
        }
      ]
    },
    {
      "cell_type": "code",
      "metadata": {
        "id": "O7RQYcFOPhsm",
        "colab_type": "code",
        "colab": {}
      },
      "source": [
        "KCMI_daily_new=KCMI_daily_new.drop(['Unnamed: 5'],axis=1)    #remove the last column\n"
      ],
      "execution_count": 0,
      "outputs": []
    },
    {
      "cell_type": "code",
      "metadata": {
        "id": "s9jMMdMnQI3k",
        "colab_type": "code",
        "colab": {}
      },
      "source": [
        "#rename the columns\n",
        "KCMI_daily_new.rename(columns={'Max Hourly Temp (F)': 'T_MAX(F)', 'Min Hourly Temp (F)': 'T_MIN(F)', 'Max Wind Speed (mph)': 'W_MAX(mph)', 'Total Precip (in)': 'R_TOT(in)'}, inplace = True)"
      ],
      "execution_count": 0,
      "outputs": []
    },
    {
      "cell_type": "code",
      "metadata": {
        "id": "1ts0IkTHRzIm",
        "colab_type": "code",
        "colab": {}
      },
      "source": [
        "KCMI_daily_new = KCMI_daily_new.drop('R_TOT(in)',axis=1)\n",
        "KCMI_daily_new"
      ],
      "execution_count": 0,
      "outputs": []
    },
    {
      "cell_type": "code",
      "metadata": {
        "id": "6f6R9Fyyjh5O",
        "colab_type": "code",
        "colab": {}
      },
      "source": [
        "#add daily precipitation column from previous hourly processing\n",
        "KCMI_daily_new['precip_(mm)'] = KCMI_daily_prec_final['precip_(mm)'].values"
      ],
      "execution_count": 0,
      "outputs": []
    },
    {
      "cell_type": "code",
      "metadata": {
        "id": "AJ_RFWotlQPZ",
        "colab_type": "code",
        "outputId": "ae1fd7de-f336-4569-8e33-11063db99bb7",
        "colab": {
          "base_uri": "https://localhost:8080/",
          "height": 450
        }
      },
      "source": [
        "KCMI_daily_new"
      ],
      "execution_count": 0,
      "outputs": [
        {
          "output_type": "execute_result",
          "data": {
            "text/html": [
              "<div>\n",
              "<style scoped>\n",
              "    .dataframe tbody tr th:only-of-type {\n",
              "        vertical-align: middle;\n",
              "    }\n",
              "\n",
              "    .dataframe tbody tr th {\n",
              "        vertical-align: top;\n",
              "    }\n",
              "\n",
              "    .dataframe thead th {\n",
              "        text-align: right;\n",
              "    }\n",
              "</style>\n",
              "<table border=\"1\" class=\"dataframe\">\n",
              "  <thead>\n",
              "    <tr style=\"text-align: right;\">\n",
              "      <th></th>\n",
              "      <th>T_MAX(F)</th>\n",
              "      <th>T_MIN(F)</th>\n",
              "      <th>W_MAX(mph)</th>\n",
              "      <th>precip_(mm)</th>\n",
              "    </tr>\n",
              "    <tr>\n",
              "      <th>Date</th>\n",
              "      <th></th>\n",
              "      <th></th>\n",
              "      <th></th>\n",
              "      <th></th>\n",
              "    </tr>\n",
              "  </thead>\n",
              "  <tbody>\n",
              "    <tr>\n",
              "      <th>2010-01-01</th>\n",
              "      <td>12</td>\n",
              "      <td>2</td>\n",
              "      <td>15</td>\n",
              "      <td>0.0</td>\n",
              "    </tr>\n",
              "    <tr>\n",
              "      <th>2010-01-02</th>\n",
              "      <td>6</td>\n",
              "      <td>-5</td>\n",
              "      <td>15</td>\n",
              "      <td>0.0</td>\n",
              "    </tr>\n",
              "    <tr>\n",
              "      <th>2010-01-03</th>\n",
              "      <td>10</td>\n",
              "      <td>-6</td>\n",
              "      <td>11</td>\n",
              "      <td>0.0</td>\n",
              "    </tr>\n",
              "    <tr>\n",
              "      <th>2010-01-04</th>\n",
              "      <td>11</td>\n",
              "      <td>-2</td>\n",
              "      <td>20</td>\n",
              "      <td>0.0</td>\n",
              "    </tr>\n",
              "    <tr>\n",
              "      <th>2010-01-05</th>\n",
              "      <td>10</td>\n",
              "      <td>-1</td>\n",
              "      <td>16</td>\n",
              "      <td>0.0</td>\n",
              "    </tr>\n",
              "    <tr>\n",
              "      <th>...</th>\n",
              "      <td>...</td>\n",
              "      <td>...</td>\n",
              "      <td>...</td>\n",
              "      <td>...</td>\n",
              "    </tr>\n",
              "    <tr>\n",
              "      <th>2019-12-27</th>\n",
              "      <td>43</td>\n",
              "      <td>32</td>\n",
              "      <td>15</td>\n",
              "      <td>0.0</td>\n",
              "    </tr>\n",
              "    <tr>\n",
              "      <th>2019-12-28</th>\n",
              "      <td>56</td>\n",
              "      <td>32</td>\n",
              "      <td>23</td>\n",
              "      <td>2.8</td>\n",
              "    </tr>\n",
              "    <tr>\n",
              "      <th>2019-12-29</th>\n",
              "      <td>59</td>\n",
              "      <td>41</td>\n",
              "      <td>23</td>\n",
              "      <td>4.3</td>\n",
              "    </tr>\n",
              "    <tr>\n",
              "      <th>2019-12-30</th>\n",
              "      <td>38</td>\n",
              "      <td>31</td>\n",
              "      <td>26</td>\n",
              "      <td>0.6</td>\n",
              "    </tr>\n",
              "    <tr>\n",
              "      <th>2019-12-31</th>\n",
              "      <td>33</td>\n",
              "      <td>30</td>\n",
              "      <td>29</td>\n",
              "      <td>0.0</td>\n",
              "    </tr>\n",
              "  </tbody>\n",
              "</table>\n",
              "<p>3652 rows × 4 columns</p>\n",
              "</div>"
            ],
            "text/plain": [
              "           T_MAX(F) T_MIN(F) W_MAX(mph)  precip_(mm)\n",
              "Date                                                \n",
              "2010-01-01       12        2         15          0.0\n",
              "2010-01-02        6       -5         15          0.0\n",
              "2010-01-03       10       -6         11          0.0\n",
              "2010-01-04       11       -2         20          0.0\n",
              "2010-01-05       10       -1         16          0.0\n",
              "...             ...      ...        ...          ...\n",
              "2019-12-27       43       32         15          0.0\n",
              "2019-12-28       56       32         23          2.8\n",
              "2019-12-29       59       41         23          4.3\n",
              "2019-12-30       38       31         26          0.6\n",
              "2019-12-31       33       30         29          0.0\n",
              "\n",
              "[3652 rows x 4 columns]"
            ]
          },
          "metadata": {
            "tags": []
          },
          "execution_count": 52
        }
      ]
    },
    {
      "cell_type": "code",
      "metadata": {
        "id": "rQ8NtILvogDc",
        "colab_type": "code",
        "colab": {}
      },
      "source": [
        "#if you want to save the merged KCMI daily observations\n",
        "KCMI_daily_new.to_csv('KCMI_daily_with_precip.csv')"
      ],
      "execution_count": 0,
      "outputs": []
    },
    {
      "cell_type": "code",
      "metadata": {
        "id": "9nxEzBCFpeaQ",
        "colab_type": "code",
        "outputId": "8bba05f9-59e1-41ff-fc10-1966b1daad56",
        "colab": {
          "base_uri": "https://localhost:8080/",
          "height": 238
        }
      },
      "source": [
        "KCMI_daily_new['T_MAX(F)']"
      ],
      "execution_count": 0,
      "outputs": [
        {
          "output_type": "execute_result",
          "data": {
            "text/plain": [
              "Date\n",
              "2010-01-01    12\n",
              "2010-01-02     6\n",
              "2010-01-03    10\n",
              "2010-01-04    11\n",
              "2010-01-05    10\n",
              "              ..\n",
              "2019-12-27    43\n",
              "2019-12-28    56\n",
              "2019-12-29    59\n",
              "2019-12-30    38\n",
              "2019-12-31    33\n",
              "Name: T_MAX(F), Length: 3652, dtype: object"
            ]
          },
          "metadata": {
            "tags": []
          },
          "execution_count": 55
        }
      ]
    },
    {
      "cell_type": "code",
      "metadata": {
        "id": "9JpfsNyZonf4",
        "colab_type": "code",
        "colab": {}
      },
      "source": [
        "#now converting the units\n",
        "\n",
        "#removing the Missing values\n",
        "KCMI_daily_new=KCMI_daily_new.iloc[:,:].replace('M', np.nan)\n",
        "\n",
        "# Convert TMAX,TMIN to Celcius, W_MAX to m/s\n",
        "KCMI_daily_new['T_MAX(C)'] = (KCMI_daily_new['T_MAX(F)'].astype(float) - 32) * 5/9\n",
        "KCMI_daily_new['T_MIN(C)'] = (KCMI_daily_new['T_MIN(F)'].astype(float)- 32) * 5/9\n",
        "KCMI_daily_new['W_MAX(m/s)'] = KCMI_daily_new['W_MAX(mph)'].astype(float) * 0.44704\n",
        "KCMI_daily_new['R_TOT(mm)'] = KCMI_daily_new['precip_(mm)']\n",
        "\n",
        "KCMI_daily_final=KCMI_daily_new.iloc[:,4:]"
      ],
      "execution_count": 0,
      "outputs": []
    },
    {
      "cell_type": "code",
      "metadata": {
        "id": "2O65B4M0pr7I",
        "colab_type": "code",
        "colab": {}
      },
      "source": [
        "KCMI_daily_final=KCMI_daily_new.iloc[:,4:]"
      ],
      "execution_count": 0,
      "outputs": []
    },
    {
      "cell_type": "code",
      "metadata": {
        "id": "Vil07N63qzgg",
        "colab_type": "code",
        "outputId": "8c7fd87d-c6a0-405f-b596-14fbe38ac14d",
        "colab": {
          "base_uri": "https://localhost:8080/",
          "height": 450
        }
      },
      "source": [
        "#save the final daily KCMI observation csv\n",
        "KCMI_daily_final.to_csv('KCMI_daily_format.csv')"
      ],
      "execution_count": 0,
      "outputs": [
        {
          "output_type": "execute_result",
          "data": {
            "text/html": [
              "<div>\n",
              "<style scoped>\n",
              "    .dataframe tbody tr th:only-of-type {\n",
              "        vertical-align: middle;\n",
              "    }\n",
              "\n",
              "    .dataframe tbody tr th {\n",
              "        vertical-align: top;\n",
              "    }\n",
              "\n",
              "    .dataframe thead th {\n",
              "        text-align: right;\n",
              "    }\n",
              "</style>\n",
              "<table border=\"1\" class=\"dataframe\">\n",
              "  <thead>\n",
              "    <tr style=\"text-align: right;\">\n",
              "      <th></th>\n",
              "      <th>T_MAX(C)</th>\n",
              "      <th>T_MIN(C)</th>\n",
              "      <th>W_MAX(m/s)</th>\n",
              "      <th>R_TOT(mm)</th>\n",
              "    </tr>\n",
              "    <tr>\n",
              "      <th>Date</th>\n",
              "      <th></th>\n",
              "      <th></th>\n",
              "      <th></th>\n",
              "      <th></th>\n",
              "    </tr>\n",
              "  </thead>\n",
              "  <tbody>\n",
              "    <tr>\n",
              "      <th>2010-01-01</th>\n",
              "      <td>-11.111111</td>\n",
              "      <td>-16.666667</td>\n",
              "      <td>6.70560</td>\n",
              "      <td>0.0</td>\n",
              "    </tr>\n",
              "    <tr>\n",
              "      <th>2010-01-02</th>\n",
              "      <td>-14.444444</td>\n",
              "      <td>-20.555556</td>\n",
              "      <td>6.70560</td>\n",
              "      <td>0.0</td>\n",
              "    </tr>\n",
              "    <tr>\n",
              "      <th>2010-01-03</th>\n",
              "      <td>-12.222222</td>\n",
              "      <td>-21.111111</td>\n",
              "      <td>4.91744</td>\n",
              "      <td>0.0</td>\n",
              "    </tr>\n",
              "    <tr>\n",
              "      <th>2010-01-04</th>\n",
              "      <td>-11.666667</td>\n",
              "      <td>-18.888889</td>\n",
              "      <td>8.94080</td>\n",
              "      <td>0.0</td>\n",
              "    </tr>\n",
              "    <tr>\n",
              "      <th>2010-01-05</th>\n",
              "      <td>-12.222222</td>\n",
              "      <td>-18.333333</td>\n",
              "      <td>7.15264</td>\n",
              "      <td>0.0</td>\n",
              "    </tr>\n",
              "    <tr>\n",
              "      <th>...</th>\n",
              "      <td>...</td>\n",
              "      <td>...</td>\n",
              "      <td>...</td>\n",
              "      <td>...</td>\n",
              "    </tr>\n",
              "    <tr>\n",
              "      <th>2019-12-27</th>\n",
              "      <td>6.111111</td>\n",
              "      <td>0.000000</td>\n",
              "      <td>6.70560</td>\n",
              "      <td>0.0</td>\n",
              "    </tr>\n",
              "    <tr>\n",
              "      <th>2019-12-28</th>\n",
              "      <td>13.333333</td>\n",
              "      <td>0.000000</td>\n",
              "      <td>10.28192</td>\n",
              "      <td>2.8</td>\n",
              "    </tr>\n",
              "    <tr>\n",
              "      <th>2019-12-29</th>\n",
              "      <td>15.000000</td>\n",
              "      <td>5.000000</td>\n",
              "      <td>10.28192</td>\n",
              "      <td>4.3</td>\n",
              "    </tr>\n",
              "    <tr>\n",
              "      <th>2019-12-30</th>\n",
              "      <td>3.333333</td>\n",
              "      <td>-0.555556</td>\n",
              "      <td>11.62304</td>\n",
              "      <td>0.6</td>\n",
              "    </tr>\n",
              "    <tr>\n",
              "      <th>2019-12-31</th>\n",
              "      <td>0.555556</td>\n",
              "      <td>-1.111111</td>\n",
              "      <td>12.96416</td>\n",
              "      <td>0.0</td>\n",
              "    </tr>\n",
              "  </tbody>\n",
              "</table>\n",
              "<p>3652 rows × 4 columns</p>\n",
              "</div>"
            ],
            "text/plain": [
              "             T_MAX(C)   T_MIN(C)  W_MAX(m/s)  R_TOT(mm)\n",
              "Date                                                   \n",
              "2010-01-01 -11.111111 -16.666667     6.70560        0.0\n",
              "2010-01-02 -14.444444 -20.555556     6.70560        0.0\n",
              "2010-01-03 -12.222222 -21.111111     4.91744        0.0\n",
              "2010-01-04 -11.666667 -18.888889     8.94080        0.0\n",
              "2010-01-05 -12.222222 -18.333333     7.15264        0.0\n",
              "...               ...        ...         ...        ...\n",
              "2019-12-27   6.111111   0.000000     6.70560        0.0\n",
              "2019-12-28  13.333333   0.000000    10.28192        2.8\n",
              "2019-12-29  15.000000   5.000000    10.28192        4.3\n",
              "2019-12-30   3.333333  -0.555556    11.62304        0.6\n",
              "2019-12-31   0.555556  -1.111111    12.96416        0.0\n",
              "\n",
              "[3652 rows x 4 columns]"
            ]
          },
          "metadata": {
            "tags": []
          },
          "execution_count": 64
        }
      ]
    },
    {
      "cell_type": "markdown",
      "metadata": {
        "id": "ht7yGxper8rl",
        "colab_type": "text"
      },
      "source": [
        "## Combine features"
      ]
    },
    {
      "cell_type": "code",
      "metadata": {
        "id": "xy0NUtvat4vt",
        "colab_type": "code",
        "outputId": "f1a4b244-3694-4015-bbde-00ac78006efe",
        "colab": {
          "base_uri": "https://localhost:8080/",
          "height": 450
        }
      },
      "source": [
        "#read in GFS Daily\n",
        "GFS_daily = pd.read_csv('GFS_daily_2010_2019_test.csv', index_col='Time',parse_dates=True) #read in previously merged GFS daily file\n",
        "GFS_daily = GFS_daily.iloc[:,1:]  #drop the unnamed column\n",
        "GFS_daily_new = GFS_daily[(GFS_daily.index > '2009-12-31') & (GFS_daily.index < '2020-01-01')] #choose 2010-2019 data\n",
        "GFS_daily_new"
      ],
      "execution_count": 0,
      "outputs": [
        {
          "output_type": "execute_result",
          "data": {
            "text/html": [
              "<div>\n",
              "<style scoped>\n",
              "    .dataframe tbody tr th:only-of-type {\n",
              "        vertical-align: middle;\n",
              "    }\n",
              "\n",
              "    .dataframe tbody tr th {\n",
              "        vertical-align: top;\n",
              "    }\n",
              "\n",
              "    .dataframe thead th {\n",
              "        text-align: right;\n",
              "    }\n",
              "</style>\n",
              "<table border=\"1\" class=\"dataframe\">\n",
              "  <thead>\n",
              "    <tr style=\"text-align: right;\">\n",
              "      <th></th>\n",
              "      <th>TMAX</th>\n",
              "      <th>TMIN</th>\n",
              "      <th>WMAX</th>\n",
              "      <th>RTOT</th>\n",
              "    </tr>\n",
              "    <tr>\n",
              "      <th>Time</th>\n",
              "      <th></th>\n",
              "      <th></th>\n",
              "      <th></th>\n",
              "      <th></th>\n",
              "    </tr>\n",
              "  </thead>\n",
              "  <tbody>\n",
              "    <tr>\n",
              "      <th>2010-01-01 12:00:00</th>\n",
              "      <td>-11.26</td>\n",
              "      <td>-16.46</td>\n",
              "      <td>7.323933</td>\n",
              "      <td>0.05</td>\n",
              "    </tr>\n",
              "    <tr>\n",
              "      <th>2010-01-02 12:00:00</th>\n",
              "      <td>-10.16</td>\n",
              "      <td>-15.96</td>\n",
              "      <td>4.687217</td>\n",
              "      <td>0.00</td>\n",
              "    </tr>\n",
              "    <tr>\n",
              "      <th>2010-01-03 12:00:00</th>\n",
              "      <td>-9.96</td>\n",
              "      <td>-14.36</td>\n",
              "      <td>5.941380</td>\n",
              "      <td>0.06</td>\n",
              "    </tr>\n",
              "    <tr>\n",
              "      <th>2010-01-04 12:00:00</th>\n",
              "      <td>-8.46</td>\n",
              "      <td>-12.86</td>\n",
              "      <td>5.685068</td>\n",
              "      <td>0.17</td>\n",
              "    </tr>\n",
              "    <tr>\n",
              "      <th>2010-01-05 12:00:00</th>\n",
              "      <td>-7.16</td>\n",
              "      <td>-11.06</td>\n",
              "      <td>3.794733</td>\n",
              "      <td>0.77</td>\n",
              "    </tr>\n",
              "    <tr>\n",
              "      <th>...</th>\n",
              "      <td>...</td>\n",
              "      <td>...</td>\n",
              "      <td>...</td>\n",
              "      <td>...</td>\n",
              "    </tr>\n",
              "    <tr>\n",
              "      <th>2019-12-27 12:00:00</th>\n",
              "      <td>13.94</td>\n",
              "      <td>3.54</td>\n",
              "      <td>8.819297</td>\n",
              "      <td>2.73</td>\n",
              "    </tr>\n",
              "    <tr>\n",
              "      <th>2019-12-28 12:00:00</th>\n",
              "      <td>15.94</td>\n",
              "      <td>9.34</td>\n",
              "      <td>9.701546</td>\n",
              "      <td>11.58</td>\n",
              "    </tr>\n",
              "    <tr>\n",
              "      <th>2019-12-29 12:00:00</th>\n",
              "      <td>7.24</td>\n",
              "      <td>-1.66</td>\n",
              "      <td>11.111256</td>\n",
              "      <td>2.57</td>\n",
              "    </tr>\n",
              "    <tr>\n",
              "      <th>2019-12-30 12:00:00</th>\n",
              "      <td>-0.36</td>\n",
              "      <td>-2.26</td>\n",
              "      <td>8.769265</td>\n",
              "      <td>0.04</td>\n",
              "    </tr>\n",
              "    <tr>\n",
              "      <th>2019-12-31 12:00:00</th>\n",
              "      <td>6.44</td>\n",
              "      <td>-2.36</td>\n",
              "      <td>8.287340</td>\n",
              "      <td>0.00</td>\n",
              "    </tr>\n",
              "  </tbody>\n",
              "</table>\n",
              "<p>3614 rows × 4 columns</p>\n",
              "</div>"
            ],
            "text/plain": [
              "                      TMAX   TMIN       WMAX   RTOT\n",
              "Time                                               \n",
              "2010-01-01 12:00:00 -11.26 -16.46   7.323933   0.05\n",
              "2010-01-02 12:00:00 -10.16 -15.96   4.687217   0.00\n",
              "2010-01-03 12:00:00  -9.96 -14.36   5.941380   0.06\n",
              "2010-01-04 12:00:00  -8.46 -12.86   5.685068   0.17\n",
              "2010-01-05 12:00:00  -7.16 -11.06   3.794733   0.77\n",
              "...                    ...    ...        ...    ...\n",
              "2019-12-27 12:00:00  13.94   3.54   8.819297   2.73\n",
              "2019-12-28 12:00:00  15.94   9.34   9.701546  11.58\n",
              "2019-12-29 12:00:00   7.24  -1.66  11.111256   2.57\n",
              "2019-12-30 12:00:00  -0.36  -2.26   8.769265   0.04\n",
              "2019-12-31 12:00:00   6.44  -2.36   8.287340   0.00\n",
              "\n",
              "[3614 rows x 4 columns]"
            ]
          },
          "metadata": {
            "tags": []
          },
          "execution_count": 4
        }
      ]
    },
    {
      "cell_type": "code",
      "metadata": {
        "id": "u-B-UKu2vtB1",
        "colab_type": "code",
        "outputId": "b8bd14f2-e4f5-4747-efa8-2ab24cc09c35",
        "colab": {
          "base_uri": "https://localhost:8080/",
          "height": 450
        }
      },
      "source": [
        "#Read in KCMI Daily\n",
        "KCMI_daily = pd.read_csv('KCMI_daily_format.csv', index_col = 'Date', parse_dates = True)\n",
        "KCMI_daily.index = KCMI_daily.index + pd.DateOffset(hours=12)  \n",
        "KCMI_daily_new = KCMI_daily.rename_axis('Time')\n",
        "KCMI_daily_new"
      ],
      "execution_count": 0,
      "outputs": [
        {
          "output_type": "execute_result",
          "data": {
            "text/html": [
              "<div>\n",
              "<style scoped>\n",
              "    .dataframe tbody tr th:only-of-type {\n",
              "        vertical-align: middle;\n",
              "    }\n",
              "\n",
              "    .dataframe tbody tr th {\n",
              "        vertical-align: top;\n",
              "    }\n",
              "\n",
              "    .dataframe thead th {\n",
              "        text-align: right;\n",
              "    }\n",
              "</style>\n",
              "<table border=\"1\" class=\"dataframe\">\n",
              "  <thead>\n",
              "    <tr style=\"text-align: right;\">\n",
              "      <th></th>\n",
              "      <th>TMAX(C)</th>\n",
              "      <th>TMIN(C)</th>\n",
              "      <th>WMAX(M/s)</th>\n",
              "      <th>PREC(mm)</th>\n",
              "    </tr>\n",
              "    <tr>\n",
              "      <th>Time</th>\n",
              "      <th></th>\n",
              "      <th></th>\n",
              "      <th></th>\n",
              "      <th></th>\n",
              "    </tr>\n",
              "  </thead>\n",
              "  <tbody>\n",
              "    <tr>\n",
              "      <th>2010-01-01 12:00:00</th>\n",
              "      <td>-11.111111</td>\n",
              "      <td>-16.666667</td>\n",
              "      <td>6.70560</td>\n",
              "      <td>0.0</td>\n",
              "    </tr>\n",
              "    <tr>\n",
              "      <th>2010-01-02 12:00:00</th>\n",
              "      <td>-14.444444</td>\n",
              "      <td>-20.555556</td>\n",
              "      <td>6.70560</td>\n",
              "      <td>0.0</td>\n",
              "    </tr>\n",
              "    <tr>\n",
              "      <th>2010-01-03 12:00:00</th>\n",
              "      <td>-12.222222</td>\n",
              "      <td>-21.111111</td>\n",
              "      <td>4.91744</td>\n",
              "      <td>0.0</td>\n",
              "    </tr>\n",
              "    <tr>\n",
              "      <th>2010-01-04 12:00:00</th>\n",
              "      <td>-11.666667</td>\n",
              "      <td>-18.888889</td>\n",
              "      <td>8.94080</td>\n",
              "      <td>0.0</td>\n",
              "    </tr>\n",
              "    <tr>\n",
              "      <th>2010-01-05 12:00:00</th>\n",
              "      <td>-12.222222</td>\n",
              "      <td>-18.333333</td>\n",
              "      <td>7.15264</td>\n",
              "      <td>0.0</td>\n",
              "    </tr>\n",
              "    <tr>\n",
              "      <th>...</th>\n",
              "      <td>...</td>\n",
              "      <td>...</td>\n",
              "      <td>...</td>\n",
              "      <td>...</td>\n",
              "    </tr>\n",
              "    <tr>\n",
              "      <th>2019-12-27 12:00:00</th>\n",
              "      <td>6.111111</td>\n",
              "      <td>0.000000</td>\n",
              "      <td>6.70560</td>\n",
              "      <td>0.0</td>\n",
              "    </tr>\n",
              "    <tr>\n",
              "      <th>2019-12-28 12:00:00</th>\n",
              "      <td>13.333333</td>\n",
              "      <td>0.000000</td>\n",
              "      <td>10.28192</td>\n",
              "      <td>2.8</td>\n",
              "    </tr>\n",
              "    <tr>\n",
              "      <th>2019-12-29 12:00:00</th>\n",
              "      <td>15.000000</td>\n",
              "      <td>5.000000</td>\n",
              "      <td>10.28192</td>\n",
              "      <td>4.3</td>\n",
              "    </tr>\n",
              "    <tr>\n",
              "      <th>2019-12-30 12:00:00</th>\n",
              "      <td>3.333333</td>\n",
              "      <td>-0.555556</td>\n",
              "      <td>11.62304</td>\n",
              "      <td>0.6</td>\n",
              "    </tr>\n",
              "    <tr>\n",
              "      <th>2019-12-31 12:00:00</th>\n",
              "      <td>0.555556</td>\n",
              "      <td>-1.111111</td>\n",
              "      <td>12.96416</td>\n",
              "      <td>0.0</td>\n",
              "    </tr>\n",
              "  </tbody>\n",
              "</table>\n",
              "<p>3652 rows × 4 columns</p>\n",
              "</div>"
            ],
            "text/plain": [
              "                       TMAX(C)    TMIN(C)  WMAX(M/s)  PREC(mm)\n",
              "Time                                                          \n",
              "2010-01-01 12:00:00 -11.111111 -16.666667    6.70560       0.0\n",
              "2010-01-02 12:00:00 -14.444444 -20.555556    6.70560       0.0\n",
              "2010-01-03 12:00:00 -12.222222 -21.111111    4.91744       0.0\n",
              "2010-01-04 12:00:00 -11.666667 -18.888889    8.94080       0.0\n",
              "2010-01-05 12:00:00 -12.222222 -18.333333    7.15264       0.0\n",
              "...                        ...        ...        ...       ...\n",
              "2019-12-27 12:00:00   6.111111   0.000000    6.70560       0.0\n",
              "2019-12-28 12:00:00  13.333333   0.000000   10.28192       2.8\n",
              "2019-12-29 12:00:00  15.000000   5.000000   10.28192       4.3\n",
              "2019-12-30 12:00:00   3.333333  -0.555556   11.62304       0.6\n",
              "2019-12-31 12:00:00   0.555556  -1.111111   12.96416       0.0\n",
              "\n",
              "[3652 rows x 4 columns]"
            ]
          },
          "metadata": {
            "tags": []
          },
          "execution_count": 5
        }
      ]
    },
    {
      "cell_type": "code",
      "metadata": {
        "id": "SgN416JLvTsd",
        "colab_type": "code",
        "colab": {}
      },
      "source": [
        "#combine GFS Daily with KCMI Daily\n",
        "feature_matrix = pd.merge(GFS_daily_new.reset_index(), KCMI_daily_new.reset_index(), on = 'Time', how = 'inner')\n",
        "feature_matrix = feature_matrix.dropna()"
      ],
      "execution_count": 0,
      "outputs": []
    },
    {
      "cell_type": "code",
      "metadata": {
        "id": "ag7Lxi7E6zGU",
        "colab_type": "code",
        "colab": {}
      },
      "source": [
        "#get the difference betweeen model and observation\n",
        "feature_matrix['delta_TMAX']= feature_matrix['TMAX']-feature_matrix['TMAX(C)']\n",
        "feature_matrix['delta_TMIN']= feature_matrix['TMIN']-feature_matrix['TMIN(C)']\n",
        "feature_matrix['delta_WMAX']= feature_matrix['WMAX']-feature_matrix['WMAX(M/s)']\n",
        "feature_matrix['delta_PREC']= feature_matrix['RTOT']-feature_matrix['PREC(mm)']\n"
      ],
      "execution_count": 0,
      "outputs": []
    },
    {
      "cell_type": "code",
      "metadata": {
        "id": "T8WaGtUw7uR2",
        "colab_type": "code",
        "colab": {}
      },
      "source": [
        "#add a year column for validation purposes\n",
        "feature_matrix['year'] = feature_matrix['Time'].dt.year"
      ],
      "execution_count": 0,
      "outputs": []
    },
    {
      "cell_type": "code",
      "metadata": {
        "id": "fu2BuejGYg9s",
        "colab_type": "code",
        "outputId": "47a1b9c6-edf1-43e2-f10b-54c56d468af9",
        "colab": {
          "base_uri": "https://localhost:8080/",
          "height": 419
        }
      },
      "source": [
        "feature_matrix"
      ],
      "execution_count": 0,
      "outputs": [
        {
          "output_type": "execute_result",
          "data": {
            "text/html": [
              "<div>\n",
              "<style scoped>\n",
              "    .dataframe tbody tr th:only-of-type {\n",
              "        vertical-align: middle;\n",
              "    }\n",
              "\n",
              "    .dataframe tbody tr th {\n",
              "        vertical-align: top;\n",
              "    }\n",
              "\n",
              "    .dataframe thead th {\n",
              "        text-align: right;\n",
              "    }\n",
              "</style>\n",
              "<table border=\"1\" class=\"dataframe\">\n",
              "  <thead>\n",
              "    <tr style=\"text-align: right;\">\n",
              "      <th></th>\n",
              "      <th>Time</th>\n",
              "      <th>TMAX</th>\n",
              "      <th>TMIN</th>\n",
              "      <th>WMAX</th>\n",
              "      <th>RTOT</th>\n",
              "      <th>TMAX(C)</th>\n",
              "      <th>TMIN(C)</th>\n",
              "      <th>WMAX(M/s)</th>\n",
              "      <th>PREC(mm)</th>\n",
              "      <th>delta_TMAX</th>\n",
              "      <th>delta_TMIN</th>\n",
              "      <th>delta_WMAX</th>\n",
              "      <th>delta_PREC</th>\n",
              "      <th>year</th>\n",
              "    </tr>\n",
              "  </thead>\n",
              "  <tbody>\n",
              "    <tr>\n",
              "      <th>0</th>\n",
              "      <td>2010-01-01 12:00:00</td>\n",
              "      <td>-11.26</td>\n",
              "      <td>-16.46</td>\n",
              "      <td>7.323933</td>\n",
              "      <td>0.05</td>\n",
              "      <td>-11.111111</td>\n",
              "      <td>-16.666667</td>\n",
              "      <td>6.70560</td>\n",
              "      <td>0.0</td>\n",
              "      <td>-0.148889</td>\n",
              "      <td>0.206667</td>\n",
              "      <td>0.618333</td>\n",
              "      <td>0.05</td>\n",
              "      <td>2010</td>\n",
              "    </tr>\n",
              "    <tr>\n",
              "      <th>1</th>\n",
              "      <td>2010-01-02 12:00:00</td>\n",
              "      <td>-10.16</td>\n",
              "      <td>-15.96</td>\n",
              "      <td>4.687217</td>\n",
              "      <td>0.00</td>\n",
              "      <td>-14.444444</td>\n",
              "      <td>-20.555556</td>\n",
              "      <td>6.70560</td>\n",
              "      <td>0.0</td>\n",
              "      <td>4.284444</td>\n",
              "      <td>4.595556</td>\n",
              "      <td>-2.018383</td>\n",
              "      <td>0.00</td>\n",
              "      <td>2010</td>\n",
              "    </tr>\n",
              "    <tr>\n",
              "      <th>2</th>\n",
              "      <td>2010-01-03 12:00:00</td>\n",
              "      <td>-9.96</td>\n",
              "      <td>-14.36</td>\n",
              "      <td>5.941380</td>\n",
              "      <td>0.06</td>\n",
              "      <td>-12.222222</td>\n",
              "      <td>-21.111111</td>\n",
              "      <td>4.91744</td>\n",
              "      <td>0.0</td>\n",
              "      <td>2.262222</td>\n",
              "      <td>6.751111</td>\n",
              "      <td>1.023940</td>\n",
              "      <td>0.06</td>\n",
              "      <td>2010</td>\n",
              "    </tr>\n",
              "    <tr>\n",
              "      <th>3</th>\n",
              "      <td>2010-01-04 12:00:00</td>\n",
              "      <td>-8.46</td>\n",
              "      <td>-12.86</td>\n",
              "      <td>5.685068</td>\n",
              "      <td>0.17</td>\n",
              "      <td>-11.666667</td>\n",
              "      <td>-18.888889</td>\n",
              "      <td>8.94080</td>\n",
              "      <td>0.0</td>\n",
              "      <td>3.206667</td>\n",
              "      <td>6.028889</td>\n",
              "      <td>-3.255732</td>\n",
              "      <td>0.17</td>\n",
              "      <td>2010</td>\n",
              "    </tr>\n",
              "    <tr>\n",
              "      <th>4</th>\n",
              "      <td>2010-01-05 12:00:00</td>\n",
              "      <td>-7.16</td>\n",
              "      <td>-11.06</td>\n",
              "      <td>3.794733</td>\n",
              "      <td>0.77</td>\n",
              "      <td>-12.222222</td>\n",
              "      <td>-18.333333</td>\n",
              "      <td>7.15264</td>\n",
              "      <td>0.0</td>\n",
              "      <td>5.062222</td>\n",
              "      <td>7.273333</td>\n",
              "      <td>-3.357907</td>\n",
              "      <td>0.77</td>\n",
              "      <td>2010</td>\n",
              "    </tr>\n",
              "    <tr>\n",
              "      <th>...</th>\n",
              "      <td>...</td>\n",
              "      <td>...</td>\n",
              "      <td>...</td>\n",
              "      <td>...</td>\n",
              "      <td>...</td>\n",
              "      <td>...</td>\n",
              "      <td>...</td>\n",
              "      <td>...</td>\n",
              "      <td>...</td>\n",
              "      <td>...</td>\n",
              "      <td>...</td>\n",
              "      <td>...</td>\n",
              "      <td>...</td>\n",
              "      <td>...</td>\n",
              "    </tr>\n",
              "    <tr>\n",
              "      <th>3609</th>\n",
              "      <td>2019-12-27 12:00:00</td>\n",
              "      <td>13.94</td>\n",
              "      <td>3.54</td>\n",
              "      <td>8.819297</td>\n",
              "      <td>2.73</td>\n",
              "      <td>6.111111</td>\n",
              "      <td>0.000000</td>\n",
              "      <td>6.70560</td>\n",
              "      <td>0.0</td>\n",
              "      <td>7.828889</td>\n",
              "      <td>3.540000</td>\n",
              "      <td>2.113697</td>\n",
              "      <td>2.73</td>\n",
              "      <td>2019</td>\n",
              "    </tr>\n",
              "    <tr>\n",
              "      <th>3610</th>\n",
              "      <td>2019-12-28 12:00:00</td>\n",
              "      <td>15.94</td>\n",
              "      <td>9.34</td>\n",
              "      <td>9.701546</td>\n",
              "      <td>11.58</td>\n",
              "      <td>13.333333</td>\n",
              "      <td>0.000000</td>\n",
              "      <td>10.28192</td>\n",
              "      <td>2.8</td>\n",
              "      <td>2.606667</td>\n",
              "      <td>9.340000</td>\n",
              "      <td>-0.580374</td>\n",
              "      <td>8.78</td>\n",
              "      <td>2019</td>\n",
              "    </tr>\n",
              "    <tr>\n",
              "      <th>3611</th>\n",
              "      <td>2019-12-29 12:00:00</td>\n",
              "      <td>7.24</td>\n",
              "      <td>-1.66</td>\n",
              "      <td>11.111256</td>\n",
              "      <td>2.57</td>\n",
              "      <td>15.000000</td>\n",
              "      <td>5.000000</td>\n",
              "      <td>10.28192</td>\n",
              "      <td>4.3</td>\n",
              "      <td>-7.760000</td>\n",
              "      <td>-6.660000</td>\n",
              "      <td>0.829336</td>\n",
              "      <td>-1.73</td>\n",
              "      <td>2019</td>\n",
              "    </tr>\n",
              "    <tr>\n",
              "      <th>3612</th>\n",
              "      <td>2019-12-30 12:00:00</td>\n",
              "      <td>-0.36</td>\n",
              "      <td>-2.26</td>\n",
              "      <td>8.769265</td>\n",
              "      <td>0.04</td>\n",
              "      <td>3.333333</td>\n",
              "      <td>-0.555556</td>\n",
              "      <td>11.62304</td>\n",
              "      <td>0.6</td>\n",
              "      <td>-3.693333</td>\n",
              "      <td>-1.704444</td>\n",
              "      <td>-2.853775</td>\n",
              "      <td>-0.56</td>\n",
              "      <td>2019</td>\n",
              "    </tr>\n",
              "    <tr>\n",
              "      <th>3613</th>\n",
              "      <td>2019-12-31 12:00:00</td>\n",
              "      <td>6.44</td>\n",
              "      <td>-2.36</td>\n",
              "      <td>8.287340</td>\n",
              "      <td>0.00</td>\n",
              "      <td>0.555556</td>\n",
              "      <td>-1.111111</td>\n",
              "      <td>12.96416</td>\n",
              "      <td>0.0</td>\n",
              "      <td>5.884444</td>\n",
              "      <td>-1.248889</td>\n",
              "      <td>-4.676820</td>\n",
              "      <td>0.00</td>\n",
              "      <td>2019</td>\n",
              "    </tr>\n",
              "  </tbody>\n",
              "</table>\n",
              "<p>3576 rows × 14 columns</p>\n",
              "</div>"
            ],
            "text/plain": [
              "                    Time   TMAX   TMIN  ...  delta_WMAX  delta_PREC  year\n",
              "0    2010-01-01 12:00:00 -11.26 -16.46  ...    0.618333        0.05  2010\n",
              "1    2010-01-02 12:00:00 -10.16 -15.96  ...   -2.018383        0.00  2010\n",
              "2    2010-01-03 12:00:00  -9.96 -14.36  ...    1.023940        0.06  2010\n",
              "3    2010-01-04 12:00:00  -8.46 -12.86  ...   -3.255732        0.17  2010\n",
              "4    2010-01-05 12:00:00  -7.16 -11.06  ...   -3.357907        0.77  2010\n",
              "...                  ...    ...    ...  ...         ...         ...   ...\n",
              "3609 2019-12-27 12:00:00  13.94   3.54  ...    2.113697        2.73  2019\n",
              "3610 2019-12-28 12:00:00  15.94   9.34  ...   -0.580374        8.78  2019\n",
              "3611 2019-12-29 12:00:00   7.24  -1.66  ...    0.829336       -1.73  2019\n",
              "3612 2019-12-30 12:00:00  -0.36  -2.26  ...   -2.853775       -0.56  2019\n",
              "3613 2019-12-31 12:00:00   6.44  -2.36  ...   -4.676820        0.00  2019\n",
              "\n",
              "[3576 rows x 14 columns]"
            ]
          },
          "metadata": {
            "tags": []
          },
          "execution_count": 9
        }
      ]
    },
    {
      "cell_type": "code",
      "metadata": {
        "id": "KYF0yMldyPY6",
        "colab_type": "code",
        "outputId": "4388352b-6f82-4657-915f-1e59c6010171",
        "colab": {
          "base_uri": "https://localhost:8080/",
          "height": 340
        }
      },
      "source": [
        "#df = df.apply(pd.to_numeric, errors='coerce')\n",
        "feature_matrix.info()"
      ],
      "execution_count": 0,
      "outputs": [
        {
          "output_type": "stream",
          "text": [
            "<class 'pandas.core.frame.DataFrame'>\n",
            "Int64Index: 3576 entries, 0 to 3613\n",
            "Data columns (total 14 columns):\n",
            "Time          3576 non-null datetime64[ns]\n",
            "TMAX          3576 non-null float64\n",
            "TMIN          3576 non-null float64\n",
            "WMAX          3576 non-null float64\n",
            "RTOT          3576 non-null float64\n",
            "TMAX(C)       3576 non-null float64\n",
            "TMIN(C)       3576 non-null float64\n",
            "WMAX(M/s)     3576 non-null float64\n",
            "PREC(mm)      3576 non-null float64\n",
            "delta_TMAX    3576 non-null float64\n",
            "delta_TMIN    3576 non-null float64\n",
            "delta_WMAX    3576 non-null float64\n",
            "delta_PREC    3576 non-null float64\n",
            "year          3576 non-null int64\n",
            "dtypes: datetime64[ns](1), float64(12), int64(1)\n",
            "memory usage: 419.1 KB\n"
          ],
          "name": "stdout"
        }
      ]
    },
    {
      "cell_type": "code",
      "metadata": {
        "id": "Y_JFn4Zfy5bp",
        "colab_type": "code",
        "outputId": "1b721fe6-c751-4553-d041-721a9e44ba79",
        "colab": {
          "base_uri": "https://localhost:8080/",
          "height": 452
        }
      },
      "source": [
        "#check the correlation between different features.\n",
        "feature_matrix.corr()[['TMAX(C)']].sort_values('TMAX(C)')"
      ],
      "execution_count": 0,
      "outputs": [
        {
          "output_type": "execute_result",
          "data": {
            "text/html": [
              "<div>\n",
              "<style scoped>\n",
              "    .dataframe tbody tr th:only-of-type {\n",
              "        vertical-align: middle;\n",
              "    }\n",
              "\n",
              "    .dataframe tbody tr th {\n",
              "        vertical-align: top;\n",
              "    }\n",
              "\n",
              "    .dataframe thead th {\n",
              "        text-align: right;\n",
              "    }\n",
              "</style>\n",
              "<table border=\"1\" class=\"dataframe\">\n",
              "  <thead>\n",
              "    <tr style=\"text-align: right;\">\n",
              "      <th></th>\n",
              "      <th>TMAX(C)</th>\n",
              "    </tr>\n",
              "  </thead>\n",
              "  <tbody>\n",
              "    <tr>\n",
              "      <th>delta_TMAX</th>\n",
              "      <td>-0.342692</td>\n",
              "    </tr>\n",
              "    <tr>\n",
              "      <th>WMAX</th>\n",
              "      <td>-0.266105</td>\n",
              "    </tr>\n",
              "    <tr>\n",
              "      <th>WMAX(M/s)</th>\n",
              "      <td>-0.240260</td>\n",
              "    </tr>\n",
              "    <tr>\n",
              "      <th>delta_TMIN</th>\n",
              "      <td>-0.198622</td>\n",
              "    </tr>\n",
              "    <tr>\n",
              "      <th>year</th>\n",
              "      <td>-0.007860</td>\n",
              "    </tr>\n",
              "    <tr>\n",
              "      <th>delta_WMAX</th>\n",
              "      <td>0.026706</td>\n",
              "    </tr>\n",
              "    <tr>\n",
              "      <th>delta_PREC</th>\n",
              "      <td>0.040836</td>\n",
              "    </tr>\n",
              "    <tr>\n",
              "      <th>PREC(mm)</th>\n",
              "      <td>0.085062</td>\n",
              "    </tr>\n",
              "    <tr>\n",
              "      <th>RTOT</th>\n",
              "      <td>0.126038</td>\n",
              "    </tr>\n",
              "    <tr>\n",
              "      <th>TMIN</th>\n",
              "      <td>0.930014</td>\n",
              "    </tr>\n",
              "    <tr>\n",
              "      <th>TMAX</th>\n",
              "      <td>0.932905</td>\n",
              "    </tr>\n",
              "    <tr>\n",
              "      <th>TMIN(C)</th>\n",
              "      <td>0.942321</td>\n",
              "    </tr>\n",
              "    <tr>\n",
              "      <th>TMAX(C)</th>\n",
              "      <td>1.000000</td>\n",
              "    </tr>\n",
              "  </tbody>\n",
              "</table>\n",
              "</div>"
            ],
            "text/plain": [
              "             TMAX(C)\n",
              "delta_TMAX -0.342692\n",
              "WMAX       -0.266105\n",
              "WMAX(M/s)  -0.240260\n",
              "delta_TMIN -0.198622\n",
              "year       -0.007860\n",
              "delta_WMAX  0.026706\n",
              "delta_PREC  0.040836\n",
              "PREC(mm)    0.085062\n",
              "RTOT        0.126038\n",
              "TMIN        0.930014\n",
              "TMAX        0.932905\n",
              "TMIN(C)     0.942321\n",
              "TMAX(C)     1.000000"
            ]
          },
          "metadata": {
            "tags": []
          },
          "execution_count": 16
        }
      ]
    },
    {
      "cell_type": "markdown",
      "metadata": {
        "id": "EubKYr6_CukS",
        "colab_type": "text"
      },
      "source": [
        "##Linear Regression"
      ]
    },
    {
      "cell_type": "code",
      "metadata": {
        "id": "uMo-4AuO1Aev",
        "colab_type": "code",
        "colab": {}
      },
      "source": [
        "predictors = ['TMAX', 'TMIN', 'WMAX','RTOT'] \n",
        "new_features = feature_matrix[['TMAX(C)']+ predictors + ['year']] #the only reason we are keeping the years is for sample splitting purposes"
      ],
      "execution_count": 0,
      "outputs": []
    },
    {
      "cell_type": "code",
      "metadata": {
        "id": "15ovUhn_2DGL",
        "colab_type": "code",
        "colab": {}
      },
      "source": [
        "# separate our my predictor variables (X) from my outcome variable y\n",
        "X = new_features[predictors]\n",
        "y = new_features['TMAX(C)']\n",
        "\n",
        "# Add a constant to the predictor variable set to represent the Bo intercept\n",
        "#X = sm.add_constant(X)\n",
        "#X.ix[:5, :5]"
      ],
      "execution_count": 0,
      "outputs": []
    },
    {
      "cell_type": "code",
      "metadata": {
        "id": "2tJrENV64kNR",
        "colab_type": "code",
        "colab": {}
      },
      "source": [
        "X_train = new_features[new_features['year']< 2019][predictors]\n",
        "X_test = new_features[new_features['year']== 2019][predictors]\n",
        "y_train = new_features[new_features['year']< 2019]['TMAX(C)']\n",
        "y_test = new_features[new_features['year']== 2019]['TMAX(C)']\n"
      ],
      "execution_count": 0,
      "outputs": []
    },
    {
      "cell_type": "code",
      "metadata": {
        "id": "g5ScKTw48RtA",
        "colab_type": "code",
        "outputId": "27c43f05-8a96-4606-b193-158c36cc9328",
        "colab": {
          "base_uri": "https://localhost:8080/",
          "height": 34
        }
      },
      "source": [
        "y_train.shape"
      ],
      "execution_count": 0,
      "outputs": [
        {
          "output_type": "execute_result",
          "data": {
            "text/plain": [
              "(3213,)"
            ]
          },
          "metadata": {
            "tags": []
          },
          "execution_count": 68
        }
      ]
    },
    {
      "cell_type": "code",
      "metadata": {
        "id": "1rdNnP9P7HYP",
        "colab_type": "code",
        "outputId": "98b7fa19-5fd5-4783-8ef9-ffa37019d2ca",
        "colab": {
          "base_uri": "https://localhost:8080/",
          "height": 85
        }
      },
      "source": [
        "regressor = LinearRegression()\n",
        "\n",
        "# fit the build the model by fitting the regressor to the training data\n",
        "regressor.fit(X_train, y_train)\n",
        "\n",
        "# make a prediction set using the test set\n",
        "prediction = regressor.predict(X_test)\n",
        "\n",
        "# Evaluate the prediction accuracy of the model\n",
        "from sklearn.metrics import mean_absolute_error, median_absolute_error\n",
        "print(\"The Explained Variance: %.2f\" % regressor.score(X_test, y_test))\n",
        "print(\"The Mean Absolute Error: %.2f degrees celsius\" % mean_absolute_error(y_test, prediction))\n",
        "print(\"The Median Absolute Error: %.2f degrees celsius\" % median_absolute_error(y_test, prediction))\n",
        "print(\"The Root Mean Square Error: %.2f degrees celsius \" %  sqrt(mean_squared_error(y_test, prediction)))"
      ],
      "execution_count": 0,
      "outputs": [
        {
          "output_type": "stream",
          "text": [
            "The Explained Variance: 0.86\n",
            "The Mean Absolute Error: 3.37 degrees celsius\n",
            "The Median Absolute Error: 2.64 degrees celsius\n",
            "The Root Mean Square Error: 4.37 degrees celsius \n"
          ],
          "name": "stdout"
        }
      ]
    },
    {
      "cell_type": "code",
      "metadata": {
        "id": "9LD9YTMc-mRy",
        "colab_type": "code",
        "outputId": "0bac77d6-8a14-4de1-fbba-0ffdc7d16932",
        "colab": {
          "base_uri": "https://localhost:8080/",
          "height": 51
        }
      },
      "source": [
        "print(\"Model slope:    \", regressor.coef_[0])\n",
        "print(\"Model intercept:\", regressor.intercept_)"
      ],
      "execution_count": 0,
      "outputs": [
        {
          "output_type": "stream",
          "text": [
            "Model slope:     0.5557321833670297\n",
            "Model intercept: 4.753463224356244\n"
          ],
          "name": "stdout"
        }
      ]
    },
    {
      "cell_type": "code",
      "metadata": {
        "id": "BuPotM92-8Ev",
        "colab_type": "code",
        "colab": {}
      },
      "source": [
        "time = feature_matrix[feature_matrix['year']==2019]['Time'].values"
      ],
      "execution_count": 0,
      "outputs": []
    },
    {
      "cell_type": "code",
      "metadata": {
        "id": "uMPabbIZcbsT",
        "colab_type": "code",
        "outputId": "f003a251-d96b-417f-c687-2aef2afe52aa",
        "colab": {
          "base_uri": "https://localhost:8080/",
          "height": 485
        }
      },
      "source": [
        "plt.figure(figsize=(12, 8))\n",
        "plt.plot(time,y_test,c='r',label='observation')\n",
        "plt.plot(time,prediction, c='g',label='prediction')\n",
        "plt.legend()\n",
        "plt.show()"
      ],
      "execution_count": 0,
      "outputs": [
        {
          "output_type": "display_data",
          "data": {
            "image/png": "[encoded data removed]",
            "text/plain": [
              "<Figure size 864x576 with 1 Axes>"
            ]
          },
          "metadata": {
            "tags": []
          }
        }
      ]
    }
  ]
}