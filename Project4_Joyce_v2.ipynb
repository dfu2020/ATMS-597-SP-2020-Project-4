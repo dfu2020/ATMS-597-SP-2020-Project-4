{
  "nbformat": 4,
  "nbformat_minor": 0,
  "metadata": {
    "colab": {
      "name": "Project4_Joyce_v2.ipynb",
      "provenance": [],
      "collapsed_sections": [],
      "mount_file_id": "1L5w6EBbdPNzFqAI7_8Hja9e6VguIca3f",
      "authorship_tag": "ABX9TyMTjLS69JPbRUagj4fuzxfZ",
      "include_colab_link": true
    },
    "kernelspec": {
      "name": "python3",
      "display_name": "Python 3"
    }
  },
  "cells": [
    {
      "cell_type": "markdown",
      "metadata": {
        "id": "view-in-github",
        "colab_type": "text"
      },
      "source": [
        "<a href=\"https://colab.research.google.com/github/joyceee916/ATMS-597-SP-2020-Project-4/blob/master/Project4_Joyce_v2.ipynb\" target=\"_parent\"><img src=\"https://colab.research.google.com/assets/colab-badge.svg\" alt=\"Open In Colab\"/></a>"
      ]
    },
    {
      "cell_type": "code",
      "metadata": {
        "id": "3iMKWBqoeNSW",
        "colab_type": "code",
        "outputId": "0a9f8c0f-255e-4861-c6a6-8eb40f3f5026",
        "colab": {
          "base_uri": "https://localhost:8080/",
          "height": 72
        }
      },
      "source": [
        "%matplotlib inline \n",
        "import matplotlib.pyplot as plt \n",
        "import numpy as np \n",
        "import pandas as pd\n",
        "import seaborn as sns; sns.set()"
      ],
      "execution_count": 0,
      "outputs": [
        {
          "output_type": "stream",
          "text": [
            "/usr/local/lib/python3.6/dist-packages/statsmodels/tools/_testing.py:19: FutureWarning: pandas.util.testing is deprecated. Use the functions in the public API at pandas.testing instead.\n",
            "  import pandas.util.testing as tm\n"
          ],
          "name": "stderr"
        }
      ]
    },
    {
      "cell_type": "code",
      "metadata": {
        "id": "_E__je3EeiqH",
        "colab_type": "code",
        "outputId": "75bf9e35-7525-4ec4-bb0f-bfbe4f7207a5",
        "colab": {
          "base_uri": "https://localhost:8080/",
          "height": 34
        }
      },
      "source": [
        "cd /content/drive/My Drive/ATMS 597/Project4"
      ],
      "execution_count": 0,
      "outputs": [
        {
          "output_type": "stream",
          "text": [
            "/content/drive/My Drive/ATMS 597/Project4\n"
          ],
          "name": "stdout"
        }
      ]
    },
    {
      "cell_type": "markdown",
      "metadata": {
        "id": "ZgwTJfU4exg2",
        "colab_type": "text"
      },
      "source": [
        "Importing KCMI Observational Data"
      ]
    },
    {
      "cell_type": "code",
      "metadata": {
        "id": "CcTPFozaej1b",
        "colab_type": "code",
        "colab": {}
      },
      "source": [
        "KCMI_df = pd.read_csv(\"KCMI_daily_format.csv\", parse_dates=True, index_col='Date')"
      ],
      "execution_count": 0,
      "outputs": []
    },
    {
      "cell_type": "code",
      "metadata": {
        "id": "sIr2MPAKe5ra",
        "colab_type": "code",
        "colab": {}
      },
      "source": [
        "KCMI_df.rename(columns={'TMAX(C)': 'Max_Temp', 'TMIN(C)': 'Min_Temp', 'WMAX(M/s)': 'Max_Wind', 'PREC(mm}': 'Total_Precip'}, inplace = True)\n",
        "KCMI_df.dropna(inplace=True)\n",
        "KCMI_df.index = KCMI_df.index + pd.DateOffset(hours=12)  \n",
        "KCMI_df = KCMI_df.rename_axis('Time')"
      ],
      "execution_count": 0,
      "outputs": []
    },
    {
      "cell_type": "code",
      "metadata": {
        "id": "IDo3NPiomS2v",
        "colab_type": "code",
        "outputId": "61dd7ab9-3616-45ef-e59c-c5232ffeaf76",
        "colab": {
          "base_uri": "https://localhost:8080/",
          "height": 225
        }
      },
      "source": [
        "KCMI_df.head()"
      ],
      "execution_count": 0,
      "outputs": [
        {
          "output_type": "execute_result",
          "data": {
            "text/html": [
              "<div>\n",
              "<style scoped>\n",
              "    .dataframe tbody tr th:only-of-type {\n",
              "        vertical-align: middle;\n",
              "    }\n",
              "\n",
              "    .dataframe tbody tr th {\n",
              "        vertical-align: top;\n",
              "    }\n",
              "\n",
              "    .dataframe thead th {\n",
              "        text-align: right;\n",
              "    }\n",
              "</style>\n",
              "<table border=\"1\" class=\"dataframe\">\n",
              "  <thead>\n",
              "    <tr style=\"text-align: right;\">\n",
              "      <th></th>\n",
              "      <th>Max_Temp</th>\n",
              "      <th>Min_Temp</th>\n",
              "      <th>Max_Wind</th>\n",
              "      <th>Total_Precip</th>\n",
              "    </tr>\n",
              "    <tr>\n",
              "      <th>Time</th>\n",
              "      <th></th>\n",
              "      <th></th>\n",
              "      <th></th>\n",
              "      <th></th>\n",
              "    </tr>\n",
              "  </thead>\n",
              "  <tbody>\n",
              "    <tr>\n",
              "      <th>2010-01-01 12:00:00</th>\n",
              "      <td>-11.111111</td>\n",
              "      <td>-16.666667</td>\n",
              "      <td>6.70560</td>\n",
              "      <td>0.0</td>\n",
              "    </tr>\n",
              "    <tr>\n",
              "      <th>2010-01-02 12:00:00</th>\n",
              "      <td>-14.444444</td>\n",
              "      <td>-20.555556</td>\n",
              "      <td>6.70560</td>\n",
              "      <td>0.0</td>\n",
              "    </tr>\n",
              "    <tr>\n",
              "      <th>2010-01-03 12:00:00</th>\n",
              "      <td>-12.222222</td>\n",
              "      <td>-21.111111</td>\n",
              "      <td>4.91744</td>\n",
              "      <td>0.0</td>\n",
              "    </tr>\n",
              "    <tr>\n",
              "      <th>2010-01-04 12:00:00</th>\n",
              "      <td>-11.666667</td>\n",
              "      <td>-18.888889</td>\n",
              "      <td>8.94080</td>\n",
              "      <td>0.0</td>\n",
              "    </tr>\n",
              "    <tr>\n",
              "      <th>2010-01-05 12:00:00</th>\n",
              "      <td>-12.222222</td>\n",
              "      <td>-18.333333</td>\n",
              "      <td>7.15264</td>\n",
              "      <td>0.0</td>\n",
              "    </tr>\n",
              "  </tbody>\n",
              "</table>\n",
              "</div>"
            ],
            "text/plain": [
              "                      Max_Temp   Min_Temp  Max_Wind  Total_Precip\n",
              "Time                                                             \n",
              "2010-01-01 12:00:00 -11.111111 -16.666667   6.70560           0.0\n",
              "2010-01-02 12:00:00 -14.444444 -20.555556   6.70560           0.0\n",
              "2010-01-03 12:00:00 -12.222222 -21.111111   4.91744           0.0\n",
              "2010-01-04 12:00:00 -11.666667 -18.888889   8.94080           0.0\n",
              "2010-01-05 12:00:00 -12.222222 -18.333333   7.15264           0.0"
            ]
          },
          "metadata": {
            "tags": []
          },
          "execution_count": 5
        }
      ]
    },
    {
      "cell_type": "markdown",
      "metadata": {
        "id": "_sAvydztfJiU",
        "colab_type": "text"
      },
      "source": [
        "GFS Daily Model "
      ]
    },
    {
      "cell_type": "code",
      "metadata": {
        "id": "T-X7NldofDi4",
        "colab_type": "code",
        "colab": {}
      },
      "source": [
        "GFS_df = pd.read_csv(\"GFS_daily_2010_2019_test.csv\", parse_dates=True, index_col='Time')\n",
        "GFS_df.drop(columns=\"Unnamed: 0\", inplace=True)\n",
        "GFS_df.dropna(inplace=True)"
      ],
      "execution_count": 0,
      "outputs": []
    },
    {
      "cell_type": "code",
      "metadata": {
        "id": "pxQFG-ESfNxa",
        "colab_type": "code",
        "outputId": "8e993496-bc7c-4da3-dd97-02661e9c95e4",
        "colab": {
          "base_uri": "https://localhost:8080/",
          "height": 225
        }
      },
      "source": [
        "GFS_df['month_sin'] = np.sin(GFS_df.index.month*(2.*np.pi/24))\n",
        "GFS_df['month_cos'] = np.cos(GFS_df.index.month*(2.*np.pi/24))\n",
        "GFS_df['day_sin'] = np.sin(GFS_df.index.day*(2.*np.pi/24))\n",
        "GFS_df['day_cos'] = np.cos(GFS_df.index.day*(2.*np.pi/24))\n",
        "GFS_df.head()"
      ],
      "execution_count": 0,
      "outputs": [
        {
          "output_type": "execute_result",
          "data": {
            "text/html": [
              "<div>\n",
              "<style scoped>\n",
              "    .dataframe tbody tr th:only-of-type {\n",
              "        vertical-align: middle;\n",
              "    }\n",
              "\n",
              "    .dataframe tbody tr th {\n",
              "        vertical-align: top;\n",
              "    }\n",
              "\n",
              "    .dataframe thead th {\n",
              "        text-align: right;\n",
              "    }\n",
              "</style>\n",
              "<table border=\"1\" class=\"dataframe\">\n",
              "  <thead>\n",
              "    <tr style=\"text-align: right;\">\n",
              "      <th></th>\n",
              "      <th>TMAX</th>\n",
              "      <th>TMIN</th>\n",
              "      <th>WMAX</th>\n",
              "      <th>RTOT</th>\n",
              "      <th>month_sin</th>\n",
              "      <th>month_cos</th>\n",
              "      <th>day_sin</th>\n",
              "      <th>day_cos</th>\n",
              "    </tr>\n",
              "    <tr>\n",
              "      <th>Time</th>\n",
              "      <th></th>\n",
              "      <th></th>\n",
              "      <th></th>\n",
              "      <th></th>\n",
              "      <th></th>\n",
              "      <th></th>\n",
              "      <th></th>\n",
              "      <th></th>\n",
              "    </tr>\n",
              "  </thead>\n",
              "  <tbody>\n",
              "    <tr>\n",
              "      <th>2010-01-01 12:00:00</th>\n",
              "      <td>-11.26</td>\n",
              "      <td>-16.46</td>\n",
              "      <td>7.323933</td>\n",
              "      <td>0.05</td>\n",
              "      <td>0.258819</td>\n",
              "      <td>0.965926</td>\n",
              "      <td>0.258819</td>\n",
              "      <td>0.965926</td>\n",
              "    </tr>\n",
              "    <tr>\n",
              "      <th>2010-01-02 12:00:00</th>\n",
              "      <td>-10.16</td>\n",
              "      <td>-15.96</td>\n",
              "      <td>4.687217</td>\n",
              "      <td>0.00</td>\n",
              "      <td>0.258819</td>\n",
              "      <td>0.965926</td>\n",
              "      <td>0.500000</td>\n",
              "      <td>0.866025</td>\n",
              "    </tr>\n",
              "    <tr>\n",
              "      <th>2010-01-03 12:00:00</th>\n",
              "      <td>-9.96</td>\n",
              "      <td>-14.36</td>\n",
              "      <td>5.941380</td>\n",
              "      <td>0.06</td>\n",
              "      <td>0.258819</td>\n",
              "      <td>0.965926</td>\n",
              "      <td>0.707107</td>\n",
              "      <td>0.707107</td>\n",
              "    </tr>\n",
              "    <tr>\n",
              "      <th>2010-01-04 12:00:00</th>\n",
              "      <td>-8.46</td>\n",
              "      <td>-12.86</td>\n",
              "      <td>5.685068</td>\n",
              "      <td>0.17</td>\n",
              "      <td>0.258819</td>\n",
              "      <td>0.965926</td>\n",
              "      <td>0.866025</td>\n",
              "      <td>0.500000</td>\n",
              "    </tr>\n",
              "    <tr>\n",
              "      <th>2010-01-05 12:00:00</th>\n",
              "      <td>-7.16</td>\n",
              "      <td>-11.06</td>\n",
              "      <td>3.794733</td>\n",
              "      <td>0.77</td>\n",
              "      <td>0.258819</td>\n",
              "      <td>0.965926</td>\n",
              "      <td>0.965926</td>\n",
              "      <td>0.258819</td>\n",
              "    </tr>\n",
              "  </tbody>\n",
              "</table>\n",
              "</div>"
            ],
            "text/plain": [
              "                      TMAX   TMIN      WMAX  ...  month_cos   day_sin   day_cos\n",
              "Time                                         ...                               \n",
              "2010-01-01 12:00:00 -11.26 -16.46  7.323933  ...   0.965926  0.258819  0.965926\n",
              "2010-01-02 12:00:00 -10.16 -15.96  4.687217  ...   0.965926  0.500000  0.866025\n",
              "2010-01-03 12:00:00  -9.96 -14.36  5.941380  ...   0.965926  0.707107  0.707107\n",
              "2010-01-04 12:00:00  -8.46 -12.86  5.685068  ...   0.965926  0.866025  0.500000\n",
              "2010-01-05 12:00:00  -7.16 -11.06  3.794733  ...   0.965926  0.965926  0.258819\n",
              "\n",
              "[5 rows x 8 columns]"
            ]
          },
          "metadata": {
            "tags": []
          },
          "execution_count": 7
        }
      ]
    },
    {
      "cell_type": "markdown",
      "metadata": {
        "id": "yYy7u_a4EWbm",
        "colab_type": "text"
      },
      "source": [
        "GFS Surface Data"
      ]
    },
    {
      "cell_type": "code",
      "metadata": {
        "id": "YTUOe09YEY7R",
        "colab_type": "code",
        "outputId": "3defabcf-0d18-40f1-a462-cd3ffc384be5",
        "colab": {
          "base_uri": "https://localhost:8080/",
          "height": 225
        }
      },
      "source": [
        "Surface_df = pd.read_csv(\"GFS_surface.csv\", parse_dates=True, index_col='Time')\n",
        "Surface_df.head()"
      ],
      "execution_count": 0,
      "outputs": [
        {
          "output_type": "execute_result",
          "data": {
            "text/html": [
              "<div>\n",
              "<style scoped>\n",
              "    .dataframe tbody tr th:only-of-type {\n",
              "        vertical-align: middle;\n",
              "    }\n",
              "\n",
              "    .dataframe tbody tr th {\n",
              "        vertical-align: top;\n",
              "    }\n",
              "\n",
              "    .dataframe thead th {\n",
              "        text-align: right;\n",
              "    }\n",
              "</style>\n",
              "<table border=\"1\" class=\"dataframe\">\n",
              "  <thead>\n",
              "    <tr style=\"text-align: right;\">\n",
              "      <th></th>\n",
              "      <th>DWPC</th>\n",
              "      <th>HCLD</th>\n",
              "      <th>LCLD</th>\n",
              "      <th>MCLD</th>\n",
              "      <th>PRCP</th>\n",
              "      <th>PRES</th>\n",
              "      <th>TMPC</th>\n",
              "      <th>UWND</th>\n",
              "      <th>VWND</th>\n",
              "      <th>WSPD</th>\n",
              "    </tr>\n",
              "    <tr>\n",
              "      <th>Time</th>\n",
              "      <th></th>\n",
              "      <th></th>\n",
              "      <th></th>\n",
              "      <th></th>\n",
              "      <th></th>\n",
              "      <th></th>\n",
              "      <th></th>\n",
              "      <th></th>\n",
              "      <th></th>\n",
              "      <th></th>\n",
              "    </tr>\n",
              "  </thead>\n",
              "  <tbody>\n",
              "    <tr>\n",
              "      <th>2010-01-02 06:00:00</th>\n",
              "      <td>-13.74</td>\n",
              "      <td>0.0</td>\n",
              "      <td>100.0</td>\n",
              "      <td>1.0</td>\n",
              "      <td>0.00</td>\n",
              "      <td>1000.0</td>\n",
              "      <td>-11.26</td>\n",
              "      <td>4.3</td>\n",
              "      <td>-5.4</td>\n",
              "      <td>6.902898</td>\n",
              "    </tr>\n",
              "    <tr>\n",
              "      <th>2010-01-02 09:00:00</th>\n",
              "      <td>-15.19</td>\n",
              "      <td>0.0</td>\n",
              "      <td>100.0</td>\n",
              "      <td>0.0</td>\n",
              "      <td>0.04</td>\n",
              "      <td>1000.4</td>\n",
              "      <td>-12.66</td>\n",
              "      <td>4.9</td>\n",
              "      <td>-5.3</td>\n",
              "      <td>7.218033</td>\n",
              "    </tr>\n",
              "    <tr>\n",
              "      <th>2010-01-02 12:00:00</th>\n",
              "      <td>-17.91</td>\n",
              "      <td>0.0</td>\n",
              "      <td>100.0</td>\n",
              "      <td>0.0</td>\n",
              "      <td>0.01</td>\n",
              "      <td>1000.7</td>\n",
              "      <td>-14.76</td>\n",
              "      <td>4.2</td>\n",
              "      <td>-6.0</td>\n",
              "      <td>7.323933</td>\n",
              "    </tr>\n",
              "    <tr>\n",
              "      <th>2010-01-02 15:00:00</th>\n",
              "      <td>-20.07</td>\n",
              "      <td>0.0</td>\n",
              "      <td>8.0</td>\n",
              "      <td>0.0</td>\n",
              "      <td>0.00</td>\n",
              "      <td>1002.0</td>\n",
              "      <td>-15.76</td>\n",
              "      <td>4.3</td>\n",
              "      <td>-4.5</td>\n",
              "      <td>6.224147</td>\n",
              "    </tr>\n",
              "    <tr>\n",
              "      <th>2010-01-02 18:00:00</th>\n",
              "      <td>-18.81</td>\n",
              "      <td>0.0</td>\n",
              "      <td>2.0</td>\n",
              "      <td>0.0</td>\n",
              "      <td>0.00</td>\n",
              "      <td>1001.3</td>\n",
              "      <td>-13.86</td>\n",
              "      <td>4.6</td>\n",
              "      <td>-4.0</td>\n",
              "      <td>6.095900</td>\n",
              "    </tr>\n",
              "  </tbody>\n",
              "</table>\n",
              "</div>"
            ],
            "text/plain": [
              "                      DWPC  HCLD   LCLD  MCLD  ...   TMPC  UWND  VWND      WSPD\n",
              "Time                                           ...                             \n",
              "2010-01-02 06:00:00 -13.74   0.0  100.0   1.0  ... -11.26   4.3  -5.4  6.902898\n",
              "2010-01-02 09:00:00 -15.19   0.0  100.0   0.0  ... -12.66   4.9  -5.3  7.218033\n",
              "2010-01-02 12:00:00 -17.91   0.0  100.0   0.0  ... -14.76   4.2  -6.0  7.323933\n",
              "2010-01-02 15:00:00 -20.07   0.0    8.0   0.0  ... -15.76   4.3  -4.5  6.224147\n",
              "2010-01-02 18:00:00 -18.81   0.0    2.0   0.0  ... -13.86   4.6  -4.0  6.095900\n",
              "\n",
              "[5 rows x 10 columns]"
            ]
          },
          "metadata": {
            "tags": []
          },
          "execution_count": 8
        }
      ]
    },
    {
      "cell_type": "markdown",
      "metadata": {
        "id": "CgCUakQREd6w",
        "colab_type": "text"
      },
      "source": [
        "GFS Profile Data"
      ]
    },
    {
      "cell_type": "code",
      "metadata": {
        "id": "p1B1h-KXEjcG",
        "colab_type": "code",
        "outputId": "7f71a5ea-d889-4148-8690-e1db26fb2711",
        "colab": {
          "base_uri": "https://localhost:8080/",
          "height": 309
        }
      },
      "source": [
        "Profile_df = pd.read_csv(\"GFS_profile.csv\", parse_dates=True, index_col='Time')\n",
        "Profile_df.head()"
      ],
      "execution_count": 0,
      "outputs": [
        {
          "output_type": "execute_result",
          "data": {
            "text/html": [
              "<div>\n",
              "<style scoped>\n",
              "    .dataframe tbody tr th:only-of-type {\n",
              "        vertical-align: middle;\n",
              "    }\n",
              "\n",
              "    .dataframe tbody tr th {\n",
              "        vertical-align: top;\n",
              "    }\n",
              "\n",
              "    .dataframe thead th {\n",
              "        text-align: right;\n",
              "    }\n",
              "</style>\n",
              "<table border=\"1\" class=\"dataframe\">\n",
              "  <thead>\n",
              "    <tr style=\"text-align: right;\">\n",
              "      <th></th>\n",
              "      <th>DWPC</th>\n",
              "      <th>HGHT</th>\n",
              "      <th>PRES</th>\n",
              "      <th>TMPC</th>\n",
              "      <th>UWND</th>\n",
              "      <th>VWND</th>\n",
              "    </tr>\n",
              "    <tr>\n",
              "      <th>Time</th>\n",
              "      <th></th>\n",
              "      <th></th>\n",
              "      <th></th>\n",
              "      <th></th>\n",
              "      <th></th>\n",
              "      <th></th>\n",
              "    </tr>\n",
              "  </thead>\n",
              "  <tbody>\n",
              "    <tr>\n",
              "      <th>2010-01-02 06:00:00</th>\n",
              "      <td>[-17.885416666666668, -22.15150234741784, -38....</td>\n",
              "      <td>[822.2693055555555, 1460.1033333333335, 2904.4...</td>\n",
              "      <td>[925.0, 850.0, 700.0, 500.0, 250.0, 100.0]</td>\n",
              "      <td>[-16.249583333333334, -16.52291079812207, -21....</td>\n",
              "      <td>[10.566530573750587, 4.214706046596407, 17.668...</td>\n",
              "      <td>[-21.60349159268254, -18.30022411700173, -29.5...</td>\n",
              "    </tr>\n",
              "    <tr>\n",
              "      <th>2010-01-02 09:00:00</th>\n",
              "      <td>[-19.453124999999996, -24.9388679245283, -42.0...</td>\n",
              "      <td>[822.0543749999998, 1459.7785849056602, 2907.4...</td>\n",
              "      <td>[925.0, 850.0, 700.0, 500.0, 250.0, 100.0]</td>\n",
              "      <td>[-17.247500000000002, -16.19490566037736, -20....</td>\n",
              "      <td>[13.681992680084207, 9.948942540840713, 19.953...</td>\n",
              "      <td>[-21.05132415236028, -17.798267800386434, -29....</td>\n",
              "    </tr>\n",
              "    <tr>\n",
              "      <th>2010-01-02 12:00:00</th>\n",
              "      <td>[-24.917708333333334, -29.536603773584904, -42...</td>\n",
              "      <td>[820.327638888889, 1459.582075471698, 2915.667...</td>\n",
              "      <td>[925.0, 850.0, 700.0, 500.0, 250.0, 100.0]</td>\n",
              "      <td>[-15.991249999999997, -15.280283018867925, -19...</td>\n",
              "      <td>[12.509088069631126, 14.999567192631927, 23.33...</td>\n",
              "      <td>[-25.372665670766228, -22.851012927878898, -32...</td>\n",
              "    </tr>\n",
              "    <tr>\n",
              "      <th>2010-01-02 15:00:00</th>\n",
              "      <td>[-29.030482758620682, -37.651971830985914, -43...</td>\n",
              "      <td>[826.2597241379308, 1463.5210798122066, 2927.6...</td>\n",
              "      <td>[925.0, 850.0, 700.0, 500.0, 250.0, 100.0]</td>\n",
              "      <td>[-18.595172413793104, -14.76, -16.487358490566...</td>\n",
              "      <td>[11.080763032604898, 13.737749044170894, 22.27...</td>\n",
              "      <td>[-20.65371472040801, -25.032875351390114, -38....</td>\n",
              "    </tr>\n",
              "    <tr>\n",
              "      <th>2010-01-02 18:00:00</th>\n",
              "      <td>[-24.84875862068967, -32.677452830188685, -41....</td>\n",
              "      <td>[823.4282758620693, 1458.4197169811318, 2927.1...</td>\n",
              "      <td>[925.0, 850.0, 700.0, 500.0, 250.0, 100.0]</td>\n",
              "      <td>[-19.58413793103448, -15.190188679245283, -15....</td>\n",
              "      <td>[11.173738737104433, 11.725204010079779, 25.07...</td>\n",
              "      <td>[-14.419104627678692, -22.850212323925128, -37...</td>\n",
              "    </tr>\n",
              "  </tbody>\n",
              "</table>\n",
              "</div>"
            ],
            "text/plain": [
              "                                                                  DWPC  ...                                               VWND\n",
              "Time                                                                    ...                                                   \n",
              "2010-01-02 06:00:00  [-17.885416666666668, -22.15150234741784, -38....  ...  [-21.60349159268254, -18.30022411700173, -29.5...\n",
              "2010-01-02 09:00:00  [-19.453124999999996, -24.9388679245283, -42.0...  ...  [-21.05132415236028, -17.798267800386434, -29....\n",
              "2010-01-02 12:00:00  [-24.917708333333334, -29.536603773584904, -42...  ...  [-25.372665670766228, -22.851012927878898, -32...\n",
              "2010-01-02 15:00:00  [-29.030482758620682, -37.651971830985914, -43...  ...  [-20.65371472040801, -25.032875351390114, -38....\n",
              "2010-01-02 18:00:00  [-24.84875862068967, -32.677452830188685, -41....  ...  [-14.419104627678692, -22.850212323925128, -37...\n",
              "\n",
              "[5 rows x 6 columns]"
            ]
          },
          "metadata": {
            "tags": []
          },
          "execution_count": 9
        }
      ]
    },
    {
      "cell_type": "code",
      "metadata": {
        "id": "EAy6tbhYXA89",
        "colab_type": "code",
        "colab": {}
      },
      "source": [
        "GFS_profile = pd.read_csv('GFS_profile.csv', index_col='Time', parse_dates=True)\n",
        "h=GFS_profile.DWPC.str.strip('[|]|,').values\n",
        "\n",
        "def extract_var_GFS_profile(var, level):\n",
        "    list = []\n",
        "    levels = [925.0, 850.0, 700.0, 500.0, 250.0, 100.0]\n",
        "    x = levels.index(level)\n",
        "    for i in range(0,len(GFS_profile)):\n",
        "        e = h[i].split(',')[x]\n",
        "        list.append(e)\n",
        "    new_col_name = var + '_' + str(level)\n",
        "    GFS_profile[new_col_name]=list"
      ],
      "execution_count": 0,
      "outputs": []
    },
    {
      "cell_type": "code",
      "metadata": {
        "id": "1FqJwOwuXgAH",
        "colab_type": "code",
        "colab": {}
      },
      "source": [
        "extract_var_GFS_profile('DWPC', 850.0)"
      ],
      "execution_count": 0,
      "outputs": []
    },
    {
      "cell_type": "code",
      "metadata": {
        "id": "Eiho5JPlZMFm",
        "colab_type": "code",
        "outputId": "19425a25-fa62-4f52-9f24-bafc6d4b812d",
        "colab": {
          "base_uri": "https://localhost:8080/",
          "height": 767
        }
      },
      "source": [
        "GFS_profile"
      ],
      "execution_count": 0,
      "outputs": [
        {
          "output_type": "execute_result",
          "data": {
            "text/html": [
              "<div>\n",
              "<style scoped>\n",
              "    .dataframe tbody tr th:only-of-type {\n",
              "        vertical-align: middle;\n",
              "    }\n",
              "\n",
              "    .dataframe tbody tr th {\n",
              "        vertical-align: top;\n",
              "    }\n",
              "\n",
              "    .dataframe thead th {\n",
              "        text-align: right;\n",
              "    }\n",
              "</style>\n",
              "<table border=\"1\" class=\"dataframe\">\n",
              "  <thead>\n",
              "    <tr style=\"text-align: right;\">\n",
              "      <th></th>\n",
              "      <th>DWPC</th>\n",
              "      <th>HGHT</th>\n",
              "      <th>PRES</th>\n",
              "      <th>TMPC</th>\n",
              "      <th>UWND</th>\n",
              "      <th>VWND</th>\n",
              "      <th>DWPC_850.0</th>\n",
              "    </tr>\n",
              "    <tr>\n",
              "      <th>Time</th>\n",
              "      <th></th>\n",
              "      <th></th>\n",
              "      <th></th>\n",
              "      <th></th>\n",
              "      <th></th>\n",
              "      <th></th>\n",
              "      <th></th>\n",
              "    </tr>\n",
              "  </thead>\n",
              "  <tbody>\n",
              "    <tr>\n",
              "      <th>2010-01-02 06:00:00</th>\n",
              "      <td>[-17.885416666666668, -22.15150234741784, -38....</td>\n",
              "      <td>[822.2693055555555, 1460.1033333333335, 2904.4...</td>\n",
              "      <td>[925.0, 850.0, 700.0, 500.0, 250.0, 100.0]</td>\n",
              "      <td>[-16.249583333333334, -16.52291079812207, -21....</td>\n",
              "      <td>[10.566530573750587, 4.214706046596407, 17.668...</td>\n",
              "      <td>[-21.60349159268254, -18.30022411700173, -29.5...</td>\n",
              "      <td>-22.15150234741784</td>\n",
              "    </tr>\n",
              "    <tr>\n",
              "      <th>2010-01-02 09:00:00</th>\n",
              "      <td>[-19.453124999999996, -24.9388679245283, -42.0...</td>\n",
              "      <td>[822.0543749999998, 1459.7785849056602, 2907.4...</td>\n",
              "      <td>[925.0, 850.0, 700.0, 500.0, 250.0, 100.0]</td>\n",
              "      <td>[-17.247500000000002, -16.19490566037736, -20....</td>\n",
              "      <td>[13.681992680084207, 9.948942540840713, 19.953...</td>\n",
              "      <td>[-21.05132415236028, -17.798267800386434, -29....</td>\n",
              "      <td>-24.9388679245283</td>\n",
              "    </tr>\n",
              "    <tr>\n",
              "      <th>2010-01-02 12:00:00</th>\n",
              "      <td>[-24.917708333333334, -29.536603773584904, -42...</td>\n",
              "      <td>[820.327638888889, 1459.582075471698, 2915.667...</td>\n",
              "      <td>[925.0, 850.0, 700.0, 500.0, 250.0, 100.0]</td>\n",
              "      <td>[-15.991249999999997, -15.280283018867925, -19...</td>\n",
              "      <td>[12.509088069631126, 14.999567192631927, 23.33...</td>\n",
              "      <td>[-25.372665670766228, -22.851012927878898, -32...</td>\n",
              "      <td>-29.536603773584904</td>\n",
              "    </tr>\n",
              "    <tr>\n",
              "      <th>2010-01-02 15:00:00</th>\n",
              "      <td>[-29.030482758620682, -37.651971830985914, -43...</td>\n",
              "      <td>[826.2597241379308, 1463.5210798122066, 2927.6...</td>\n",
              "      <td>[925.0, 850.0, 700.0, 500.0, 250.0, 100.0]</td>\n",
              "      <td>[-18.595172413793104, -14.76, -16.487358490566...</td>\n",
              "      <td>[11.080763032604898, 13.737749044170894, 22.27...</td>\n",
              "      <td>[-20.65371472040801, -25.032875351390114, -38....</td>\n",
              "      <td>-37.651971830985914</td>\n",
              "    </tr>\n",
              "    <tr>\n",
              "      <th>2010-01-02 18:00:00</th>\n",
              "      <td>[-24.84875862068967, -32.677452830188685, -41....</td>\n",
              "      <td>[823.4282758620693, 1458.4197169811318, 2927.1...</td>\n",
              "      <td>[925.0, 850.0, 700.0, 500.0, 250.0, 100.0]</td>\n",
              "      <td>[-19.58413793103448, -15.190188679245283, -15....</td>\n",
              "      <td>[11.173738737104433, 11.725204010079779, 25.07...</td>\n",
              "      <td>[-14.419104627678692, -22.850212323925128, -37...</td>\n",
              "      <td>-32.677452830188685</td>\n",
              "    </tr>\n",
              "    <tr>\n",
              "      <th>...</th>\n",
              "      <td>...</td>\n",
              "      <td>...</td>\n",
              "      <td>...</td>\n",
              "      <td>...</td>\n",
              "      <td>...</td>\n",
              "      <td>...</td>\n",
              "      <td>...</td>\n",
              "    </tr>\n",
              "    <tr>\n",
              "      <th>2020-02-01 18:00:00</th>\n",
              "      <td>[-2.420708661417323, -9.530575916230358, -24.0...</td>\n",
              "      <td>[742.415748031496, 1411.5072251308898, 2941.86...</td>\n",
              "      <td>[925.0, 850.0, 700.0, 500.0, 250.0, 100.0]</td>\n",
              "      <td>[-2.2914960629921257, -2.228062827225135, -8.0...</td>\n",
              "      <td>[19.811216208528656, 21.260362044096723, 30.08...</td>\n",
              "      <td>[1.3604678475628496, -12.77327158763928, -28.9...</td>\n",
              "      <td>-9.530575916230358</td>\n",
              "    </tr>\n",
              "    <tr>\n",
              "      <th>2020-02-01 21:00:00</th>\n",
              "      <td>[-2.7182608695652157, -14.782617801047117, -18...</td>\n",
              "      <td>[728.3838260869561, 1400.3076963350782, 2936.0...</td>\n",
              "      <td>[925.0, 850.0, 700.0, 500.0, 250.0, 100.0]</td>\n",
              "      <td>[-2.0765217391304316, -0.4961256544502628, -7....</td>\n",
              "      <td>[23.064567282086532, 29.518982185029717, 36.16...</td>\n",
              "      <td>[0.7999300627093688, -17.180421782239765, -26....</td>\n",
              "      <td>-14.782617801047117</td>\n",
              "    </tr>\n",
              "    <tr>\n",
              "      <th>2020-02-02 00:00:00</th>\n",
              "      <td>[-2.8084210526315774, -24.81340314136124, -15....</td>\n",
              "      <td>[732.0842105263156, 1408.2601570680624, 2948.3...</td>\n",
              "      <td>[925.0, 850.0, 700.0, 500.0, 250.0, 100.0]</td>\n",
              "      <td>[-2.6178947368421035, 1.2138219895287963, -6.8...</td>\n",
              "      <td>[25.1585312681121, 28.268556591902666, 33.6927...</td>\n",
              "      <td>[-1.6826343774112273, -18.266906968792057, -26...</td>\n",
              "      <td>-24.81340314136124</td>\n",
              "    </tr>\n",
              "    <tr>\n",
              "      <th>2020-02-02 03:00:00</th>\n",
              "      <td>[-2.5436842105263135, -20.719368421052636, -8....</td>\n",
              "      <td>[728.0584210526313, 1410.5297894736839, 2954.7...</td>\n",
              "      <td>[925.0, 850.0, 700.0, 500.0, 250.0, 100.0]</td>\n",
              "      <td>[-0.5178947368421041, 2.6589473684210545, -5.6...</td>\n",
              "      <td>[28.84389310205612, 26.622661595180148, 31.722...</td>\n",
              "      <td>[-1.9461498953626104, -9.480785181647251, -23....</td>\n",
              "      <td>-20.719368421052636</td>\n",
              "    </tr>\n",
              "    <tr>\n",
              "      <th>2020-02-02 06:00:00</th>\n",
              "      <td>[-4.728596491228067, -3.893263157894732, -7.07...</td>\n",
              "      <td>[709.4249999999998, 1398.3312631578951, 2950.6...</td>\n",
              "      <td>[925.0, 850.0, 700.0, 500.0, 250.0, 100.0]</td>\n",
              "      <td>[3.580350877192981, 3.7905263157894726, -5.213...</td>\n",
              "      <td>[31.62194139739007, 33.37695796858031, 37.1255...</td>\n",
              "      <td>[1.0995607733895099, -9.735016287942436, -22.4...</td>\n",
              "      <td>-3.893263157894732</td>\n",
              "    </tr>\n",
              "  </tbody>\n",
              "</table>\n",
              "<p>32805 rows × 7 columns</p>\n",
              "</div>"
            ],
            "text/plain": [
              "                                                                  DWPC  ...            DWPC_850.0\n",
              "Time                                                                    ...                      \n",
              "2010-01-02 06:00:00  [-17.885416666666668, -22.15150234741784, -38....  ...    -22.15150234741784\n",
              "2010-01-02 09:00:00  [-19.453124999999996, -24.9388679245283, -42.0...  ...     -24.9388679245283\n",
              "2010-01-02 12:00:00  [-24.917708333333334, -29.536603773584904, -42...  ...   -29.536603773584904\n",
              "2010-01-02 15:00:00  [-29.030482758620682, -37.651971830985914, -43...  ...   -37.651971830985914\n",
              "2010-01-02 18:00:00  [-24.84875862068967, -32.677452830188685, -41....  ...   -32.677452830188685\n",
              "...                                                                ...  ...                   ...\n",
              "2020-02-01 18:00:00  [-2.420708661417323, -9.530575916230358, -24.0...  ...    -9.530575916230358\n",
              "2020-02-01 21:00:00  [-2.7182608695652157, -14.782617801047117, -18...  ...   -14.782617801047117\n",
              "2020-02-02 00:00:00  [-2.8084210526315774, -24.81340314136124, -15....  ...    -24.81340314136124\n",
              "2020-02-02 03:00:00  [-2.5436842105263135, -20.719368421052636, -8....  ...   -20.719368421052636\n",
              "2020-02-02 06:00:00  [-4.728596491228067, -3.893263157894732, -7.07...  ...    -3.893263157894732\n",
              "\n",
              "[32805 rows x 7 columns]"
            ]
          },
          "metadata": {
            "tags": []
          },
          "execution_count": 14
        }
      ]
    },
    {
      "cell_type": "markdown",
      "metadata": {
        "id": "U4plHoZCEqrz",
        "colab_type": "text"
      },
      "source": [
        "Create Feature Matrix"
      ]
    },
    {
      "cell_type": "code",
      "metadata": {
        "id": "mpce8I7ugQ9W",
        "colab_type": "code",
        "colab": {}
      },
      "source": [
        "# Combine GFS daily and KCMI daily\n",
        "features_df = pd.merge(GFS_df.reset_index(), KCMI_df.reset_index(), on='Time', how='inner')\n",
        "features_df.Time = pd.to_datetime(features_df.Time)\n",
        "features_df['Year'] = features_df.Time.dt.year\n",
        "features_df['D_TMAX'] = features_df['TMAX']-features_df['Max_Temp']\n",
        "features_df['D_TMIN'] = features_df['TMIN']-features_df['Min_Temp']\n",
        "features_df['D_WMAX'] = features_df['WMAX']-features_df['Max_Wind']\n",
        "features_df['D_RTOT'] = features_df['RTOT']-features_df['Total_Precip']"
      ],
      "execution_count": 0,
      "outputs": []
    },
    {
      "cell_type": "code",
      "metadata": {
        "id": "FZJbfGxKJQIi",
        "colab_type": "code",
        "outputId": "66fb55f8-9fd5-4d47-a55e-f75e707c3903",
        "colab": {
          "base_uri": "https://localhost:8080/",
          "height": 195
        }
      },
      "source": [
        "features_df.head()"
      ],
      "execution_count": 0,
      "outputs": [
        {
          "output_type": "execute_result",
          "data": {
            "text/html": [
              "<div>\n",
              "<style scoped>\n",
              "    .dataframe tbody tr th:only-of-type {\n",
              "        vertical-align: middle;\n",
              "    }\n",
              "\n",
              "    .dataframe tbody tr th {\n",
              "        vertical-align: top;\n",
              "    }\n",
              "\n",
              "    .dataframe thead th {\n",
              "        text-align: right;\n",
              "    }\n",
              "</style>\n",
              "<table border=\"1\" class=\"dataframe\">\n",
              "  <thead>\n",
              "    <tr style=\"text-align: right;\">\n",
              "      <th></th>\n",
              "      <th>Time</th>\n",
              "      <th>TMAX</th>\n",
              "      <th>TMIN</th>\n",
              "      <th>WMAX</th>\n",
              "      <th>RTOT</th>\n",
              "      <th>month_sin</th>\n",
              "      <th>month_cos</th>\n",
              "      <th>day_sin</th>\n",
              "      <th>day_cos</th>\n",
              "      <th>Max_Temp</th>\n",
              "      <th>Min_Temp</th>\n",
              "      <th>Max_Wind</th>\n",
              "      <th>Total_Precip</th>\n",
              "      <th>Year</th>\n",
              "      <th>D_TMAX</th>\n",
              "      <th>D_TMIN</th>\n",
              "      <th>D_WMAX</th>\n",
              "      <th>D_RTOT</th>\n",
              "    </tr>\n",
              "  </thead>\n",
              "  <tbody>\n",
              "    <tr>\n",
              "      <th>0</th>\n",
              "      <td>2010-01-01 12:00:00</td>\n",
              "      <td>-11.26</td>\n",
              "      <td>-16.46</td>\n",
              "      <td>7.323933</td>\n",
              "      <td>0.05</td>\n",
              "      <td>0.258819</td>\n",
              "      <td>0.965926</td>\n",
              "      <td>0.258819</td>\n",
              "      <td>0.965926</td>\n",
              "      <td>-11.111111</td>\n",
              "      <td>-16.666667</td>\n",
              "      <td>6.70560</td>\n",
              "      <td>0.0</td>\n",
              "      <td>2010</td>\n",
              "      <td>-0.148889</td>\n",
              "      <td>0.206667</td>\n",
              "      <td>0.618333</td>\n",
              "      <td>0.05</td>\n",
              "    </tr>\n",
              "    <tr>\n",
              "      <th>1</th>\n",
              "      <td>2010-01-02 12:00:00</td>\n",
              "      <td>-10.16</td>\n",
              "      <td>-15.96</td>\n",
              "      <td>4.687217</td>\n",
              "      <td>0.00</td>\n",
              "      <td>0.258819</td>\n",
              "      <td>0.965926</td>\n",
              "      <td>0.500000</td>\n",
              "      <td>0.866025</td>\n",
              "      <td>-14.444444</td>\n",
              "      <td>-20.555556</td>\n",
              "      <td>6.70560</td>\n",
              "      <td>0.0</td>\n",
              "      <td>2010</td>\n",
              "      <td>4.284444</td>\n",
              "      <td>4.595556</td>\n",
              "      <td>-2.018383</td>\n",
              "      <td>0.00</td>\n",
              "    </tr>\n",
              "    <tr>\n",
              "      <th>2</th>\n",
              "      <td>2010-01-03 12:00:00</td>\n",
              "      <td>-9.96</td>\n",
              "      <td>-14.36</td>\n",
              "      <td>5.941380</td>\n",
              "      <td>0.06</td>\n",
              "      <td>0.258819</td>\n",
              "      <td>0.965926</td>\n",
              "      <td>0.707107</td>\n",
              "      <td>0.707107</td>\n",
              "      <td>-12.222222</td>\n",
              "      <td>-21.111111</td>\n",
              "      <td>4.91744</td>\n",
              "      <td>0.0</td>\n",
              "      <td>2010</td>\n",
              "      <td>2.262222</td>\n",
              "      <td>6.751111</td>\n",
              "      <td>1.023940</td>\n",
              "      <td>0.06</td>\n",
              "    </tr>\n",
              "    <tr>\n",
              "      <th>3</th>\n",
              "      <td>2010-01-04 12:00:00</td>\n",
              "      <td>-8.46</td>\n",
              "      <td>-12.86</td>\n",
              "      <td>5.685068</td>\n",
              "      <td>0.17</td>\n",
              "      <td>0.258819</td>\n",
              "      <td>0.965926</td>\n",
              "      <td>0.866025</td>\n",
              "      <td>0.500000</td>\n",
              "      <td>-11.666667</td>\n",
              "      <td>-18.888889</td>\n",
              "      <td>8.94080</td>\n",
              "      <td>0.0</td>\n",
              "      <td>2010</td>\n",
              "      <td>3.206667</td>\n",
              "      <td>6.028889</td>\n",
              "      <td>-3.255732</td>\n",
              "      <td>0.17</td>\n",
              "    </tr>\n",
              "    <tr>\n",
              "      <th>4</th>\n",
              "      <td>2010-01-05 12:00:00</td>\n",
              "      <td>-7.16</td>\n",
              "      <td>-11.06</td>\n",
              "      <td>3.794733</td>\n",
              "      <td>0.77</td>\n",
              "      <td>0.258819</td>\n",
              "      <td>0.965926</td>\n",
              "      <td>0.965926</td>\n",
              "      <td>0.258819</td>\n",
              "      <td>-12.222222</td>\n",
              "      <td>-18.333333</td>\n",
              "      <td>7.15264</td>\n",
              "      <td>0.0</td>\n",
              "      <td>2010</td>\n",
              "      <td>5.062222</td>\n",
              "      <td>7.273333</td>\n",
              "      <td>-3.357907</td>\n",
              "      <td>0.77</td>\n",
              "    </tr>\n",
              "  </tbody>\n",
              "</table>\n",
              "</div>"
            ],
            "text/plain": [
              "                 Time   TMAX   TMIN  ...    D_TMIN    D_WMAX  D_RTOT\n",
              "0 2010-01-01 12:00:00 -11.26 -16.46  ...  0.206667  0.618333    0.05\n",
              "1 2010-01-02 12:00:00 -10.16 -15.96  ...  4.595556 -2.018383    0.00\n",
              "2 2010-01-03 12:00:00  -9.96 -14.36  ...  6.751111  1.023940    0.06\n",
              "3 2010-01-04 12:00:00  -8.46 -12.86  ...  6.028889 -3.255732    0.17\n",
              "4 2010-01-05 12:00:00  -7.16 -11.06  ...  7.273333 -3.357907    0.77\n",
              "\n",
              "[5 rows x 18 columns]"
            ]
          },
          "metadata": {
            "tags": []
          },
          "execution_count": 17
        }
      ]
    },
    {
      "cell_type": "code",
      "metadata": {
        "colab_type": "code",
        "id": "l8HpeFgvJadX",
        "colab": {}
      },
      "source": [
        "# Combine GFS daily and KCMI daily\n",
        "GFS_df_new = pd.merge(Surface_df.reset_index(), Profile_df.reset_index(), on='Time', how='inner')\n",
        "GFS_df_new.Time = pd.to_datetime(GFS_df_new.Time)"
      ],
      "execution_count": 0,
      "outputs": []
    },
    {
      "cell_type": "code",
      "metadata": {
        "id": "9k_6nuWtLMno",
        "colab_type": "code",
        "outputId": "469652af-60e6-4ab6-c1aa-08d60bbf9811",
        "colab": {
          "base_uri": "https://localhost:8080/",
          "height": 635
        }
      },
      "source": [
        "GFS_df_new.head()"
      ],
      "execution_count": 0,
      "outputs": [
        {
          "output_type": "execute_result",
          "data": {
            "text/html": [
              "<div>\n",
              "<style scoped>\n",
              "    .dataframe tbody tr th:only-of-type {\n",
              "        vertical-align: middle;\n",
              "    }\n",
              "\n",
              "    .dataframe tbody tr th {\n",
              "        vertical-align: top;\n",
              "    }\n",
              "\n",
              "    .dataframe thead th {\n",
              "        text-align: right;\n",
              "    }\n",
              "</style>\n",
              "<table border=\"1\" class=\"dataframe\">\n",
              "  <thead>\n",
              "    <tr style=\"text-align: right;\">\n",
              "      <th></th>\n",
              "      <th>Time</th>\n",
              "      <th>DWPC_x</th>\n",
              "      <th>HCLD</th>\n",
              "      <th>LCLD</th>\n",
              "      <th>MCLD</th>\n",
              "      <th>PRCP</th>\n",
              "      <th>PRES_x</th>\n",
              "      <th>TMPC_x</th>\n",
              "      <th>UWND_x</th>\n",
              "      <th>VWND_x</th>\n",
              "      <th>WSPD</th>\n",
              "      <th>DWPC_y</th>\n",
              "      <th>HGHT</th>\n",
              "      <th>PRES_y</th>\n",
              "      <th>TMPC_y</th>\n",
              "      <th>UWND_y</th>\n",
              "      <th>VWND_y</th>\n",
              "    </tr>\n",
              "  </thead>\n",
              "  <tbody>\n",
              "    <tr>\n",
              "      <th>0</th>\n",
              "      <td>2010-01-02 06:00:00</td>\n",
              "      <td>-13.74</td>\n",
              "      <td>0.0</td>\n",
              "      <td>100.0</td>\n",
              "      <td>1.0</td>\n",
              "      <td>0.00</td>\n",
              "      <td>1000.0</td>\n",
              "      <td>-11.26</td>\n",
              "      <td>4.3</td>\n",
              "      <td>-5.4</td>\n",
              "      <td>6.902898</td>\n",
              "      <td>[-17.885416666666668, -22.15150234741784, -38....</td>\n",
              "      <td>[822.2693055555555, 1460.1033333333335, 2904.4...</td>\n",
              "      <td>[925.0, 850.0, 700.0, 500.0, 250.0, 100.0]</td>\n",
              "      <td>[-16.249583333333334, -16.52291079812207, -21....</td>\n",
              "      <td>[10.566530573750587, 4.214706046596407, 17.668...</td>\n",
              "      <td>[-21.60349159268254, -18.30022411700173, -29.5...</td>\n",
              "    </tr>\n",
              "    <tr>\n",
              "      <th>1</th>\n",
              "      <td>2010-01-02 09:00:00</td>\n",
              "      <td>-15.19</td>\n",
              "      <td>0.0</td>\n",
              "      <td>100.0</td>\n",
              "      <td>0.0</td>\n",
              "      <td>0.04</td>\n",
              "      <td>1000.4</td>\n",
              "      <td>-12.66</td>\n",
              "      <td>4.9</td>\n",
              "      <td>-5.3</td>\n",
              "      <td>7.218033</td>\n",
              "      <td>[-19.453124999999996, -24.9388679245283, -42.0...</td>\n",
              "      <td>[822.0543749999998, 1459.7785849056602, 2907.4...</td>\n",
              "      <td>[925.0, 850.0, 700.0, 500.0, 250.0, 100.0]</td>\n",
              "      <td>[-17.247500000000002, -16.19490566037736, -20....</td>\n",
              "      <td>[13.681992680084207, 9.948942540840713, 19.953...</td>\n",
              "      <td>[-21.05132415236028, -17.798267800386434, -29....</td>\n",
              "    </tr>\n",
              "    <tr>\n",
              "      <th>2</th>\n",
              "      <td>2010-01-02 12:00:00</td>\n",
              "      <td>-17.91</td>\n",
              "      <td>0.0</td>\n",
              "      <td>100.0</td>\n",
              "      <td>0.0</td>\n",
              "      <td>0.01</td>\n",
              "      <td>1000.7</td>\n",
              "      <td>-14.76</td>\n",
              "      <td>4.2</td>\n",
              "      <td>-6.0</td>\n",
              "      <td>7.323933</td>\n",
              "      <td>[-24.917708333333334, -29.536603773584904, -42...</td>\n",
              "      <td>[820.327638888889, 1459.582075471698, 2915.667...</td>\n",
              "      <td>[925.0, 850.0, 700.0, 500.0, 250.0, 100.0]</td>\n",
              "      <td>[-15.991249999999997, -15.280283018867925, -19...</td>\n",
              "      <td>[12.509088069631126, 14.999567192631927, 23.33...</td>\n",
              "      <td>[-25.372665670766228, -22.851012927878898, -32...</td>\n",
              "    </tr>\n",
              "    <tr>\n",
              "      <th>3</th>\n",
              "      <td>2010-01-02 15:00:00</td>\n",
              "      <td>-20.07</td>\n",
              "      <td>0.0</td>\n",
              "      <td>8.0</td>\n",
              "      <td>0.0</td>\n",
              "      <td>0.00</td>\n",
              "      <td>1002.0</td>\n",
              "      <td>-15.76</td>\n",
              "      <td>4.3</td>\n",
              "      <td>-4.5</td>\n",
              "      <td>6.224147</td>\n",
              "      <td>[-29.030482758620682, -37.651971830985914, -43...</td>\n",
              "      <td>[826.2597241379308, 1463.5210798122066, 2927.6...</td>\n",
              "      <td>[925.0, 850.0, 700.0, 500.0, 250.0, 100.0]</td>\n",
              "      <td>[-18.595172413793104, -14.76, -16.487358490566...</td>\n",
              "      <td>[11.080763032604898, 13.737749044170894, 22.27...</td>\n",
              "      <td>[-20.65371472040801, -25.032875351390114, -38....</td>\n",
              "    </tr>\n",
              "    <tr>\n",
              "      <th>4</th>\n",
              "      <td>2010-01-02 18:00:00</td>\n",
              "      <td>-18.81</td>\n",
              "      <td>0.0</td>\n",
              "      <td>2.0</td>\n",
              "      <td>0.0</td>\n",
              "      <td>0.00</td>\n",
              "      <td>1001.3</td>\n",
              "      <td>-13.86</td>\n",
              "      <td>4.6</td>\n",
              "      <td>-4.0</td>\n",
              "      <td>6.095900</td>\n",
              "      <td>[-24.84875862068967, -32.677452830188685, -41....</td>\n",
              "      <td>[823.4282758620693, 1458.4197169811318, 2927.1...</td>\n",
              "      <td>[925.0, 850.0, 700.0, 500.0, 250.0, 100.0]</td>\n",
              "      <td>[-19.58413793103448, -15.190188679245283, -15....</td>\n",
              "      <td>[11.173738737104433, 11.725204010079779, 25.07...</td>\n",
              "      <td>[-14.419104627678692, -22.850212323925128, -37...</td>\n",
              "    </tr>\n",
              "  </tbody>\n",
              "</table>\n",
              "</div>"
            ],
            "text/plain": [
              "                 Time  ...                                             VWND_y\n",
              "0 2010-01-02 06:00:00  ...  [-21.60349159268254, -18.30022411700173, -29.5...\n",
              "1 2010-01-02 09:00:00  ...  [-21.05132415236028, -17.798267800386434, -29....\n",
              "2 2010-01-02 12:00:00  ...  [-25.372665670766228, -22.851012927878898, -32...\n",
              "3 2010-01-02 15:00:00  ...  [-20.65371472040801, -25.032875351390114, -38....\n",
              "4 2010-01-02 18:00:00  ...  [-14.419104627678692, -22.850212323925128, -37...\n",
              "\n",
              "[5 rows x 17 columns]"
            ]
          },
          "metadata": {
            "tags": []
          },
          "execution_count": 19
        }
      ]
    },
    {
      "cell_type": "code",
      "metadata": {
        "id": "omIS2GH0iy_9",
        "colab_type": "code",
        "colab": {}
      },
      "source": [
        "# Split into training and test sets \n",
        "# Can change features \n",
        "x_train_all = features_df[features_df.Time.dt.year<2019]\n",
        "x_test_all = features_df[features_df.Time.dt.year==2019]\n",
        "\n",
        "y_train_all = features_df[features_df.Time.dt.year<2019]\n",
        "y_test_all = features_df[features_df.Time.dt.year==2019]"
      ],
      "execution_count": 0,
      "outputs": []
    },
    {
      "cell_type": "markdown",
      "metadata": {
        "id": "d_7hc-19f6Nc",
        "colab_type": "text"
      },
      "source": [
        "Linear Regression"
      ]
    },
    {
      "cell_type": "code",
      "metadata": {
        "id": "S1nLDyiZqhem",
        "colab_type": "code",
        "colab": {}
      },
      "source": [
        "from sklearn.linear_model import LinearRegression\n",
        "from sklearn.metrics import mean_squared_error, r2_score, mean_absolute_error, median_absolute_error\n",
        "from sklearn.model_selection import train_test_split\n",
        "from math import sqrt"
      ],
      "execution_count": 0,
      "outputs": []
    },
    {
      "cell_type": "code",
      "metadata": {
        "id": "oCB9p_sqfvFO",
        "colab_type": "code",
        "outputId": "88d1a6e0-aa05-415e-cafa-e0cd74f3af32",
        "colab": {
          "base_uri": "https://localhost:8080/",
          "height": 122
        }
      },
      "source": [
        "# Create linear regression model \n",
        "lin_model = LinearRegression()\n",
        "\n",
        "# pick variables \n",
        "features = ['TMAX', 'TMIN', 'WMAX','month_sin', 'month_cos']\n",
        "target = ['Max_Temp']\n",
        "x_train = x_train_all[features]\n",
        "y_train = y_train_all[target]\n",
        "\n",
        "x_test = x_test_all[features]\n",
        "y_test = y_test_all[target]\n",
        "\n",
        "lin_model.fit(x_train, y_train)\n",
        "\n",
        "# Print parameters and plot - GFS Data\n",
        "print('Coefficients: \\n', lin_model.coef_)\n",
        "print(\"The Mean Absolute Error: %.2f degrees celsius\" % mean_absolute_error(y_test, lin_model.predict(x_test)))\n",
        "print(\"The Median Absolute Error: %.2f degrees celsius\" % median_absolute_error(y_test, lin_model.predict(x_test)))\n",
        "print(\"The Root Mean Square Error: %.2f degrees celsius \" %  sqrt(mean_squared_error(y_test, lin_model.predict(x_test))))\n",
        "\n",
        "print('Coefficient of determination: %.2f' % r2_score(y_test, lin_model.predict(x_test)))"
      ],
      "execution_count": 0,
      "outputs": [
        {
          "output_type": "stream",
          "text": [
            "Coefficients: \n",
            " [[ 0.40140493  0.49302013  0.14403299  7.05578278 -1.80949872]]\n",
            "The Mean Absolute Error: 3.18 degrees celsius\n",
            "The Median Absolute Error: 2.40 degrees celsius\n",
            "The Root Mean Square Error: 4.14 degrees celsius \n",
            "Coefficient of determination: 0.88\n"
          ],
          "name": "stdout"
        }
      ]
    },
    {
      "cell_type": "code",
      "metadata": {
        "id": "m4uGsKNeXmJn",
        "colab_type": "code",
        "outputId": "d2b28d87-e85d-4b68-a68f-45a4160d5d1b",
        "colab": {
          "base_uri": "https://localhost:8080/",
          "height": 485
        }
      },
      "source": [
        "# Plot predicted values against observed values \n",
        "time = features_df[features_df['Year']==2019]['Time'].values\n",
        "plt.figure(figsize=(12,8))\n",
        "plt.plot(time, y_test, c='r', label='observation')\n",
        "plt.plot(time, lin_model.predict(x_test), c='g', label='prediction')\n",
        "plt.legend()\n",
        "plt.savefig('linearregression.jpg')\n",
        "plt.show()"
      ],
      "execution_count": 0,
      "outputs": [
        {
          "output_type": "display_data",
          "data": {
            "image/png": "[encoded data removed]",
            "text/plain": [
              "<Figure size 864x576 with 1 Axes>"
            ]
          },
          "metadata": {
            "tags": []
          }
        }
      ]
    },
    {
      "cell_type": "markdown",
      "metadata": {
        "id": "qegtRkJ6ml8P",
        "colab_type": "text"
      },
      "source": [
        "Random Forest"
      ]
    },
    {
      "cell_type": "code",
      "metadata": {
        "id": "JRD2X-tUeOCV",
        "colab_type": "code",
        "outputId": "59b577d7-8f58-4632-8bff-95b44ac56194",
        "colab": {
          "base_uri": "https://localhost:8080/",
          "height": 1000
        }
      },
      "source": [
        "# Create random forest regression model \n",
        "# some code adapted from (https://blog.datadive.net/selecting-good-features-part-iii-random-forests/)\n",
        "from sklearn.ensemble import RandomForestRegressor \n",
        "\n",
        "features = ['TMAX', 'TMIN', 'WMAX', 'month_sin', 'month_cos', 'day_sin', 'day_cos', 'D_TMAX', 'D_TMIN', 'D_RTOT', 'D_WMAX']\n",
        "target = ['Max_Temp']\n",
        "\n",
        "x_train = x_train_all[features]\n",
        "y_train = y_train_all[target]\n",
        "\n",
        "x_test = x_test_all[features]\n",
        "y_test = y_test_all[target]\n",
        "\n",
        "# TODO could create empty numpy arrays and then plot the effect of changing estimators and max features on the errors (4 metrics)\n",
        "n_estimators = [1, 10, 100]\n",
        "max_features = [1, 2, 3]\n",
        "for n in n_estimators: \n",
        "    for m in max_features: \n",
        "        # Train the model \n",
        "        rf_model = RandomForestRegressor(n_estimators=n, max_features=m)\n",
        "        rf_model.fit(x_train, y_train)\n",
        "\n",
        "        # Print parameters and plot\n",
        "        print(\"# of trees =\", n)\n",
        "        print(\"Max features = \", m)\n",
        "        print(\"The Mean Absolute Error: %.2f degrees celsius\" % mean_absolute_error(y_test, rf_model.predict(x_test)))\n",
        "        print(\"The Median Absolute Error: %.2f degrees celsius\" % median_absolute_error(y_test, rf_model.predict(x_test)))\n",
        "        print(\"The Root Mean Square Error: %.2f degrees celsius \" %  sqrt(mean_squared_error(y_test, rf_model.predict(x_test))))\n",
        "        print('Coefficient of determination: %.2f' % r2_score(y_test, rf_model.predict(x_test)))\n",
        "\n",
        "print(sorted(zip(map(lambda x: round(x, 4), rf_model.feature_importances_), features), reverse=True))\n",
        "print(sorted(zip(map(lambda x: round(x, 4), rf_model.feature_importances_), features), reverse=True))"
      ],
      "execution_count": 0,
      "outputs": [
        {
          "output_type": "stream",
          "text": [
            "/usr/local/lib/python3.6/dist-packages/ipykernel_launcher.py:19: DataConversionWarning: A column-vector y was passed when a 1d array was expected. Please change the shape of y to (n_samples,), for example using ravel().\n",
            "/usr/local/lib/python3.6/dist-packages/ipykernel_launcher.py:19: DataConversionWarning: A column-vector y was passed when a 1d array was expected. Please change the shape of y to (n_samples,), for example using ravel().\n",
            "/usr/local/lib/python3.6/dist-packages/ipykernel_launcher.py:19: DataConversionWarning: A column-vector y was passed when a 1d array was expected. Please change the shape of y to (n_samples,), for example using ravel().\n",
            "/usr/local/lib/python3.6/dist-packages/ipykernel_launcher.py:19: DataConversionWarning: A column-vector y was passed when a 1d array was expected. Please change the shape of y to (n_samples,), for example using ravel().\n",
            "/usr/local/lib/python3.6/dist-packages/ipykernel_launcher.py:19: DataConversionWarning: A column-vector y was passed when a 1d array was expected. Please change the shape of y to (n_samples,), for example using ravel().\n",
            "/usr/local/lib/python3.6/dist-packages/ipykernel_launcher.py:19: DataConversionWarning: A column-vector y was passed when a 1d array was expected. Please change the shape of y to (n_samples,), for example using ravel().\n"
          ],
          "name": "stderr"
        },
        {
          "output_type": "stream",
          "text": [
            "# of trees = 1\n",
            "Max features =  1\n",
            "The Mean Absolute Error: 3.51 degrees celsius\n",
            "The Median Absolute Error: 2.22 degrees celsius\n",
            "The Root Mean Square Error: 5.05 degrees celsius \n",
            "Coefficient of determination: 0.82\n",
            "# of trees = 1\n",
            "Max features =  2\n",
            "The Mean Absolute Error: 2.59 degrees celsius\n",
            "The Median Absolute Error: 1.67 degrees celsius\n",
            "The Root Mean Square Error: 3.66 degrees celsius \n",
            "Coefficient of determination: 0.91\n",
            "# of trees = 1\n",
            "Max features =  3\n",
            "The Mean Absolute Error: 2.41 degrees celsius\n",
            "The Median Absolute Error: 1.67 degrees celsius\n",
            "The Root Mean Square Error: 3.49 degrees celsius \n",
            "Coefficient of determination: 0.91\n",
            "# of trees = 10\n",
            "Max features =  1\n",
            "The Mean Absolute Error: 2.25 degrees celsius\n",
            "The Median Absolute Error: 1.61 degrees celsius\n",
            "The Root Mean Square Error: 3.01 degrees celsius \n",
            "Coefficient of determination: 0.94\n",
            "# of trees = 10\n",
            "Max features =  2\n",
            "The Mean Absolute Error: 1.49 degrees celsius\n",
            "The Median Absolute Error: 1.06 degrees celsius\n",
            "The Root Mean Square Error: 2.07 degrees celsius \n",
            "Coefficient of determination: 0.97\n",
            "# of trees = 10\n",
            "Max features =  3\n",
            "The Mean Absolute Error: 1.17 degrees celsius\n",
            "The Median Absolute Error: 0.72 degrees celsius\n",
            "The Root Mean Square Error: 1.74 degrees celsius \n",
            "Coefficient of determination: 0.98\n"
          ],
          "name": "stdout"
        },
        {
          "output_type": "stream",
          "text": [
            "/usr/local/lib/python3.6/dist-packages/ipykernel_launcher.py:19: DataConversionWarning: A column-vector y was passed when a 1d array was expected. Please change the shape of y to (n_samples,), for example using ravel().\n"
          ],
          "name": "stderr"
        },
        {
          "output_type": "stream",
          "text": [
            "# of trees = 100\n",
            "Max features =  1\n",
            "The Mean Absolute Error: 1.81 degrees celsius\n",
            "The Median Absolute Error: 1.36 degrees celsius\n",
            "The Root Mean Square Error: 2.45 degrees celsius \n",
            "Coefficient of determination: 0.96\n"
          ],
          "name": "stdout"
        },
        {
          "output_type": "stream",
          "text": [
            "/usr/local/lib/python3.6/dist-packages/ipykernel_launcher.py:19: DataConversionWarning: A column-vector y was passed when a 1d array was expected. Please change the shape of y to (n_samples,), for example using ravel().\n"
          ],
          "name": "stderr"
        },
        {
          "output_type": "stream",
          "text": [
            "# of trees = 100\n",
            "Max features =  2\n",
            "The Mean Absolute Error: 1.29 degrees celsius\n",
            "The Median Absolute Error: 0.96 degrees celsius\n",
            "The Root Mean Square Error: 1.80 degrees celsius \n",
            "Coefficient of determination: 0.98\n"
          ],
          "name": "stdout"
        },
        {
          "output_type": "stream",
          "text": [
            "/usr/local/lib/python3.6/dist-packages/ipykernel_launcher.py:19: DataConversionWarning: A column-vector y was passed when a 1d array was expected. Please change the shape of y to (n_samples,), for example using ravel().\n"
          ],
          "name": "stderr"
        },
        {
          "output_type": "stream",
          "text": [
            "# of trees = 100\n",
            "Max features =  3\n",
            "The Mean Absolute Error: 1.00 degrees celsius\n",
            "The Median Absolute Error: 0.73 degrees celsius\n",
            "The Root Mean Square Error: 1.44 degrees celsius \n",
            "Coefficient of determination: 0.99\n",
            "[(0.3537, 'TMAX'), (0.3189, 'TMIN'), (0.1141, 'month_sin'), (0.0866, 'month_cos'), (0.0739, 'D_TMAX'), (0.0178, 'D_TMIN'), (0.0127, 'WMAX'), (0.0097, 'D_RTOT'), (0.0065, 'D_WMAX'), (0.0031, 'day_sin'), (0.0029, 'day_cos')]\n"
          ],
          "name": "stdout"
        },
        {
          "output_type": "error",
          "ename": "TypeError",
          "evalue": "ignored",
          "traceback": [
            "\u001b[0;31m---------------------------------------------------------------------------\u001b[0m",
            "\u001b[0;31mTypeError\u001b[0m                                 Traceback (most recent call last)",
            "\u001b[0;32m<ipython-input-27-a2e426e0695f>\u001b[0m in \u001b[0;36m<module>\u001b[0;34m()\u001b[0m\n\u001b[1;32m     28\u001b[0m \u001b[0;34m\u001b[0m\u001b[0m\n\u001b[1;32m     29\u001b[0m \u001b[0mprint\u001b[0m\u001b[0;34m(\u001b[0m\u001b[0msorted\u001b[0m\u001b[0;34m(\u001b[0m\u001b[0mzip\u001b[0m\u001b[0;34m(\u001b[0m\u001b[0mmap\u001b[0m\u001b[0;34m(\u001b[0m\u001b[0;32mlambda\u001b[0m \u001b[0mx\u001b[0m\u001b[0;34m:\u001b[0m \u001b[0mround\u001b[0m\u001b[0;34m(\u001b[0m\u001b[0mx\u001b[0m\u001b[0;34m,\u001b[0m \u001b[0;36m4\u001b[0m\u001b[0;34m)\u001b[0m\u001b[0;34m,\u001b[0m \u001b[0mrf_model\u001b[0m\u001b[0;34m.\u001b[0m\u001b[0mfeature_importances_\u001b[0m\u001b[0;34m)\u001b[0m\u001b[0;34m,\u001b[0m \u001b[0mfeatures\u001b[0m\u001b[0;34m)\u001b[0m\u001b[0;34m,\u001b[0m \u001b[0mreverse\u001b[0m\u001b[0;34m=\u001b[0m\u001b[0;32mTrue\u001b[0m\u001b[0;34m)\u001b[0m\u001b[0;34m)\u001b[0m\u001b[0;34m\u001b[0m\u001b[0;34m\u001b[0m\u001b[0m\n\u001b[0;32m---> 30\u001b[0;31m \u001b[0mprint\u001b[0m\u001b[0;34m(\u001b[0m\u001b[0msorted\u001b[0m\u001b[0;34m(\u001b[0m\u001b[0mzip\u001b[0m\u001b[0;34m(\u001b[0m\u001b[0mmap\u001b[0m\u001b[0;34m(\u001b[0m\u001b[0;32mlambda\u001b[0m \u001b[0mx\u001b[0m\u001b[0;34m:\u001b[0m \u001b[0mround\u001b[0m\u001b[0;34m(\u001b[0m\u001b[0mx\u001b[0m\u001b[0;34m,\u001b[0m \u001b[0;36m4\u001b[0m\u001b[0;34m)\u001b[0m\u001b[0;34m,\u001b[0m \u001b[0mmean_absolute_error\u001b[0m\u001b[0;34m(\u001b[0m\u001b[0my_test\u001b[0m\u001b[0;34m,\u001b[0m \u001b[0mrf_model\u001b[0m\u001b[0;34m.\u001b[0m\u001b[0mpredict\u001b[0m\u001b[0;34m(\u001b[0m\u001b[0mx_test\u001b[0m\u001b[0;34m)\u001b[0m\u001b[0;34m)\u001b[0m\u001b[0;34m)\u001b[0m\u001b[0;34m,\u001b[0m \u001b[0mfeatures\u001b[0m\u001b[0;34m)\u001b[0m\u001b[0;34m,\u001b[0m \u001b[0mreverse\u001b[0m\u001b[0;34m=\u001b[0m\u001b[0;32mTrue\u001b[0m\u001b[0;34m)\u001b[0m\u001b[0;34m)\u001b[0m\u001b[0;34m\u001b[0m\u001b[0;34m\u001b[0m\u001b[0m\n\u001b[0m",
            "\u001b[0;31mTypeError\u001b[0m: 'numpy.float64' object is not iterable"
          ]
        }
      ]
    },
    {
      "cell_type": "code",
      "metadata": {
        "id": "lWXOiIPgebOB",
        "colab_type": "code",
        "outputId": "ca3e4919-756d-44cc-cb34-e200878c20a9",
        "colab": {
          "base_uri": "https://localhost:8080/",
          "height": 485
        }
      },
      "source": [
        "# Plot predicted values against observed values \n",
        "time = features_df[features_df['Year']==2019]['Time'].values\n",
        "plt.figure(figsize=(12,8))\n",
        "plt.plot(time, y_test, c='r', label='observation')\n",
        "plt.plot(time, rf_model.predict(x_test), c='g', label='prediction')\n",
        "plt.legend()\n",
        "plt.savefig('randomforest.jpg')\n",
        "plt.show()"
      ],
      "execution_count": 0,
      "outputs": [
        {
          "output_type": "display_data",
          "data": {
            "image/png": "[encoded data removed]",
            "text/plain": [
              "<Figure size 864x576 with 1 Axes>"
            ]
          },
          "metadata": {
            "tags": []
          }
        }
      ]
    },
    {
      "cell_type": "code",
      "metadata": {
        "id": "Yn8fJOjAempi",
        "colab_type": "code",
        "colab": {}
      },
      "source": [
        ""
      ],
      "execution_count": 0,
      "outputs": []
    }
  ]
}